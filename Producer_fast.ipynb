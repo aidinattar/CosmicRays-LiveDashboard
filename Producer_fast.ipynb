{
 "cells": [
  {
   "cell_type": "markdown",
   "id": "bc3e0a04",
   "metadata": {},
   "source": [
    "# Producer"
   ]
  },
  {
   "cell_type": "code",
   "execution_count": 1,
   "id": "92e7a57c",
   "metadata": {},
   "outputs": [],
   "source": [
    "import kafka\n",
    "from kafka       import KafkaProducer\n",
    "from kafka.admin import KafkaAdminClient\n",
    "from kafka.admin import NewTopic\n",
    "\n",
    "from tqdm        import tqdm\n",
    "\n",
    "import pandas as pd\n",
    "import os\n",
    "import boto3\n",
    "import json\n",
    "import time\n",
    "\n",
    "import urllib3\n",
    "urllib3.disable_warnings(urllib3.exceptions.InsecureRequestWarning)"
   ]
  },
  {
   "cell_type": "code",
   "execution_count": 2,
   "id": "3a9de1e7",
   "metadata": {},
   "outputs": [],
   "source": [
    "KAFKA_HOME = '/usr/local/kafka'\n",
    "KAFKA_BOOTSTRAP_SERVERS = ['pd-slave3:9092']"
   ]
  },
  {
   "cell_type": "code",
   "execution_count": 3,
   "id": "a4e959d6",
   "metadata": {},
   "outputs": [],
   "source": [
    "# producer definition from IP address given before\n",
    "producer = KafkaProducer(bootstrap_servers=KAFKA_BOOTSTRAP_SERVERS)\n",
    "\n",
    "# connect to the cluster to run admin functions\n",
    "kafka_admin = KafkaAdminClient(\n",
    "    bootstrap_servers=KAFKA_BOOTSTRAP_SERVERS,\n",
    "    api_version=(0,10,2))"
   ]
  },
  {
   "cell_type": "code",
   "execution_count": 6,
   "id": "1d16e178",
   "metadata": {},
   "outputs": [
    {
     "data": {
      "text/plain": [
       "['__consumer_offsets']"
      ]
     },
     "execution_count": 6,
     "metadata": {},
     "output_type": "execute_result"
    }
   ],
   "source": [
    "if 'topic_stream' in kafka_admin.list_topics():\n",
    "    kafka_admin.delete_topics(['topic_stream'])\n",
    "    \n",
    "if 'topic_results' in kafka_admin.list_topics():\n",
    "    kafka_admin.delete_topics(['topic_results'])\n",
    "    \n",
    "kafka_admin.list_topics()"
   ]
  },
  {
   "cell_type": "code",
   "execution_count": 7,
   "id": "436766ba",
   "metadata": {},
   "outputs": [
    {
     "data": {
      "text/plain": [
       "CreateTopicsResponse_v3(throttle_time_ms=0, topic_errors=[(topic='topic_stream', error_code=0, error_message=None), (topic='topic_results', error_code=0, error_message=None)])"
      ]
     },
     "execution_count": 7,
     "metadata": {},
     "output_type": "execute_result"
    }
   ],
   "source": [
    "stream_topic = NewTopic(name='topic_stream', \n",
    "                        num_partitions=2, \n",
    "                        replication_factor=1)\n",
    "\n",
    "results_topic = NewTopic(name='topic_results', \n",
    "                         num_partitions=1, \n",
    "                         replication_factor=1)\n",
    "\n",
    "kafka_admin.create_topics(new_topics=[stream_topic, results_topic])"
   ]
  },
  {
   "cell_type": "code",
   "execution_count": 8,
   "id": "6d855658",
   "metadata": {},
   "outputs": [
    {
     "name": "stderr",
     "output_type": "stream",
     "text": [
      " 89%|███████████████████████████████████████▊     | 1160154/1310592 [18:59<02:27, 1017.79it/s]\n"
     ]
    },
    {
     "ename": "KeyboardInterrupt",
     "evalue": "",
     "output_type": "error",
     "traceback": [
      "\u001b[0;31m---------------------------------------------------------------------------\u001b[0m",
      "\u001b[0;31mKeyboardInterrupt\u001b[0m                         Traceback (most recent call last)",
      "Input \u001b[0;32mIn [8]\u001b[0m, in \u001b[0;36m<cell line: 15>\u001b[0;34m()\u001b[0m\n\u001b[1;32m     23\u001b[0m \u001b[38;5;28;01mfor\u001b[39;00m msg \u001b[38;5;129;01min\u001b[39;00m tqdm(json_data): \n\u001b[1;32m     24\u001b[0m     producer\u001b[38;5;241m.\u001b[39msend(\u001b[38;5;124m'\u001b[39m\u001b[38;5;124mtopic_stream\u001b[39m\u001b[38;5;124m'\u001b[39m, json\u001b[38;5;241m.\u001b[39mdumps(msg)\u001b[38;5;241m.\u001b[39mencode(\u001b[38;5;124m'\u001b[39m\u001b[38;5;124mutf-8\u001b[39m\u001b[38;5;124m'\u001b[39m))\n\u001b[0;32m---> 25\u001b[0m     \u001b[43mtime\u001b[49m\u001b[38;5;241;43m.\u001b[39;49m\u001b[43msleep\u001b[49m\u001b[43m(\u001b[49m\u001b[43mwait_time\u001b[49m\u001b[43m)\u001b[49m\n\u001b[1;32m     26\u001b[0m producer\u001b[38;5;241m.\u001b[39mflush()\n",
      "\u001b[0;31mKeyboardInterrupt\u001b[0m: "
     ]
    }
   ],
   "source": [
    "# load data from s3 bucket\n",
    "# the keys are useless as verify is false\n",
    "s3_client = boto3.client('s3',\n",
    "                         endpoint_url='https://cloud-areapd.pd.infn.it:5210',\n",
    "                         aws_access_key_id='1a4543841b844a88bb3f2eba45764d61',\n",
    "                         aws_secret_access_key='42e2f16592f54668b8421ecf5ca7ba51',\n",
    "                         verify=False)\n",
    "\n",
    "list_obj_contents = s3_client.list_objects(Bucket= 'mapd-minidt-stream')['Contents']\n",
    "\n",
    "# wait time to have ~1000 rows/s\n",
    "wait_time = .00018\n",
    "#wait_time = .0\n",
    "\n",
    "for i in range(0, len(list_obj_contents)):\n",
    "    file_name = list_obj_contents[i]['Key']\n",
    "    row_data = pd.read_csv(s3_client.get_object(Bucket='mapd-minidt-stream', \n",
    "                                                Key=file_name).get('Body'), dtype='str')\n",
    "    # convert file to json\n",
    "    json_data = row_data.to_dict( 'records' )\n",
    "    \n",
    "    # tqdm to visualize progresses\n",
    "    for msg in tqdm(json_data): \n",
    "        producer.send('topic_stream', json.dumps(msg).encode('utf-8'))\n",
    "        time.sleep(wait_time)\n",
    "    producer.flush()\n"
   ]
  },
  {
   "cell_type": "code",
   "execution_count": null,
   "id": "eb631839",
   "metadata": {},
   "outputs": [],
   "source": []
  }
 ],
 "metadata": {
  "kernelspec": {
   "display_name": "Python 3 (ipykernel)",
   "language": "python",
   "name": "python3"
  },
  "language_info": {
   "codemirror_mode": {
    "name": "ipython",
    "version": 3
   },
   "file_extension": ".py",
   "mimetype": "text/x-python",
   "name": "python",
   "nbconvert_exporter": "python",
   "pygments_lexer": "ipython3",
   "version": "3.9.12"
  }
 },
 "nbformat": 4,
 "nbformat_minor": 5
}
