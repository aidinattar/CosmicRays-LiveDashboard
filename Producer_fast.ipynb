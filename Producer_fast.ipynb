{
 "cells": [
  {
   "cell_type": "markdown",
   "id": "bc3e0a04",
   "metadata": {},
   "source": [
    "# Producer"
   ]
  },
  {
   "cell_type": "code",
   "execution_count": 1,
   "id": "92e7a57c",
   "metadata": {},
   "outputs": [],
   "source": [
    "import kafka\n",
    "from kafka       import KafkaProducer\n",
    "from kafka.admin import KafkaAdminClient\n",
    "from kafka.admin import NewTopic\n",
    "\n",
    "from tqdm        import tqdm\n",
    "\n",
    "import pandas as pd\n",
    "import os\n",
    "import boto3\n",
    "import json\n",
    "import time\n",
    "\n",
    "import urllib3\n",
    "urllib3.disable_warnings(urllib3.exceptions.InsecureRequestWarning)"
   ]
  },
  {
   "cell_type": "code",
   "execution_count": 2,
   "id": "3a9de1e7",
   "metadata": {},
   "outputs": [],
   "source": [
    "KAFKA_HOME = '/usr/local/kafka'\n",
    "KAFKA_BOOTSTRAP_SERVERS = ['pd-slave3:9092']"
   ]
  },
  {
   "cell_type": "code",
   "execution_count": 3,
   "id": "a4e959d6",
   "metadata": {},
   "outputs": [],
   "source": [
    "# producer definition from IP address given before\n",
    "producer = KafkaProducer(bootstrap_servers=KAFKA_BOOTSTRAP_SERVERS)\n",
    "\n",
    "# connect to the cluster to run admin functions\n",
    "kafka_admin = KafkaAdminClient(\n",
    "    bootstrap_servers=KAFKA_BOOTSTRAP_SERVERS,\n",
    "    api_version=(0,10,2))"
   ]
  },
  {
   "cell_type": "code",
   "execution_count": 7,
   "id": "1d16e178",
   "metadata": {},
   "outputs": [
    {
     "data": {
      "text/plain": [
       "['__consumer_offsets']"
      ]
     },
     "execution_count": 7,
     "metadata": {},
     "output_type": "execute_result"
    }
   ],
   "source": [
    "if 'topic_stream' in kafka_admin.list_topics():\n",
    "    kafka_admin.delete_topics(['topic_stream'])\n",
    "    \n",
    "if 'topic_results' in kafka_admin.list_topics():\n",
    "    kafka_admin.delete_topics(['topic_results'])\n",
    "    \n",
    "kafka_admin.list_topics()"
   ]
  },
  {
   "cell_type": "code",
   "execution_count": 8,
   "id": "436766ba",
   "metadata": {},
   "outputs": [
    {
     "ename": "TopicAlreadyExistsError",
     "evalue": "[Error 36] TopicAlreadyExistsError: Request 'CreateTopicsRequest_v3(create_topic_requests=[(topic='topic_stream', num_partitions=1, replication_factor=1, replica_assignment=[], configs=[]), (topic='topic_results', num_partitions=1, replication_factor=1, replica_assignment=[], configs=[])], timeout=30000, validate_only=False)' failed with response 'CreateTopicsResponse_v3(throttle_time_ms=0, topic_errors=[(topic='topic_stream', error_code=36, error_message=\"Topic 'topic_stream' already exists.\"), (topic='topic_results', error_code=0, error_message=None)])'.",
     "output_type": "error",
     "traceback": [
      "\u001b[0;31m---------------------------------------------------------------------------\u001b[0m",
      "\u001b[0;31mTopicAlreadyExistsError\u001b[0m                   Traceback (most recent call last)",
      "Input \u001b[0;32mIn [8]\u001b[0m, in \u001b[0;36m<cell line: 9>\u001b[0;34m()\u001b[0m\n\u001b[1;32m      1\u001b[0m stream_topic \u001b[38;5;241m=\u001b[39m NewTopic(name\u001b[38;5;241m=\u001b[39m\u001b[38;5;124m'\u001b[39m\u001b[38;5;124mtopic_stream\u001b[39m\u001b[38;5;124m'\u001b[39m, \n\u001b[1;32m      2\u001b[0m                         num_partitions\u001b[38;5;241m=\u001b[39m\u001b[38;5;241m1\u001b[39m, \n\u001b[1;32m      3\u001b[0m                         replication_factor\u001b[38;5;241m=\u001b[39m\u001b[38;5;241m1\u001b[39m)\n\u001b[1;32m      5\u001b[0m results_topic \u001b[38;5;241m=\u001b[39m NewTopic(name\u001b[38;5;241m=\u001b[39m\u001b[38;5;124m'\u001b[39m\u001b[38;5;124mtopic_results\u001b[39m\u001b[38;5;124m'\u001b[39m, \n\u001b[1;32m      6\u001b[0m                          num_partitions\u001b[38;5;241m=\u001b[39m\u001b[38;5;241m1\u001b[39m, \n\u001b[1;32m      7\u001b[0m                          replication_factor\u001b[38;5;241m=\u001b[39m\u001b[38;5;241m1\u001b[39m)\n\u001b[0;32m----> 9\u001b[0m \u001b[43mkafka_admin\u001b[49m\u001b[38;5;241;43m.\u001b[39;49m\u001b[43mcreate_topics\u001b[49m\u001b[43m(\u001b[49m\u001b[43mnew_topics\u001b[49m\u001b[38;5;241;43m=\u001b[39;49m\u001b[43m[\u001b[49m\u001b[43mstream_topic\u001b[49m\u001b[43m,\u001b[49m\u001b[43m \u001b[49m\u001b[43mresults_topic\u001b[49m\u001b[43m]\u001b[49m\u001b[43m)\u001b[49m\n",
      "File \u001b[0;32m~/.local/lib/python3.9/site-packages/kafka/admin/client.py:461\u001b[0m, in \u001b[0;36mKafkaAdminClient.create_topics\u001b[0;34m(self, new_topics, timeout_ms, validate_only)\u001b[0m\n\u001b[1;32m    456\u001b[0m     \u001b[38;5;28;01mraise\u001b[39;00m \u001b[38;5;167;01mNotImplementedError\u001b[39;00m(\n\u001b[1;32m    457\u001b[0m         \u001b[38;5;124m\"\u001b[39m\u001b[38;5;124mSupport for CreateTopics v\u001b[39m\u001b[38;5;132;01m{}\u001b[39;00m\u001b[38;5;124m has not yet been added to KafkaAdminClient.\u001b[39m\u001b[38;5;124m\"\u001b[39m\n\u001b[1;32m    458\u001b[0m         \u001b[38;5;241m.\u001b[39mformat(version))\n\u001b[1;32m    459\u001b[0m \u001b[38;5;66;03m# TODO convert structs to a more pythonic interface\u001b[39;00m\n\u001b[1;32m    460\u001b[0m \u001b[38;5;66;03m# TODO raise exceptions if errors\u001b[39;00m\n\u001b[0;32m--> 461\u001b[0m \u001b[38;5;28;01mreturn\u001b[39;00m \u001b[38;5;28;43mself\u001b[39;49m\u001b[38;5;241;43m.\u001b[39;49m\u001b[43m_send_request_to_controller\u001b[49m\u001b[43m(\u001b[49m\u001b[43mrequest\u001b[49m\u001b[43m)\u001b[49m\n",
      "File \u001b[0;32m~/.local/lib/python3.9/site-packages/kafka/admin/client.py:407\u001b[0m, in \u001b[0;36mKafkaAdminClient._send_request_to_controller\u001b[0;34m(self, request)\u001b[0m\n\u001b[1;32m    405\u001b[0m         \u001b[38;5;28;01mbreak\u001b[39;00m\n\u001b[1;32m    406\u001b[0m     \u001b[38;5;28;01melif\u001b[39;00m error_type \u001b[38;5;129;01mis\u001b[39;00m \u001b[38;5;129;01mnot\u001b[39;00m Errors\u001b[38;5;241m.\u001b[39mNoError:\n\u001b[0;32m--> 407\u001b[0m         \u001b[38;5;28;01mraise\u001b[39;00m error_type(\n\u001b[1;32m    408\u001b[0m             \u001b[38;5;124m\"\u001b[39m\u001b[38;5;124mRequest \u001b[39m\u001b[38;5;124m'\u001b[39m\u001b[38;5;132;01m{}\u001b[39;00m\u001b[38;5;124m'\u001b[39m\u001b[38;5;124m failed with response \u001b[39m\u001b[38;5;124m'\u001b[39m\u001b[38;5;132;01m{}\u001b[39;00m\u001b[38;5;124m'\u001b[39m\u001b[38;5;124m.\u001b[39m\u001b[38;5;124m\"\u001b[39m\n\u001b[1;32m    409\u001b[0m             \u001b[38;5;241m.\u001b[39mformat(request, response))\n\u001b[1;32m    410\u001b[0m \u001b[38;5;28;01melse\u001b[39;00m:\n\u001b[1;32m    411\u001b[0m     \u001b[38;5;28;01mreturn\u001b[39;00m response\n",
      "\u001b[0;31mTopicAlreadyExistsError\u001b[0m: [Error 36] TopicAlreadyExistsError: Request 'CreateTopicsRequest_v3(create_topic_requests=[(topic='topic_stream', num_partitions=1, replication_factor=1, replica_assignment=[], configs=[]), (topic='topic_results', num_partitions=1, replication_factor=1, replica_assignment=[], configs=[])], timeout=30000, validate_only=False)' failed with response 'CreateTopicsResponse_v3(throttle_time_ms=0, topic_errors=[(topic='topic_stream', error_code=36, error_message=\"Topic 'topic_stream' already exists.\"), (topic='topic_results', error_code=0, error_message=None)])'."
     ]
    }
   ],
   "source": [
    "stream_topic = NewTopic(name='topic_stream', \n",
    "                        num_partitions=1, \n",
    "                        replication_factor=1)\n",
    "\n",
    "results_topic = NewTopic(name='topic_results', \n",
    "                         num_partitions=1, \n",
    "                         replication_factor=1)\n",
    "\n",
    "kafka_admin.create_topics(new_topics=[stream_topic, results_topic])"
   ]
  },
  {
   "cell_type": "code",
   "execution_count": 10,
   "id": "6d855658",
   "metadata": {},
   "outputs": [
    {
     "name": "stderr",
     "output_type": "stream",
     "text": [
      "100%|█████████████████████████████████████████████| 1310592/1310592 [20:48<00:00, 1049.50it/s]\n",
      "100%|█████████████████████████████████████████████| 1310720/1310720 [21:21<00:00, 1023.09it/s]\n",
      "100%|█████████████████████████████████████████████| 1310720/1310720 [21:29<00:00, 1016.64it/s]\n",
      "100%|█████████████████████████████████████████████| 1310720/1310720 [21:22<00:00, 1022.39it/s]\n",
      "100%|█████████████████████████████████████████████| 1310720/1310720 [21:15<00:00, 1027.61it/s]\n",
      "100%|█████████████████████████████████████████████| 1310720/1310720 [20:59<00:00, 1040.66it/s]\n",
      " 91%|█████████████████████████████████████████    | 1197816/1310720 [19:12<01:48, 1043.93it/s]Exception ignored in: <generator object tqdm.__iter__ at 0x7f9d984e0f20>\n",
      "Traceback (most recent call last):\n",
      "  File \"/opt/anaconda3/lib/python3.9/site-packages/tqdm/std.py\", line 1210, in __iter__\n",
      "  File \"/opt/anaconda3/lib/python3.9/site-packages/tqdm/std.py\", line 1289, in close\n",
      "    self._decr_instances(self)\n",
      "  File \"/opt/anaconda3/lib/python3.9/site-packages/tqdm/std.py\", line 604, in _decr_instances\n",
      "    instances = list(filter(\n",
      "  File \"/opt/anaconda3/lib/python3.9/_weakrefset.py\", line 70, in __iter__\n",
      "    yield item\n",
      "  File \"/opt/anaconda3/lib/python3.9/_weakrefset.py\", line 33, in __exit__\n",
      "    w._commit_removals()\n",
      "  File \"/opt/anaconda3/lib/python3.9/_weakrefset.py\", line 60, in _commit_removals\n",
      "    return\n",
      "KeyboardInterrupt: \n"
     ]
    },
    {
     "ename": "KeyboardInterrupt",
     "evalue": "",
     "output_type": "error",
     "traceback": [
      "\u001b[0;31m---------------------------------------------------------------------------\u001b[0m",
      "\u001b[0;31mKeyboardInterrupt\u001b[0m                         Traceback (most recent call last)",
      "Input \u001b[0;32mIn [10]\u001b[0m, in \u001b[0;36m<cell line: 15>\u001b[0;34m()\u001b[0m\n\u001b[1;32m     23\u001b[0m \u001b[38;5;28;01mfor\u001b[39;00m msg \u001b[38;5;129;01min\u001b[39;00m tqdm(json_data): \n\u001b[1;32m     24\u001b[0m     producer\u001b[38;5;241m.\u001b[39msend(\u001b[38;5;124m'\u001b[39m\u001b[38;5;124mtopic_stream\u001b[39m\u001b[38;5;124m'\u001b[39m, json\u001b[38;5;241m.\u001b[39mdumps(msg)\u001b[38;5;241m.\u001b[39mencode(\u001b[38;5;124m'\u001b[39m\u001b[38;5;124mutf-8\u001b[39m\u001b[38;5;124m'\u001b[39m))\n\u001b[0;32m---> 25\u001b[0m     \u001b[43mtime\u001b[49m\u001b[38;5;241;43m.\u001b[39;49m\u001b[43msleep\u001b[49m\u001b[43m(\u001b[49m\u001b[43mwait_time\u001b[49m\u001b[43m)\u001b[49m\n\u001b[1;32m     26\u001b[0m producer\u001b[38;5;241m.\u001b[39mflush()\n",
      "\u001b[0;31mKeyboardInterrupt\u001b[0m: "
     ]
    }
   ],
   "source": [
    "# load data from s3 bucket\n",
    "# the keys are useless as verify is false\n",
    "s3_client = boto3.client('s3',\n",
    "                         endpoint_url='https://cloud-areapd.pd.infn.it:5210',\n",
    "                         aws_access_key_id='1a4543841b844a88bb3f2eba45764d61',\n",
    "                         aws_secret_access_key='42e2f16592f54668b8421ecf5ca7ba51',\n",
    "                         verify=False)\n",
    "\n",
    "list_obj_contents = s3_client.list_objects(Bucket= 'mapd-minidt-stream')['Contents']\n",
    "\n",
    "# wait time to have ~1000 rows/s\n",
    "wait_time = .00018\n",
    "#wait_time = .0\n",
    "\n",
    "for i in range(0, len(list_obj_contents)):\n",
    "    file_name = list_obj_contents[i]['Key']\n",
    "    row_data = pd.read_csv(s3_client.get_object(Bucket='mapd-minidt-stream', \n",
    "                                                Key=file_name).get('Body'), dtype='str')\n",
    "    # convert file to json\n",
    "    json_data = row_data.to_dict( 'records' )\n",
    "    \n",
    "    # tqdm to visualize progresses\n",
    "    for msg in tqdm(json_data): \n",
    "        producer.send('topic_stream', json.dumps(msg).encode('utf-8'))\n",
    "        time.sleep(wait_time)\n",
    "    producer.flush()"
   ]
  },
  {
   "cell_type": "code",
   "execution_count": null,
   "id": "1f4a4581",
   "metadata": {},
   "outputs": [],
   "source": []
  }
 ],
 "metadata": {
  "kernelspec": {
   "display_name": "Python 3 (ipykernel)",
   "language": "python",
   "name": "python3"
  },
  "language_info": {
   "codemirror_mode": {
    "name": "ipython",
    "version": 3
   },
   "file_extension": ".py",
   "mimetype": "text/x-python",
   "name": "python",
   "nbconvert_exporter": "python",
   "pygments_lexer": "ipython3",
   "version": "3.9.12"
  }
 },
 "nbformat": 4,
 "nbformat_minor": 5
}
