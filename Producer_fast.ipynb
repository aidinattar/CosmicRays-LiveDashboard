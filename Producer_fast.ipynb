{
 "cells": [
  {
   "cell_type": "markdown",
   "id": "bc3e0a04",
   "metadata": {},
   "source": [
    "# Producer"
   ]
  },
  {
   "cell_type": "code",
   "execution_count": 7,
   "id": "92e7a57c",
   "metadata": {},
   "outputs": [],
   "source": [
    "import kafka\n",
    "from kafka       import KafkaProducer\n",
    "from kafka.admin import KafkaAdminClient\n",
    "from kafka.admin import NewTopic\n",
    "from tqdm        import tqdm\n",
    "\n",
    "import pandas as pd\n",
    "import os\n",
    "import boto3\n",
    "import json\n",
    "import time\n",
    "\n",
    "import urllib3\n",
    "urllib3.disable_warnings(urllib3.exceptions.InsecureRequestWarning)"
   ]
  },
  {
   "cell_type": "code",
   "execution_count": 8,
   "id": "3a9de1e7",
   "metadata": {},
   "outputs": [],
   "source": [
    "KAFKA_HOME = '/usr/local/kafka'\n",
    "KAFKA_BOOTSTRAP_SERVERS = ['localhost:9092']"
   ]
  },
  {
   "cell_type": "code",
   "execution_count": 9,
   "id": "a4e959d6",
   "metadata": {},
   "outputs": [],
   "source": [
    "# producer definition from IP address given before\n",
    "producer = KafkaProducer(bootstrap_servers=KAFKA_BOOTSTRAP_SERVERS)\n",
    "\n",
    "# connect to the cluster to run admin functions\n",
    "kafka_admin = KafkaAdminClient(\n",
    "        bootstrap_servers=KAFKA_BOOTSTRAP_SERVERS,\n",
    "        api_version=(0,10,2))"
   ]
  },
  {
   "cell_type": "code",
   "execution_count": 10,
   "id": "71e1eabe",
   "metadata": {},
   "outputs": [
    {
     "data": {
      "text/plain": [
       "[]"
      ]
     },
     "execution_count": 10,
     "metadata": {},
     "output_type": "execute_result"
    }
   ],
   "source": [
    "kafka_admin.list_topics()"
   ]
  },
  {
   "cell_type": "code",
   "execution_count": 11,
   "id": "784675de",
   "metadata": {},
   "outputs": [],
   "source": [
    "s3_client = boto3.client('s3',\n",
    "                         endpoint_url='https://cloud-areapd.pd.infn.it:5210',\n",
    "                         aws_access_key_id='1a4543841b844a88bb3f2eba45764d61',\n",
    "                         aws_secret_access_key='42e2f16592f54668b8421ecf5ca7ba51',\n",
    "                         verify=False)"
   ]
  },
  {
   "cell_type": "code",
   "execution_count": 12,
   "id": "4084dc8c",
   "metadata": {},
   "outputs": [
    {
     "data": {
      "text/plain": [
       "[{'Key': 'data_000000.txt',\n",
       "  'LastModified': datetime.datetime(2022, 5, 30, 8, 56, 44, 485000, tzinfo=tzlocal()),\n",
       "  'ETag': '\"0a7dccb174b6732af3c9e040109df403-2\"',\n",
       "  'Size': 29604978,\n",
       "  'StorageClass': 'STANDARD',\n",
       "  'Owner': {'DisplayName': 'PhysicsOfData-students',\n",
       "   'ID': 'd2e941ce4b324467b6b3d467a923a9bc$d2e941ce4b324467b6b3d467a923a9bc'}},\n",
       " {'Key': 'data_000001.txt',\n",
       "  'LastModified': datetime.datetime(2022, 5, 30, 8, 56, 44, 580000, tzinfo=tzlocal()),\n",
       "  'ETag': '\"777544f2f3b53cc8043791bde33c375a-2\"',\n",
       "  'Size': 29757766,\n",
       "  'StorageClass': 'STANDARD',\n",
       "  'Owner': {'DisplayName': 'PhysicsOfData-students',\n",
       "   'ID': 'd2e941ce4b324467b6b3d467a923a9bc$d2e941ce4b324467b6b3d467a923a9bc'}},\n",
       " {'Key': 'data_000002.txt',\n",
       "  'LastModified': datetime.datetime(2022, 5, 30, 8, 56, 44, 644000, tzinfo=tzlocal()),\n",
       "  'ETag': '\"d7f465cb61aafab424073b58f4cc1aa1-2\"',\n",
       "  'Size': 30921744,\n",
       "  'StorageClass': 'STANDARD',\n",
       "  'Owner': {'DisplayName': 'PhysicsOfData-students',\n",
       "   'ID': 'd2e941ce4b324467b6b3d467a923a9bc$d2e941ce4b324467b6b3d467a923a9bc'}},\n",
       " {'Key': 'data_000003.txt',\n",
       "  'LastModified': datetime.datetime(2022, 5, 30, 8, 56, 44, 692000, tzinfo=tzlocal()),\n",
       "  'ETag': '\"bc2c167347559de8276671280fef492f-2\"',\n",
       "  'Size': 30920741,\n",
       "  'StorageClass': 'STANDARD',\n",
       "  'Owner': {'DisplayName': 'PhysicsOfData-students',\n",
       "   'ID': 'd2e941ce4b324467b6b3d467a923a9bc$d2e941ce4b324467b6b3d467a923a9bc'}},\n",
       " {'Key': 'data_000004.txt',\n",
       "  'LastModified': datetime.datetime(2022, 5, 30, 8, 56, 44, 811000, tzinfo=tzlocal()),\n",
       "  'ETag': '\"cadf7d2f5d1059907704d7a77a201f64-2\"',\n",
       "  'Size': 30914195,\n",
       "  'StorageClass': 'STANDARD',\n",
       "  'Owner': {'DisplayName': 'PhysicsOfData-students',\n",
       "   'ID': 'd2e941ce4b324467b6b3d467a923a9bc$d2e941ce4b324467b6b3d467a923a9bc'}}]"
      ]
     },
     "execution_count": 12,
     "metadata": {},
     "output_type": "execute_result"
    }
   ],
   "source": [
    "list_obj_contents = s3_client.list_objects(Bucket= 'mapd-minidt-stream')['Contents']\n",
    "list_obj_contents[0:5]"
   ]
  },
  {
   "cell_type": "code",
   "execution_count": 13,
   "id": "6d855658",
   "metadata": {},
   "outputs": [
    {
     "name": "stderr",
     "output_type": "stream",
     "text": [
      "100%|█████████████████████████████████████████████| 1310592/1310592 [15:36<00:00, 1400.13it/s]\n",
      "100%|█████████████████████████████████████████████| 1310720/1310720 [15:34<00:00, 1403.24it/s]\n",
      "100%|█████████████████████████████████████████████| 1310720/1310720 [16:13<00:00, 1346.09it/s]\n",
      "100%|█████████████████████████████████████████████| 1310720/1310720 [16:10<00:00, 1350.45it/s]\n",
      "100%|█████████████████████████████████████████████| 1310720/1310720 [16:12<00:00, 1347.23it/s]\n",
      "100%|█████████████████████████████████████████████| 1310720/1310720 [16:09<00:00, 1352.44it/s]\n",
      "100%|█████████████████████████████████████████████| 1310720/1310720 [16:11<00:00, 1348.87it/s]\n",
      "100%|█████████████████████████████████████████████| 1310720/1310720 [16:16<00:00, 1341.93it/s]\n",
      "100%|█████████████████████████████████████████████| 1310720/1310720 [16:01<00:00, 1363.71it/s]\n",
      "100%|█████████████████████████████████████████████| 1310720/1310720 [16:04<00:00, 1358.99it/s]\n",
      " 81%|████████████████████████████████████▌        | 1064727/1310720 [13:11<03:02, 1345.80it/s]\n"
     ]
    },
    {
     "ename": "KeyboardInterrupt",
     "evalue": "",
     "output_type": "error",
     "traceback": [
      "\u001b[0;31m---------------------------------------------------------------------------\u001b[0m",
      "\u001b[0;31mKeyboardInterrupt\u001b[0m                         Traceback (most recent call last)",
      "Input \u001b[0;32mIn [13]\u001b[0m, in \u001b[0;36m<cell line: 2>\u001b[0;34m()\u001b[0m\n\u001b[1;32m      9\u001b[0m \u001b[38;5;28;01mfor\u001b[39;00m msg \u001b[38;5;129;01min\u001b[39;00m tqdm(jj):\n\u001b[1;32m     10\u001b[0m     \u001b[38;5;66;03m# dictionaries creation from dataframe's rows\u001b[39;00m\n\u001b[1;32m     11\u001b[0m     \u001b[38;5;66;03m# unnecessary floats are cast into ints\u001b[39;00m\n\u001b[1;32m     12\u001b[0m     \u001b[38;5;66;03m# json row is sent to the Kafka topic 'topic_stream'   \u001b[39;00m\n\u001b[1;32m     13\u001b[0m     producer\u001b[38;5;241m.\u001b[39msend(\u001b[38;5;124m'\u001b[39m\u001b[38;5;124mstream\u001b[39m\u001b[38;5;124m'\u001b[39m, json\u001b[38;5;241m.\u001b[39mdumps(msg)\u001b[38;5;241m.\u001b[39mencode(\u001b[38;5;124m'\u001b[39m\u001b[38;5;124mutf-8\u001b[39m\u001b[38;5;124m'\u001b[39m))\n\u001b[0;32m---> 14\u001b[0m     \u001b[43mtime\u001b[49m\u001b[38;5;241;43m.\u001b[39;49m\u001b[43msleep\u001b[49m\u001b[43m(\u001b[49m\u001b[38;5;241;43m0.00001\u001b[39;49m\u001b[43m)\u001b[49m\n\u001b[1;32m     15\u001b[0m producer\u001b[38;5;241m.\u001b[39mflush()\n",
      "\u001b[0;31mKeyboardInterrupt\u001b[0m: "
     ]
    }
   ],
   "source": [
    "n = len(list_obj_contents)\n",
    "for i in range(0,n):\n",
    "    file_name = list_obj_contents[i]['Key']\n",
    "    row_data = pd.read_csv(s3_client.get_object(Bucket='mapd-minidt-stream', \n",
    "                                                Key=file_name).get('Body'), dtype='str')\n",
    "    jj = row_data.to_dict('records')\n",
    "    \n",
    "    # For loop over file size\n",
    "    for msg in tqdm(jj):\n",
    "        # dictionaries creation from dataframe's rows\n",
    "        # unnecessary floats are cast into ints\n",
    "        # json row is sent to the Kafka topic 'topic_stream'   \n",
    "        producer.send('stream', json.dumps(msg).encode('utf-8'))\n",
    "        time.sleep(0.00001)\n",
    "    producer.flush()\n"
   ]
  },
  {
   "cell_type": "code",
   "execution_count": null,
   "id": "88136b57",
   "metadata": {},
   "outputs": [],
   "source": []
  }
 ],
 "metadata": {
  "kernelspec": {
   "display_name": "Python 3 (ipykernel)",
   "language": "python",
   "name": "python3"
  },
  "language_info": {
   "codemirror_mode": {
    "name": "ipython",
    "version": 3
   },
   "file_extension": ".py",
   "mimetype": "text/x-python",
   "name": "python",
   "nbconvert_exporter": "python",
   "pygments_lexer": "ipython3",
   "version": "3.9.12"
  }
 },
 "nbformat": 4,
 "nbformat_minor": 5
}
