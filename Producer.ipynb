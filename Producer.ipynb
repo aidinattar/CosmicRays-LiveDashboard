{
 "cells": [
  {
   "cell_type": "markdown",
   "id": "f3b4951a",
   "metadata": {},
   "source": [
    "# MAPD mod. B - Final Project\n",
    "##  Streaming processing of cosmic rays using Drift Tubes detectors\n",
    "\n",
    "The goal of this project is to reproduce a real-time processing of real data collected in a particle physics detector and publish the results in a dashboard for live monitoring.\n",
    "\n",
    "### Students:\n",
    "    - Aidin Attar - 2048654\n",
    "    - Ema Baci - 2050726\n",
    "    - Mariam Hergnyan - 2040478"
   ]
  },
  {
   "cell_type": "markdown",
   "id": "929d52d0",
   "metadata": {},
   "source": [
    "We have to create a streaming application to monitor basic detector quality plots as an online streaming application. The data is taken from s3 bucket and converted to json format which is correspondant to the data format according to the muon detector. The format is shown below.\n",
    "\n",
    "| HEAD | FPGA | TDC_CHANNEL |  ORBIT_CNT | BX_COUNTER | TDC_MEAS |\n",
    "|:----:|:----:|:-----------:|:----------:|:----------:|:--------:|\n",
    "|   1  |   1  |      0      | 3387315431 |      0     |    130   |\n",
    "|   0  |   1  |      2      | 3387315431 |    1119    |    24    |\n",
    "|   4  |   1  |      0      | 3387315431 |      0     | -0.57373 |\n",
    "|   5  |   1  |      0      | 3387315431 |      0     |   45.5   |\n",
    "|   2  |   0  |      75     | 3387200947 |    2922    |     2    |\n",
    "|   2  |   0  |     105     | 3387200955 |    2227    |    29    |\n",
    "|  ... |  ... |     ...     |     ...    |     ...    |    ...   |\n",
    "\n",
    "The overall scema of the project is shown below.\n",
    "![Schematic view of the configuration](Schema1.png)\n",
    "\n",
    "We set one Kafka topic to stream the data and one topic to recieve it for the results. For Spark we had 1 master node with 2 executors and 3 worker nodes with 4 executos each. All of them with 1 core of 1500 mebibytes.\n",
    "\n",
    "![Schematic view of the virtual machines (VM)](Schema2.png)\n"
   ]
  },
  {
   "cell_type": "markdown",
   "id": "bc3e0a04",
   "metadata": {},
   "source": [
    "## Part 1 - Producer"
   ]
  },
  {
   "cell_type": "code",
   "execution_count": 1,
   "id": "92e7a57c",
   "metadata": {},
   "outputs": [],
   "source": [
    "import kafka\n",
    "from kafka       import KafkaProducer\n",
    "from kafka.admin import KafkaAdminClient\n",
    "from kafka.admin import NewTopic\n",
    "\n",
    "from tqdm        import tqdm\n",
    "\n",
    "import pandas as pd\n",
    "import os\n",
    "import boto3\n",
    "import json\n",
    "import time\n",
    "\n",
    "import urllib3\n",
    "urllib3.disable_warnings(urllib3.exceptions.InsecureRequestWarning)"
   ]
  },
  {
   "cell_type": "code",
   "execution_count": 2,
   "id": "3a9de1e7",
   "metadata": {},
   "outputs": [],
   "source": [
    "# kafka directory and IP\n",
    "KAFKA_HOME = '/usr/local/kafka'\n",
    "KAFKA_BOOTSTRAP_SERVERS = ['pd-slave3:9092']"
   ]
  },
  {
   "cell_type": "code",
   "execution_count": 3,
   "id": "a4e959d6",
   "metadata": {},
   "outputs": [],
   "source": [
    "# producer definition using the address given before\n",
    "producer = KafkaProducer(bootstrap_servers=KAFKA_BOOTSTRAP_SERVERS)\n",
    "\n",
    "# connect to the cluster to run admin functions\n",
    "kafka_admin = KafkaAdminClient(\n",
    "    bootstrap_servers=KAFKA_BOOTSTRAP_SERVERS,\n",
    "    api_version=(0,10,2))"
   ]
  },
  {
   "cell_type": "code",
   "execution_count": 6,
   "id": "1d16e178",
   "metadata": {},
   "outputs": [
    {
     "data": {
      "text/plain": [
       "['__consumer_offsets']"
      ]
     },
     "execution_count": 6,
     "metadata": {},
     "output_type": "execute_result"
    }
   ],
   "source": [
    "# delete previous topics\n",
    "\n",
    "if 'topic_stream' in kafka_admin.list_topics():\n",
    "    kafka_admin.delete_topics(['topic_stream'])\n",
    "    \n",
    "if 'topic_results' in kafka_admin.list_topics():\n",
    "    kafka_admin.delete_topics(['topic_results'])\n",
    "\n",
    "kafka_admin.list_topics()"
   ]
  },
  {
   "cell_type": "code",
   "execution_count": 7,
   "id": "436766ba",
   "metadata": {},
   "outputs": [
    {
     "data": {
      "text/plain": [
       "CreateTopicsResponse_v3(throttle_time_ms=0, topic_errors=[(topic='topic_stream', error_code=0, error_message=None), (topic='topic_results', error_code=0, error_message=None)])"
      ]
     },
     "execution_count": 7,
     "metadata": {},
     "output_type": "execute_result"
    }
   ],
   "source": [
    "# define new topics for stream and results\n",
    "# (run 2 times: TODO correct this)\n",
    "\n",
    "stream_topic = NewTopic(name='topic_stream', \n",
    "                        num_partitions=14, \n",
    "                        replication_factor=1)\n",
    "\n",
    "results_topic = NewTopic(name='topic_results', \n",
    "                         num_partitions=14, \n",
    "                         replication_factor=1)\n",
    "\n",
    "kafka_admin.create_topics(new_topics=[stream_topic, results_topic])"
   ]
  },
  {
   "cell_type": "code",
   "execution_count": 8,
   "id": "6d855658",
   "metadata": {},
   "outputs": [
    {
     "name": "stderr",
     "output_type": "stream",
     "text": [
      "100%|████████████████████████████████████████████████████████████████████████| 1310592/1310592 [22:04<00:00, 989.25it/s]\n",
      "100%|████████████████████████████████████████████████████████████████████████| 1310720/1310720 [24:20<00:00, 897.49it/s]\n",
      "100%|████████████████████████████████████████████████████████████████████████| 1310720/1310720 [23:40<00:00, 922.74it/s]\n",
      " 40%|████████████████████████████▉                                            | 518862/1310720 [09:40<14:45, 894.37it/s]\n"
     ]
    }
   ],
   "source": [
    "# load data from s3 bucket\n",
    "# the keys are useless as verify is false\n",
    "s3_client = boto3.client('s3',\n",
    "                         endpoint_url='https://cloud-areapd.pd.infn.it:5210',\n",
    "                         aws_access_key_id='1a4543841b844a88bb3f2eba45764d61',\n",
    "                         aws_secret_access_key='42e2f16592f54668b8421ecf5ca7ba51',\n",
    "                         verify=False)\n",
    "\n",
    "list_obj_contents = s3_client.list_objects(Bucket= 'mapd-minidt-stream')['Contents']\n",
    "\n",
    "# wait time to have ~1000 rows/s\n",
    "wait_time = .00018\n",
    "#wait_time = .0\n",
    "while True:\n",
    "    try:\n",
    "        for i in range(0, len(list_obj_contents)):\n",
    "            file_name = list_obj_contents[i]['Key']\n",
    "            row_data = pd.read_csv(s3_client.get_object(Bucket='mapd-minidt-stream', \n",
    "                                                        Key=file_name).get('Body'), dtype='str')\n",
    "            # convert file to json\n",
    "            json_data = row_data.to_dict( 'records' )\n",
    "\n",
    "            # tqdm to visualize progresses\n",
    "            for msg in tqdm(json_data): \n",
    "                # publish message\n",
    "                producer.send('topic_stream', json.dumps(msg).encode('utf-8'))\n",
    "                # sleep time\n",
    "                time.sleep(wait_time)\n",
    "            # send a message \"synchronously\"\n",
    "            producer.flush()\n",
    "    except KeyboardInterrupt:\n",
    "        break"
   ]
  },
  {
   "cell_type": "code",
   "execution_count": null,
   "id": "1f4a4581",
   "metadata": {},
   "outputs": [],
   "source": [
    "# close the producer\n",
    "producer.close()"
   ]
  },
  {
   "cell_type": "code",
   "execution_count": null,
   "id": "f1361252",
   "metadata": {},
   "outputs": [],
   "source": []
  }
 ],
 "metadata": {
  "kernelspec": {
   "display_name": "Python 3 (ipykernel)",
   "language": "python",
   "name": "python3"
  },
  "language_info": {
   "codemirror_mode": {
    "name": "ipython",
    "version": 3
   },
   "file_extension": ".py",
   "mimetype": "text/x-python",
   "name": "python",
   "nbconvert_exporter": "python",
   "pygments_lexer": "ipython3",
   "version": "3.9.12"
  }
 },
 "nbformat": 4,
 "nbformat_minor": 5
}
