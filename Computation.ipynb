{
 "cells": [
  {
   "cell_type": "markdown",
   "id": "ba336a1e",
   "metadata": {},
   "source": [
    "# Computation"
   ]
  },
  {
   "cell_type": "code",
   "execution_count": 1,
   "id": "b5716d54",
   "metadata": {},
   "outputs": [],
   "source": [
    "#import libraries cell\n",
    "\n",
    "import json\n",
    "import time\n",
    "import findspark\n",
    "import pyspark\n",
    "\n",
    "import numpy as np\n",
    "import pandas as pd\n",
    "\n",
    "from kafka                import KafkaProducer\n",
    "from kafka.admin          import KafkaAdminClient, NewTopic\n",
    " \n",
    "from pyspark.sql           import functions as F\n",
    "from pyspark.sql           import SparkSession\n",
    "from pyspark.streaming     import StreamingContext\n",
    "from pyspark.sql.types     import StructField, StructType, DoubleType, IntegerType\n",
    "from pyspark.sql.functions import from_json, col, when, count, struct, collect_list\n",
    "from pyspark               import SparkConf, SparkContext\n",
    "from pyspark.sql.types import StringType "
   ]
  },
  {
   "cell_type": "markdown",
   "id": "aaf6badc",
   "metadata": {},
   "source": [
    "## Spark setup"
   ]
  },
  {
   "cell_type": "code",
   "execution_count": 2,
   "id": "6d0d2208",
   "metadata": {},
   "outputs": [],
   "source": [
    "#initialisation of spark from the packages folder\n",
    "findspark.init('/usr/local/spark')"
   ]
  },
  {
   "cell_type": "code",
   "execution_count": 3,
   "id": "a7557507",
   "metadata": {
    "scrolled": false
   },
   "outputs": [
    {
     "name": "stdout",
     "output_type": "stream",
     "text": [
      ":: loading settings :: url = jar:file:/usr/local/spark/jars/ivy-2.5.0.jar!/org/apache/ivy/core/settings/ivysettings.xml\n"
     ]
    },
    {
     "name": "stderr",
     "output_type": "stream",
     "text": [
      "Ivy Default Cache set to: /home/aidin/.ivy2/cache\n",
      "The jars for the packages stored in: /home/aidin/.ivy2/jars\n",
      "org.apache.spark#spark-sql-kafka-0-10_2.12 added as a dependency\n",
      ":: resolving dependencies :: org.apache.spark#spark-submit-parent-a9e2cb7b-1c44-40bf-8f0e-69ec92f04b2f;1.0\n",
      "\tconfs: [default]\n",
      "\tfound org.apache.spark#spark-sql-kafka-0-10_2.12;3.1.2 in central\n",
      "\tfound org.apache.spark#spark-token-provider-kafka-0-10_2.12;3.1.2 in central\n",
      "\tfound org.apache.kafka#kafka-clients;2.6.0 in central\n",
      "\tfound com.github.luben#zstd-jni;1.4.8-1 in central\n",
      "\tfound org.lz4#lz4-java;1.7.1 in central\n",
      "\tfound org.xerial.snappy#snappy-java;1.1.8.2 in central\n",
      "\tfound org.slf4j#slf4j-api;1.7.30 in central\n",
      "\tfound org.spark-project.spark#unused;1.0.0 in central\n",
      "\tfound org.apache.commons#commons-pool2;2.6.2 in central\n",
      ":: resolution report :: resolve 822ms :: artifacts dl 23ms\n",
      "\t:: modules in use:\n",
      "\tcom.github.luben#zstd-jni;1.4.8-1 from central in [default]\n",
      "\torg.apache.commons#commons-pool2;2.6.2 from central in [default]\n",
      "\torg.apache.kafka#kafka-clients;2.6.0 from central in [default]\n",
      "\torg.apache.spark#spark-sql-kafka-0-10_2.12;3.1.2 from central in [default]\n",
      "\torg.apache.spark#spark-token-provider-kafka-0-10_2.12;3.1.2 from central in [default]\n",
      "\torg.lz4#lz4-java;1.7.1 from central in [default]\n",
      "\torg.slf4j#slf4j-api;1.7.30 from central in [default]\n",
      "\torg.spark-project.spark#unused;1.0.0 from central in [default]\n",
      "\torg.xerial.snappy#snappy-java;1.1.8.2 from central in [default]\n",
      "\t---------------------------------------------------------------------\n",
      "\t|                  |            modules            ||   artifacts   |\n",
      "\t|       conf       | number| search|dwnlded|evicted|| number|dwnlded|\n",
      "\t---------------------------------------------------------------------\n",
      "\t|      default     |   9   |   0   |   0   |   0   ||   9   |   0   |\n",
      "\t---------------------------------------------------------------------\n",
      ":: retrieving :: org.apache.spark#spark-submit-parent-a9e2cb7b-1c44-40bf-8f0e-69ec92f04b2f\n",
      "\tconfs: [default]\n",
      "\t0 artifacts copied, 9 already retrieved (0kB/15ms)\n"
     ]
    },
    {
     "name": "stdout",
     "output_type": "stream",
     "text": [
      "22/09/14 21:29:33 WARN NativeCodeLoader: Unable to load native-hadoop library for your platform... using builtin-java classes where applicable\n"
     ]
    },
    {
     "name": "stderr",
     "output_type": "stream",
     "text": [
      "Setting default log level to \"WARN\".\n",
      "To adjust logging level use sc.setLogLevel(newLevel). For SparkR, use setLogLevel(newLevel).\n"
     ]
    },
    {
     "name": "stdout",
     "output_type": "stream",
     "text": [
      "22/09/14 21:29:35 WARN Utils: Service 'SparkUI' could not bind on port 4041. Attempting port 4042.\n"
     ]
    },
    {
     "data": {
      "text/html": [
       "\n",
       "            <div>\n",
       "                <p><b>SparkSession - in-memory</b></p>\n",
       "                \n",
       "        <div>\n",
       "            <p><b>SparkContext</b></p>\n",
       "\n",
       "            <p><a href=\"http://pd-master:4042\">Spark UI</a></p>\n",
       "\n",
       "            <dl>\n",
       "              <dt>Version</dt>\n",
       "                <dd><code>v3.3.0</code></dd>\n",
       "              <dt>Master</dt>\n",
       "                <dd><code>local[*]</code></dd>\n",
       "              <dt>AppName</dt>\n",
       "                <dd><code>Project_CosmicRays_Dashboard_application</code></dd>\n",
       "            </dl>\n",
       "        </div>\n",
       "        \n",
       "            </div>\n",
       "        "
      ],
      "text/plain": [
       "<pyspark.sql.session.SparkSession at 0x7f258e5e65b0>"
      ]
     },
     "execution_count": 3,
     "metadata": {},
     "output_type": "execute_result"
    }
   ],
   "source": [
    "#start session - specify port, application name, and configuration settings.\n",
    "\n",
    "spark = SparkSession.builder\\\n",
    "        .appName(\"Project_CosmicRays_Dashboard_application\")\\\n",
    "        .config(\"spark.sql.execution.arrow.pyspark.enabled\", \"true\")\\\n",
    "        .config(\"spark.sql.streaming.forceDeleteTempCheckpointLocation\", \"true\")\\\n",
    "        .config(\"spark.jars.packages\",\"org.apache.spark:spark-sql-kafka-0-10_2.12:3.1.2\")\\\n",
    "        .config(\"spark.ui.port\", \"4041\")\\\n",
    "        .getOrCreate()\n",
    "\n",
    "#        .config(\"spark.sql.execution.arrow.pyspark.fallback.enabled\", \"false\")\\\n",
    "spark"
   ]
  },
  {
   "cell_type": "markdown",
   "id": "a5f2e52c",
   "metadata": {},
   "source": [
    "## Kafka Setup"
   ]
  },
  {
   "cell_type": "code",
   "execution_count": 4,
   "id": "8523564e",
   "metadata": {},
   "outputs": [],
   "source": [
    "KAFKA_BOOTSTRAP_SERVERS = 'localhost:9092'\n",
    "\n",
    "producer = KafkaProducer(bootstrap_servers=KAFKA_BOOTSTRAP_SERVERS)\n",
    "kafka_admin = KafkaAdminClient(bootstrap_servers=KAFKA_BOOTSTRAP_SERVERS)"
   ]
  },
  {
   "cell_type": "code",
   "execution_count": 5,
   "id": "925729a8",
   "metadata": {},
   "outputs": [
    {
     "data": {
      "text/plain": [
       "['stream', 'topic_stream', 'results', '__consumer_offsets']"
      ]
     },
     "execution_count": 5,
     "metadata": {},
     "output_type": "execute_result"
    }
   ],
   "source": [
    "kafka_admin.list_topics()"
   ]
  },
  {
   "cell_type": "code",
   "execution_count": 6,
   "id": "bea9335e",
   "metadata": {},
   "outputs": [
    {
     "data": {
      "text/plain": [
       "DeleteTopicsResponse_v3(throttle_time_ms=0, topic_error_codes=[(topic='results', error_code=0)])"
      ]
     },
     "execution_count": 6,
     "metadata": {},
     "output_type": "execute_result"
    }
   ],
   "source": [
    "kafka_admin.delete_topics(['results'])"
   ]
  },
  {
   "cell_type": "code",
   "execution_count": 7,
   "id": "f1ddad25",
   "metadata": {},
   "outputs": [
    {
     "data": {
      "text/plain": [
       "['stream', 'topic_stream', '__consumer_offsets']"
      ]
     },
     "execution_count": 7,
     "metadata": {},
     "output_type": "execute_result"
    }
   ],
   "source": [
    "kafka_admin.list_topics()"
   ]
  },
  {
   "cell_type": "code",
   "execution_count": 8,
   "id": "2d644147",
   "metadata": {},
   "outputs": [
    {
     "ename": "TopicAlreadyExistsError",
     "evalue": "[Error 36] TopicAlreadyExistsError: Request 'CreateTopicsRequest_v3(create_topic_requests=[(topic='results', num_partitions=4, replication_factor=1, replica_assignment=[], configs=[])], timeout=30000, validate_only=False)' failed with response 'CreateTopicsResponse_v3(throttle_time_ms=0, topic_errors=[(topic='results', error_code=36, error_message=\"Topic 'results' is marked for deletion.\")])'.",
     "output_type": "error",
     "traceback": [
      "\u001b[0;31m---------------------------------------------------------------------------\u001b[0m",
      "\u001b[0;31mTopicAlreadyExistsError\u001b[0m                   Traceback (most recent call last)",
      "Input \u001b[0;32mIn [8]\u001b[0m, in \u001b[0;36m<cell line: 4>\u001b[0;34m()\u001b[0m\n\u001b[1;32m      1\u001b[0m results_topic \u001b[38;5;241m=\u001b[39m NewTopic(name\u001b[38;5;241m=\u001b[39m\u001b[38;5;124m'\u001b[39m\u001b[38;5;124mresults\u001b[39m\u001b[38;5;124m'\u001b[39m, \n\u001b[1;32m      2\u001b[0m                        num_partitions\u001b[38;5;241m=\u001b[39m\u001b[38;5;241m4\u001b[39m, \n\u001b[1;32m      3\u001b[0m                        replication_factor\u001b[38;5;241m=\u001b[39m\u001b[38;5;241m1\u001b[39m)\n\u001b[0;32m----> 4\u001b[0m \u001b[43mkafka_admin\u001b[49m\u001b[38;5;241;43m.\u001b[39;49m\u001b[43mcreate_topics\u001b[49m\u001b[43m(\u001b[49m\u001b[43mnew_topics\u001b[49m\u001b[38;5;241;43m=\u001b[39;49m\u001b[43m[\u001b[49m\u001b[43mresults_topic\u001b[49m\u001b[43m]\u001b[49m\u001b[43m)\u001b[49m\n",
      "File \u001b[0;32m~/.local/lib/python3.9/site-packages/kafka/admin/client.py:461\u001b[0m, in \u001b[0;36mKafkaAdminClient.create_topics\u001b[0;34m(self, new_topics, timeout_ms, validate_only)\u001b[0m\n\u001b[1;32m    456\u001b[0m     \u001b[38;5;28;01mraise\u001b[39;00m \u001b[38;5;167;01mNotImplementedError\u001b[39;00m(\n\u001b[1;32m    457\u001b[0m         \u001b[38;5;124m\"\u001b[39m\u001b[38;5;124mSupport for CreateTopics v\u001b[39m\u001b[38;5;132;01m{}\u001b[39;00m\u001b[38;5;124m has not yet been added to KafkaAdminClient.\u001b[39m\u001b[38;5;124m\"\u001b[39m\n\u001b[1;32m    458\u001b[0m         \u001b[38;5;241m.\u001b[39mformat(version))\n\u001b[1;32m    459\u001b[0m \u001b[38;5;66;03m# TODO convert structs to a more pythonic interface\u001b[39;00m\n\u001b[1;32m    460\u001b[0m \u001b[38;5;66;03m# TODO raise exceptions if errors\u001b[39;00m\n\u001b[0;32m--> 461\u001b[0m \u001b[38;5;28;01mreturn\u001b[39;00m \u001b[38;5;28;43mself\u001b[39;49m\u001b[38;5;241;43m.\u001b[39;49m\u001b[43m_send_request_to_controller\u001b[49m\u001b[43m(\u001b[49m\u001b[43mrequest\u001b[49m\u001b[43m)\u001b[49m\n",
      "File \u001b[0;32m~/.local/lib/python3.9/site-packages/kafka/admin/client.py:407\u001b[0m, in \u001b[0;36mKafkaAdminClient._send_request_to_controller\u001b[0;34m(self, request)\u001b[0m\n\u001b[1;32m    405\u001b[0m         \u001b[38;5;28;01mbreak\u001b[39;00m\n\u001b[1;32m    406\u001b[0m     \u001b[38;5;28;01melif\u001b[39;00m error_type \u001b[38;5;129;01mis\u001b[39;00m \u001b[38;5;129;01mnot\u001b[39;00m Errors\u001b[38;5;241m.\u001b[39mNoError:\n\u001b[0;32m--> 407\u001b[0m         \u001b[38;5;28;01mraise\u001b[39;00m error_type(\n\u001b[1;32m    408\u001b[0m             \u001b[38;5;124m\"\u001b[39m\u001b[38;5;124mRequest \u001b[39m\u001b[38;5;124m'\u001b[39m\u001b[38;5;132;01m{}\u001b[39;00m\u001b[38;5;124m'\u001b[39m\u001b[38;5;124m failed with response \u001b[39m\u001b[38;5;124m'\u001b[39m\u001b[38;5;132;01m{}\u001b[39;00m\u001b[38;5;124m'\u001b[39m\u001b[38;5;124m.\u001b[39m\u001b[38;5;124m\"\u001b[39m\n\u001b[1;32m    409\u001b[0m             \u001b[38;5;241m.\u001b[39mformat(request, response))\n\u001b[1;32m    410\u001b[0m \u001b[38;5;28;01melse\u001b[39;00m:\n\u001b[1;32m    411\u001b[0m     \u001b[38;5;28;01mreturn\u001b[39;00m response\n",
      "\u001b[0;31mTopicAlreadyExistsError\u001b[0m: [Error 36] TopicAlreadyExistsError: Request 'CreateTopicsRequest_v3(create_topic_requests=[(topic='results', num_partitions=4, replication_factor=1, replica_assignment=[], configs=[])], timeout=30000, validate_only=False)' failed with response 'CreateTopicsResponse_v3(throttle_time_ms=0, topic_errors=[(topic='results', error_code=36, error_message=\"Topic 'results' is marked for deletion.\")])'."
     ]
    }
   ],
   "source": [
    "results_topic = NewTopic(name='results', \n",
    "                       num_partitions=4, \n",
    "                       replication_factor=1)\n",
    "kafka_admin.create_topics(new_topics=[results_topic])\n"
   ]
  },
  {
   "cell_type": "code",
   "execution_count": 9,
   "id": "3d81a24e",
   "metadata": {},
   "outputs": [
    {
     "data": {
      "text/plain": [
       "['stream', 'topic_stream', '__consumer_offsets']"
      ]
     },
     "execution_count": 9,
     "metadata": {},
     "output_type": "execute_result"
    }
   ],
   "source": [
    "kafka_admin.list_topics()"
   ]
  },
  {
   "cell_type": "code",
   "execution_count": 10,
   "id": "447ad826",
   "metadata": {},
   "outputs": [
    {
     "name": "stdout",
     "output_type": "stream",
     "text": [
      "root\n",
      " |-- key: binary (nullable = true)\n",
      " |-- value: binary (nullable = true)\n",
      " |-- topic: string (nullable = true)\n",
      " |-- partition: integer (nullable = true)\n",
      " |-- offset: long (nullable = true)\n",
      " |-- timestamp: timestamp (nullable = true)\n",
      " |-- timestampType: integer (nullable = true)\n",
      "\n"
     ]
    }
   ],
   "source": [
    "# input dataframe and its source. \n",
    "# Define subscription to 'stream' - one of the two topics in kafka\n",
    "\n",
    "inputDF = spark.readStream\\\n",
    "        .format(\"kafka\")\\\n",
    "        .option(\"kafka.bootstrap.servers\", KAFKA_BOOTSTRAP_SERVERS)\\\n",
    "        .option('subscribe', 'topic_stream')\\\n",
    "        .load()\n",
    "\n",
    "inputDF.printSchema()"
   ]
  },
  {
   "cell_type": "code",
   "execution_count": 11,
   "id": "d0fa0580",
   "metadata": {},
   "outputs": [],
   "source": [
    "# scheme of the imput data\n",
    "schema = StructType(\n",
    "        [\n",
    "                StructField(\"HEAD\", StringType()),\n",
    "                StructField(\"FPGA\", StringType()),\n",
    "                StructField(\"TDC_CHANNEL\", StringType()),\n",
    "                StructField(\"ORBIT_CNT\", StringType()),\n",
    "                StructField(\"BX_COUNTER\", StringType()),\n",
    "                StructField(\"TDC_MEAS\", StringType())\n",
    "        ]\n",
    "    )"
   ]
  },
  {
   "cell_type": "code",
   "execution_count": 12,
   "id": "408c15cf",
   "metadata": {},
   "outputs": [
    {
     "name": "stdout",
     "output_type": "stream",
     "text": [
      "root\n",
      " |-- value: struct (nullable = true)\n",
      " |    |-- HEAD: string (nullable = true)\n",
      " |    |-- FPGA: string (nullable = true)\n",
      " |    |-- TDC_CHANNEL: string (nullable = true)\n",
      " |    |-- ORBIT_CNT: string (nullable = true)\n",
      " |    |-- BX_COUNTER: string (nullable = true)\n",
      " |    |-- TDC_MEAS: string (nullable = true)\n",
      "\n"
     ]
    }
   ],
   "source": [
    "# convert inputDF to jsonDF\n",
    "\n",
    "jsonDF = inputDF.select(from_json(col(\"value\").alias('value').cast(\"string\"), schema).alias('value'))\n",
    "\n",
    "jsonDF.printSchema()"
   ]
  },
  {
   "cell_type": "code",
   "execution_count": 13,
   "id": "348f6b5f",
   "metadata": {},
   "outputs": [
    {
     "name": "stdout",
     "output_type": "stream",
     "text": [
      "root\n",
      " |-- HEAD: string (nullable = true)\n",
      " |-- FPGA: string (nullable = true)\n",
      " |-- TDC_CHANNEL: string (nullable = true)\n",
      " |-- ORBIT_CNT: string (nullable = true)\n",
      " |-- BX_COUNTER: string (nullable = true)\n",
      " |-- TDC_MEAS: string (nullable = true)\n",
      "\n"
     ]
    }
   ],
   "source": [
    "flatDF = jsonDF.select(\"value.HEAD\", \n",
    "                       \"value.FPGA\", \n",
    "                       \"value.TDC_CHANNEL\",\n",
    "                       \"value.ORBIT_CNT\",\n",
    "                       \"value.BX_COUNTER\",\n",
    "                       \"value.TDC_MEAS\")\n",
    "\n",
    "flatDF.printSchema()"
   ]
  },
  {
   "cell_type": "code",
   "execution_count": 14,
   "id": "8ee8ea69",
   "metadata": {},
   "outputs": [
    {
     "name": "stdout",
     "output_type": "stream",
     "text": [
      "root\n",
      " |-- HEAD: string (nullable = true)\n",
      " |-- FPGA: string (nullable = true)\n",
      " |-- TDC_CHANNEL: string (nullable = true)\n",
      " |-- ORBIT_CNT: string (nullable = true)\n",
      " |-- BX_COUNTER: string (nullable = true)\n",
      " |-- TDC_MEAS: string (nullable = true)\n",
      " |-- CHAMBER: integer (nullable = true)\n",
      "\n"
     ]
    }
   ],
   "source": [
    "# data-cleansing\n",
    "df = flatDF.where(col(\"HEAD\")==2)\n",
    "\n",
    "# division of dataframe between chambers\n",
    "df = df.withColumn('CHAMBER',\n",
    "        when(( col( 'FPGA' ) == 0 ) & ( col( 'TDC_CHANNEL' ) >=  0 ) & ( col( 'TDC_CHANNEL' ) <  64  ), 0) \\\n",
    "       .when(( col( 'FPGA' ) == 0 ) & ( col( 'TDC_CHANNEL' ) >= 64 ) & ( col( 'TDC_CHANNEL' ) <= 127 ), 1) \\\n",
    "       .when(( col( 'FPGA' ) == 1 ) & ( col( 'TDC_CHANNEL' ) >=  0 ) & ( col( 'TDC_CHANNEL' ) <  64  ), 2) \\\n",
    "       .when(( col( 'FPGA' ) == 1 ) & ( col( 'TDC_CHANNEL' ) >= 64 ) & ( col( 'TDC_CHANNEL' ) <= 127 ), 3) \\\n",
    "       .when(( col( 'FPGA' ) == 1 ) &                                  ( col( 'TDC_CHANNEL' ) == 128 ), 4) \\\n",
    "               .otherwise(None))                                                                           \\\n",
    "      .filter( col( 'CHAMBER' ).isNotNull() )\n",
    "\n",
    "df.printSchema()"
   ]
  },
  {
   "cell_type": "code",
   "execution_count": 15,
   "id": "c4d971d9",
   "metadata": {},
   "outputs": [],
   "source": [
    "# scintillator time offset by Chamber\n",
    "# TODO compute ABSOLUTETIME and DRIFTIME\n",
    "time_offset_by_chamber = {\n",
    "0: 95.0 - 1.1, # Ch 0\n",
    "1: 95.0 + 6.4, # Ch 1\n",
    "2: 95.0 + 0.5, # Ch 2\n",
    "3: 95.0 - 2.6, # Ch 3\n",
    "}"
   ]
  },
  {
   "cell_type": "code",
   "execution_count": 16,
   "id": "144ff0bc",
   "metadata": {},
   "outputs": [],
   "source": [
    "msg_json = {\n",
    "    'epoch_id' : 0,\n",
    "    'hits'     : 0,\n",
    "    'CH0' : {'total_hits'  : 0,\n",
    "             'histo_CH'    : {'bin_edges'  : [],\n",
    "                              'bin_counts' : []\n",
    "                            },\n",
    "             'histo_ORB'   : {'bin_edges'  : [],\n",
    "                              'bin_counts' : []\n",
    "                             },\n",
    "#             'histo_SC'    : {'bin_edges'  : [],\n",
    "#                              'bin_counts' : []\n",
    "#                            }\n",
    "            },\n",
    "    'CH1' : {'total_hits'  : 0,\n",
    "             'histo_CH'    : {'bin_edges'  : [],\n",
    "                              'bin_counts' : []\n",
    "                            },\n",
    "             'histo_ORB'   : {'bin_edges'  : [],\n",
    "                              'bin_counts' : []\n",
    "                             },\n",
    "#             'histo_SC'    : {'bin_edges'  : [],\n",
    "#                              'bin_counts' : []\n",
    "#                            }\n",
    "            },\n",
    "    'CH2' : {'total_hits'  : 0,\n",
    "             'histo_CH'    : {'bin_edges'  : [],\n",
    "                              'bin_counts' : []\n",
    "                            },\n",
    "             'histo_ORB'   : {'bin_edges'  : [],\n",
    "                              'bin_counts' : []\n",
    "                             },\n",
    "#             'histo_SC'    : {'bin_edges'  : [],\n",
    "#                              'bin_counts' : []\n",
    "#                            }\n",
    "            },\n",
    "    'CH3' : {'total_hits'  : 0,\n",
    "             'histo_CH'    : {'bin_edges'  : [],\n",
    "                              'bin_counts' : []\n",
    "                            },\n",
    "             'histo_ORB'   : {'bin_edges'  : [],\n",
    "                              'bin_counts' : []\n",
    "                             },\n",
    "#             'histo_SC'    : {'bin_edges'  : [],\n",
    "#                              'bin_counts' : []\n",
    "#                            }\n",
    "            },\n",
    "}\n"
   ]
  },
  {
   "cell_type": "code",
   "execution_count": 17,
   "id": "47ddd38a",
   "metadata": {},
   "outputs": [],
   "source": [
    "def batch_proc(df, epoch_id):   \n",
    "\n",
    "    '''\n",
    "    Function for the batch processing of the data.\n",
    "    The processing consists in retrieving\n",
    "    the following informations:\n",
    "        1. total number of processed hits, \n",
    "           post-clensing (1 value per batch)\n",
    "        2. total number of processed hits,\n",
    "           post-clensing, per chamber (4 values per batch)\n",
    "        3. histogram of the counts of active TDC_CHANNEL,\n",
    "           per chamber (4 arrays per batch)\n",
    "        4. histogram of the total number of active\n",
    "           TDC_CHANNEL in each ORBIT_CNT, per chamber \n",
    "           (4 arrays per batch)\n",
    "        5. histogram of the counts of active TDC_CHANNEL,\n",
    "           per chamber, ONLY for those orbits with at least\n",
    "           one scintillator signal in it (4 arrays per batch)\n",
    "        6. histogram of the DRIFTIME, per chamber \n",
    "           (4 arrays per batch) TODO\n",
    "    \n",
    "    Inputs:\n",
    "        - df: spark dataframe with the data\n",
    "        - epoch_id: batch index    \n",
    "    '''\n",
    "\n",
    "    msg_json['epoch_id']    = epoch_id\n",
    "\n",
    "    # total number of processed hits\n",
    "    # post-cleansing\n",
    "    total_hits = df.filter(col('CHAMBER') != 4)\\\n",
    "                   .count()\n",
    "\n",
    "\n",
    "    # total number of processed hits,\n",
    "    # post-clensing, per chamber\n",
    "    df_counts = df.filter(col('CHAMBER') != 4) \\\n",
    "                  .groupBy(   'CHAMBER')       \\\n",
    "                  .count()                     \\\n",
    "                  .withColumnRenamed('count', \n",
    "                                     'ch_hits')\n",
    "\n",
    "\n",
    "    # histogram of the counts of active\n",
    "    # TDC_CHANNEL, per chamber.\n",
    "    df_counts_ch = df.filter(col('CHAMBER') != 4)            \\\n",
    "                     .groupBy('TDC_CHANNEL', 'CHAMBER')      \\\n",
    "                     .count()                                \\\n",
    "                     .groupBy('CHAMBER')                     \\\n",
    "                     .agg(struct(collect_list('TDC_CHANNEL') \\\n",
    "                                       .alias(  'bin_edges'),\n",
    "                                 collect_list(      'count') \\\n",
    "                                       .alias(     'counts'),\n",
    "                                )                            \\\n",
    "                          .alias('histo_CH')\n",
    "                         )\n",
    "\n",
    "\n",
    "    # histogram of the total number of active\n",
    "    # TDC_CHANNEL in each ORBIT_CNT per chamber\n",
    "    df_counts_orb = df.filter(col('CHAMBER') != 4)                    \\\n",
    "                      .groupBy('ORBIT_CNT', 'CHAMBER')                \\\n",
    "                      .agg(F.countDistinct(\"TDC_CHANNEL\"))            \\\n",
    "                      .groupBy('count(TDC_CHANNEL)', 'CHAMBER')       \\\n",
    "                      .count()                                        \\\n",
    "                      .groupBy('CHAMBER')                             \\\n",
    "                      .agg(struct(collect_list('count(TDC_CHANNEL)')  \\\n",
    "                                        .alias(         'bin_edges'),\n",
    "                                  collect_list(             'count') \\\n",
    "                                        .alias(            'counts'),\n",
    "                                 )                                    \\\n",
    "                           .alias('histo_ORB')\n",
    "                          )\n",
    "\n",
    "\n",
    "    # Histogram of the count of active TDC_CHANNEL,\n",
    "    # per chamber, only for those orbits with\n",
    "    # at least one scintillatorin it\n",
    "#    list_scint = df.filter(col('CHAMBER') == 4)   \\\n",
    "#                   .select('ORBIT_CNT').ORBIT_CNT \\\n",
    "#                   .collect                       \\\n",
    "#                   .toList\n",
    "\n",
    "#    list_scint = df.filter(col('CHAMBER') == 4)   \\\n",
    "#                   .select('ORBIT_CNT').toPandas()['ORBIT_CNT'].tolist()\n",
    "#    print(list_scint)\n",
    "#    df_counts_sc = df.filter(col('CHAMBER') != 4 )                   \\\n",
    "#              .where( col( 'ORBIT_CNT' ).isin( list_scint ) ) \\\n",
    "#              .groupBy(  'TDC_CHANNEL', 'CHAMBER'       )     \\\n",
    "#              .count()                                        \\\n",
    "#              .agg(struct(collect_list('TDC_CHANNEL')         \\\n",
    "#                                  .alias('bin_edges'),\n",
    "#                            collect_list(    'count')         \\\n",
    "#                                  .alias(   'counts'),\n",
    "#                         ).alias('histo_SC')\n",
    "#                  )\n",
    "\n",
    "    # dataframe with results joined\n",
    "    df_res = df_counts.join(df_counts_ch,  on='chamber') \\\n",
    "                      .join(df_counts_orb, on='chamber') \\\n",
    "                      .sort('chamber')                   \\\n",
    "                      .collect()\n",
    "    #.join(df_counts_sc,   on='chamber') \\\n",
    "                      \n",
    "    msg_json['hits'] = total_hits\n",
    "    for i in range(len(df_res)):\n",
    "        msg_json[f'CH{i}']['total_hits']              = df_res[i]['ch_hits']\n",
    "        msg_json[f'CH{i}']['histo_CH'][  'bin_edges'] = df_res[i]['histo_CH'][ 'bin_edges']\n",
    "        msg_json[f'CH{i}']['histo_CH'][' bin_counts'] = df_res[i]['histo_CH'][    'counts']\n",
    "        msg_json[f'CH{i}']['histo_ORB'][ 'bin_edges'] = df_res[i]['histo_ORB']['bin_edges']\n",
    "        msg_json[f'CH{i}']['histo_ORB']['bin_counts'] = df_res[i]['histo_ORB'][   'counts']\n",
    "#        msg_json[f'CH{ch}']['histo_SC'][  'bin_edges'] = df_sc[        ch]['histo_SC']['bin_edges']\n",
    "#        msg_json[f'CH{ch}']['histo_SC'][ 'bin_counts'] = df_sc[        ch]['histo_SC']['counts']\n",
    "    producer.send('results', json.dumps(msg_json).encode('utf-8'))\n",
    "    producer.flush()\n",
    "    pass"
   ]
  },
  {
   "cell_type": "code",
   "execution_count": 18,
   "id": "e4de2c0f",
   "metadata": {},
   "outputs": [
    {
     "data": {
      "text/plain": [
       "True"
      ]
     },
     "execution_count": 18,
     "metadata": {},
     "output_type": "execute_result"
    }
   ],
   "source": [
    "df.isStreaming"
   ]
  },
  {
   "cell_type": "code",
   "execution_count": null,
   "id": "0d920458",
   "metadata": {},
   "outputs": [
    {
     "name": "stdout",
     "output_type": "stream",
     "text": [
      "22/09/14 21:29:56 WARN ResolveWriteToStream: Temporary checkpoint location created which is deleted normally when the query didn't fail: /tmp/temporary-ef2a75d7-3d0e-4f67-96de-9072070fcf52. If it's required to delete it under any circumstances, please set spark.sql.streaming.forceDeleteTempCheckpointLocation to true. Important to know deleting temp checkpoint folder is best effort.\n",
      "22/09/14 21:29:56 WARN ResolveWriteToStream: spark.sql.adaptive.enabled is not supported in streaming DataFrames/Datasets and will be disabled.\n"
     ]
    },
    {
     "name": "stderr",
     "output_type": "stream",
     "text": [
      "[Stage 1486:==>          (35 + 4) / 200][Stage 1490:>             (0 + 0) / 200]\r"
     ]
    },
    {
     "name": "stdout",
     "output_type": "stream",
     "text": [
      "22/09/14 21:40:56 WARN NetworkClient: [Consumer clientId=consumer-spark-kafka-source-e7b94c18-83a7-48b6-b4ca-aaf4123e5181-373237678-driver-0-1, groupId=spark-kafka-source-e7b94c18-83a7-48b6-b4ca-aaf4123e5181-373237678-driver-0] Connection to node 0 (pd-master/10.67.22.162:9092) could not be established. Broker may not be available.\n",
      "22/09/14 21:40:56 WARN NetworkClient: [Consumer clientId=consumer-spark-kafka-source-e7b94c18-83a7-48b6-b4ca-aaf4123e5181-373237678-driver-0-1, groupId=spark-kafka-source-e7b94c18-83a7-48b6-b4ca-aaf4123e5181-373237678-driver-0] Connection to node 0 (pd-master/10.67.22.162:9092) could not be established. Broker may not be available.\n"
     ]
    },
    {
     "name": "stderr",
     "output_type": "stream",
     "text": [
      "\r",
      "[Stage 1486:==>          (42 + 4) / 200][Stage 1490:>             (0 + 0) / 200]\r",
      "\r",
      "[Stage 1486:===>         (48 + 4) / 200][Stage 1490:>             (0 + 0) / 200]\r"
     ]
    },
    {
     "name": "stdout",
     "output_type": "stream",
     "text": [
      "22/09/14 21:40:56 WARN NetworkClient: [Consumer clientId=consumer-spark-kafka-source-e7b94c18-83a7-48b6-b4ca-aaf4123e5181-373237678-driver-0-1, groupId=spark-kafka-source-e7b94c18-83a7-48b6-b4ca-aaf4123e5181-373237678-driver-0] Connection to node 0 (pd-master/10.67.22.162:9092) could not be established. Broker may not be available.\n"
     ]
    },
    {
     "name": "stderr",
     "output_type": "stream",
     "text": [
      "\r",
      "[Stage 1486:===>         (57 + 4) / 200][Stage 1490:>             (0 + 0) / 200]\r",
      "\r",
      "[Stage 1486:====>        (66 + 4) / 200][Stage 1490:>             (0 + 0) / 200]\r"
     ]
    },
    {
     "name": "stdout",
     "output_type": "stream",
     "text": [
      "22/09/14 21:40:56 WARN NetworkClient: [Consumer clientId=consumer-spark-kafka-source-e7b94c18-83a7-48b6-b4ca-aaf4123e5181-373237678-driver-0-1, groupId=spark-kafka-source-e7b94c18-83a7-48b6-b4ca-aaf4123e5181-373237678-driver-0] Connection to node 0 (pd-master/10.67.22.162:9092) could not be established. Broker may not be available.\n"
     ]
    },
    {
     "name": "stderr",
     "output_type": "stream",
     "text": [
      "[Stage 1486:=======>    (120 + 4) / 200][Stage 1490:>             (0 + 0) / 200]\r"
     ]
    },
    {
     "name": "stdout",
     "output_type": "stream",
     "text": [
      "22/09/14 21:40:57 WARN NetworkClient: [Consumer clientId=consumer-spark-kafka-source-e7b94c18-83a7-48b6-b4ca-aaf4123e5181-373237678-driver-0-1, groupId=spark-kafka-source-e7b94c18-83a7-48b6-b4ca-aaf4123e5181-373237678-driver-0] Connection to node 0 (pd-master/10.67.22.162:9092) could not be established. Broker may not be available.\n"
     ]
    },
    {
     "name": "stderr",
     "output_type": "stream",
     "text": [
      "[Stage 1486:========>   (147 + 4) / 200][Stage 1490:>             (0 + 0) / 200]\r"
     ]
    },
    {
     "name": "stdout",
     "output_type": "stream",
     "text": [
      "22/09/14 21:40:58 WARN NetworkClient: [Consumer clientId=consumer-spark-kafka-source-e7b94c18-83a7-48b6-b4ca-aaf4123e5181-373237678-driver-0-1, groupId=spark-kafka-source-e7b94c18-83a7-48b6-b4ca-aaf4123e5181-373237678-driver-0] Connection to node 0 (pd-master/10.67.22.162:9092) could not be established. Broker may not be available.\n",
      "22/09/14 21:41:01 WARN NetworkClient: [Consumer clientId=consumer-spark-kafka-source-e7b94c18-83a7-48b6-b4ca-aaf4123e5181-373237678-driver-0-1, groupId=spark-kafka-source-e7b94c18-83a7-48b6-b4ca-aaf4123e5181-373237678-driver-0] Connection to node 0 (pd-master/10.67.22.162:9092) could not be established. Broker may not be available.\n"
     ]
    },
    {
     "name": "stderr",
     "output_type": "stream",
     "text": [
      "[Stage 1490:=>                                                    (5 + 0) / 200]\r"
     ]
    },
    {
     "name": "stdout",
     "output_type": "stream",
     "text": [
      "22/09/14 21:41:02 WARN NetworkClient: [Consumer clientId=consumer-spark-kafka-source-e7b94c18-83a7-48b6-b4ca-aaf4123e5181-373237678-driver-0-1, groupId=spark-kafka-source-e7b94c18-83a7-48b6-b4ca-aaf4123e5181-373237678-driver-0] Connection to node 0 (pd-master/10.67.22.162:9092) could not be established. Broker may not be available.\n"
     ]
    },
    {
     "name": "stderr",
     "output_type": "stream",
     "text": [
      "[Stage 1490:==>                                                  (10 + 0) / 200]\r"
     ]
    },
    {
     "name": "stdout",
     "output_type": "stream",
     "text": [
      "22/09/14 21:41:03 WARN NetworkClient: [Consumer clientId=consumer-spark-kafka-source-e7b94c18-83a7-48b6-b4ca-aaf4123e5181-373237678-driver-0-1, groupId=spark-kafka-source-e7b94c18-83a7-48b6-b4ca-aaf4123e5181-373237678-driver-0] Connection to node 0 (pd-master/10.67.22.162:9092) could not be established. Broker may not be available.\n"
     ]
    },
    {
     "name": "stderr",
     "output_type": "stream",
     "text": [
      "[Stage 1490:===========================>                        (105 + 4) / 200]\r"
     ]
    },
    {
     "name": "stdout",
     "output_type": "stream",
     "text": [
      "22/09/14 21:41:05 WARN NetworkClient: [Consumer clientId=consumer-spark-kafka-source-e7b94c18-83a7-48b6-b4ca-aaf4123e5181-373237678-driver-0-1, groupId=spark-kafka-source-e7b94c18-83a7-48b6-b4ca-aaf4123e5181-373237678-driver-0] Connection to node 0 (pd-master/10.67.22.162:9092) could not be established. Broker may not be available.\n"
     ]
    },
    {
     "name": "stderr",
     "output_type": "stream",
     "text": [
      "                                                                                \r"
     ]
    },
    {
     "name": "stdout",
     "output_type": "stream",
     "text": [
      "22/09/14 21:41:06 WARN NetworkClient: [Consumer clientId=consumer-spark-kafka-source-e7b94c18-83a7-48b6-b4ca-aaf4123e5181-373237678-driver-0-1, groupId=spark-kafka-source-e7b94c18-83a7-48b6-b4ca-aaf4123e5181-373237678-driver-0] Connection to node 0 (pd-master/10.67.22.162:9092) could not be established. Broker may not be available.\n"
     ]
    },
    {
     "name": "stderr",
     "output_type": "stream",
     "text": [
      "                                                                                \r"
     ]
    },
    {
     "name": "stdout",
     "output_type": "stream",
     "text": [
      "22/09/14 21:41:07 WARN NetworkClient: [Consumer clientId=consumer-spark-kafka-source-e7b94c18-83a7-48b6-b4ca-aaf4123e5181-373237678-driver-0-1, groupId=spark-kafka-source-e7b94c18-83a7-48b6-b4ca-aaf4123e5181-373237678-driver-0] Connection to node 0 (pd-master/10.67.22.162:9092) could not be established. Broker may not be available.\n",
      "22/09/14 21:41:08 WARN NetworkClient: [Consumer clientId=consumer-spark-kafka-source-e7b94c18-83a7-48b6-b4ca-aaf4123e5181-373237678-driver-0-1, groupId=spark-kafka-source-e7b94c18-83a7-48b6-b4ca-aaf4123e5181-373237678-driver-0] Connection to node 0 (pd-master/10.67.22.162:9092) could not be established. Broker may not be available.\n",
      "22/09/14 21:41:09 WARN NetworkClient: [Consumer clientId=consumer-spark-kafka-source-e7b94c18-83a7-48b6-b4ca-aaf4123e5181-373237678-driver-0-1, groupId=spark-kafka-source-e7b94c18-83a7-48b6-b4ca-aaf4123e5181-373237678-driver-0] Connection to node 0 (pd-master/10.67.22.162:9092) could not be established. Broker may not be available.\n",
      "22/09/14 21:41:10 WARN NetworkClient: [Consumer clientId=consumer-spark-kafka-source-e7b94c18-83a7-48b6-b4ca-aaf4123e5181-373237678-driver-0-1, groupId=spark-kafka-source-e7b94c18-83a7-48b6-b4ca-aaf4123e5181-373237678-driver-0] Connection to node 0 (pd-master/10.67.22.162:9092) could not be established. Broker may not be available.\n",
      "22/09/14 21:41:11 WARN NetworkClient: [Consumer clientId=consumer-spark-kafka-source-e7b94c18-83a7-48b6-b4ca-aaf4123e5181-373237678-driver-0-1, groupId=spark-kafka-source-e7b94c18-83a7-48b6-b4ca-aaf4123e5181-373237678-driver-0] Connection to node 0 (pd-master/10.67.22.162:9092) could not be established. Broker may not be available.\n",
      "22/09/14 21:41:12 WARN NetworkClient: [Consumer clientId=consumer-spark-kafka-source-e7b94c18-83a7-48b6-b4ca-aaf4123e5181-373237678-driver-0-1, groupId=spark-kafka-source-e7b94c18-83a7-48b6-b4ca-aaf4123e5181-373237678-driver-0] Connection to node 0 (pd-master/10.67.22.162:9092) could not be established. Broker may not be available.\n",
      "22/09/14 21:41:14 WARN NetworkClient: [Consumer clientId=consumer-spark-kafka-source-e7b94c18-83a7-48b6-b4ca-aaf4123e5181-373237678-driver-0-1, groupId=spark-kafka-source-e7b94c18-83a7-48b6-b4ca-aaf4123e5181-373237678-driver-0] Connection to node 0 (pd-master/10.67.22.162:9092) could not be established. Broker may not be available.\n",
      "22/09/14 21:41:15 WARN NetworkClient: [Consumer clientId=consumer-spark-kafka-source-e7b94c18-83a7-48b6-b4ca-aaf4123e5181-373237678-driver-0-1, groupId=spark-kafka-source-e7b94c18-83a7-48b6-b4ca-aaf4123e5181-373237678-driver-0] Connection to node 0 (pd-master/10.67.22.162:9092) could not be established. Broker may not be available.\n",
      "22/09/14 21:41:16 WARN NetworkClient: [Consumer clientId=consumer-spark-kafka-source-e7b94c18-83a7-48b6-b4ca-aaf4123e5181-373237678-driver-0-1, groupId=spark-kafka-source-e7b94c18-83a7-48b6-b4ca-aaf4123e5181-373237678-driver-0] Connection to node 0 (pd-master/10.67.22.162:9092) could not be established. Broker may not be available.\n",
      "22/09/14 21:41:17 WARN NetworkClient: [Consumer clientId=consumer-spark-kafka-source-e7b94c18-83a7-48b6-b4ca-aaf4123e5181-373237678-driver-0-1, groupId=spark-kafka-source-e7b94c18-83a7-48b6-b4ca-aaf4123e5181-373237678-driver-0] Connection to node 0 (pd-master/10.67.22.162:9092) could not be established. Broker may not be available.\n",
      "22/09/14 21:41:18 WARN NetworkClient: [Consumer clientId=consumer-spark-kafka-source-e7b94c18-83a7-48b6-b4ca-aaf4123e5181-373237678-driver-0-1, groupId=spark-kafka-source-e7b94c18-83a7-48b6-b4ca-aaf4123e5181-373237678-driver-0] Connection to node 0 (pd-master/10.67.22.162:9092) could not be established. Broker may not be available.\n",
      "22/09/14 21:41:19 WARN NetworkClient: [Consumer clientId=consumer-spark-kafka-source-e7b94c18-83a7-48b6-b4ca-aaf4123e5181-373237678-driver-0-1, groupId=spark-kafka-source-e7b94c18-83a7-48b6-b4ca-aaf4123e5181-373237678-driver-0] Connection to node 0 (pd-master/10.67.22.162:9092) could not be established. Broker may not be available.\n",
      "22/09/14 21:41:20 WARN NetworkClient: [Consumer clientId=consumer-spark-kafka-source-e7b94c18-83a7-48b6-b4ca-aaf4123e5181-373237678-driver-0-1, groupId=spark-kafka-source-e7b94c18-83a7-48b6-b4ca-aaf4123e5181-373237678-driver-0] Connection to node 0 (pd-master/10.67.22.162:9092) could not be established. Broker may not be available.\n",
      "22/09/14 21:41:21 WARN NetworkClient: [Consumer clientId=consumer-spark-kafka-source-e7b94c18-83a7-48b6-b4ca-aaf4123e5181-373237678-driver-0-1, groupId=spark-kafka-source-e7b94c18-83a7-48b6-b4ca-aaf4123e5181-373237678-driver-0] Connection to node 0 (pd-master/10.67.22.162:9092) could not be established. Broker may not be available.\n",
      "22/09/14 21:41:22 WARN NetworkClient: [Consumer clientId=consumer-spark-kafka-source-e7b94c18-83a7-48b6-b4ca-aaf4123e5181-373237678-driver-0-1, groupId=spark-kafka-source-e7b94c18-83a7-48b6-b4ca-aaf4123e5181-373237678-driver-0] Connection to node 0 (pd-master/10.67.22.162:9092) could not be established. Broker may not be available.\n",
      "22/09/14 21:41:23 WARN NetworkClient: [Consumer clientId=consumer-spark-kafka-source-e7b94c18-83a7-48b6-b4ca-aaf4123e5181-373237678-driver-0-1, groupId=spark-kafka-source-e7b94c18-83a7-48b6-b4ca-aaf4123e5181-373237678-driver-0] Connection to node 0 (pd-master/10.67.22.162:9092) could not be established. Broker may not be available.\n",
      "22/09/14 21:41:24 WARN NetworkClient: [Consumer clientId=consumer-spark-kafka-source-e7b94c18-83a7-48b6-b4ca-aaf4123e5181-373237678-driver-0-1, groupId=spark-kafka-source-e7b94c18-83a7-48b6-b4ca-aaf4123e5181-373237678-driver-0] Connection to node 0 (pd-master/10.67.22.162:9092) could not be established. Broker may not be available.\n",
      "22/09/14 21:41:25 WARN NetworkClient: [Consumer clientId=consumer-spark-kafka-source-e7b94c18-83a7-48b6-b4ca-aaf4123e5181-373237678-driver-0-1, groupId=spark-kafka-source-e7b94c18-83a7-48b6-b4ca-aaf4123e5181-373237678-driver-0] Connection to node 0 (pd-master/10.67.22.162:9092) could not be established. Broker may not be available.\n",
      "22/09/14 21:41:26 WARN NetworkClient: [Consumer clientId=consumer-spark-kafka-source-e7b94c18-83a7-48b6-b4ca-aaf4123e5181-373237678-driver-0-1, groupId=spark-kafka-source-e7b94c18-83a7-48b6-b4ca-aaf4123e5181-373237678-driver-0] Connection to node 0 (pd-master/10.67.22.162:9092) could not be established. Broker may not be available.\n",
      "22/09/14 21:41:27 WARN NetworkClient: [Consumer clientId=consumer-spark-kafka-source-e7b94c18-83a7-48b6-b4ca-aaf4123e5181-373237678-driver-0-1, groupId=spark-kafka-source-e7b94c18-83a7-48b6-b4ca-aaf4123e5181-373237678-driver-0] Connection to node 0 (pd-master/10.67.22.162:9092) could not be established. Broker may not be available.\n",
      "22/09/14 21:41:28 WARN NetworkClient: [Consumer clientId=consumer-spark-kafka-source-e7b94c18-83a7-48b6-b4ca-aaf4123e5181-373237678-driver-0-1, groupId=spark-kafka-source-e7b94c18-83a7-48b6-b4ca-aaf4123e5181-373237678-driver-0] Connection to node 0 (pd-master/10.67.22.162:9092) could not be established. Broker may not be available.\n",
      "22/09/14 21:41:29 WARN NetworkClient: [Consumer clientId=consumer-spark-kafka-source-e7b94c18-83a7-48b6-b4ca-aaf4123e5181-373237678-driver-0-1, groupId=spark-kafka-source-e7b94c18-83a7-48b6-b4ca-aaf4123e5181-373237678-driver-0] Connection to node 0 (pd-master/10.67.22.162:9092) could not be established. Broker may not be available.\n",
      "22/09/14 21:41:31 WARN NetworkClient: [Consumer clientId=consumer-spark-kafka-source-e7b94c18-83a7-48b6-b4ca-aaf4123e5181-373237678-driver-0-1, groupId=spark-kafka-source-e7b94c18-83a7-48b6-b4ca-aaf4123e5181-373237678-driver-0] Connection to node 0 (pd-master/10.67.22.162:9092) could not be established. Broker may not be available.\n",
      "22/09/14 21:41:32 WARN NetworkClient: [Consumer clientId=consumer-spark-kafka-source-e7b94c18-83a7-48b6-b4ca-aaf4123e5181-373237678-driver-0-1, groupId=spark-kafka-source-e7b94c18-83a7-48b6-b4ca-aaf4123e5181-373237678-driver-0] Connection to node 0 (pd-master/10.67.22.162:9092) could not be established. Broker may not be available.\n",
      "22/09/14 21:41:33 WARN NetworkClient: [Consumer clientId=consumer-spark-kafka-source-e7b94c18-83a7-48b6-b4ca-aaf4123e5181-373237678-driver-0-1, groupId=spark-kafka-source-e7b94c18-83a7-48b6-b4ca-aaf4123e5181-373237678-driver-0] Connection to node 0 (pd-master/10.67.22.162:9092) could not be established. Broker may not be available.\n"
     ]
    },
    {
     "name": "stdout",
     "output_type": "stream",
     "text": [
      "22/09/14 21:41:34 WARN NetworkClient: [Consumer clientId=consumer-spark-kafka-source-e7b94c18-83a7-48b6-b4ca-aaf4123e5181-373237678-driver-0-1, groupId=spark-kafka-source-e7b94c18-83a7-48b6-b4ca-aaf4123e5181-373237678-driver-0] Connection to node 0 (pd-master/10.67.22.162:9092) could not be established. Broker may not be available.\n",
      "22/09/14 21:41:35 WARN NetworkClient: [Consumer clientId=consumer-spark-kafka-source-e7b94c18-83a7-48b6-b4ca-aaf4123e5181-373237678-driver-0-1, groupId=spark-kafka-source-e7b94c18-83a7-48b6-b4ca-aaf4123e5181-373237678-driver-0] Connection to node 0 (pd-master/10.67.22.162:9092) could not be established. Broker may not be available.\n",
      "22/09/14 21:41:36 WARN NetworkClient: [Consumer clientId=consumer-spark-kafka-source-e7b94c18-83a7-48b6-b4ca-aaf4123e5181-373237678-driver-0-1, groupId=spark-kafka-source-e7b94c18-83a7-48b6-b4ca-aaf4123e5181-373237678-driver-0] Connection to node 0 (pd-master/10.67.22.162:9092) could not be established. Broker may not be available.\n",
      "22/09/14 21:41:37 WARN NetworkClient: [Consumer clientId=consumer-spark-kafka-source-e7b94c18-83a7-48b6-b4ca-aaf4123e5181-373237678-driver-0-1, groupId=spark-kafka-source-e7b94c18-83a7-48b6-b4ca-aaf4123e5181-373237678-driver-0] Connection to node 0 (pd-master/10.67.22.162:9092) could not be established. Broker may not be available.\n",
      "22/09/14 21:41:38 WARN NetworkClient: [Consumer clientId=consumer-spark-kafka-source-e7b94c18-83a7-48b6-b4ca-aaf4123e5181-373237678-driver-0-1, groupId=spark-kafka-source-e7b94c18-83a7-48b6-b4ca-aaf4123e5181-373237678-driver-0] Connection to node 0 (pd-master/10.67.22.162:9092) could not be established. Broker may not be available.\n",
      "22/09/14 21:41:39 WARN NetworkClient: [Consumer clientId=consumer-spark-kafka-source-e7b94c18-83a7-48b6-b4ca-aaf4123e5181-373237678-driver-0-1, groupId=spark-kafka-source-e7b94c18-83a7-48b6-b4ca-aaf4123e5181-373237678-driver-0] Connection to node 0 (pd-master/10.67.22.162:9092) could not be established. Broker may not be available.\n",
      "22/09/14 21:41:40 WARN NetworkClient: [Consumer clientId=consumer-spark-kafka-source-e7b94c18-83a7-48b6-b4ca-aaf4123e5181-373237678-driver-0-1, groupId=spark-kafka-source-e7b94c18-83a7-48b6-b4ca-aaf4123e5181-373237678-driver-0] Connection to node 0 (pd-master/10.67.22.162:9092) could not be established. Broker may not be available.\n",
      "22/09/14 21:41:41 WARN NetworkClient: [Consumer clientId=consumer-spark-kafka-source-e7b94c18-83a7-48b6-b4ca-aaf4123e5181-373237678-driver-0-1, groupId=spark-kafka-source-e7b94c18-83a7-48b6-b4ca-aaf4123e5181-373237678-driver-0] Connection to node 0 (pd-master/10.67.22.162:9092) could not be established. Broker may not be available.\n",
      "22/09/14 21:41:42 WARN NetworkClient: [Consumer clientId=consumer-spark-kafka-source-e7b94c18-83a7-48b6-b4ca-aaf4123e5181-373237678-driver-0-1, groupId=spark-kafka-source-e7b94c18-83a7-48b6-b4ca-aaf4123e5181-373237678-driver-0] Connection to node 0 (pd-master/10.67.22.162:9092) could not be established. Broker may not be available.\n",
      "22/09/14 21:41:43 WARN NetworkClient: [Consumer clientId=consumer-spark-kafka-source-e7b94c18-83a7-48b6-b4ca-aaf4123e5181-373237678-driver-0-1, groupId=spark-kafka-source-e7b94c18-83a7-48b6-b4ca-aaf4123e5181-373237678-driver-0] Connection to node 0 (pd-master/10.67.22.162:9092) could not be established. Broker may not be available.\n",
      "22/09/14 21:41:44 WARN NetworkClient: [Consumer clientId=consumer-spark-kafka-source-e7b94c18-83a7-48b6-b4ca-aaf4123e5181-373237678-driver-0-1, groupId=spark-kafka-source-e7b94c18-83a7-48b6-b4ca-aaf4123e5181-373237678-driver-0] Connection to node 0 (pd-master/10.67.22.162:9092) could not be established. Broker may not be available.\n",
      "22/09/14 21:41:45 WARN NetworkClient: [Consumer clientId=consumer-spark-kafka-source-e7b94c18-83a7-48b6-b4ca-aaf4123e5181-373237678-driver-0-1, groupId=spark-kafka-source-e7b94c18-83a7-48b6-b4ca-aaf4123e5181-373237678-driver-0] Connection to node 0 (pd-master/10.67.22.162:9092) could not be established. Broker may not be available.\n",
      "22/09/14 21:41:46 WARN NetworkClient: [Consumer clientId=consumer-spark-kafka-source-e7b94c18-83a7-48b6-b4ca-aaf4123e5181-373237678-driver-0-1, groupId=spark-kafka-source-e7b94c18-83a7-48b6-b4ca-aaf4123e5181-373237678-driver-0] Connection to node 0 (pd-master/10.67.22.162:9092) could not be established. Broker may not be available.\n",
      "22/09/14 21:41:47 WARN NetworkClient: [Consumer clientId=consumer-spark-kafka-source-e7b94c18-83a7-48b6-b4ca-aaf4123e5181-373237678-driver-0-1, groupId=spark-kafka-source-e7b94c18-83a7-48b6-b4ca-aaf4123e5181-373237678-driver-0] Connection to node 0 (pd-master/10.67.22.162:9092) could not be established. Broker may not be available.\n",
      "22/09/14 21:41:48 WARN NetworkClient: [Consumer clientId=consumer-spark-kafka-source-e7b94c18-83a7-48b6-b4ca-aaf4123e5181-373237678-driver-0-1, groupId=spark-kafka-source-e7b94c18-83a7-48b6-b4ca-aaf4123e5181-373237678-driver-0] Connection to node 0 (pd-master/10.67.22.162:9092) could not be established. Broker may not be available.\n",
      "22/09/14 21:41:49 WARN NetworkClient: [Consumer clientId=consumer-spark-kafka-source-e7b94c18-83a7-48b6-b4ca-aaf4123e5181-373237678-driver-0-1, groupId=spark-kafka-source-e7b94c18-83a7-48b6-b4ca-aaf4123e5181-373237678-driver-0] Connection to node 0 (pd-master/10.67.22.162:9092) could not be established. Broker may not be available.\n",
      "22/09/14 21:41:50 WARN NetworkClient: [Consumer clientId=consumer-spark-kafka-source-e7b94c18-83a7-48b6-b4ca-aaf4123e5181-373237678-driver-0-1, groupId=spark-kafka-source-e7b94c18-83a7-48b6-b4ca-aaf4123e5181-373237678-driver-0] Connection to node 0 (pd-master/10.67.22.162:9092) could not be established. Broker may not be available.\n",
      "22/09/14 21:41:51 WARN NetworkClient: [Consumer clientId=consumer-spark-kafka-source-e7b94c18-83a7-48b6-b4ca-aaf4123e5181-373237678-driver-0-1, groupId=spark-kafka-source-e7b94c18-83a7-48b6-b4ca-aaf4123e5181-373237678-driver-0] Connection to node 0 (pd-master/10.67.22.162:9092) could not be established. Broker may not be available.\n",
      "22/09/14 21:41:52 WARN NetworkClient: [Consumer clientId=consumer-spark-kafka-source-e7b94c18-83a7-48b6-b4ca-aaf4123e5181-373237678-driver-0-1, groupId=spark-kafka-source-e7b94c18-83a7-48b6-b4ca-aaf4123e5181-373237678-driver-0] Connection to node 0 (pd-master/10.67.22.162:9092) could not be established. Broker may not be available.\n",
      "22/09/14 21:41:54 WARN NetworkClient: [Consumer clientId=consumer-spark-kafka-source-e7b94c18-83a7-48b6-b4ca-aaf4123e5181-373237678-driver-0-1, groupId=spark-kafka-source-e7b94c18-83a7-48b6-b4ca-aaf4123e5181-373237678-driver-0] Connection to node 0 (pd-master/10.67.22.162:9092) could not be established. Broker may not be available.\n",
      "22/09/14 21:41:54 WARN NetworkClient: [Consumer clientId=consumer-spark-kafka-source-e7b94c18-83a7-48b6-b4ca-aaf4123e5181-373237678-driver-0-1, groupId=spark-kafka-source-e7b94c18-83a7-48b6-b4ca-aaf4123e5181-373237678-driver-0] Connection to node 0 (pd-master/10.67.22.162:9092) could not be established. Broker may not be available.\n",
      "22/09/14 21:41:56 WARN NetworkClient: [Consumer clientId=consumer-spark-kafka-source-e7b94c18-83a7-48b6-b4ca-aaf4123e5181-373237678-driver-0-1, groupId=spark-kafka-source-e7b94c18-83a7-48b6-b4ca-aaf4123e5181-373237678-driver-0] Connection to node 0 (pd-master/10.67.22.162:9092) could not be established. Broker may not be available.\n",
      "22/09/14 21:41:57 WARN NetworkClient: [Consumer clientId=consumer-spark-kafka-source-e7b94c18-83a7-48b6-b4ca-aaf4123e5181-373237678-driver-0-1, groupId=spark-kafka-source-e7b94c18-83a7-48b6-b4ca-aaf4123e5181-373237678-driver-0] Connection to node 0 (pd-master/10.67.22.162:9092) could not be established. Broker may not be available.\n",
      "22/09/14 21:41:58 WARN NetworkClient: [Consumer clientId=consumer-spark-kafka-source-e7b94c18-83a7-48b6-b4ca-aaf4123e5181-373237678-driver-0-1, groupId=spark-kafka-source-e7b94c18-83a7-48b6-b4ca-aaf4123e5181-373237678-driver-0] Connection to node 0 (pd-master/10.67.22.162:9092) could not be established. Broker may not be available.\n",
      "22/09/14 21:41:59 WARN NetworkClient: [Consumer clientId=consumer-spark-kafka-source-e7b94c18-83a7-48b6-b4ca-aaf4123e5181-373237678-driver-0-1, groupId=spark-kafka-source-e7b94c18-83a7-48b6-b4ca-aaf4123e5181-373237678-driver-0] Connection to node 0 (pd-master/10.67.22.162:9092) could not be established. Broker may not be available.\n"
     ]
    },
    {
     "name": "stdout",
     "output_type": "stream",
     "text": [
      "22/09/14 21:42:00 WARN NetworkClient: [Consumer clientId=consumer-spark-kafka-source-e7b94c18-83a7-48b6-b4ca-aaf4123e5181-373237678-driver-0-1, groupId=spark-kafka-source-e7b94c18-83a7-48b6-b4ca-aaf4123e5181-373237678-driver-0] Connection to node 0 (pd-master/10.67.22.162:9092) could not be established. Broker may not be available.\n",
      "22/09/14 21:42:01 WARN NetworkClient: [Consumer clientId=consumer-spark-kafka-source-e7b94c18-83a7-48b6-b4ca-aaf4123e5181-373237678-driver-0-1, groupId=spark-kafka-source-e7b94c18-83a7-48b6-b4ca-aaf4123e5181-373237678-driver-0] Connection to node 0 (pd-master/10.67.22.162:9092) could not be established. Broker may not be available.\n",
      "22/09/14 21:42:02 WARN NetworkClient: [Consumer clientId=consumer-spark-kafka-source-e7b94c18-83a7-48b6-b4ca-aaf4123e5181-373237678-driver-0-1, groupId=spark-kafka-source-e7b94c18-83a7-48b6-b4ca-aaf4123e5181-373237678-driver-0] Connection to node 0 (pd-master/10.67.22.162:9092) could not be established. Broker may not be available.\n",
      "22/09/14 21:42:03 WARN NetworkClient: [Consumer clientId=consumer-spark-kafka-source-e7b94c18-83a7-48b6-b4ca-aaf4123e5181-373237678-driver-0-1, groupId=spark-kafka-source-e7b94c18-83a7-48b6-b4ca-aaf4123e5181-373237678-driver-0] Connection to node 0 (pd-master/10.67.22.162:9092) could not be established. Broker may not be available.\n",
      "22/09/14 21:42:04 WARN NetworkClient: [Consumer clientId=consumer-spark-kafka-source-e7b94c18-83a7-48b6-b4ca-aaf4123e5181-373237678-driver-0-1, groupId=spark-kafka-source-e7b94c18-83a7-48b6-b4ca-aaf4123e5181-373237678-driver-0] Connection to node 0 (pd-master/10.67.22.162:9092) could not be established. Broker may not be available.\n",
      "22/09/14 21:42:05 WARN NetworkClient: [Consumer clientId=consumer-spark-kafka-source-e7b94c18-83a7-48b6-b4ca-aaf4123e5181-373237678-driver-0-1, groupId=spark-kafka-source-e7b94c18-83a7-48b6-b4ca-aaf4123e5181-373237678-driver-0] Connection to node 0 (pd-master/10.67.22.162:9092) could not be established. Broker may not be available.\n",
      "22/09/14 21:42:06 WARN NetworkClient: [Consumer clientId=consumer-spark-kafka-source-e7b94c18-83a7-48b6-b4ca-aaf4123e5181-373237678-driver-0-1, groupId=spark-kafka-source-e7b94c18-83a7-48b6-b4ca-aaf4123e5181-373237678-driver-0] Connection to node 0 (pd-master/10.67.22.162:9092) could not be established. Broker may not be available.\n",
      "22/09/14 21:42:07 WARN NetworkClient: [Consumer clientId=consumer-spark-kafka-source-e7b94c18-83a7-48b6-b4ca-aaf4123e5181-373237678-driver-0-1, groupId=spark-kafka-source-e7b94c18-83a7-48b6-b4ca-aaf4123e5181-373237678-driver-0] Connection to node 0 (pd-master/10.67.22.162:9092) could not be established. Broker may not be available.\n",
      "22/09/14 21:42:08 WARN NetworkClient: [Consumer clientId=consumer-spark-kafka-source-e7b94c18-83a7-48b6-b4ca-aaf4123e5181-373237678-driver-0-1, groupId=spark-kafka-source-e7b94c18-83a7-48b6-b4ca-aaf4123e5181-373237678-driver-0] Connection to node 0 (pd-master/10.67.22.162:9092) could not be established. Broker may not be available.\n",
      "22/09/14 21:42:09 WARN NetworkClient: [Consumer clientId=consumer-spark-kafka-source-e7b94c18-83a7-48b6-b4ca-aaf4123e5181-373237678-driver-0-1, groupId=spark-kafka-source-e7b94c18-83a7-48b6-b4ca-aaf4123e5181-373237678-driver-0] Connection to node 0 (pd-master/10.67.22.162:9092) could not be established. Broker may not be available.\n",
      "22/09/14 21:42:11 WARN NetworkClient: [Consumer clientId=consumer-spark-kafka-source-e7b94c18-83a7-48b6-b4ca-aaf4123e5181-373237678-driver-0-1, groupId=spark-kafka-source-e7b94c18-83a7-48b6-b4ca-aaf4123e5181-373237678-driver-0] Connection to node 0 (pd-master/10.67.22.162:9092) could not be established. Broker may not be available.\n",
      "22/09/14 21:42:12 WARN NetworkClient: [Consumer clientId=consumer-spark-kafka-source-e7b94c18-83a7-48b6-b4ca-aaf4123e5181-373237678-driver-0-1, groupId=spark-kafka-source-e7b94c18-83a7-48b6-b4ca-aaf4123e5181-373237678-driver-0] Connection to node 0 (pd-master/10.67.22.162:9092) could not be established. Broker may not be available.\n",
      "22/09/14 21:42:13 WARN NetworkClient: [Consumer clientId=consumer-spark-kafka-source-e7b94c18-83a7-48b6-b4ca-aaf4123e5181-373237678-driver-0-1, groupId=spark-kafka-source-e7b94c18-83a7-48b6-b4ca-aaf4123e5181-373237678-driver-0] Connection to node 0 (pd-master/10.67.22.162:9092) could not be established. Broker may not be available.\n",
      "22/09/14 21:42:14 WARN NetworkClient: [Consumer clientId=consumer-spark-kafka-source-e7b94c18-83a7-48b6-b4ca-aaf4123e5181-373237678-driver-0-1, groupId=spark-kafka-source-e7b94c18-83a7-48b6-b4ca-aaf4123e5181-373237678-driver-0] Connection to node 0 (pd-master/10.67.22.162:9092) could not be established. Broker may not be available.\n",
      "22/09/14 21:42:15 WARN NetworkClient: [Consumer clientId=consumer-spark-kafka-source-e7b94c18-83a7-48b6-b4ca-aaf4123e5181-373237678-driver-0-1, groupId=spark-kafka-source-e7b94c18-83a7-48b6-b4ca-aaf4123e5181-373237678-driver-0] Connection to node 0 (pd-master/10.67.22.162:9092) could not be established. Broker may not be available.\n",
      "22/09/14 21:42:16 WARN NetworkClient: [Consumer clientId=consumer-spark-kafka-source-e7b94c18-83a7-48b6-b4ca-aaf4123e5181-373237678-driver-0-1, groupId=spark-kafka-source-e7b94c18-83a7-48b6-b4ca-aaf4123e5181-373237678-driver-0] Connection to node 0 (pd-master/10.67.22.162:9092) could not be established. Broker may not be available.\n",
      "22/09/14 21:42:17 WARN NetworkClient: [Consumer clientId=consumer-spark-kafka-source-e7b94c18-83a7-48b6-b4ca-aaf4123e5181-373237678-driver-0-1, groupId=spark-kafka-source-e7b94c18-83a7-48b6-b4ca-aaf4123e5181-373237678-driver-0] Connection to node 0 (pd-master/10.67.22.162:9092) could not be established. Broker may not be available.\n",
      "22/09/14 21:42:18 WARN NetworkClient: [Consumer clientId=consumer-spark-kafka-source-e7b94c18-83a7-48b6-b4ca-aaf4123e5181-373237678-driver-0-1, groupId=spark-kafka-source-e7b94c18-83a7-48b6-b4ca-aaf4123e5181-373237678-driver-0] Connection to node 0 (pd-master/10.67.22.162:9092) could not be established. Broker may not be available.\n",
      "22/09/14 21:42:19 WARN NetworkClient: [Consumer clientId=consumer-spark-kafka-source-e7b94c18-83a7-48b6-b4ca-aaf4123e5181-373237678-driver-0-1, groupId=spark-kafka-source-e7b94c18-83a7-48b6-b4ca-aaf4123e5181-373237678-driver-0] Connection to node 0 (pd-master/10.67.22.162:9092) could not be established. Broker may not be available.\n",
      "22/09/14 21:42:20 WARN NetworkClient: [Consumer clientId=consumer-spark-kafka-source-e7b94c18-83a7-48b6-b4ca-aaf4123e5181-373237678-driver-0-1, groupId=spark-kafka-source-e7b94c18-83a7-48b6-b4ca-aaf4123e5181-373237678-driver-0] Connection to node 0 (pd-master/10.67.22.162:9092) could not be established. Broker may not be available.\n",
      "22/09/14 21:42:21 WARN NetworkClient: [Consumer clientId=consumer-spark-kafka-source-e7b94c18-83a7-48b6-b4ca-aaf4123e5181-373237678-driver-0-1, groupId=spark-kafka-source-e7b94c18-83a7-48b6-b4ca-aaf4123e5181-373237678-driver-0] Connection to node 0 (pd-master/10.67.22.162:9092) could not be established. Broker may not be available.\n",
      "22/09/14 21:42:22 WARN NetworkClient: [Consumer clientId=consumer-spark-kafka-source-e7b94c18-83a7-48b6-b4ca-aaf4123e5181-373237678-driver-0-1, groupId=spark-kafka-source-e7b94c18-83a7-48b6-b4ca-aaf4123e5181-373237678-driver-0] Connection to node 0 (pd-master/10.67.22.162:9092) could not be established. Broker may not be available.\n",
      "22/09/14 21:42:23 WARN NetworkClient: [Consumer clientId=consumer-spark-kafka-source-e7b94c18-83a7-48b6-b4ca-aaf4123e5181-373237678-driver-0-1, groupId=spark-kafka-source-e7b94c18-83a7-48b6-b4ca-aaf4123e5181-373237678-driver-0] Connection to node 0 (pd-master/10.67.22.162:9092) could not be established. Broker may not be available.\n",
      "22/09/14 21:42:24 WARN NetworkClient: [Consumer clientId=consumer-spark-kafka-source-e7b94c18-83a7-48b6-b4ca-aaf4123e5181-373237678-driver-0-1, groupId=spark-kafka-source-e7b94c18-83a7-48b6-b4ca-aaf4123e5181-373237678-driver-0] Connection to node 0 (pd-master/10.67.22.162:9092) could not be established. Broker may not be available.\n",
      "22/09/14 21:42:25 WARN NetworkClient: [Consumer clientId=consumer-spark-kafka-source-e7b94c18-83a7-48b6-b4ca-aaf4123e5181-373237678-driver-0-1, groupId=spark-kafka-source-e7b94c18-83a7-48b6-b4ca-aaf4123e5181-373237678-driver-0] Connection to node 0 (pd-master/10.67.22.162:9092) could not be established. Broker may not be available.\n"
     ]
    },
    {
     "name": "stdout",
     "output_type": "stream",
     "text": [
      "22/09/14 21:42:26 WARN NetworkClient: [Consumer clientId=consumer-spark-kafka-source-e7b94c18-83a7-48b6-b4ca-aaf4123e5181-373237678-driver-0-1, groupId=spark-kafka-source-e7b94c18-83a7-48b6-b4ca-aaf4123e5181-373237678-driver-0] Connection to node 0 (pd-master/10.67.22.162:9092) could not be established. Broker may not be available.\n",
      "22/09/14 21:42:27 WARN NetworkClient: [Consumer clientId=consumer-spark-kafka-source-e7b94c18-83a7-48b6-b4ca-aaf4123e5181-373237678-driver-0-1, groupId=spark-kafka-source-e7b94c18-83a7-48b6-b4ca-aaf4123e5181-373237678-driver-0] Connection to node 0 (pd-master/10.67.22.162:9092) could not be established. Broker may not be available.\n",
      "22/09/14 21:42:28 WARN NetworkClient: [Consumer clientId=consumer-spark-kafka-source-e7b94c18-83a7-48b6-b4ca-aaf4123e5181-373237678-driver-0-1, groupId=spark-kafka-source-e7b94c18-83a7-48b6-b4ca-aaf4123e5181-373237678-driver-0] Connection to node 0 (pd-master/10.67.22.162:9092) could not be established. Broker may not be available.\n",
      "22/09/14 21:42:29 WARN NetworkClient: [Consumer clientId=consumer-spark-kafka-source-e7b94c18-83a7-48b6-b4ca-aaf4123e5181-373237678-driver-0-1, groupId=spark-kafka-source-e7b94c18-83a7-48b6-b4ca-aaf4123e5181-373237678-driver-0] Connection to node 0 (pd-master/10.67.22.162:9092) could not be established. Broker may not be available.\n",
      "22/09/14 21:42:30 WARN NetworkClient: [Consumer clientId=consumer-spark-kafka-source-e7b94c18-83a7-48b6-b4ca-aaf4123e5181-373237678-driver-0-1, groupId=spark-kafka-source-e7b94c18-83a7-48b6-b4ca-aaf4123e5181-373237678-driver-0] Connection to node 0 (pd-master/10.67.22.162:9092) could not be established. Broker may not be available.\n",
      "22/09/14 21:42:31 WARN NetworkClient: [Consumer clientId=consumer-spark-kafka-source-e7b94c18-83a7-48b6-b4ca-aaf4123e5181-373237678-driver-0-1, groupId=spark-kafka-source-e7b94c18-83a7-48b6-b4ca-aaf4123e5181-373237678-driver-0] Connection to node 0 (pd-master/10.67.22.162:9092) could not be established. Broker may not be available.\n",
      "22/09/14 21:42:32 WARN NetworkClient: [Consumer clientId=consumer-spark-kafka-source-e7b94c18-83a7-48b6-b4ca-aaf4123e5181-373237678-driver-0-1, groupId=spark-kafka-source-e7b94c18-83a7-48b6-b4ca-aaf4123e5181-373237678-driver-0] Connection to node 0 (pd-master/10.67.22.162:9092) could not be established. Broker may not be available.\n",
      "22/09/14 21:42:33 WARN NetworkClient: [Consumer clientId=consumer-spark-kafka-source-e7b94c18-83a7-48b6-b4ca-aaf4123e5181-373237678-driver-0-1, groupId=spark-kafka-source-e7b94c18-83a7-48b6-b4ca-aaf4123e5181-373237678-driver-0] Connection to node 0 (pd-master/10.67.22.162:9092) could not be established. Broker may not be available.\n",
      "22/09/14 21:42:34 WARN NetworkClient: [Consumer clientId=consumer-spark-kafka-source-e7b94c18-83a7-48b6-b4ca-aaf4123e5181-373237678-driver-0-1, groupId=spark-kafka-source-e7b94c18-83a7-48b6-b4ca-aaf4123e5181-373237678-driver-0] Connection to node 0 (pd-master/10.67.22.162:9092) could not be established. Broker may not be available.\n",
      "22/09/14 21:42:35 WARN NetworkClient: [Consumer clientId=consumer-spark-kafka-source-e7b94c18-83a7-48b6-b4ca-aaf4123e5181-373237678-driver-0-1, groupId=spark-kafka-source-e7b94c18-83a7-48b6-b4ca-aaf4123e5181-373237678-driver-0] Connection to node 0 (pd-master/10.67.22.162:9092) could not be established. Broker may not be available.\n",
      "22/09/14 21:42:36 WARN NetworkClient: [Consumer clientId=consumer-spark-kafka-source-e7b94c18-83a7-48b6-b4ca-aaf4123e5181-373237678-driver-0-1, groupId=spark-kafka-source-e7b94c18-83a7-48b6-b4ca-aaf4123e5181-373237678-driver-0] Connection to node 0 (pd-master/10.67.22.162:9092) could not be established. Broker may not be available.\n",
      "22/09/14 21:42:38 WARN NetworkClient: [Consumer clientId=consumer-spark-kafka-source-e7b94c18-83a7-48b6-b4ca-aaf4123e5181-373237678-driver-0-1, groupId=spark-kafka-source-e7b94c18-83a7-48b6-b4ca-aaf4123e5181-373237678-driver-0] Connection to node 0 (pd-master/10.67.22.162:9092) could not be established. Broker may not be available.\n",
      "22/09/14 21:42:38 WARN NetworkClient: [Consumer clientId=consumer-spark-kafka-source-e7b94c18-83a7-48b6-b4ca-aaf4123e5181-373237678-driver-0-1, groupId=spark-kafka-source-e7b94c18-83a7-48b6-b4ca-aaf4123e5181-373237678-driver-0] Connection to node 0 (pd-master/10.67.22.162:9092) could not be established. Broker may not be available.\n",
      "22/09/14 21:42:40 WARN NetworkClient: [Consumer clientId=consumer-spark-kafka-source-e7b94c18-83a7-48b6-b4ca-aaf4123e5181-373237678-driver-0-1, groupId=spark-kafka-source-e7b94c18-83a7-48b6-b4ca-aaf4123e5181-373237678-driver-0] Connection to node 0 (pd-master/10.67.22.162:9092) could not be established. Broker may not be available.\n",
      "22/09/14 21:42:41 WARN NetworkClient: [Consumer clientId=consumer-spark-kafka-source-e7b94c18-83a7-48b6-b4ca-aaf4123e5181-373237678-driver-0-1, groupId=spark-kafka-source-e7b94c18-83a7-48b6-b4ca-aaf4123e5181-373237678-driver-0] Connection to node 0 (pd-master/10.67.22.162:9092) could not be established. Broker may not be available.\n",
      "22/09/14 21:42:42 WARN NetworkClient: [Consumer clientId=consumer-spark-kafka-source-e7b94c18-83a7-48b6-b4ca-aaf4123e5181-373237678-driver-0-1, groupId=spark-kafka-source-e7b94c18-83a7-48b6-b4ca-aaf4123e5181-373237678-driver-0] Connection to node 0 (pd-master/10.67.22.162:9092) could not be established. Broker may not be available.\n",
      "22/09/14 21:42:43 WARN NetworkClient: [Consumer clientId=consumer-spark-kafka-source-e7b94c18-83a7-48b6-b4ca-aaf4123e5181-373237678-driver-0-1, groupId=spark-kafka-source-e7b94c18-83a7-48b6-b4ca-aaf4123e5181-373237678-driver-0] Connection to node 0 (pd-master/10.67.22.162:9092) could not be established. Broker may not be available.\n",
      "22/09/14 21:42:44 WARN NetworkClient: [Consumer clientId=consumer-spark-kafka-source-e7b94c18-83a7-48b6-b4ca-aaf4123e5181-373237678-driver-0-1, groupId=spark-kafka-source-e7b94c18-83a7-48b6-b4ca-aaf4123e5181-373237678-driver-0] Connection to node 0 (pd-master/10.67.22.162:9092) could not be established. Broker may not be available.\n",
      "22/09/14 21:42:45 WARN NetworkClient: [Consumer clientId=consumer-spark-kafka-source-e7b94c18-83a7-48b6-b4ca-aaf4123e5181-373237678-driver-0-1, groupId=spark-kafka-source-e7b94c18-83a7-48b6-b4ca-aaf4123e5181-373237678-driver-0] Connection to node 0 (pd-master/10.67.22.162:9092) could not be established. Broker may not be available.\n",
      "22/09/14 21:42:46 WARN NetworkClient: [Consumer clientId=consumer-spark-kafka-source-e7b94c18-83a7-48b6-b4ca-aaf4123e5181-373237678-driver-0-1, groupId=spark-kafka-source-e7b94c18-83a7-48b6-b4ca-aaf4123e5181-373237678-driver-0] Connection to node 0 (pd-master/10.67.22.162:9092) could not be established. Broker may not be available.\n",
      "22/09/14 21:42:47 WARN NetworkClient: [Consumer clientId=consumer-spark-kafka-source-e7b94c18-83a7-48b6-b4ca-aaf4123e5181-373237678-driver-0-1, groupId=spark-kafka-source-e7b94c18-83a7-48b6-b4ca-aaf4123e5181-373237678-driver-0] Connection to node 0 (pd-master/10.67.22.162:9092) could not be established. Broker may not be available.\n",
      "22/09/14 21:42:48 WARN NetworkClient: [Consumer clientId=consumer-spark-kafka-source-e7b94c18-83a7-48b6-b4ca-aaf4123e5181-373237678-driver-0-1, groupId=spark-kafka-source-e7b94c18-83a7-48b6-b4ca-aaf4123e5181-373237678-driver-0] Connection to node 0 (pd-master/10.67.22.162:9092) could not be established. Broker may not be available.\n",
      "22/09/14 21:42:49 WARN NetworkClient: [Consumer clientId=consumer-spark-kafka-source-e7b94c18-83a7-48b6-b4ca-aaf4123e5181-373237678-driver-0-1, groupId=spark-kafka-source-e7b94c18-83a7-48b6-b4ca-aaf4123e5181-373237678-driver-0] Connection to node 0 (pd-master/10.67.22.162:9092) could not be established. Broker may not be available.\n",
      "22/09/14 21:42:50 WARN NetworkClient: [Consumer clientId=consumer-spark-kafka-source-e7b94c18-83a7-48b6-b4ca-aaf4123e5181-373237678-driver-0-1, groupId=spark-kafka-source-e7b94c18-83a7-48b6-b4ca-aaf4123e5181-373237678-driver-0] Connection to node 0 (pd-master/10.67.22.162:9092) could not be established. Broker may not be available.\n",
      "22/09/14 21:42:51 WARN NetworkClient: [Consumer clientId=consumer-spark-kafka-source-e7b94c18-83a7-48b6-b4ca-aaf4123e5181-373237678-driver-0-1, groupId=spark-kafka-source-e7b94c18-83a7-48b6-b4ca-aaf4123e5181-373237678-driver-0] Connection to node 0 (pd-master/10.67.22.162:9092) could not be established. Broker may not be available.\n"
     ]
    },
    {
     "name": "stdout",
     "output_type": "stream",
     "text": [
      "22/09/14 21:42:52 WARN NetworkClient: [Consumer clientId=consumer-spark-kafka-source-e7b94c18-83a7-48b6-b4ca-aaf4123e5181-373237678-driver-0-1, groupId=spark-kafka-source-e7b94c18-83a7-48b6-b4ca-aaf4123e5181-373237678-driver-0] Connection to node 0 (pd-master/10.67.22.162:9092) could not be established. Broker may not be available.\n",
      "22/09/14 21:42:53 WARN NetworkClient: [Consumer clientId=consumer-spark-kafka-source-e7b94c18-83a7-48b6-b4ca-aaf4123e5181-373237678-driver-0-1, groupId=spark-kafka-source-e7b94c18-83a7-48b6-b4ca-aaf4123e5181-373237678-driver-0] Connection to node 0 (pd-master/10.67.22.162:9092) could not be established. Broker may not be available.\n",
      "22/09/14 21:42:54 WARN NetworkClient: [Consumer clientId=consumer-spark-kafka-source-e7b94c18-83a7-48b6-b4ca-aaf4123e5181-373237678-driver-0-1, groupId=spark-kafka-source-e7b94c18-83a7-48b6-b4ca-aaf4123e5181-373237678-driver-0] Connection to node 0 (pd-master/10.67.22.162:9092) could not be established. Broker may not be available.\n",
      "22/09/14 21:42:55 WARN NetworkClient: [Consumer clientId=consumer-spark-kafka-source-e7b94c18-83a7-48b6-b4ca-aaf4123e5181-373237678-driver-0-1, groupId=spark-kafka-source-e7b94c18-83a7-48b6-b4ca-aaf4123e5181-373237678-driver-0] Connection to node 0 (pd-master/10.67.22.162:9092) could not be established. Broker may not be available.\n",
      "22/09/14 21:42:57 WARN NetworkClient: [Consumer clientId=consumer-spark-kafka-source-e7b94c18-83a7-48b6-b4ca-aaf4123e5181-373237678-driver-0-1, groupId=spark-kafka-source-e7b94c18-83a7-48b6-b4ca-aaf4123e5181-373237678-driver-0] Connection to node 0 (pd-master/10.67.22.162:9092) could not be established. Broker may not be available.\n",
      "22/09/14 21:42:58 WARN NetworkClient: [Consumer clientId=consumer-spark-kafka-source-e7b94c18-83a7-48b6-b4ca-aaf4123e5181-373237678-driver-0-1, groupId=spark-kafka-source-e7b94c18-83a7-48b6-b4ca-aaf4123e5181-373237678-driver-0] Connection to node 0 (pd-master/10.67.22.162:9092) could not be established. Broker may not be available.\n",
      "22/09/14 21:42:59 WARN NetworkClient: [Consumer clientId=consumer-spark-kafka-source-e7b94c18-83a7-48b6-b4ca-aaf4123e5181-373237678-driver-0-1, groupId=spark-kafka-source-e7b94c18-83a7-48b6-b4ca-aaf4123e5181-373237678-driver-0] Connection to node 0 (pd-master/10.67.22.162:9092) could not be established. Broker may not be available.\n",
      "22/09/14 21:43:00 WARN NetworkClient: [Consumer clientId=consumer-spark-kafka-source-e7b94c18-83a7-48b6-b4ca-aaf4123e5181-373237678-driver-0-1, groupId=spark-kafka-source-e7b94c18-83a7-48b6-b4ca-aaf4123e5181-373237678-driver-0] Connection to node 0 (pd-master/10.67.22.162:9092) could not be established. Broker may not be available.\n",
      "22/09/14 21:43:00 WARN NetworkClient: [Consumer clientId=consumer-spark-kafka-source-e7b94c18-83a7-48b6-b4ca-aaf4123e5181-373237678-driver-0-1, groupId=spark-kafka-source-e7b94c18-83a7-48b6-b4ca-aaf4123e5181-373237678-driver-0] Connection to node 0 (pd-master/10.67.22.162:9092) could not be established. Broker may not be available.\n",
      "22/09/14 21:43:02 WARN NetworkClient: [Consumer clientId=consumer-spark-kafka-source-e7b94c18-83a7-48b6-b4ca-aaf4123e5181-373237678-driver-0-1, groupId=spark-kafka-source-e7b94c18-83a7-48b6-b4ca-aaf4123e5181-373237678-driver-0] Connection to node 0 (pd-master/10.67.22.162:9092) could not be established. Broker may not be available.\n",
      "22/09/14 21:43:02 WARN NetworkClient: [Consumer clientId=consumer-spark-kafka-source-e7b94c18-83a7-48b6-b4ca-aaf4123e5181-373237678-driver-0-1, groupId=spark-kafka-source-e7b94c18-83a7-48b6-b4ca-aaf4123e5181-373237678-driver-0] Connection to node 0 (pd-master/10.67.22.162:9092) could not be established. Broker may not be available.\n",
      "22/09/14 21:43:03 WARN NetworkClient: [Consumer clientId=consumer-spark-kafka-source-e7b94c18-83a7-48b6-b4ca-aaf4123e5181-373237678-driver-0-1, groupId=spark-kafka-source-e7b94c18-83a7-48b6-b4ca-aaf4123e5181-373237678-driver-0] Connection to node 0 (pd-master/10.67.22.162:9092) could not be established. Broker may not be available.\n",
      "22/09/14 21:43:04 WARN NetworkClient: [Consumer clientId=consumer-spark-kafka-source-e7b94c18-83a7-48b6-b4ca-aaf4123e5181-373237678-driver-0-1, groupId=spark-kafka-source-e7b94c18-83a7-48b6-b4ca-aaf4123e5181-373237678-driver-0] Connection to node 0 (pd-master/10.67.22.162:9092) could not be established. Broker may not be available.\n",
      "22/09/14 21:43:05 WARN NetworkClient: [Consumer clientId=consumer-spark-kafka-source-e7b94c18-83a7-48b6-b4ca-aaf4123e5181-373237678-driver-0-1, groupId=spark-kafka-source-e7b94c18-83a7-48b6-b4ca-aaf4123e5181-373237678-driver-0] Connection to node 0 (pd-master/10.67.22.162:9092) could not be established. Broker may not be available.\n",
      "22/09/14 21:43:06 WARN NetworkClient: [Consumer clientId=consumer-spark-kafka-source-e7b94c18-83a7-48b6-b4ca-aaf4123e5181-373237678-driver-0-1, groupId=spark-kafka-source-e7b94c18-83a7-48b6-b4ca-aaf4123e5181-373237678-driver-0] Connection to node 0 (pd-master/10.67.22.162:9092) could not be established. Broker may not be available.\n",
      "22/09/14 21:43:07 WARN NetworkClient: [Consumer clientId=consumer-spark-kafka-source-e7b94c18-83a7-48b6-b4ca-aaf4123e5181-373237678-driver-0-1, groupId=spark-kafka-source-e7b94c18-83a7-48b6-b4ca-aaf4123e5181-373237678-driver-0] Connection to node 0 (pd-master/10.67.22.162:9092) could not be established. Broker may not be available.\n",
      "22/09/14 21:43:08 WARN NetworkClient: [Consumer clientId=consumer-spark-kafka-source-e7b94c18-83a7-48b6-b4ca-aaf4123e5181-373237678-driver-0-1, groupId=spark-kafka-source-e7b94c18-83a7-48b6-b4ca-aaf4123e5181-373237678-driver-0] Connection to node 0 (pd-master/10.67.22.162:9092) could not be established. Broker may not be available.\n",
      "22/09/14 21:43:09 WARN NetworkClient: [Consumer clientId=consumer-spark-kafka-source-e7b94c18-83a7-48b6-b4ca-aaf4123e5181-373237678-driver-0-1, groupId=spark-kafka-source-e7b94c18-83a7-48b6-b4ca-aaf4123e5181-373237678-driver-0] Connection to node 0 (pd-master/10.67.22.162:9092) could not be established. Broker may not be available.\n",
      "22/09/14 21:43:10 WARN NetworkClient: [Consumer clientId=consumer-spark-kafka-source-e7b94c18-83a7-48b6-b4ca-aaf4123e5181-373237678-driver-0-1, groupId=spark-kafka-source-e7b94c18-83a7-48b6-b4ca-aaf4123e5181-373237678-driver-0] Connection to node 0 (pd-master/10.67.22.162:9092) could not be established. Broker may not be available.\n",
      "22/09/14 21:43:11 WARN NetworkClient: [Consumer clientId=consumer-spark-kafka-source-e7b94c18-83a7-48b6-b4ca-aaf4123e5181-373237678-driver-0-1, groupId=spark-kafka-source-e7b94c18-83a7-48b6-b4ca-aaf4123e5181-373237678-driver-0] Connection to node 0 (pd-master/10.67.22.162:9092) could not be established. Broker may not be available.\n",
      "22/09/14 21:43:12 WARN NetworkClient: [Consumer clientId=consumer-spark-kafka-source-e7b94c18-83a7-48b6-b4ca-aaf4123e5181-373237678-driver-0-1, groupId=spark-kafka-source-e7b94c18-83a7-48b6-b4ca-aaf4123e5181-373237678-driver-0] Connection to node 0 (pd-master/10.67.22.162:9092) could not be established. Broker may not be available.\n",
      "22/09/14 21:43:13 WARN NetworkClient: [Consumer clientId=consumer-spark-kafka-source-e7b94c18-83a7-48b6-b4ca-aaf4123e5181-373237678-driver-0-1, groupId=spark-kafka-source-e7b94c18-83a7-48b6-b4ca-aaf4123e5181-373237678-driver-0] Connection to node 0 (pd-master/10.67.22.162:9092) could not be established. Broker may not be available.\n",
      "22/09/14 21:43:14 WARN NetworkClient: [Consumer clientId=consumer-spark-kafka-source-e7b94c18-83a7-48b6-b4ca-aaf4123e5181-373237678-driver-0-1, groupId=spark-kafka-source-e7b94c18-83a7-48b6-b4ca-aaf4123e5181-373237678-driver-0] Connection to node 0 (pd-master/10.67.22.162:9092) could not be established. Broker may not be available.\n",
      "22/09/14 21:43:15 WARN NetworkClient: [Consumer clientId=consumer-spark-kafka-source-e7b94c18-83a7-48b6-b4ca-aaf4123e5181-373237678-driver-0-1, groupId=spark-kafka-source-e7b94c18-83a7-48b6-b4ca-aaf4123e5181-373237678-driver-0] Connection to node 0 (pd-master/10.67.22.162:9092) could not be established. Broker may not be available.\n",
      "22/09/14 21:43:16 WARN NetworkClient: [Consumer clientId=consumer-spark-kafka-source-e7b94c18-83a7-48b6-b4ca-aaf4123e5181-373237678-driver-0-1, groupId=spark-kafka-source-e7b94c18-83a7-48b6-b4ca-aaf4123e5181-373237678-driver-0] Connection to node 0 (pd-master/10.67.22.162:9092) could not be established. Broker may not be available.\n"
     ]
    },
    {
     "name": "stdout",
     "output_type": "stream",
     "text": [
      "22/09/14 21:43:17 WARN NetworkClient: [Consumer clientId=consumer-spark-kafka-source-e7b94c18-83a7-48b6-b4ca-aaf4123e5181-373237678-driver-0-1, groupId=spark-kafka-source-e7b94c18-83a7-48b6-b4ca-aaf4123e5181-373237678-driver-0] Connection to node 0 (pd-master/10.67.22.162:9092) could not be established. Broker may not be available.\n",
      "22/09/14 21:43:18 WARN NetworkClient: [Consumer clientId=consumer-spark-kafka-source-e7b94c18-83a7-48b6-b4ca-aaf4123e5181-373237678-driver-0-1, groupId=spark-kafka-source-e7b94c18-83a7-48b6-b4ca-aaf4123e5181-373237678-driver-0] Connection to node 0 (pd-master/10.67.22.162:9092) could not be established. Broker may not be available.\n",
      "22/09/14 21:43:19 WARN NetworkClient: [Consumer clientId=consumer-spark-kafka-source-e7b94c18-83a7-48b6-b4ca-aaf4123e5181-373237678-driver-0-1, groupId=spark-kafka-source-e7b94c18-83a7-48b6-b4ca-aaf4123e5181-373237678-driver-0] Connection to node 0 (pd-master/10.67.22.162:9092) could not be established. Broker may not be available.\n",
      "22/09/14 21:43:20 WARN NetworkClient: [Consumer clientId=consumer-spark-kafka-source-e7b94c18-83a7-48b6-b4ca-aaf4123e5181-373237678-driver-0-1, groupId=spark-kafka-source-e7b94c18-83a7-48b6-b4ca-aaf4123e5181-373237678-driver-0] Connection to node 0 (pd-master/10.67.22.162:9092) could not be established. Broker may not be available.\n",
      "22/09/14 21:43:21 WARN NetworkClient: [Consumer clientId=consumer-spark-kafka-source-e7b94c18-83a7-48b6-b4ca-aaf4123e5181-373237678-driver-0-1, groupId=spark-kafka-source-e7b94c18-83a7-48b6-b4ca-aaf4123e5181-373237678-driver-0] Connection to node 0 (pd-master/10.67.22.162:9092) could not be established. Broker may not be available.\n",
      "22/09/14 21:43:22 WARN NetworkClient: [Consumer clientId=consumer-spark-kafka-source-e7b94c18-83a7-48b6-b4ca-aaf4123e5181-373237678-driver-0-1, groupId=spark-kafka-source-e7b94c18-83a7-48b6-b4ca-aaf4123e5181-373237678-driver-0] Connection to node 0 (pd-master/10.67.22.162:9092) could not be established. Broker may not be available.\n",
      "22/09/14 21:43:23 WARN NetworkClient: [Consumer clientId=consumer-spark-kafka-source-e7b94c18-83a7-48b6-b4ca-aaf4123e5181-373237678-driver-0-1, groupId=spark-kafka-source-e7b94c18-83a7-48b6-b4ca-aaf4123e5181-373237678-driver-0] Connection to node 0 (pd-master/10.67.22.162:9092) could not be established. Broker may not be available.\n",
      "22/09/14 21:43:24 WARN NetworkClient: [Consumer clientId=consumer-spark-kafka-source-e7b94c18-83a7-48b6-b4ca-aaf4123e5181-373237678-driver-0-1, groupId=spark-kafka-source-e7b94c18-83a7-48b6-b4ca-aaf4123e5181-373237678-driver-0] Connection to node 0 (pd-master/10.67.22.162:9092) could not be established. Broker may not be available.\n",
      "22/09/14 21:43:25 WARN NetworkClient: [Consumer clientId=consumer-spark-kafka-source-e7b94c18-83a7-48b6-b4ca-aaf4123e5181-373237678-driver-0-1, groupId=spark-kafka-source-e7b94c18-83a7-48b6-b4ca-aaf4123e5181-373237678-driver-0] Connection to node 0 (pd-master/10.67.22.162:9092) could not be established. Broker may not be available.\n",
      "22/09/14 21:43:26 WARN NetworkClient: [Consumer clientId=consumer-spark-kafka-source-e7b94c18-83a7-48b6-b4ca-aaf4123e5181-373237678-driver-0-1, groupId=spark-kafka-source-e7b94c18-83a7-48b6-b4ca-aaf4123e5181-373237678-driver-0] Connection to node 0 (pd-master/10.67.22.162:9092) could not be established. Broker may not be available.\n",
      "22/09/14 21:43:28 WARN NetworkClient: [Consumer clientId=consumer-spark-kafka-source-e7b94c18-83a7-48b6-b4ca-aaf4123e5181-373237678-driver-0-1, groupId=spark-kafka-source-e7b94c18-83a7-48b6-b4ca-aaf4123e5181-373237678-driver-0] Connection to node 0 (pd-master/10.67.22.162:9092) could not be established. Broker may not be available.\n",
      "22/09/14 21:43:28 WARN NetworkClient: [Consumer clientId=consumer-spark-kafka-source-e7b94c18-83a7-48b6-b4ca-aaf4123e5181-373237678-driver-0-1, groupId=spark-kafka-source-e7b94c18-83a7-48b6-b4ca-aaf4123e5181-373237678-driver-0] Connection to node 0 (pd-master/10.67.22.162:9092) could not be established. Broker may not be available.\n",
      "22/09/14 21:43:29 WARN NetworkClient: [Consumer clientId=consumer-spark-kafka-source-e7b94c18-83a7-48b6-b4ca-aaf4123e5181-373237678-driver-0-1, groupId=spark-kafka-source-e7b94c18-83a7-48b6-b4ca-aaf4123e5181-373237678-driver-0] Connection to node 0 (pd-master/10.67.22.162:9092) could not be established. Broker may not be available.\n",
      "22/09/14 21:43:30 WARN NetworkClient: [Consumer clientId=consumer-spark-kafka-source-e7b94c18-83a7-48b6-b4ca-aaf4123e5181-373237678-driver-0-1, groupId=spark-kafka-source-e7b94c18-83a7-48b6-b4ca-aaf4123e5181-373237678-driver-0] Connection to node 0 (pd-master/10.67.22.162:9092) could not be established. Broker may not be available.\n",
      "22/09/14 21:43:31 WARN NetworkClient: [Consumer clientId=consumer-spark-kafka-source-e7b94c18-83a7-48b6-b4ca-aaf4123e5181-373237678-driver-0-1, groupId=spark-kafka-source-e7b94c18-83a7-48b6-b4ca-aaf4123e5181-373237678-driver-0] Connection to node 0 (pd-master/10.67.22.162:9092) could not be established. Broker may not be available.\n",
      "22/09/14 21:43:32 WARN NetworkClient: [Consumer clientId=consumer-spark-kafka-source-e7b94c18-83a7-48b6-b4ca-aaf4123e5181-373237678-driver-0-1, groupId=spark-kafka-source-e7b94c18-83a7-48b6-b4ca-aaf4123e5181-373237678-driver-0] Connection to node 0 (pd-master/10.67.22.162:9092) could not be established. Broker may not be available.\n",
      "22/09/14 21:43:33 WARN NetworkClient: [Consumer clientId=consumer-spark-kafka-source-e7b94c18-83a7-48b6-b4ca-aaf4123e5181-373237678-driver-0-1, groupId=spark-kafka-source-e7b94c18-83a7-48b6-b4ca-aaf4123e5181-373237678-driver-0] Connection to node 0 (pd-master/10.67.22.162:9092) could not be established. Broker may not be available.\n",
      "22/09/14 21:43:34 WARN NetworkClient: [Consumer clientId=consumer-spark-kafka-source-e7b94c18-83a7-48b6-b4ca-aaf4123e5181-373237678-driver-0-1, groupId=spark-kafka-source-e7b94c18-83a7-48b6-b4ca-aaf4123e5181-373237678-driver-0] Connection to node 0 (pd-master/10.67.22.162:9092) could not be established. Broker may not be available.\n",
      "22/09/14 21:43:35 WARN NetworkClient: [Consumer clientId=consumer-spark-kafka-source-e7b94c18-83a7-48b6-b4ca-aaf4123e5181-373237678-driver-0-1, groupId=spark-kafka-source-e7b94c18-83a7-48b6-b4ca-aaf4123e5181-373237678-driver-0] Connection to node 0 (pd-master/10.67.22.162:9092) could not be established. Broker may not be available.\n",
      "22/09/14 21:43:37 WARN NetworkClient: [Consumer clientId=consumer-spark-kafka-source-e7b94c18-83a7-48b6-b4ca-aaf4123e5181-373237678-driver-0-1, groupId=spark-kafka-source-e7b94c18-83a7-48b6-b4ca-aaf4123e5181-373237678-driver-0] Connection to node 0 (pd-master/10.67.22.162:9092) could not be established. Broker may not be available.\n",
      "22/09/14 21:43:38 WARN NetworkClient: [Consumer clientId=consumer-spark-kafka-source-e7b94c18-83a7-48b6-b4ca-aaf4123e5181-373237678-driver-0-1, groupId=spark-kafka-source-e7b94c18-83a7-48b6-b4ca-aaf4123e5181-373237678-driver-0] Connection to node 0 (pd-master/10.67.22.162:9092) could not be established. Broker may not be available.\n",
      "22/09/14 21:43:39 WARN NetworkClient: [Consumer clientId=consumer-spark-kafka-source-e7b94c18-83a7-48b6-b4ca-aaf4123e5181-373237678-driver-0-1, groupId=spark-kafka-source-e7b94c18-83a7-48b6-b4ca-aaf4123e5181-373237678-driver-0] Connection to node 0 (pd-master/10.67.22.162:9092) could not be established. Broker may not be available.\n",
      "22/09/14 21:43:40 WARN NetworkClient: [Consumer clientId=consumer-spark-kafka-source-e7b94c18-83a7-48b6-b4ca-aaf4123e5181-373237678-driver-0-1, groupId=spark-kafka-source-e7b94c18-83a7-48b6-b4ca-aaf4123e5181-373237678-driver-0] Connection to node 0 (pd-master/10.67.22.162:9092) could not be established. Broker may not be available.\n",
      "22/09/14 21:43:41 WARN NetworkClient: [Consumer clientId=consumer-spark-kafka-source-e7b94c18-83a7-48b6-b4ca-aaf4123e5181-373237678-driver-0-1, groupId=spark-kafka-source-e7b94c18-83a7-48b6-b4ca-aaf4123e5181-373237678-driver-0] Connection to node 0 (pd-master/10.67.22.162:9092) could not be established. Broker may not be available.\n",
      "22/09/14 21:43:42 WARN NetworkClient: [Consumer clientId=consumer-spark-kafka-source-e7b94c18-83a7-48b6-b4ca-aaf4123e5181-373237678-driver-0-1, groupId=spark-kafka-source-e7b94c18-83a7-48b6-b4ca-aaf4123e5181-373237678-driver-0] Connection to node 0 (pd-master/10.67.22.162:9092) could not be established. Broker may not be available.\n"
     ]
    },
    {
     "name": "stdout",
     "output_type": "stream",
     "text": [
      "22/09/14 21:43:43 WARN NetworkClient: [Consumer clientId=consumer-spark-kafka-source-e7b94c18-83a7-48b6-b4ca-aaf4123e5181-373237678-driver-0-1, groupId=spark-kafka-source-e7b94c18-83a7-48b6-b4ca-aaf4123e5181-373237678-driver-0] Connection to node 0 (pd-master/10.67.22.162:9092) could not be established. Broker may not be available.\n",
      "22/09/14 21:43:44 WARN NetworkClient: [Consumer clientId=consumer-spark-kafka-source-e7b94c18-83a7-48b6-b4ca-aaf4123e5181-373237678-driver-0-1, groupId=spark-kafka-source-e7b94c18-83a7-48b6-b4ca-aaf4123e5181-373237678-driver-0] Connection to node 0 (pd-master/10.67.22.162:9092) could not be established. Broker may not be available.\n",
      "22/09/14 21:43:45 WARN NetworkClient: [Consumer clientId=consumer-spark-kafka-source-e7b94c18-83a7-48b6-b4ca-aaf4123e5181-373237678-driver-0-1, groupId=spark-kafka-source-e7b94c18-83a7-48b6-b4ca-aaf4123e5181-373237678-driver-0] Connection to node 0 (pd-master/10.67.22.162:9092) could not be established. Broker may not be available.\n",
      "22/09/14 21:43:46 WARN NetworkClient: [Consumer clientId=consumer-spark-kafka-source-e7b94c18-83a7-48b6-b4ca-aaf4123e5181-373237678-driver-0-1, groupId=spark-kafka-source-e7b94c18-83a7-48b6-b4ca-aaf4123e5181-373237678-driver-0] Connection to node 0 (pd-master/10.67.22.162:9092) could not be established. Broker may not be available.\n",
      "22/09/14 21:43:47 WARN NetworkClient: [Consumer clientId=consumer-spark-kafka-source-e7b94c18-83a7-48b6-b4ca-aaf4123e5181-373237678-driver-0-1, groupId=spark-kafka-source-e7b94c18-83a7-48b6-b4ca-aaf4123e5181-373237678-driver-0] Connection to node 0 (pd-master/10.67.22.162:9092) could not be established. Broker may not be available.\n",
      "22/09/14 21:43:48 WARN NetworkClient: [Consumer clientId=consumer-spark-kafka-source-e7b94c18-83a7-48b6-b4ca-aaf4123e5181-373237678-driver-0-1, groupId=spark-kafka-source-e7b94c18-83a7-48b6-b4ca-aaf4123e5181-373237678-driver-0] Connection to node 0 (pd-master/10.67.22.162:9092) could not be established. Broker may not be available.\n",
      "22/09/14 21:43:49 WARN NetworkClient: [Consumer clientId=consumer-spark-kafka-source-e7b94c18-83a7-48b6-b4ca-aaf4123e5181-373237678-driver-0-1, groupId=spark-kafka-source-e7b94c18-83a7-48b6-b4ca-aaf4123e5181-373237678-driver-0] Connection to node 0 (pd-master/10.67.22.162:9092) could not be established. Broker may not be available.\n",
      "22/09/14 21:43:50 WARN NetworkClient: [Consumer clientId=consumer-spark-kafka-source-e7b94c18-83a7-48b6-b4ca-aaf4123e5181-373237678-driver-0-1, groupId=spark-kafka-source-e7b94c18-83a7-48b6-b4ca-aaf4123e5181-373237678-driver-0] Connection to node 0 (pd-master/10.67.22.162:9092) could not be established. Broker may not be available.\n",
      "22/09/14 21:43:51 WARN NetworkClient: [Consumer clientId=consumer-spark-kafka-source-e7b94c18-83a7-48b6-b4ca-aaf4123e5181-373237678-driver-0-1, groupId=spark-kafka-source-e7b94c18-83a7-48b6-b4ca-aaf4123e5181-373237678-driver-0] Connection to node 0 (pd-master/10.67.22.162:9092) could not be established. Broker may not be available.\n",
      "22/09/14 21:43:52 WARN NetworkClient: [Consumer clientId=consumer-spark-kafka-source-e7b94c18-83a7-48b6-b4ca-aaf4123e5181-373237678-driver-0-1, groupId=spark-kafka-source-e7b94c18-83a7-48b6-b4ca-aaf4123e5181-373237678-driver-0] Connection to node 0 (pd-master/10.67.22.162:9092) could not be established. Broker may not be available.\n",
      "22/09/14 21:43:53 WARN NetworkClient: [Consumer clientId=consumer-spark-kafka-source-e7b94c18-83a7-48b6-b4ca-aaf4123e5181-373237678-driver-0-1, groupId=spark-kafka-source-e7b94c18-83a7-48b6-b4ca-aaf4123e5181-373237678-driver-0] Connection to node 0 (pd-master/10.67.22.162:9092) could not be established. Broker may not be available.\n",
      "22/09/14 21:43:54 WARN NetworkClient: [Consumer clientId=consumer-spark-kafka-source-e7b94c18-83a7-48b6-b4ca-aaf4123e5181-373237678-driver-0-1, groupId=spark-kafka-source-e7b94c18-83a7-48b6-b4ca-aaf4123e5181-373237678-driver-0] Connection to node 0 (pd-master/10.67.22.162:9092) could not be established. Broker may not be available.\n",
      "22/09/14 21:43:55 WARN NetworkClient: [Consumer clientId=consumer-spark-kafka-source-e7b94c18-83a7-48b6-b4ca-aaf4123e5181-373237678-driver-0-1, groupId=spark-kafka-source-e7b94c18-83a7-48b6-b4ca-aaf4123e5181-373237678-driver-0] Connection to node 0 (pd-master/10.67.22.162:9092) could not be established. Broker may not be available.\n",
      "22/09/14 21:43:56 WARN NetworkClient: [Consumer clientId=consumer-spark-kafka-source-e7b94c18-83a7-48b6-b4ca-aaf4123e5181-373237678-driver-0-1, groupId=spark-kafka-source-e7b94c18-83a7-48b6-b4ca-aaf4123e5181-373237678-driver-0] Connection to node 0 (pd-master/10.67.22.162:9092) could not be established. Broker may not be available.\n",
      "22/09/14 21:43:57 WARN NetworkClient: [Consumer clientId=consumer-spark-kafka-source-e7b94c18-83a7-48b6-b4ca-aaf4123e5181-373237678-driver-0-1, groupId=spark-kafka-source-e7b94c18-83a7-48b6-b4ca-aaf4123e5181-373237678-driver-0] Connection to node 0 (pd-master/10.67.22.162:9092) could not be established. Broker may not be available.\n",
      "22/09/14 21:43:58 WARN NetworkClient: [Consumer clientId=consumer-spark-kafka-source-e7b94c18-83a7-48b6-b4ca-aaf4123e5181-373237678-driver-0-1, groupId=spark-kafka-source-e7b94c18-83a7-48b6-b4ca-aaf4123e5181-373237678-driver-0] Connection to node 0 (pd-master/10.67.22.162:9092) could not be established. Broker may not be available.\n",
      "22/09/14 21:43:59 WARN NetworkClient: [Consumer clientId=consumer-spark-kafka-source-e7b94c18-83a7-48b6-b4ca-aaf4123e5181-373237678-driver-0-1, groupId=spark-kafka-source-e7b94c18-83a7-48b6-b4ca-aaf4123e5181-373237678-driver-0] Connection to node 0 (pd-master/10.67.22.162:9092) could not be established. Broker may not be available.\n",
      "22/09/14 21:44:00 WARN NetworkClient: [Consumer clientId=consumer-spark-kafka-source-e7b94c18-83a7-48b6-b4ca-aaf4123e5181-373237678-driver-0-1, groupId=spark-kafka-source-e7b94c18-83a7-48b6-b4ca-aaf4123e5181-373237678-driver-0] Connection to node 0 (pd-master/10.67.22.162:9092) could not be established. Broker may not be available.\n",
      "22/09/14 21:44:01 WARN NetworkClient: [Consumer clientId=consumer-spark-kafka-source-e7b94c18-83a7-48b6-b4ca-aaf4123e5181-373237678-driver-0-1, groupId=spark-kafka-source-e7b94c18-83a7-48b6-b4ca-aaf4123e5181-373237678-driver-0] Connection to node 0 (pd-master/10.67.22.162:9092) could not be established. Broker may not be available.\n",
      "22/09/14 21:44:02 WARN NetworkClient: [Consumer clientId=consumer-spark-kafka-source-e7b94c18-83a7-48b6-b4ca-aaf4123e5181-373237678-driver-0-1, groupId=spark-kafka-source-e7b94c18-83a7-48b6-b4ca-aaf4123e5181-373237678-driver-0] Connection to node 0 (pd-master/10.67.22.162:9092) could not be established. Broker may not be available.\n",
      "22/09/14 21:44:03 WARN NetworkClient: [Consumer clientId=consumer-spark-kafka-source-e7b94c18-83a7-48b6-b4ca-aaf4123e5181-373237678-driver-0-1, groupId=spark-kafka-source-e7b94c18-83a7-48b6-b4ca-aaf4123e5181-373237678-driver-0] Connection to node 0 (pd-master/10.67.22.162:9092) could not be established. Broker may not be available.\n",
      "22/09/14 21:44:04 WARN NetworkClient: [Consumer clientId=consumer-spark-kafka-source-e7b94c18-83a7-48b6-b4ca-aaf4123e5181-373237678-driver-0-1, groupId=spark-kafka-source-e7b94c18-83a7-48b6-b4ca-aaf4123e5181-373237678-driver-0] Connection to node 0 (pd-master/10.67.22.162:9092) could not be established. Broker may not be available.\n",
      "22/09/14 21:44:05 WARN NetworkClient: [Consumer clientId=consumer-spark-kafka-source-e7b94c18-83a7-48b6-b4ca-aaf4123e5181-373237678-driver-0-1, groupId=spark-kafka-source-e7b94c18-83a7-48b6-b4ca-aaf4123e5181-373237678-driver-0] Connection to node 0 (pd-master/10.67.22.162:9092) could not be established. Broker may not be available.\n",
      "22/09/14 21:44:06 WARN NetworkClient: [Consumer clientId=consumer-spark-kafka-source-e7b94c18-83a7-48b6-b4ca-aaf4123e5181-373237678-driver-0-1, groupId=spark-kafka-source-e7b94c18-83a7-48b6-b4ca-aaf4123e5181-373237678-driver-0] Connection to node 0 (pd-master/10.67.22.162:9092) could not be established. Broker may not be available.\n",
      "22/09/14 21:44:07 WARN NetworkClient: [Consumer clientId=consumer-spark-kafka-source-e7b94c18-83a7-48b6-b4ca-aaf4123e5181-373237678-driver-0-1, groupId=spark-kafka-source-e7b94c18-83a7-48b6-b4ca-aaf4123e5181-373237678-driver-0] Connection to node 0 (pd-master/10.67.22.162:9092) could not be established. Broker may not be available.\n"
     ]
    },
    {
     "name": "stdout",
     "output_type": "stream",
     "text": [
      "22/09/14 21:44:08 WARN NetworkClient: [Consumer clientId=consumer-spark-kafka-source-e7b94c18-83a7-48b6-b4ca-aaf4123e5181-373237678-driver-0-1, groupId=spark-kafka-source-e7b94c18-83a7-48b6-b4ca-aaf4123e5181-373237678-driver-0] Connection to node 0 (pd-master/10.67.22.162:9092) could not be established. Broker may not be available.\n",
      "22/09/14 21:44:09 WARN NetworkClient: [Consumer clientId=consumer-spark-kafka-source-e7b94c18-83a7-48b6-b4ca-aaf4123e5181-373237678-driver-0-1, groupId=spark-kafka-source-e7b94c18-83a7-48b6-b4ca-aaf4123e5181-373237678-driver-0] Connection to node 0 (pd-master/10.67.22.162:9092) could not be established. Broker may not be available.\n",
      "22/09/14 21:44:11 WARN NetworkClient: [Consumer clientId=consumer-spark-kafka-source-e7b94c18-83a7-48b6-b4ca-aaf4123e5181-373237678-driver-0-1, groupId=spark-kafka-source-e7b94c18-83a7-48b6-b4ca-aaf4123e5181-373237678-driver-0] Connection to node 0 (pd-master/10.67.22.162:9092) could not be established. Broker may not be available.\n",
      "22/09/14 21:44:12 WARN NetworkClient: [Consumer clientId=consumer-spark-kafka-source-e7b94c18-83a7-48b6-b4ca-aaf4123e5181-373237678-driver-0-1, groupId=spark-kafka-source-e7b94c18-83a7-48b6-b4ca-aaf4123e5181-373237678-driver-0] Connection to node 0 (pd-master/10.67.22.162:9092) could not be established. Broker may not be available.\n",
      "22/09/14 21:44:13 WARN NetworkClient: [Consumer clientId=consumer-spark-kafka-source-e7b94c18-83a7-48b6-b4ca-aaf4123e5181-373237678-driver-0-1, groupId=spark-kafka-source-e7b94c18-83a7-48b6-b4ca-aaf4123e5181-373237678-driver-0] Connection to node 0 (pd-master/10.67.22.162:9092) could not be established. Broker may not be available.\n",
      "22/09/14 21:44:13 WARN NetworkClient: [Consumer clientId=consumer-spark-kafka-source-e7b94c18-83a7-48b6-b4ca-aaf4123e5181-373237678-driver-0-1, groupId=spark-kafka-source-e7b94c18-83a7-48b6-b4ca-aaf4123e5181-373237678-driver-0] Connection to node 0 (pd-master/10.67.22.162:9092) could not be established. Broker may not be available.\n",
      "22/09/14 21:44:14 WARN NetworkClient: [Consumer clientId=consumer-spark-kafka-source-e7b94c18-83a7-48b6-b4ca-aaf4123e5181-373237678-driver-0-1, groupId=spark-kafka-source-e7b94c18-83a7-48b6-b4ca-aaf4123e5181-373237678-driver-0] Connection to node 0 (pd-master/10.67.22.162:9092) could not be established. Broker may not be available.\n",
      "22/09/14 21:44:15 WARN NetworkClient: [Consumer clientId=consumer-spark-kafka-source-e7b94c18-83a7-48b6-b4ca-aaf4123e5181-373237678-driver-0-1, groupId=spark-kafka-source-e7b94c18-83a7-48b6-b4ca-aaf4123e5181-373237678-driver-0] Connection to node 0 (pd-master/10.67.22.162:9092) could not be established. Broker may not be available.\n",
      "22/09/14 21:44:16 WARN NetworkClient: [Consumer clientId=consumer-spark-kafka-source-e7b94c18-83a7-48b6-b4ca-aaf4123e5181-373237678-driver-0-1, groupId=spark-kafka-source-e7b94c18-83a7-48b6-b4ca-aaf4123e5181-373237678-driver-0] Connection to node 0 (pd-master/10.67.22.162:9092) could not be established. Broker may not be available.\n",
      "22/09/14 21:44:17 WARN NetworkClient: [Consumer clientId=consumer-spark-kafka-source-e7b94c18-83a7-48b6-b4ca-aaf4123e5181-373237678-driver-0-1, groupId=spark-kafka-source-e7b94c18-83a7-48b6-b4ca-aaf4123e5181-373237678-driver-0] Connection to node 0 (pd-master/10.67.22.162:9092) could not be established. Broker may not be available.\n",
      "22/09/14 21:44:18 WARN NetworkClient: [Consumer clientId=consumer-spark-kafka-source-e7b94c18-83a7-48b6-b4ca-aaf4123e5181-373237678-driver-0-1, groupId=spark-kafka-source-e7b94c18-83a7-48b6-b4ca-aaf4123e5181-373237678-driver-0] Connection to node 0 (pd-master/10.67.22.162:9092) could not be established. Broker may not be available.\n",
      "22/09/14 21:44:19 WARN NetworkClient: [Consumer clientId=consumer-spark-kafka-source-e7b94c18-83a7-48b6-b4ca-aaf4123e5181-373237678-driver-0-1, groupId=spark-kafka-source-e7b94c18-83a7-48b6-b4ca-aaf4123e5181-373237678-driver-0] Connection to node 0 (pd-master/10.67.22.162:9092) could not be established. Broker may not be available.\n",
      "22/09/14 21:44:21 WARN NetworkClient: [Consumer clientId=consumer-spark-kafka-source-e7b94c18-83a7-48b6-b4ca-aaf4123e5181-373237678-driver-0-1, groupId=spark-kafka-source-e7b94c18-83a7-48b6-b4ca-aaf4123e5181-373237678-driver-0] Connection to node 0 (pd-master/10.67.22.162:9092) could not be established. Broker may not be available.\n",
      "22/09/14 21:44:21 WARN NetworkClient: [Consumer clientId=consumer-spark-kafka-source-e7b94c18-83a7-48b6-b4ca-aaf4123e5181-373237678-driver-0-1, groupId=spark-kafka-source-e7b94c18-83a7-48b6-b4ca-aaf4123e5181-373237678-driver-0] Connection to node 0 (pd-master/10.67.22.162:9092) could not be established. Broker may not be available.\n",
      "22/09/14 21:44:22 WARN NetworkClient: [Consumer clientId=consumer-spark-kafka-source-e7b94c18-83a7-48b6-b4ca-aaf4123e5181-373237678-driver-0-1, groupId=spark-kafka-source-e7b94c18-83a7-48b6-b4ca-aaf4123e5181-373237678-driver-0] Connection to node 0 (pd-master/10.67.22.162:9092) could not be established. Broker may not be available.\n",
      "22/09/14 21:44:24 WARN NetworkClient: [Consumer clientId=consumer-spark-kafka-source-e7b94c18-83a7-48b6-b4ca-aaf4123e5181-373237678-driver-0-1, groupId=spark-kafka-source-e7b94c18-83a7-48b6-b4ca-aaf4123e5181-373237678-driver-0] Connection to node 0 (pd-master/10.67.22.162:9092) could not be established. Broker may not be available.\n",
      "22/09/14 21:44:25 WARN NetworkClient: [Consumer clientId=consumer-spark-kafka-source-e7b94c18-83a7-48b6-b4ca-aaf4123e5181-373237678-driver-0-1, groupId=spark-kafka-source-e7b94c18-83a7-48b6-b4ca-aaf4123e5181-373237678-driver-0] Connection to node 0 (pd-master/10.67.22.162:9092) could not be established. Broker may not be available.\n",
      "22/09/14 21:44:26 WARN NetworkClient: [Consumer clientId=consumer-spark-kafka-source-e7b94c18-83a7-48b6-b4ca-aaf4123e5181-373237678-driver-0-1, groupId=spark-kafka-source-e7b94c18-83a7-48b6-b4ca-aaf4123e5181-373237678-driver-0] Connection to node 0 (pd-master/10.67.22.162:9092) could not be established. Broker may not be available.\n",
      "22/09/14 21:44:27 WARN NetworkClient: [Consumer clientId=consumer-spark-kafka-source-e7b94c18-83a7-48b6-b4ca-aaf4123e5181-373237678-driver-0-1, groupId=spark-kafka-source-e7b94c18-83a7-48b6-b4ca-aaf4123e5181-373237678-driver-0] Connection to node 0 (pd-master/10.67.22.162:9092) could not be established. Broker may not be available.\n",
      "22/09/14 21:44:28 WARN NetworkClient: [Consumer clientId=consumer-spark-kafka-source-e7b94c18-83a7-48b6-b4ca-aaf4123e5181-373237678-driver-0-1, groupId=spark-kafka-source-e7b94c18-83a7-48b6-b4ca-aaf4123e5181-373237678-driver-0] Connection to node 0 (pd-master/10.67.22.162:9092) could not be established. Broker may not be available.\n",
      "22/09/14 21:44:29 WARN NetworkClient: [Consumer clientId=consumer-spark-kafka-source-e7b94c18-83a7-48b6-b4ca-aaf4123e5181-373237678-driver-0-1, groupId=spark-kafka-source-e7b94c18-83a7-48b6-b4ca-aaf4123e5181-373237678-driver-0] Connection to node 0 (pd-master/10.67.22.162:9092) could not be established. Broker may not be available.\n",
      "22/09/14 21:44:30 WARN NetworkClient: [Consumer clientId=consumer-spark-kafka-source-e7b94c18-83a7-48b6-b4ca-aaf4123e5181-373237678-driver-0-1, groupId=spark-kafka-source-e7b94c18-83a7-48b6-b4ca-aaf4123e5181-373237678-driver-0] Connection to node 0 (pd-master/10.67.22.162:9092) could not be established. Broker may not be available.\n",
      "22/09/14 21:44:31 WARN NetworkClient: [Consumer clientId=consumer-spark-kafka-source-e7b94c18-83a7-48b6-b4ca-aaf4123e5181-373237678-driver-0-1, groupId=spark-kafka-source-e7b94c18-83a7-48b6-b4ca-aaf4123e5181-373237678-driver-0] Connection to node 0 (pd-master/10.67.22.162:9092) could not be established. Broker may not be available.\n",
      "22/09/14 21:44:32 WARN NetworkClient: [Consumer clientId=consumer-spark-kafka-source-e7b94c18-83a7-48b6-b4ca-aaf4123e5181-373237678-driver-0-1, groupId=spark-kafka-source-e7b94c18-83a7-48b6-b4ca-aaf4123e5181-373237678-driver-0] Connection to node 0 (pd-master/10.67.22.162:9092) could not be established. Broker may not be available.\n",
      "22/09/14 21:44:33 WARN NetworkClient: [Consumer clientId=consumer-spark-kafka-source-e7b94c18-83a7-48b6-b4ca-aaf4123e5181-373237678-driver-0-1, groupId=spark-kafka-source-e7b94c18-83a7-48b6-b4ca-aaf4123e5181-373237678-driver-0] Connection to node 0 (pd-master/10.67.22.162:9092) could not be established. Broker may not be available.\n"
     ]
    },
    {
     "name": "stdout",
     "output_type": "stream",
     "text": [
      "22/09/14 21:44:34 WARN NetworkClient: [Consumer clientId=consumer-spark-kafka-source-e7b94c18-83a7-48b6-b4ca-aaf4123e5181-373237678-driver-0-1, groupId=spark-kafka-source-e7b94c18-83a7-48b6-b4ca-aaf4123e5181-373237678-driver-0] Connection to node 0 (pd-master/10.67.22.162:9092) could not be established. Broker may not be available.\n",
      "22/09/14 21:44:35 WARN NetworkClient: [Consumer clientId=consumer-spark-kafka-source-e7b94c18-83a7-48b6-b4ca-aaf4123e5181-373237678-driver-0-1, groupId=spark-kafka-source-e7b94c18-83a7-48b6-b4ca-aaf4123e5181-373237678-driver-0] Connection to node 0 (pd-master/10.67.22.162:9092) could not be established. Broker may not be available.\n",
      "22/09/14 21:44:36 WARN NetworkClient: [Consumer clientId=consumer-spark-kafka-source-e7b94c18-83a7-48b6-b4ca-aaf4123e5181-373237678-driver-0-1, groupId=spark-kafka-source-e7b94c18-83a7-48b6-b4ca-aaf4123e5181-373237678-driver-0] Connection to node 0 (pd-master/10.67.22.162:9092) could not be established. Broker may not be available.\n",
      "22/09/14 21:44:37 WARN NetworkClient: [Consumer clientId=consumer-spark-kafka-source-e7b94c18-83a7-48b6-b4ca-aaf4123e5181-373237678-driver-0-1, groupId=spark-kafka-source-e7b94c18-83a7-48b6-b4ca-aaf4123e5181-373237678-driver-0] Connection to node 0 (pd-master/10.67.22.162:9092) could not be established. Broker may not be available.\n",
      "22/09/14 21:44:38 WARN NetworkClient: [Consumer clientId=consumer-spark-kafka-source-e7b94c18-83a7-48b6-b4ca-aaf4123e5181-373237678-driver-0-1, groupId=spark-kafka-source-e7b94c18-83a7-48b6-b4ca-aaf4123e5181-373237678-driver-0] Connection to node 0 (pd-master/10.67.22.162:9092) could not be established. Broker may not be available.\n",
      "22/09/14 21:44:39 WARN NetworkClient: [Consumer clientId=consumer-spark-kafka-source-e7b94c18-83a7-48b6-b4ca-aaf4123e5181-373237678-driver-0-1, groupId=spark-kafka-source-e7b94c18-83a7-48b6-b4ca-aaf4123e5181-373237678-driver-0] Connection to node 0 (pd-master/10.67.22.162:9092) could not be established. Broker may not be available.\n",
      "22/09/14 21:44:40 WARN NetworkClient: [Consumer clientId=consumer-spark-kafka-source-e7b94c18-83a7-48b6-b4ca-aaf4123e5181-373237678-driver-0-1, groupId=spark-kafka-source-e7b94c18-83a7-48b6-b4ca-aaf4123e5181-373237678-driver-0] Connection to node 0 (pd-master/10.67.22.162:9092) could not be established. Broker may not be available.\n",
      "22/09/14 21:44:41 WARN NetworkClient: [Consumer clientId=consumer-spark-kafka-source-e7b94c18-83a7-48b6-b4ca-aaf4123e5181-373237678-driver-0-1, groupId=spark-kafka-source-e7b94c18-83a7-48b6-b4ca-aaf4123e5181-373237678-driver-0] Connection to node 0 (pd-master/10.67.22.162:9092) could not be established. Broker may not be available.\n",
      "22/09/14 21:44:42 WARN NetworkClient: [Consumer clientId=consumer-spark-kafka-source-e7b94c18-83a7-48b6-b4ca-aaf4123e5181-373237678-driver-0-1, groupId=spark-kafka-source-e7b94c18-83a7-48b6-b4ca-aaf4123e5181-373237678-driver-0] Connection to node 0 (pd-master/10.67.22.162:9092) could not be established. Broker may not be available.\n",
      "22/09/14 21:44:43 WARN NetworkClient: [Consumer clientId=consumer-spark-kafka-source-e7b94c18-83a7-48b6-b4ca-aaf4123e5181-373237678-driver-0-1, groupId=spark-kafka-source-e7b94c18-83a7-48b6-b4ca-aaf4123e5181-373237678-driver-0] Connection to node 0 (pd-master/10.67.22.162:9092) could not be established. Broker may not be available.\n",
      "22/09/14 21:44:44 WARN NetworkClient: [Consumer clientId=consumer-spark-kafka-source-e7b94c18-83a7-48b6-b4ca-aaf4123e5181-373237678-driver-0-1, groupId=spark-kafka-source-e7b94c18-83a7-48b6-b4ca-aaf4123e5181-373237678-driver-0] Connection to node 0 (pd-master/10.67.22.162:9092) could not be established. Broker may not be available.\n",
      "22/09/14 21:44:45 WARN NetworkClient: [Consumer clientId=consumer-spark-kafka-source-e7b94c18-83a7-48b6-b4ca-aaf4123e5181-373237678-driver-0-1, groupId=spark-kafka-source-e7b94c18-83a7-48b6-b4ca-aaf4123e5181-373237678-driver-0] Connection to node 0 (pd-master/10.67.22.162:9092) could not be established. Broker may not be available.\n",
      "22/09/14 21:44:47 WARN NetworkClient: [Consumer clientId=consumer-spark-kafka-source-e7b94c18-83a7-48b6-b4ca-aaf4123e5181-373237678-driver-0-1, groupId=spark-kafka-source-e7b94c18-83a7-48b6-b4ca-aaf4123e5181-373237678-driver-0] Connection to node 0 (pd-master/10.67.22.162:9092) could not be established. Broker may not be available.\n",
      "22/09/14 21:44:48 WARN NetworkClient: [Consumer clientId=consumer-spark-kafka-source-e7b94c18-83a7-48b6-b4ca-aaf4123e5181-373237678-driver-0-1, groupId=spark-kafka-source-e7b94c18-83a7-48b6-b4ca-aaf4123e5181-373237678-driver-0] Connection to node 0 (pd-master/10.67.22.162:9092) could not be established. Broker may not be available.\n",
      "22/09/14 21:44:49 WARN NetworkClient: [Consumer clientId=consumer-spark-kafka-source-e7b94c18-83a7-48b6-b4ca-aaf4123e5181-373237678-driver-0-1, groupId=spark-kafka-source-e7b94c18-83a7-48b6-b4ca-aaf4123e5181-373237678-driver-0] Connection to node 0 (pd-master/10.67.22.162:9092) could not be established. Broker may not be available.\n",
      "22/09/14 21:44:50 WARN NetworkClient: [Consumer clientId=consumer-spark-kafka-source-e7b94c18-83a7-48b6-b4ca-aaf4123e5181-373237678-driver-0-1, groupId=spark-kafka-source-e7b94c18-83a7-48b6-b4ca-aaf4123e5181-373237678-driver-0] Connection to node 0 (pd-master/10.67.22.162:9092) could not be established. Broker may not be available.\n",
      "22/09/14 21:44:51 WARN NetworkClient: [Consumer clientId=consumer-spark-kafka-source-e7b94c18-83a7-48b6-b4ca-aaf4123e5181-373237678-driver-0-1, groupId=spark-kafka-source-e7b94c18-83a7-48b6-b4ca-aaf4123e5181-373237678-driver-0] Connection to node 0 (pd-master/10.67.22.162:9092) could not be established. Broker may not be available.\n",
      "22/09/14 21:44:52 WARN NetworkClient: [Consumer clientId=consumer-spark-kafka-source-e7b94c18-83a7-48b6-b4ca-aaf4123e5181-373237678-driver-0-1, groupId=spark-kafka-source-e7b94c18-83a7-48b6-b4ca-aaf4123e5181-373237678-driver-0] Connection to node 0 (pd-master/10.67.22.162:9092) could not be established. Broker may not be available.\n",
      "22/09/14 21:44:53 WARN NetworkClient: [Consumer clientId=consumer-spark-kafka-source-e7b94c18-83a7-48b6-b4ca-aaf4123e5181-373237678-driver-0-1, groupId=spark-kafka-source-e7b94c18-83a7-48b6-b4ca-aaf4123e5181-373237678-driver-0] Connection to node 0 (pd-master/10.67.22.162:9092) could not be established. Broker may not be available.\n",
      "22/09/14 21:44:54 WARN NetworkClient: [Consumer clientId=consumer-spark-kafka-source-e7b94c18-83a7-48b6-b4ca-aaf4123e5181-373237678-driver-0-1, groupId=spark-kafka-source-e7b94c18-83a7-48b6-b4ca-aaf4123e5181-373237678-driver-0] Connection to node 0 (pd-master/10.67.22.162:9092) could not be established. Broker may not be available.\n",
      "22/09/14 21:44:55 WARN NetworkClient: [Consumer clientId=consumer-spark-kafka-source-e7b94c18-83a7-48b6-b4ca-aaf4123e5181-373237678-driver-0-1, groupId=spark-kafka-source-e7b94c18-83a7-48b6-b4ca-aaf4123e5181-373237678-driver-0] Connection to node 0 (pd-master/10.67.22.162:9092) could not be established. Broker may not be available.\n",
      "22/09/14 21:44:56 WARN NetworkClient: [Consumer clientId=consumer-spark-kafka-source-e7b94c18-83a7-48b6-b4ca-aaf4123e5181-373237678-driver-0-1, groupId=spark-kafka-source-e7b94c18-83a7-48b6-b4ca-aaf4123e5181-373237678-driver-0] Connection to node 0 (pd-master/10.67.22.162:9092) could not be established. Broker may not be available.\n",
      "22/09/14 21:44:57 WARN NetworkClient: [Consumer clientId=consumer-spark-kafka-source-e7b94c18-83a7-48b6-b4ca-aaf4123e5181-373237678-driver-0-1, groupId=spark-kafka-source-e7b94c18-83a7-48b6-b4ca-aaf4123e5181-373237678-driver-0] Connection to node 0 (pd-master/10.67.22.162:9092) could not be established. Broker may not be available.\n",
      "22/09/14 21:44:58 WARN NetworkClient: [Consumer clientId=consumer-spark-kafka-source-e7b94c18-83a7-48b6-b4ca-aaf4123e5181-373237678-driver-0-1, groupId=spark-kafka-source-e7b94c18-83a7-48b6-b4ca-aaf4123e5181-373237678-driver-0] Connection to node 0 (pd-master/10.67.22.162:9092) could not be established. Broker may not be available.\n",
      "22/09/14 21:44:59 WARN NetworkClient: [Consumer clientId=consumer-spark-kafka-source-e7b94c18-83a7-48b6-b4ca-aaf4123e5181-373237678-driver-0-1, groupId=spark-kafka-source-e7b94c18-83a7-48b6-b4ca-aaf4123e5181-373237678-driver-0] Connection to node 0 (pd-master/10.67.22.162:9092) could not be established. Broker may not be available.\n"
     ]
    },
    {
     "name": "stdout",
     "output_type": "stream",
     "text": [
      "22/09/14 21:45:00 WARN NetworkClient: [Consumer clientId=consumer-spark-kafka-source-e7b94c18-83a7-48b6-b4ca-aaf4123e5181-373237678-driver-0-1, groupId=spark-kafka-source-e7b94c18-83a7-48b6-b4ca-aaf4123e5181-373237678-driver-0] Connection to node 0 (pd-master/10.67.22.162:9092) could not be established. Broker may not be available.\n",
      "22/09/14 21:45:01 WARN NetworkClient: [Consumer clientId=consumer-spark-kafka-source-e7b94c18-83a7-48b6-b4ca-aaf4123e5181-373237678-driver-0-1, groupId=spark-kafka-source-e7b94c18-83a7-48b6-b4ca-aaf4123e5181-373237678-driver-0] Connection to node 0 (pd-master/10.67.22.162:9092) could not be established. Broker may not be available.\n",
      "22/09/14 21:45:02 WARN NetworkClient: [Consumer clientId=consumer-spark-kafka-source-e7b94c18-83a7-48b6-b4ca-aaf4123e5181-373237678-driver-0-1, groupId=spark-kafka-source-e7b94c18-83a7-48b6-b4ca-aaf4123e5181-373237678-driver-0] Connection to node 0 (pd-master/10.67.22.162:9092) could not be established. Broker may not be available.\n",
      "22/09/14 21:45:03 WARN NetworkClient: [Consumer clientId=consumer-spark-kafka-source-e7b94c18-83a7-48b6-b4ca-aaf4123e5181-373237678-driver-0-1, groupId=spark-kafka-source-e7b94c18-83a7-48b6-b4ca-aaf4123e5181-373237678-driver-0] Connection to node 0 (pd-master/10.67.22.162:9092) could not be established. Broker may not be available.\n",
      "22/09/14 21:45:04 WARN NetworkClient: [Consumer clientId=consumer-spark-kafka-source-e7b94c18-83a7-48b6-b4ca-aaf4123e5181-373237678-driver-0-1, groupId=spark-kafka-source-e7b94c18-83a7-48b6-b4ca-aaf4123e5181-373237678-driver-0] Connection to node 0 (pd-master/10.67.22.162:9092) could not be established. Broker may not be available.\n",
      "22/09/14 21:45:05 WARN NetworkClient: [Consumer clientId=consumer-spark-kafka-source-e7b94c18-83a7-48b6-b4ca-aaf4123e5181-373237678-driver-0-1, groupId=spark-kafka-source-e7b94c18-83a7-48b6-b4ca-aaf4123e5181-373237678-driver-0] Connection to node 0 (pd-master/10.67.22.162:9092) could not be established. Broker may not be available.\n",
      "22/09/14 21:45:06 WARN NetworkClient: [Consumer clientId=consumer-spark-kafka-source-e7b94c18-83a7-48b6-b4ca-aaf4123e5181-373237678-driver-0-1, groupId=spark-kafka-source-e7b94c18-83a7-48b6-b4ca-aaf4123e5181-373237678-driver-0] Connection to node 0 (pd-master/10.67.22.162:9092) could not be established. Broker may not be available.\n",
      "22/09/14 21:45:07 WARN NetworkClient: [Consumer clientId=consumer-spark-kafka-source-e7b94c18-83a7-48b6-b4ca-aaf4123e5181-373237678-driver-0-1, groupId=spark-kafka-source-e7b94c18-83a7-48b6-b4ca-aaf4123e5181-373237678-driver-0] Connection to node 0 (pd-master/10.67.22.162:9092) could not be established. Broker may not be available.\n",
      "22/09/14 21:45:08 WARN NetworkClient: [Consumer clientId=consumer-spark-kafka-source-e7b94c18-83a7-48b6-b4ca-aaf4123e5181-373237678-driver-0-1, groupId=spark-kafka-source-e7b94c18-83a7-48b6-b4ca-aaf4123e5181-373237678-driver-0] Connection to node 0 (pd-master/10.67.22.162:9092) could not be established. Broker may not be available.\n",
      "22/09/14 21:45:09 WARN NetworkClient: [Consumer clientId=consumer-spark-kafka-source-e7b94c18-83a7-48b6-b4ca-aaf4123e5181-373237678-driver-0-1, groupId=spark-kafka-source-e7b94c18-83a7-48b6-b4ca-aaf4123e5181-373237678-driver-0] Connection to node 0 (pd-master/10.67.22.162:9092) could not be established. Broker may not be available.\n",
      "22/09/14 21:45:10 WARN NetworkClient: [Consumer clientId=consumer-spark-kafka-source-e7b94c18-83a7-48b6-b4ca-aaf4123e5181-373237678-driver-0-1, groupId=spark-kafka-source-e7b94c18-83a7-48b6-b4ca-aaf4123e5181-373237678-driver-0] Connection to node 0 (pd-master/10.67.22.162:9092) could not be established. Broker may not be available.\n",
      "22/09/14 21:45:11 WARN NetworkClient: [Consumer clientId=consumer-spark-kafka-source-e7b94c18-83a7-48b6-b4ca-aaf4123e5181-373237678-driver-0-1, groupId=spark-kafka-source-e7b94c18-83a7-48b6-b4ca-aaf4123e5181-373237678-driver-0] Connection to node 0 (pd-master/10.67.22.162:9092) could not be established. Broker may not be available.\n",
      "22/09/14 21:45:12 WARN NetworkClient: [Consumer clientId=consumer-spark-kafka-source-e7b94c18-83a7-48b6-b4ca-aaf4123e5181-373237678-driver-0-1, groupId=spark-kafka-source-e7b94c18-83a7-48b6-b4ca-aaf4123e5181-373237678-driver-0] Connection to node 0 (pd-master/10.67.22.162:9092) could not be established. Broker may not be available.\n",
      "22/09/14 21:45:13 WARN NetworkClient: [Consumer clientId=consumer-spark-kafka-source-e7b94c18-83a7-48b6-b4ca-aaf4123e5181-373237678-driver-0-1, groupId=spark-kafka-source-e7b94c18-83a7-48b6-b4ca-aaf4123e5181-373237678-driver-0] Connection to node 0 (pd-master/10.67.22.162:9092) could not be established. Broker may not be available.\n",
      "22/09/14 21:45:14 WARN NetworkClient: [Consumer clientId=consumer-spark-kafka-source-e7b94c18-83a7-48b6-b4ca-aaf4123e5181-373237678-driver-0-1, groupId=spark-kafka-source-e7b94c18-83a7-48b6-b4ca-aaf4123e5181-373237678-driver-0] Connection to node 0 (pd-master/10.67.22.162:9092) could not be established. Broker may not be available.\n",
      "22/09/14 21:45:15 WARN NetworkClient: [Consumer clientId=consumer-spark-kafka-source-e7b94c18-83a7-48b6-b4ca-aaf4123e5181-373237678-driver-0-1, groupId=spark-kafka-source-e7b94c18-83a7-48b6-b4ca-aaf4123e5181-373237678-driver-0] Connection to node 0 (pd-master/10.67.22.162:9092) could not be established. Broker may not be available.\n",
      "22/09/14 21:45:16 WARN NetworkClient: [Consumer clientId=consumer-spark-kafka-source-e7b94c18-83a7-48b6-b4ca-aaf4123e5181-373237678-driver-0-1, groupId=spark-kafka-source-e7b94c18-83a7-48b6-b4ca-aaf4123e5181-373237678-driver-0] Connection to node 0 (pd-master/10.67.22.162:9092) could not be established. Broker may not be available.\n",
      "22/09/14 21:45:17 WARN NetworkClient: [Consumer clientId=consumer-spark-kafka-source-e7b94c18-83a7-48b6-b4ca-aaf4123e5181-373237678-driver-0-1, groupId=spark-kafka-source-e7b94c18-83a7-48b6-b4ca-aaf4123e5181-373237678-driver-0] Connection to node 0 (pd-master/10.67.22.162:9092) could not be established. Broker may not be available.\n",
      "22/09/14 21:45:18 WARN NetworkClient: [Consumer clientId=consumer-spark-kafka-source-e7b94c18-83a7-48b6-b4ca-aaf4123e5181-373237678-driver-0-1, groupId=spark-kafka-source-e7b94c18-83a7-48b6-b4ca-aaf4123e5181-373237678-driver-0] Connection to node 0 (pd-master/10.67.22.162:9092) could not be established. Broker may not be available.\n",
      "22/09/14 21:45:19 WARN NetworkClient: [Consumer clientId=consumer-spark-kafka-source-e7b94c18-83a7-48b6-b4ca-aaf4123e5181-373237678-driver-0-1, groupId=spark-kafka-source-e7b94c18-83a7-48b6-b4ca-aaf4123e5181-373237678-driver-0] Connection to node 0 (pd-master/10.67.22.162:9092) could not be established. Broker may not be available.\n",
      "22/09/14 21:45:20 WARN NetworkClient: [Consumer clientId=consumer-spark-kafka-source-e7b94c18-83a7-48b6-b4ca-aaf4123e5181-373237678-driver-0-1, groupId=spark-kafka-source-e7b94c18-83a7-48b6-b4ca-aaf4123e5181-373237678-driver-0] Connection to node 0 (pd-master/10.67.22.162:9092) could not be established. Broker may not be available.\n",
      "22/09/14 21:45:21 WARN NetworkClient: [Consumer clientId=consumer-spark-kafka-source-e7b94c18-83a7-48b6-b4ca-aaf4123e5181-373237678-driver-0-1, groupId=spark-kafka-source-e7b94c18-83a7-48b6-b4ca-aaf4123e5181-373237678-driver-0] Connection to node 0 (pd-master/10.67.22.162:9092) could not be established. Broker may not be available.\n",
      "22/09/14 21:45:22 WARN NetworkClient: [Consumer clientId=consumer-spark-kafka-source-e7b94c18-83a7-48b6-b4ca-aaf4123e5181-373237678-driver-0-1, groupId=spark-kafka-source-e7b94c18-83a7-48b6-b4ca-aaf4123e5181-373237678-driver-0] Connection to node 0 (pd-master/10.67.22.162:9092) could not be established. Broker may not be available.\n",
      "22/09/14 21:45:23 WARN NetworkClient: [Consumer clientId=consumer-spark-kafka-source-e7b94c18-83a7-48b6-b4ca-aaf4123e5181-373237678-driver-0-1, groupId=spark-kafka-source-e7b94c18-83a7-48b6-b4ca-aaf4123e5181-373237678-driver-0] Connection to node 0 (pd-master/10.67.22.162:9092) could not be established. Broker may not be available.\n",
      "22/09/14 21:45:24 WARN NetworkClient: [Consumer clientId=consumer-spark-kafka-source-e7b94c18-83a7-48b6-b4ca-aaf4123e5181-373237678-driver-0-1, groupId=spark-kafka-source-e7b94c18-83a7-48b6-b4ca-aaf4123e5181-373237678-driver-0] Connection to node 0 (pd-master/10.67.22.162:9092) could not be established. Broker may not be available.\n"
     ]
    },
    {
     "name": "stdout",
     "output_type": "stream",
     "text": [
      "22/09/14 21:45:25 WARN NetworkClient: [Consumer clientId=consumer-spark-kafka-source-e7b94c18-83a7-48b6-b4ca-aaf4123e5181-373237678-driver-0-1, groupId=spark-kafka-source-e7b94c18-83a7-48b6-b4ca-aaf4123e5181-373237678-driver-0] Connection to node 0 (pd-master/10.67.22.162:9092) could not be established. Broker may not be available.\n",
      "22/09/14 21:45:26 WARN NetworkClient: [Consumer clientId=consumer-spark-kafka-source-e7b94c18-83a7-48b6-b4ca-aaf4123e5181-373237678-driver-0-1, groupId=spark-kafka-source-e7b94c18-83a7-48b6-b4ca-aaf4123e5181-373237678-driver-0] Connection to node 0 (pd-master/10.67.22.162:9092) could not be established. Broker may not be available.\n",
      "22/09/14 21:45:27 WARN NetworkClient: [Consumer clientId=consumer-spark-kafka-source-e7b94c18-83a7-48b6-b4ca-aaf4123e5181-373237678-driver-0-1, groupId=spark-kafka-source-e7b94c18-83a7-48b6-b4ca-aaf4123e5181-373237678-driver-0] Connection to node 0 (pd-master/10.67.22.162:9092) could not be established. Broker may not be available.\n",
      "22/09/14 21:45:28 WARN NetworkClient: [Consumer clientId=consumer-spark-kafka-source-e7b94c18-83a7-48b6-b4ca-aaf4123e5181-373237678-driver-0-1, groupId=spark-kafka-source-e7b94c18-83a7-48b6-b4ca-aaf4123e5181-373237678-driver-0] Connection to node 0 (pd-master/10.67.22.162:9092) could not be established. Broker may not be available.\n",
      "22/09/14 21:45:29 WARN NetworkClient: [Consumer clientId=consumer-spark-kafka-source-e7b94c18-83a7-48b6-b4ca-aaf4123e5181-373237678-driver-0-1, groupId=spark-kafka-source-e7b94c18-83a7-48b6-b4ca-aaf4123e5181-373237678-driver-0] Connection to node 0 (pd-master/10.67.22.162:9092) could not be established. Broker may not be available.\n",
      "22/09/14 21:45:30 WARN NetworkClient: [Consumer clientId=consumer-spark-kafka-source-e7b94c18-83a7-48b6-b4ca-aaf4123e5181-373237678-driver-0-1, groupId=spark-kafka-source-e7b94c18-83a7-48b6-b4ca-aaf4123e5181-373237678-driver-0] Connection to node 0 (pd-master/10.67.22.162:9092) could not be established. Broker may not be available.\n",
      "22/09/14 21:45:31 WARN NetworkClient: [Consumer clientId=consumer-spark-kafka-source-e7b94c18-83a7-48b6-b4ca-aaf4123e5181-373237678-driver-0-1, groupId=spark-kafka-source-e7b94c18-83a7-48b6-b4ca-aaf4123e5181-373237678-driver-0] Connection to node 0 (pd-master/10.67.22.162:9092) could not be established. Broker may not be available.\n",
      "22/09/14 21:45:32 WARN NetworkClient: [Consumer clientId=consumer-spark-kafka-source-e7b94c18-83a7-48b6-b4ca-aaf4123e5181-373237678-driver-0-1, groupId=spark-kafka-source-e7b94c18-83a7-48b6-b4ca-aaf4123e5181-373237678-driver-0] Connection to node 0 (pd-master/10.67.22.162:9092) could not be established. Broker may not be available.\n",
      "22/09/14 21:45:33 WARN NetworkClient: [Consumer clientId=consumer-spark-kafka-source-e7b94c18-83a7-48b6-b4ca-aaf4123e5181-373237678-driver-0-1, groupId=spark-kafka-source-e7b94c18-83a7-48b6-b4ca-aaf4123e5181-373237678-driver-0] Connection to node 0 (pd-master/10.67.22.162:9092) could not be established. Broker may not be available.\n",
      "22/09/14 21:45:33 WARN NetworkClient: [Consumer clientId=consumer-spark-kafka-source-e7b94c18-83a7-48b6-b4ca-aaf4123e5181-373237678-driver-0-1, groupId=spark-kafka-source-e7b94c18-83a7-48b6-b4ca-aaf4123e5181-373237678-driver-0] Connection to node 0 (pd-master/10.67.22.162:9092) could not be established. Broker may not be available.\n",
      "22/09/14 21:45:34 WARN NetworkClient: [Consumer clientId=consumer-spark-kafka-source-e7b94c18-83a7-48b6-b4ca-aaf4123e5181-373237678-driver-0-1, groupId=spark-kafka-source-e7b94c18-83a7-48b6-b4ca-aaf4123e5181-373237678-driver-0] Connection to node 0 (pd-master/10.67.22.162:9092) could not be established. Broker may not be available.\n",
      "22/09/14 21:45:35 WARN NetworkClient: [Consumer clientId=consumer-spark-kafka-source-e7b94c18-83a7-48b6-b4ca-aaf4123e5181-373237678-driver-0-1, groupId=spark-kafka-source-e7b94c18-83a7-48b6-b4ca-aaf4123e5181-373237678-driver-0] Connection to node 0 (pd-master/10.67.22.162:9092) could not be established. Broker may not be available.\n",
      "22/09/14 21:45:36 WARN NetworkClient: [Consumer clientId=consumer-spark-kafka-source-e7b94c18-83a7-48b6-b4ca-aaf4123e5181-373237678-driver-0-1, groupId=spark-kafka-source-e7b94c18-83a7-48b6-b4ca-aaf4123e5181-373237678-driver-0] Connection to node 0 (pd-master/10.67.22.162:9092) could not be established. Broker may not be available.\n",
      "22/09/14 21:45:37 WARN NetworkClient: [Consumer clientId=consumer-spark-kafka-source-e7b94c18-83a7-48b6-b4ca-aaf4123e5181-373237678-driver-0-1, groupId=spark-kafka-source-e7b94c18-83a7-48b6-b4ca-aaf4123e5181-373237678-driver-0] Connection to node 0 (pd-master/10.67.22.162:9092) could not be established. Broker may not be available.\n",
      "22/09/14 21:45:38 WARN NetworkClient: [Consumer clientId=consumer-spark-kafka-source-e7b94c18-83a7-48b6-b4ca-aaf4123e5181-373237678-driver-0-1, groupId=spark-kafka-source-e7b94c18-83a7-48b6-b4ca-aaf4123e5181-373237678-driver-0] Connection to node 0 (pd-master/10.67.22.162:9092) could not be established. Broker may not be available.\n",
      "22/09/14 21:45:39 WARN NetworkClient: [Consumer clientId=consumer-spark-kafka-source-e7b94c18-83a7-48b6-b4ca-aaf4123e5181-373237678-driver-0-1, groupId=spark-kafka-source-e7b94c18-83a7-48b6-b4ca-aaf4123e5181-373237678-driver-0] Connection to node 0 (pd-master/10.67.22.162:9092) could not be established. Broker may not be available.\n",
      "22/09/14 21:45:40 WARN NetworkClient: [Consumer clientId=consumer-spark-kafka-source-e7b94c18-83a7-48b6-b4ca-aaf4123e5181-373237678-driver-0-1, groupId=spark-kafka-source-e7b94c18-83a7-48b6-b4ca-aaf4123e5181-373237678-driver-0] Connection to node 0 (pd-master/10.67.22.162:9092) could not be established. Broker may not be available.\n",
      "22/09/14 21:45:41 WARN NetworkClient: [Consumer clientId=consumer-spark-kafka-source-e7b94c18-83a7-48b6-b4ca-aaf4123e5181-373237678-driver-0-1, groupId=spark-kafka-source-e7b94c18-83a7-48b6-b4ca-aaf4123e5181-373237678-driver-0] Connection to node 0 (pd-master/10.67.22.162:9092) could not be established. Broker may not be available.\n",
      "22/09/14 21:45:42 WARN NetworkClient: [Consumer clientId=consumer-spark-kafka-source-e7b94c18-83a7-48b6-b4ca-aaf4123e5181-373237678-driver-0-1, groupId=spark-kafka-source-e7b94c18-83a7-48b6-b4ca-aaf4123e5181-373237678-driver-0] Connection to node 0 (pd-master/10.67.22.162:9092) could not be established. Broker may not be available.\n",
      "22/09/14 21:45:43 WARN NetworkClient: [Consumer clientId=consumer-spark-kafka-source-e7b94c18-83a7-48b6-b4ca-aaf4123e5181-373237678-driver-0-1, groupId=spark-kafka-source-e7b94c18-83a7-48b6-b4ca-aaf4123e5181-373237678-driver-0] Connection to node 0 (pd-master/10.67.22.162:9092) could not be established. Broker may not be available.\n",
      "22/09/14 21:45:45 WARN NetworkClient: [Consumer clientId=consumer-spark-kafka-source-e7b94c18-83a7-48b6-b4ca-aaf4123e5181-373237678-driver-0-1, groupId=spark-kafka-source-e7b94c18-83a7-48b6-b4ca-aaf4123e5181-373237678-driver-0] Connection to node 0 (pd-master/10.67.22.162:9092) could not be established. Broker may not be available.\n",
      "22/09/14 21:45:46 WARN NetworkClient: [Consumer clientId=consumer-spark-kafka-source-e7b94c18-83a7-48b6-b4ca-aaf4123e5181-373237678-driver-0-1, groupId=spark-kafka-source-e7b94c18-83a7-48b6-b4ca-aaf4123e5181-373237678-driver-0] Connection to node 0 (pd-master/10.67.22.162:9092) could not be established. Broker may not be available.\n",
      "22/09/14 21:45:47 WARN NetworkClient: [Consumer clientId=consumer-spark-kafka-source-e7b94c18-83a7-48b6-b4ca-aaf4123e5181-373237678-driver-0-1, groupId=spark-kafka-source-e7b94c18-83a7-48b6-b4ca-aaf4123e5181-373237678-driver-0] Connection to node 0 (pd-master/10.67.22.162:9092) could not be established. Broker may not be available.\n",
      "22/09/14 21:45:48 WARN NetworkClient: [Consumer clientId=consumer-spark-kafka-source-e7b94c18-83a7-48b6-b4ca-aaf4123e5181-373237678-driver-0-1, groupId=spark-kafka-source-e7b94c18-83a7-48b6-b4ca-aaf4123e5181-373237678-driver-0] Connection to node 0 (pd-master/10.67.22.162:9092) could not be established. Broker may not be available.\n",
      "22/09/14 21:45:49 WARN NetworkClient: [Consumer clientId=consumer-spark-kafka-source-e7b94c18-83a7-48b6-b4ca-aaf4123e5181-373237678-driver-0-1, groupId=spark-kafka-source-e7b94c18-83a7-48b6-b4ca-aaf4123e5181-373237678-driver-0] Connection to node 0 (pd-master/10.67.22.162:9092) could not be established. Broker may not be available.\n"
     ]
    },
    {
     "name": "stdout",
     "output_type": "stream",
     "text": [
      "22/09/14 21:45:50 WARN NetworkClient: [Consumer clientId=consumer-spark-kafka-source-e7b94c18-83a7-48b6-b4ca-aaf4123e5181-373237678-driver-0-1, groupId=spark-kafka-source-e7b94c18-83a7-48b6-b4ca-aaf4123e5181-373237678-driver-0] Connection to node 0 (pd-master/10.67.22.162:9092) could not be established. Broker may not be available.\n",
      "22/09/14 21:45:51 WARN NetworkClient: [Consumer clientId=consumer-spark-kafka-source-e7b94c18-83a7-48b6-b4ca-aaf4123e5181-373237678-driver-0-1, groupId=spark-kafka-source-e7b94c18-83a7-48b6-b4ca-aaf4123e5181-373237678-driver-0] Connection to node 0 (pd-master/10.67.22.162:9092) could not be established. Broker may not be available.\n",
      "22/09/14 21:45:52 WARN NetworkClient: [Consumer clientId=consumer-spark-kafka-source-e7b94c18-83a7-48b6-b4ca-aaf4123e5181-373237678-driver-0-1, groupId=spark-kafka-source-e7b94c18-83a7-48b6-b4ca-aaf4123e5181-373237678-driver-0] Connection to node 0 (pd-master/10.67.22.162:9092) could not be established. Broker may not be available.\n",
      "22/09/14 21:45:53 WARN NetworkClient: [Consumer clientId=consumer-spark-kafka-source-e7b94c18-83a7-48b6-b4ca-aaf4123e5181-373237678-driver-0-1, groupId=spark-kafka-source-e7b94c18-83a7-48b6-b4ca-aaf4123e5181-373237678-driver-0] Connection to node 0 (pd-master/10.67.22.162:9092) could not be established. Broker may not be available.\n",
      "22/09/14 21:45:54 WARN NetworkClient: [Consumer clientId=consumer-spark-kafka-source-e7b94c18-83a7-48b6-b4ca-aaf4123e5181-373237678-driver-0-1, groupId=spark-kafka-source-e7b94c18-83a7-48b6-b4ca-aaf4123e5181-373237678-driver-0] Connection to node 0 (pd-master/10.67.22.162:9092) could not be established. Broker may not be available.\n",
      "22/09/14 21:45:55 WARN NetworkClient: [Consumer clientId=consumer-spark-kafka-source-e7b94c18-83a7-48b6-b4ca-aaf4123e5181-373237678-driver-0-1, groupId=spark-kafka-source-e7b94c18-83a7-48b6-b4ca-aaf4123e5181-373237678-driver-0] Connection to node 0 (pd-master/10.67.22.162:9092) could not be established. Broker may not be available.\n",
      "22/09/14 21:45:56 WARN NetworkClient: [Consumer clientId=consumer-spark-kafka-source-e7b94c18-83a7-48b6-b4ca-aaf4123e5181-373237678-driver-0-1, groupId=spark-kafka-source-e7b94c18-83a7-48b6-b4ca-aaf4123e5181-373237678-driver-0] Connection to node 0 (pd-master/10.67.22.162:9092) could not be established. Broker may not be available.\n",
      "22/09/14 21:45:57 WARN NetworkClient: [Consumer clientId=consumer-spark-kafka-source-e7b94c18-83a7-48b6-b4ca-aaf4123e5181-373237678-driver-0-1, groupId=spark-kafka-source-e7b94c18-83a7-48b6-b4ca-aaf4123e5181-373237678-driver-0] Connection to node 0 (pd-master/10.67.22.162:9092) could not be established. Broker may not be available.\n",
      "22/09/14 21:45:58 WARN NetworkClient: [Consumer clientId=consumer-spark-kafka-source-e7b94c18-83a7-48b6-b4ca-aaf4123e5181-373237678-driver-0-1, groupId=spark-kafka-source-e7b94c18-83a7-48b6-b4ca-aaf4123e5181-373237678-driver-0] Connection to node 0 (pd-master/10.67.22.162:9092) could not be established. Broker may not be available.\n",
      "22/09/14 21:45:59 WARN NetworkClient: [Consumer clientId=consumer-spark-kafka-source-e7b94c18-83a7-48b6-b4ca-aaf4123e5181-373237678-driver-0-1, groupId=spark-kafka-source-e7b94c18-83a7-48b6-b4ca-aaf4123e5181-373237678-driver-0] Connection to node 0 (pd-master/10.67.22.162:9092) could not be established. Broker may not be available.\n",
      "22/09/14 21:46:00 WARN NetworkClient: [Consumer clientId=consumer-spark-kafka-source-e7b94c18-83a7-48b6-b4ca-aaf4123e5181-373237678-driver-0-1, groupId=spark-kafka-source-e7b94c18-83a7-48b6-b4ca-aaf4123e5181-373237678-driver-0] Connection to node 0 (pd-master/10.67.22.162:9092) could not be established. Broker may not be available.\n",
      "22/09/14 21:46:01 WARN NetworkClient: [Consumer clientId=consumer-spark-kafka-source-e7b94c18-83a7-48b6-b4ca-aaf4123e5181-373237678-driver-0-1, groupId=spark-kafka-source-e7b94c18-83a7-48b6-b4ca-aaf4123e5181-373237678-driver-0] Connection to node 0 (pd-master/10.67.22.162:9092) could not be established. Broker may not be available.\n",
      "22/09/14 21:46:02 WARN NetworkClient: [Consumer clientId=consumer-spark-kafka-source-e7b94c18-83a7-48b6-b4ca-aaf4123e5181-373237678-driver-0-1, groupId=spark-kafka-source-e7b94c18-83a7-48b6-b4ca-aaf4123e5181-373237678-driver-0] Connection to node 0 (pd-master/10.67.22.162:9092) could not be established. Broker may not be available.\n",
      "22/09/14 21:46:03 WARN NetworkClient: [Consumer clientId=consumer-spark-kafka-source-e7b94c18-83a7-48b6-b4ca-aaf4123e5181-373237678-driver-0-1, groupId=spark-kafka-source-e7b94c18-83a7-48b6-b4ca-aaf4123e5181-373237678-driver-0] Connection to node 0 (pd-master/10.67.22.162:9092) could not be established. Broker may not be available.\n",
      "22/09/14 21:46:04 WARN NetworkClient: [Consumer clientId=consumer-spark-kafka-source-e7b94c18-83a7-48b6-b4ca-aaf4123e5181-373237678-driver-0-1, groupId=spark-kafka-source-e7b94c18-83a7-48b6-b4ca-aaf4123e5181-373237678-driver-0] Connection to node 0 (pd-master/10.67.22.162:9092) could not be established. Broker may not be available.\n",
      "22/09/14 21:46:05 WARN NetworkClient: [Consumer clientId=consumer-spark-kafka-source-e7b94c18-83a7-48b6-b4ca-aaf4123e5181-373237678-driver-0-1, groupId=spark-kafka-source-e7b94c18-83a7-48b6-b4ca-aaf4123e5181-373237678-driver-0] Connection to node 0 (pd-master/10.67.22.162:9092) could not be established. Broker may not be available.\n",
      "22/09/14 21:46:06 WARN NetworkClient: [Consumer clientId=consumer-spark-kafka-source-e7b94c18-83a7-48b6-b4ca-aaf4123e5181-373237678-driver-0-1, groupId=spark-kafka-source-e7b94c18-83a7-48b6-b4ca-aaf4123e5181-373237678-driver-0] Connection to node 0 (pd-master/10.67.22.162:9092) could not be established. Broker may not be available.\n",
      "22/09/14 21:46:07 WARN NetworkClient: [Consumer clientId=consumer-spark-kafka-source-e7b94c18-83a7-48b6-b4ca-aaf4123e5181-373237678-driver-0-1, groupId=spark-kafka-source-e7b94c18-83a7-48b6-b4ca-aaf4123e5181-373237678-driver-0] Connection to node 0 (pd-master/10.67.22.162:9092) could not be established. Broker may not be available.\n",
      "22/09/14 21:46:08 WARN NetworkClient: [Consumer clientId=consumer-spark-kafka-source-e7b94c18-83a7-48b6-b4ca-aaf4123e5181-373237678-driver-0-1, groupId=spark-kafka-source-e7b94c18-83a7-48b6-b4ca-aaf4123e5181-373237678-driver-0] Connection to node 0 (pd-master/10.67.22.162:9092) could not be established. Broker may not be available.\n",
      "22/09/14 21:46:09 WARN NetworkClient: [Consumer clientId=consumer-spark-kafka-source-e7b94c18-83a7-48b6-b4ca-aaf4123e5181-373237678-driver-0-1, groupId=spark-kafka-source-e7b94c18-83a7-48b6-b4ca-aaf4123e5181-373237678-driver-0] Connection to node 0 (pd-master/10.67.22.162:9092) could not be established. Broker may not be available.\n",
      "22/09/14 21:46:10 WARN NetworkClient: [Consumer clientId=consumer-spark-kafka-source-e7b94c18-83a7-48b6-b4ca-aaf4123e5181-373237678-driver-0-1, groupId=spark-kafka-source-e7b94c18-83a7-48b6-b4ca-aaf4123e5181-373237678-driver-0] Connection to node 0 (pd-master/10.67.22.162:9092) could not be established. Broker may not be available.\n",
      "22/09/14 21:46:11 WARN NetworkClient: [Consumer clientId=consumer-spark-kafka-source-e7b94c18-83a7-48b6-b4ca-aaf4123e5181-373237678-driver-0-1, groupId=spark-kafka-source-e7b94c18-83a7-48b6-b4ca-aaf4123e5181-373237678-driver-0] Connection to node 0 (pd-master/10.67.22.162:9092) could not be established. Broker may not be available.\n",
      "22/09/14 21:46:12 WARN NetworkClient: [Consumer clientId=consumer-spark-kafka-source-e7b94c18-83a7-48b6-b4ca-aaf4123e5181-373237678-driver-0-1, groupId=spark-kafka-source-e7b94c18-83a7-48b6-b4ca-aaf4123e5181-373237678-driver-0] Connection to node 0 (pd-master/10.67.22.162:9092) could not be established. Broker may not be available.\n",
      "22/09/14 21:46:13 WARN NetworkClient: [Consumer clientId=consumer-spark-kafka-source-e7b94c18-83a7-48b6-b4ca-aaf4123e5181-373237678-driver-0-1, groupId=spark-kafka-source-e7b94c18-83a7-48b6-b4ca-aaf4123e5181-373237678-driver-0] Connection to node 0 (pd-master/10.67.22.162:9092) could not be established. Broker may not be available.\n",
      "22/09/14 21:46:14 WARN NetworkClient: [Consumer clientId=consumer-spark-kafka-source-e7b94c18-83a7-48b6-b4ca-aaf4123e5181-373237678-driver-0-1, groupId=spark-kafka-source-e7b94c18-83a7-48b6-b4ca-aaf4123e5181-373237678-driver-0] Connection to node 0 (pd-master/10.67.22.162:9092) could not be established. Broker may not be available.\n"
     ]
    },
    {
     "name": "stdout",
     "output_type": "stream",
     "text": [
      "22/09/14 21:46:15 WARN NetworkClient: [Consumer clientId=consumer-spark-kafka-source-e7b94c18-83a7-48b6-b4ca-aaf4123e5181-373237678-driver-0-1, groupId=spark-kafka-source-e7b94c18-83a7-48b6-b4ca-aaf4123e5181-373237678-driver-0] Connection to node 0 (pd-master/10.67.22.162:9092) could not be established. Broker may not be available.\n",
      "22/09/14 21:46:16 WARN NetworkClient: [Consumer clientId=consumer-spark-kafka-source-e7b94c18-83a7-48b6-b4ca-aaf4123e5181-373237678-driver-0-1, groupId=spark-kafka-source-e7b94c18-83a7-48b6-b4ca-aaf4123e5181-373237678-driver-0] Connection to node 0 (pd-master/10.67.22.162:9092) could not be established. Broker may not be available.\n",
      "22/09/14 21:46:17 WARN NetworkClient: [Consumer clientId=consumer-spark-kafka-source-e7b94c18-83a7-48b6-b4ca-aaf4123e5181-373237678-driver-0-1, groupId=spark-kafka-source-e7b94c18-83a7-48b6-b4ca-aaf4123e5181-373237678-driver-0] Connection to node 0 (pd-master/10.67.22.162:9092) could not be established. Broker may not be available.\n",
      "22/09/14 21:46:18 WARN NetworkClient: [Consumer clientId=consumer-spark-kafka-source-e7b94c18-83a7-48b6-b4ca-aaf4123e5181-373237678-driver-0-1, groupId=spark-kafka-source-e7b94c18-83a7-48b6-b4ca-aaf4123e5181-373237678-driver-0] Connection to node 0 (pd-master/10.67.22.162:9092) could not be established. Broker may not be available.\n",
      "22/09/14 21:46:19 WARN NetworkClient: [Consumer clientId=consumer-spark-kafka-source-e7b94c18-83a7-48b6-b4ca-aaf4123e5181-373237678-driver-0-1, groupId=spark-kafka-source-e7b94c18-83a7-48b6-b4ca-aaf4123e5181-373237678-driver-0] Connection to node 0 (pd-master/10.67.22.162:9092) could not be established. Broker may not be available.\n",
      "22/09/14 21:46:20 WARN NetworkClient: [Consumer clientId=consumer-spark-kafka-source-e7b94c18-83a7-48b6-b4ca-aaf4123e5181-373237678-driver-0-1, groupId=spark-kafka-source-e7b94c18-83a7-48b6-b4ca-aaf4123e5181-373237678-driver-0] Connection to node 0 (pd-master/10.67.22.162:9092) could not be established. Broker may not be available.\n",
      "22/09/14 21:46:21 WARN NetworkClient: [Consumer clientId=consumer-spark-kafka-source-e7b94c18-83a7-48b6-b4ca-aaf4123e5181-373237678-driver-0-1, groupId=spark-kafka-source-e7b94c18-83a7-48b6-b4ca-aaf4123e5181-373237678-driver-0] Connection to node 0 (pd-master/10.67.22.162:9092) could not be established. Broker may not be available.\n",
      "22/09/14 21:46:22 WARN NetworkClient: [Consumer clientId=consumer-spark-kafka-source-e7b94c18-83a7-48b6-b4ca-aaf4123e5181-373237678-driver-0-1, groupId=spark-kafka-source-e7b94c18-83a7-48b6-b4ca-aaf4123e5181-373237678-driver-0] Connection to node 0 (pd-master/10.67.22.162:9092) could not be established. Broker may not be available.\n",
      "22/09/14 21:46:23 WARN NetworkClient: [Consumer clientId=consumer-spark-kafka-source-e7b94c18-83a7-48b6-b4ca-aaf4123e5181-373237678-driver-0-1, groupId=spark-kafka-source-e7b94c18-83a7-48b6-b4ca-aaf4123e5181-373237678-driver-0] Connection to node 0 (pd-master/10.67.22.162:9092) could not be established. Broker may not be available.\n",
      "22/09/14 21:46:24 WARN NetworkClient: [Consumer clientId=consumer-spark-kafka-source-e7b94c18-83a7-48b6-b4ca-aaf4123e5181-373237678-driver-0-1, groupId=spark-kafka-source-e7b94c18-83a7-48b6-b4ca-aaf4123e5181-373237678-driver-0] Connection to node 0 (pd-master/10.67.22.162:9092) could not be established. Broker may not be available.\n",
      "22/09/14 21:46:25 WARN NetworkClient: [Consumer clientId=consumer-spark-kafka-source-e7b94c18-83a7-48b6-b4ca-aaf4123e5181-373237678-driver-0-1, groupId=spark-kafka-source-e7b94c18-83a7-48b6-b4ca-aaf4123e5181-373237678-driver-0] Connection to node 0 (pd-master/10.67.22.162:9092) could not be established. Broker may not be available.\n",
      "22/09/14 21:46:26 WARN NetworkClient: [Consumer clientId=consumer-spark-kafka-source-e7b94c18-83a7-48b6-b4ca-aaf4123e5181-373237678-driver-0-1, groupId=spark-kafka-source-e7b94c18-83a7-48b6-b4ca-aaf4123e5181-373237678-driver-0] Connection to node 0 (pd-master/10.67.22.162:9092) could not be established. Broker may not be available.\n",
      "22/09/14 21:46:27 WARN NetworkClient: [Consumer clientId=consumer-spark-kafka-source-e7b94c18-83a7-48b6-b4ca-aaf4123e5181-373237678-driver-0-1, groupId=spark-kafka-source-e7b94c18-83a7-48b6-b4ca-aaf4123e5181-373237678-driver-0] Connection to node 0 (pd-master/10.67.22.162:9092) could not be established. Broker may not be available.\n",
      "22/09/14 21:46:28 WARN NetworkClient: [Consumer clientId=consumer-spark-kafka-source-e7b94c18-83a7-48b6-b4ca-aaf4123e5181-373237678-driver-0-1, groupId=spark-kafka-source-e7b94c18-83a7-48b6-b4ca-aaf4123e5181-373237678-driver-0] Connection to node 0 (pd-master/10.67.22.162:9092) could not be established. Broker may not be available.\n",
      "22/09/14 21:46:29 WARN NetworkClient: [Consumer clientId=consumer-spark-kafka-source-e7b94c18-83a7-48b6-b4ca-aaf4123e5181-373237678-driver-0-1, groupId=spark-kafka-source-e7b94c18-83a7-48b6-b4ca-aaf4123e5181-373237678-driver-0] Connection to node 0 (pd-master/10.67.22.162:9092) could not be established. Broker may not be available.\n",
      "22/09/14 21:46:30 WARN NetworkClient: [Consumer clientId=consumer-spark-kafka-source-e7b94c18-83a7-48b6-b4ca-aaf4123e5181-373237678-driver-0-1, groupId=spark-kafka-source-e7b94c18-83a7-48b6-b4ca-aaf4123e5181-373237678-driver-0] Connection to node 0 (pd-master/10.67.22.162:9092) could not be established. Broker may not be available.\n",
      "22/09/14 21:46:31 WARN NetworkClient: [Consumer clientId=consumer-spark-kafka-source-e7b94c18-83a7-48b6-b4ca-aaf4123e5181-373237678-driver-0-1, groupId=spark-kafka-source-e7b94c18-83a7-48b6-b4ca-aaf4123e5181-373237678-driver-0] Connection to node 0 (pd-master/10.67.22.162:9092) could not be established. Broker may not be available.\n",
      "22/09/14 21:46:32 WARN NetworkClient: [Consumer clientId=consumer-spark-kafka-source-e7b94c18-83a7-48b6-b4ca-aaf4123e5181-373237678-driver-0-1, groupId=spark-kafka-source-e7b94c18-83a7-48b6-b4ca-aaf4123e5181-373237678-driver-0] Connection to node 0 (pd-master/10.67.22.162:9092) could not be established. Broker may not be available.\n",
      "22/09/14 21:46:33 WARN NetworkClient: [Consumer clientId=consumer-spark-kafka-source-e7b94c18-83a7-48b6-b4ca-aaf4123e5181-373237678-driver-0-1, groupId=spark-kafka-source-e7b94c18-83a7-48b6-b4ca-aaf4123e5181-373237678-driver-0] Connection to node 0 (pd-master/10.67.22.162:9092) could not be established. Broker may not be available.\n",
      "22/09/14 21:46:34 WARN NetworkClient: [Consumer clientId=consumer-spark-kafka-source-e7b94c18-83a7-48b6-b4ca-aaf4123e5181-373237678-driver-0-1, groupId=spark-kafka-source-e7b94c18-83a7-48b6-b4ca-aaf4123e5181-373237678-driver-0] Connection to node 0 (pd-master/10.67.22.162:9092) could not be established. Broker may not be available.\n",
      "22/09/14 21:46:35 WARN NetworkClient: [Consumer clientId=consumer-spark-kafka-source-e7b94c18-83a7-48b6-b4ca-aaf4123e5181-373237678-driver-0-1, groupId=spark-kafka-source-e7b94c18-83a7-48b6-b4ca-aaf4123e5181-373237678-driver-0] Connection to node 0 (pd-master/10.67.22.162:9092) could not be established. Broker may not be available.\n",
      "22/09/14 21:46:36 WARN NetworkClient: [Consumer clientId=consumer-spark-kafka-source-e7b94c18-83a7-48b6-b4ca-aaf4123e5181-373237678-driver-0-1, groupId=spark-kafka-source-e7b94c18-83a7-48b6-b4ca-aaf4123e5181-373237678-driver-0] Connection to node 0 (pd-master/10.67.22.162:9092) could not be established. Broker may not be available.\n",
      "22/09/14 21:46:37 WARN NetworkClient: [Consumer clientId=consumer-spark-kafka-source-e7b94c18-83a7-48b6-b4ca-aaf4123e5181-373237678-driver-0-1, groupId=spark-kafka-source-e7b94c18-83a7-48b6-b4ca-aaf4123e5181-373237678-driver-0] Connection to node 0 (pd-master/10.67.22.162:9092) could not be established. Broker may not be available.\n",
      "22/09/14 21:46:38 WARN NetworkClient: [Consumer clientId=consumer-spark-kafka-source-e7b94c18-83a7-48b6-b4ca-aaf4123e5181-373237678-driver-0-1, groupId=spark-kafka-source-e7b94c18-83a7-48b6-b4ca-aaf4123e5181-373237678-driver-0] Connection to node 0 (pd-master/10.67.22.162:9092) could not be established. Broker may not be available.\n",
      "22/09/14 21:46:39 WARN NetworkClient: [Consumer clientId=consumer-spark-kafka-source-e7b94c18-83a7-48b6-b4ca-aaf4123e5181-373237678-driver-0-1, groupId=spark-kafka-source-e7b94c18-83a7-48b6-b4ca-aaf4123e5181-373237678-driver-0] Connection to node 0 (pd-master/10.67.22.162:9092) could not be established. Broker may not be available.\n"
     ]
    },
    {
     "name": "stdout",
     "output_type": "stream",
     "text": [
      "22/09/14 21:46:40 WARN NetworkClient: [Consumer clientId=consumer-spark-kafka-source-e7b94c18-83a7-48b6-b4ca-aaf4123e5181-373237678-driver-0-1, groupId=spark-kafka-source-e7b94c18-83a7-48b6-b4ca-aaf4123e5181-373237678-driver-0] Connection to node 0 (pd-master/10.67.22.162:9092) could not be established. Broker may not be available.\n",
      "22/09/14 21:46:41 WARN NetworkClient: [Consumer clientId=consumer-spark-kafka-source-e7b94c18-83a7-48b6-b4ca-aaf4123e5181-373237678-driver-0-1, groupId=spark-kafka-source-e7b94c18-83a7-48b6-b4ca-aaf4123e5181-373237678-driver-0] Connection to node 0 (pd-master/10.67.22.162:9092) could not be established. Broker may not be available.\n",
      "22/09/14 21:46:42 WARN NetworkClient: [Consumer clientId=consumer-spark-kafka-source-e7b94c18-83a7-48b6-b4ca-aaf4123e5181-373237678-driver-0-1, groupId=spark-kafka-source-e7b94c18-83a7-48b6-b4ca-aaf4123e5181-373237678-driver-0] Connection to node 0 (pd-master/10.67.22.162:9092) could not be established. Broker may not be available.\n",
      "22/09/14 21:46:43 WARN NetworkClient: [Consumer clientId=consumer-spark-kafka-source-e7b94c18-83a7-48b6-b4ca-aaf4123e5181-373237678-driver-0-1, groupId=spark-kafka-source-e7b94c18-83a7-48b6-b4ca-aaf4123e5181-373237678-driver-0] Connection to node 0 (pd-master/10.67.22.162:9092) could not be established. Broker may not be available.\n",
      "22/09/14 21:46:44 WARN NetworkClient: [Consumer clientId=consumer-spark-kafka-source-e7b94c18-83a7-48b6-b4ca-aaf4123e5181-373237678-driver-0-1, groupId=spark-kafka-source-e7b94c18-83a7-48b6-b4ca-aaf4123e5181-373237678-driver-0] Connection to node 0 (pd-master/10.67.22.162:9092) could not be established. Broker may not be available.\n",
      "22/09/14 21:46:45 WARN NetworkClient: [Consumer clientId=consumer-spark-kafka-source-e7b94c18-83a7-48b6-b4ca-aaf4123e5181-373237678-driver-0-1, groupId=spark-kafka-source-e7b94c18-83a7-48b6-b4ca-aaf4123e5181-373237678-driver-0] Connection to node 0 (pd-master/10.67.22.162:9092) could not be established. Broker may not be available.\n",
      "22/09/14 21:46:46 WARN NetworkClient: [Consumer clientId=consumer-spark-kafka-source-e7b94c18-83a7-48b6-b4ca-aaf4123e5181-373237678-driver-0-1, groupId=spark-kafka-source-e7b94c18-83a7-48b6-b4ca-aaf4123e5181-373237678-driver-0] Connection to node 0 (pd-master/10.67.22.162:9092) could not be established. Broker may not be available.\n",
      "22/09/14 21:46:47 WARN NetworkClient: [Consumer clientId=consumer-spark-kafka-source-e7b94c18-83a7-48b6-b4ca-aaf4123e5181-373237678-driver-0-1, groupId=spark-kafka-source-e7b94c18-83a7-48b6-b4ca-aaf4123e5181-373237678-driver-0] Connection to node 0 (pd-master/10.67.22.162:9092) could not be established. Broker may not be available.\n",
      "22/09/14 21:46:48 WARN NetworkClient: [Consumer clientId=consumer-spark-kafka-source-e7b94c18-83a7-48b6-b4ca-aaf4123e5181-373237678-driver-0-1, groupId=spark-kafka-source-e7b94c18-83a7-48b6-b4ca-aaf4123e5181-373237678-driver-0] Connection to node 0 (pd-master/10.67.22.162:9092) could not be established. Broker may not be available.\n",
      "22/09/14 21:46:49 WARN NetworkClient: [Consumer clientId=consumer-spark-kafka-source-e7b94c18-83a7-48b6-b4ca-aaf4123e5181-373237678-driver-0-1, groupId=spark-kafka-source-e7b94c18-83a7-48b6-b4ca-aaf4123e5181-373237678-driver-0] Connection to node 0 (pd-master/10.67.22.162:9092) could not be established. Broker may not be available.\n",
      "22/09/14 21:46:50 WARN NetworkClient: [Consumer clientId=consumer-spark-kafka-source-e7b94c18-83a7-48b6-b4ca-aaf4123e5181-373237678-driver-0-1, groupId=spark-kafka-source-e7b94c18-83a7-48b6-b4ca-aaf4123e5181-373237678-driver-0] Connection to node 0 (pd-master/10.67.22.162:9092) could not be established. Broker may not be available.\n",
      "22/09/14 21:46:51 WARN NetworkClient: [Consumer clientId=consumer-spark-kafka-source-e7b94c18-83a7-48b6-b4ca-aaf4123e5181-373237678-driver-0-1, groupId=spark-kafka-source-e7b94c18-83a7-48b6-b4ca-aaf4123e5181-373237678-driver-0] Connection to node 0 (pd-master/10.67.22.162:9092) could not be established. Broker may not be available.\n",
      "22/09/14 21:46:52 WARN NetworkClient: [Consumer clientId=consumer-spark-kafka-source-e7b94c18-83a7-48b6-b4ca-aaf4123e5181-373237678-driver-0-1, groupId=spark-kafka-source-e7b94c18-83a7-48b6-b4ca-aaf4123e5181-373237678-driver-0] Connection to node 0 (pd-master/10.67.22.162:9092) could not be established. Broker may not be available.\n",
      "22/09/14 21:46:53 WARN NetworkClient: [Consumer clientId=consumer-spark-kafka-source-e7b94c18-83a7-48b6-b4ca-aaf4123e5181-373237678-driver-0-1, groupId=spark-kafka-source-e7b94c18-83a7-48b6-b4ca-aaf4123e5181-373237678-driver-0] Connection to node 0 (pd-master/10.67.22.162:9092) could not be established. Broker may not be available.\n",
      "22/09/14 21:46:54 WARN NetworkClient: [Consumer clientId=consumer-spark-kafka-source-e7b94c18-83a7-48b6-b4ca-aaf4123e5181-373237678-driver-0-1, groupId=spark-kafka-source-e7b94c18-83a7-48b6-b4ca-aaf4123e5181-373237678-driver-0] Connection to node 0 (pd-master/10.67.22.162:9092) could not be established. Broker may not be available.\n",
      "22/09/14 21:46:55 WARN NetworkClient: [Consumer clientId=consumer-spark-kafka-source-e7b94c18-83a7-48b6-b4ca-aaf4123e5181-373237678-driver-0-1, groupId=spark-kafka-source-e7b94c18-83a7-48b6-b4ca-aaf4123e5181-373237678-driver-0] Connection to node 0 (pd-master/10.67.22.162:9092) could not be established. Broker may not be available.\n",
      "22/09/14 21:46:56 WARN NetworkClient: [Consumer clientId=consumer-spark-kafka-source-e7b94c18-83a7-48b6-b4ca-aaf4123e5181-373237678-driver-0-1, groupId=spark-kafka-source-e7b94c18-83a7-48b6-b4ca-aaf4123e5181-373237678-driver-0] Connection to node 0 (pd-master/10.67.22.162:9092) could not be established. Broker may not be available.\n",
      "22/09/14 21:46:57 WARN NetworkClient: [Consumer clientId=consumer-spark-kafka-source-e7b94c18-83a7-48b6-b4ca-aaf4123e5181-373237678-driver-0-1, groupId=spark-kafka-source-e7b94c18-83a7-48b6-b4ca-aaf4123e5181-373237678-driver-0] Connection to node 0 (pd-master/10.67.22.162:9092) could not be established. Broker may not be available.\n",
      "22/09/14 21:46:58 WARN NetworkClient: [Consumer clientId=consumer-spark-kafka-source-e7b94c18-83a7-48b6-b4ca-aaf4123e5181-373237678-driver-0-1, groupId=spark-kafka-source-e7b94c18-83a7-48b6-b4ca-aaf4123e5181-373237678-driver-0] Connection to node 0 (pd-master/10.67.22.162:9092) could not be established. Broker may not be available.\n",
      "22/09/14 21:46:59 WARN NetworkClient: [Consumer clientId=consumer-spark-kafka-source-e7b94c18-83a7-48b6-b4ca-aaf4123e5181-373237678-driver-0-1, groupId=spark-kafka-source-e7b94c18-83a7-48b6-b4ca-aaf4123e5181-373237678-driver-0] Connection to node 0 (pd-master/10.67.22.162:9092) could not be established. Broker may not be available.\n",
      "22/09/14 21:47:00 WARN NetworkClient: [Consumer clientId=consumer-spark-kafka-source-e7b94c18-83a7-48b6-b4ca-aaf4123e5181-373237678-driver-0-1, groupId=spark-kafka-source-e7b94c18-83a7-48b6-b4ca-aaf4123e5181-373237678-driver-0] Connection to node 0 (pd-master/10.67.22.162:9092) could not be established. Broker may not be available.\n",
      "22/09/14 21:47:01 WARN NetworkClient: [Consumer clientId=consumer-spark-kafka-source-e7b94c18-83a7-48b6-b4ca-aaf4123e5181-373237678-driver-0-1, groupId=spark-kafka-source-e7b94c18-83a7-48b6-b4ca-aaf4123e5181-373237678-driver-0] Connection to node 0 (pd-master/10.67.22.162:9092) could not be established. Broker may not be available.\n",
      "22/09/14 21:47:02 WARN NetworkClient: [Consumer clientId=consumer-spark-kafka-source-e7b94c18-83a7-48b6-b4ca-aaf4123e5181-373237678-driver-0-1, groupId=spark-kafka-source-e7b94c18-83a7-48b6-b4ca-aaf4123e5181-373237678-driver-0] Connection to node 0 (pd-master/10.67.22.162:9092) could not be established. Broker may not be available.\n",
      "22/09/14 21:47:03 WARN NetworkClient: [Consumer clientId=consumer-spark-kafka-source-e7b94c18-83a7-48b6-b4ca-aaf4123e5181-373237678-driver-0-1, groupId=spark-kafka-source-e7b94c18-83a7-48b6-b4ca-aaf4123e5181-373237678-driver-0] Connection to node 0 (pd-master/10.67.22.162:9092) could not be established. Broker may not be available.\n",
      "22/09/14 21:47:04 WARN NetworkClient: [Consumer clientId=consumer-spark-kafka-source-e7b94c18-83a7-48b6-b4ca-aaf4123e5181-373237678-driver-0-1, groupId=spark-kafka-source-e7b94c18-83a7-48b6-b4ca-aaf4123e5181-373237678-driver-0] Connection to node 0 (pd-master/10.67.22.162:9092) could not be established. Broker may not be available.\n"
     ]
    },
    {
     "name": "stdout",
     "output_type": "stream",
     "text": [
      "22/09/14 21:47:05 WARN NetworkClient: [Consumer clientId=consumer-spark-kafka-source-e7b94c18-83a7-48b6-b4ca-aaf4123e5181-373237678-driver-0-1, groupId=spark-kafka-source-e7b94c18-83a7-48b6-b4ca-aaf4123e5181-373237678-driver-0] Connection to node 0 (pd-master/10.67.22.162:9092) could not be established. Broker may not be available.\n",
      "22/09/14 21:47:06 WARN NetworkClient: [Consumer clientId=consumer-spark-kafka-source-e7b94c18-83a7-48b6-b4ca-aaf4123e5181-373237678-driver-0-1, groupId=spark-kafka-source-e7b94c18-83a7-48b6-b4ca-aaf4123e5181-373237678-driver-0] Connection to node 0 (pd-master/10.67.22.162:9092) could not be established. Broker may not be available.\n",
      "22/09/14 21:47:07 WARN NetworkClient: [Consumer clientId=consumer-spark-kafka-source-e7b94c18-83a7-48b6-b4ca-aaf4123e5181-373237678-driver-0-1, groupId=spark-kafka-source-e7b94c18-83a7-48b6-b4ca-aaf4123e5181-373237678-driver-0] Connection to node 0 (pd-master/10.67.22.162:9092) could not be established. Broker may not be available.\n",
      "22/09/14 21:47:08 WARN NetworkClient: [Consumer clientId=consumer-spark-kafka-source-e7b94c18-83a7-48b6-b4ca-aaf4123e5181-373237678-driver-0-1, groupId=spark-kafka-source-e7b94c18-83a7-48b6-b4ca-aaf4123e5181-373237678-driver-0] Connection to node 0 (pd-master/10.67.22.162:9092) could not be established. Broker may not be available.\n",
      "22/09/14 21:47:09 WARN NetworkClient: [Consumer clientId=consumer-spark-kafka-source-e7b94c18-83a7-48b6-b4ca-aaf4123e5181-373237678-driver-0-1, groupId=spark-kafka-source-e7b94c18-83a7-48b6-b4ca-aaf4123e5181-373237678-driver-0] Connection to node 0 (pd-master/10.67.22.162:9092) could not be established. Broker may not be available.\n",
      "22/09/14 21:47:10 WARN NetworkClient: [Consumer clientId=consumer-spark-kafka-source-e7b94c18-83a7-48b6-b4ca-aaf4123e5181-373237678-driver-0-1, groupId=spark-kafka-source-e7b94c18-83a7-48b6-b4ca-aaf4123e5181-373237678-driver-0] Connection to node 0 (pd-master/10.67.22.162:9092) could not be established. Broker may not be available.\n",
      "22/09/14 21:47:11 WARN NetworkClient: [Consumer clientId=consumer-spark-kafka-source-e7b94c18-83a7-48b6-b4ca-aaf4123e5181-373237678-driver-0-1, groupId=spark-kafka-source-e7b94c18-83a7-48b6-b4ca-aaf4123e5181-373237678-driver-0] Connection to node 0 (pd-master/10.67.22.162:9092) could not be established. Broker may not be available.\n",
      "22/09/14 21:47:12 WARN NetworkClient: [Consumer clientId=consumer-spark-kafka-source-e7b94c18-83a7-48b6-b4ca-aaf4123e5181-373237678-driver-0-1, groupId=spark-kafka-source-e7b94c18-83a7-48b6-b4ca-aaf4123e5181-373237678-driver-0] Connection to node 0 (pd-master/10.67.22.162:9092) could not be established. Broker may not be available.\n",
      "22/09/14 21:47:13 WARN NetworkClient: [Consumer clientId=consumer-spark-kafka-source-e7b94c18-83a7-48b6-b4ca-aaf4123e5181-373237678-driver-0-1, groupId=spark-kafka-source-e7b94c18-83a7-48b6-b4ca-aaf4123e5181-373237678-driver-0] Connection to node 0 (pd-master/10.67.22.162:9092) could not be established. Broker may not be available.\n",
      "22/09/14 21:47:14 WARN NetworkClient: [Consumer clientId=consumer-spark-kafka-source-e7b94c18-83a7-48b6-b4ca-aaf4123e5181-373237678-driver-0-1, groupId=spark-kafka-source-e7b94c18-83a7-48b6-b4ca-aaf4123e5181-373237678-driver-0] Connection to node 0 (pd-master/10.67.22.162:9092) could not be established. Broker may not be available.\n",
      "22/09/14 21:47:16 WARN NetworkClient: [Consumer clientId=consumer-spark-kafka-source-e7b94c18-83a7-48b6-b4ca-aaf4123e5181-373237678-driver-0-1, groupId=spark-kafka-source-e7b94c18-83a7-48b6-b4ca-aaf4123e5181-373237678-driver-0] Connection to node 0 (pd-master/10.67.22.162:9092) could not be established. Broker may not be available.\n",
      "22/09/14 21:47:17 WARN NetworkClient: [Consumer clientId=consumer-spark-kafka-source-e7b94c18-83a7-48b6-b4ca-aaf4123e5181-373237678-driver-0-1, groupId=spark-kafka-source-e7b94c18-83a7-48b6-b4ca-aaf4123e5181-373237678-driver-0] Connection to node 0 (pd-master/10.67.22.162:9092) could not be established. Broker may not be available.\n",
      "22/09/14 21:47:17 WARN NetworkClient: [Consumer clientId=consumer-spark-kafka-source-e7b94c18-83a7-48b6-b4ca-aaf4123e5181-373237678-driver-0-1, groupId=spark-kafka-source-e7b94c18-83a7-48b6-b4ca-aaf4123e5181-373237678-driver-0] Connection to node 0 (pd-master/10.67.22.162:9092) could not be established. Broker may not be available.\n",
      "22/09/14 21:47:18 WARN NetworkClient: [Consumer clientId=consumer-spark-kafka-source-e7b94c18-83a7-48b6-b4ca-aaf4123e5181-373237678-driver-0-1, groupId=spark-kafka-source-e7b94c18-83a7-48b6-b4ca-aaf4123e5181-373237678-driver-0] Connection to node 0 (pd-master/10.67.22.162:9092) could not be established. Broker may not be available.\n",
      "22/09/14 21:47:19 WARN NetworkClient: [Consumer clientId=consumer-spark-kafka-source-e7b94c18-83a7-48b6-b4ca-aaf4123e5181-373237678-driver-0-1, groupId=spark-kafka-source-e7b94c18-83a7-48b6-b4ca-aaf4123e5181-373237678-driver-0] Connection to node 0 (pd-master/10.67.22.162:9092) could not be established. Broker may not be available.\n",
      "22/09/14 21:47:20 WARN NetworkClient: [Consumer clientId=consumer-spark-kafka-source-e7b94c18-83a7-48b6-b4ca-aaf4123e5181-373237678-driver-0-1, groupId=spark-kafka-source-e7b94c18-83a7-48b6-b4ca-aaf4123e5181-373237678-driver-0] Connection to node 0 (pd-master/10.67.22.162:9092) could not be established. Broker may not be available.\n",
      "22/09/14 21:47:21 WARN NetworkClient: [Consumer clientId=consumer-spark-kafka-source-e7b94c18-83a7-48b6-b4ca-aaf4123e5181-373237678-driver-0-1, groupId=spark-kafka-source-e7b94c18-83a7-48b6-b4ca-aaf4123e5181-373237678-driver-0] Connection to node 0 (pd-master/10.67.22.162:9092) could not be established. Broker may not be available.\n",
      "22/09/14 21:47:22 WARN NetworkClient: [Consumer clientId=consumer-spark-kafka-source-e7b94c18-83a7-48b6-b4ca-aaf4123e5181-373237678-driver-0-1, groupId=spark-kafka-source-e7b94c18-83a7-48b6-b4ca-aaf4123e5181-373237678-driver-0] Connection to node 0 (pd-master/10.67.22.162:9092) could not be established. Broker may not be available.\n",
      "22/09/14 21:47:23 WARN NetworkClient: [Consumer clientId=consumer-spark-kafka-source-e7b94c18-83a7-48b6-b4ca-aaf4123e5181-373237678-driver-0-1, groupId=spark-kafka-source-e7b94c18-83a7-48b6-b4ca-aaf4123e5181-373237678-driver-0] Connection to node 0 (pd-master/10.67.22.162:9092) could not be established. Broker may not be available.\n",
      "22/09/14 21:47:24 WARN NetworkClient: [Consumer clientId=consumer-spark-kafka-source-e7b94c18-83a7-48b6-b4ca-aaf4123e5181-373237678-driver-0-1, groupId=spark-kafka-source-e7b94c18-83a7-48b6-b4ca-aaf4123e5181-373237678-driver-0] Connection to node 0 (pd-master/10.67.22.162:9092) could not be established. Broker may not be available.\n",
      "22/09/14 21:47:25 WARN NetworkClient: [Consumer clientId=consumer-spark-kafka-source-e7b94c18-83a7-48b6-b4ca-aaf4123e5181-373237678-driver-0-1, groupId=spark-kafka-source-e7b94c18-83a7-48b6-b4ca-aaf4123e5181-373237678-driver-0] Connection to node 0 (pd-master/10.67.22.162:9092) could not be established. Broker may not be available.\n",
      "22/09/14 21:47:26 WARN NetworkClient: [Consumer clientId=consumer-spark-kafka-source-e7b94c18-83a7-48b6-b4ca-aaf4123e5181-373237678-driver-0-1, groupId=spark-kafka-source-e7b94c18-83a7-48b6-b4ca-aaf4123e5181-373237678-driver-0] Connection to node 0 (pd-master/10.67.22.162:9092) could not be established. Broker may not be available.\n",
      "22/09/14 21:47:27 WARN NetworkClient: [Consumer clientId=consumer-spark-kafka-source-e7b94c18-83a7-48b6-b4ca-aaf4123e5181-373237678-driver-0-1, groupId=spark-kafka-source-e7b94c18-83a7-48b6-b4ca-aaf4123e5181-373237678-driver-0] Connection to node 0 (pd-master/10.67.22.162:9092) could not be established. Broker may not be available.\n",
      "22/09/14 21:47:28 WARN NetworkClient: [Consumer clientId=consumer-spark-kafka-source-e7b94c18-83a7-48b6-b4ca-aaf4123e5181-373237678-driver-0-1, groupId=spark-kafka-source-e7b94c18-83a7-48b6-b4ca-aaf4123e5181-373237678-driver-0] Connection to node 0 (pd-master/10.67.22.162:9092) could not be established. Broker may not be available.\n",
      "22/09/14 21:47:29 WARN NetworkClient: [Consumer clientId=consumer-spark-kafka-source-e7b94c18-83a7-48b6-b4ca-aaf4123e5181-373237678-driver-0-1, groupId=spark-kafka-source-e7b94c18-83a7-48b6-b4ca-aaf4123e5181-373237678-driver-0] Connection to node 0 (pd-master/10.67.22.162:9092) could not be established. Broker may not be available.\n"
     ]
    },
    {
     "name": "stdout",
     "output_type": "stream",
     "text": [
      "22/09/14 21:47:30 WARN NetworkClient: [Consumer clientId=consumer-spark-kafka-source-e7b94c18-83a7-48b6-b4ca-aaf4123e5181-373237678-driver-0-1, groupId=spark-kafka-source-e7b94c18-83a7-48b6-b4ca-aaf4123e5181-373237678-driver-0] Connection to node 0 (pd-master/10.67.22.162:9092) could not be established. Broker may not be available.\n",
      "22/09/14 21:47:31 WARN NetworkClient: [Consumer clientId=consumer-spark-kafka-source-e7b94c18-83a7-48b6-b4ca-aaf4123e5181-373237678-driver-0-1, groupId=spark-kafka-source-e7b94c18-83a7-48b6-b4ca-aaf4123e5181-373237678-driver-0] Connection to node 0 (pd-master/10.67.22.162:9092) could not be established. Broker may not be available.\n",
      "22/09/14 21:47:32 WARN NetworkClient: [Consumer clientId=consumer-spark-kafka-source-e7b94c18-83a7-48b6-b4ca-aaf4123e5181-373237678-driver-0-1, groupId=spark-kafka-source-e7b94c18-83a7-48b6-b4ca-aaf4123e5181-373237678-driver-0] Connection to node 0 (pd-master/10.67.22.162:9092) could not be established. Broker may not be available.\n",
      "22/09/14 21:47:33 WARN NetworkClient: [Consumer clientId=consumer-spark-kafka-source-e7b94c18-83a7-48b6-b4ca-aaf4123e5181-373237678-driver-0-1, groupId=spark-kafka-source-e7b94c18-83a7-48b6-b4ca-aaf4123e5181-373237678-driver-0] Connection to node 0 (pd-master/10.67.22.162:9092) could not be established. Broker may not be available.\n",
      "22/09/14 21:47:34 WARN NetworkClient: [Consumer clientId=consumer-spark-kafka-source-e7b94c18-83a7-48b6-b4ca-aaf4123e5181-373237678-driver-0-1, groupId=spark-kafka-source-e7b94c18-83a7-48b6-b4ca-aaf4123e5181-373237678-driver-0] Connection to node 0 (pd-master/10.67.22.162:9092) could not be established. Broker may not be available.\n",
      "22/09/14 21:47:35 WARN NetworkClient: [Consumer clientId=consumer-spark-kafka-source-e7b94c18-83a7-48b6-b4ca-aaf4123e5181-373237678-driver-0-1, groupId=spark-kafka-source-e7b94c18-83a7-48b6-b4ca-aaf4123e5181-373237678-driver-0] Connection to node 0 (pd-master/10.67.22.162:9092) could not be established. Broker may not be available.\n",
      "22/09/14 21:47:36 WARN NetworkClient: [Consumer clientId=consumer-spark-kafka-source-e7b94c18-83a7-48b6-b4ca-aaf4123e5181-373237678-driver-0-1, groupId=spark-kafka-source-e7b94c18-83a7-48b6-b4ca-aaf4123e5181-373237678-driver-0] Connection to node 0 (pd-master/10.67.22.162:9092) could not be established. Broker may not be available.\n",
      "22/09/14 21:47:37 WARN NetworkClient: [Consumer clientId=consumer-spark-kafka-source-e7b94c18-83a7-48b6-b4ca-aaf4123e5181-373237678-driver-0-1, groupId=spark-kafka-source-e7b94c18-83a7-48b6-b4ca-aaf4123e5181-373237678-driver-0] Connection to node 0 (pd-master/10.67.22.162:9092) could not be established. Broker may not be available.\n",
      "22/09/14 21:47:38 WARN NetworkClient: [Consumer clientId=consumer-spark-kafka-source-e7b94c18-83a7-48b6-b4ca-aaf4123e5181-373237678-driver-0-1, groupId=spark-kafka-source-e7b94c18-83a7-48b6-b4ca-aaf4123e5181-373237678-driver-0] Connection to node 0 (pd-master/10.67.22.162:9092) could not be established. Broker may not be available.\n",
      "22/09/14 21:47:39 WARN NetworkClient: [Consumer clientId=consumer-spark-kafka-source-e7b94c18-83a7-48b6-b4ca-aaf4123e5181-373237678-driver-0-1, groupId=spark-kafka-source-e7b94c18-83a7-48b6-b4ca-aaf4123e5181-373237678-driver-0] Connection to node 0 (pd-master/10.67.22.162:9092) could not be established. Broker may not be available.\n",
      "22/09/14 21:47:40 WARN NetworkClient: [Consumer clientId=consumer-spark-kafka-source-e7b94c18-83a7-48b6-b4ca-aaf4123e5181-373237678-driver-0-1, groupId=spark-kafka-source-e7b94c18-83a7-48b6-b4ca-aaf4123e5181-373237678-driver-0] Connection to node 0 (pd-master/10.67.22.162:9092) could not be established. Broker may not be available.\n",
      "22/09/14 21:47:41 WARN NetworkClient: [Consumer clientId=consumer-spark-kafka-source-e7b94c18-83a7-48b6-b4ca-aaf4123e5181-373237678-driver-0-1, groupId=spark-kafka-source-e7b94c18-83a7-48b6-b4ca-aaf4123e5181-373237678-driver-0] Connection to node 0 (pd-master/10.67.22.162:9092) could not be established. Broker may not be available.\n",
      "22/09/14 21:47:42 WARN NetworkClient: [Consumer clientId=consumer-spark-kafka-source-e7b94c18-83a7-48b6-b4ca-aaf4123e5181-373237678-driver-0-1, groupId=spark-kafka-source-e7b94c18-83a7-48b6-b4ca-aaf4123e5181-373237678-driver-0] Connection to node 0 (pd-master/10.67.22.162:9092) could not be established. Broker may not be available.\n",
      "22/09/14 21:47:43 WARN NetworkClient: [Consumer clientId=consumer-spark-kafka-source-e7b94c18-83a7-48b6-b4ca-aaf4123e5181-373237678-driver-0-1, groupId=spark-kafka-source-e7b94c18-83a7-48b6-b4ca-aaf4123e5181-373237678-driver-0] Connection to node 0 (pd-master/10.67.22.162:9092) could not be established. Broker may not be available.\n",
      "22/09/14 21:47:44 WARN NetworkClient: [Consumer clientId=consumer-spark-kafka-source-e7b94c18-83a7-48b6-b4ca-aaf4123e5181-373237678-driver-0-1, groupId=spark-kafka-source-e7b94c18-83a7-48b6-b4ca-aaf4123e5181-373237678-driver-0] Connection to node 0 (pd-master/10.67.22.162:9092) could not be established. Broker may not be available.\n",
      "22/09/14 21:47:45 WARN NetworkClient: [Consumer clientId=consumer-spark-kafka-source-e7b94c18-83a7-48b6-b4ca-aaf4123e5181-373237678-driver-0-1, groupId=spark-kafka-source-e7b94c18-83a7-48b6-b4ca-aaf4123e5181-373237678-driver-0] Connection to node 0 (pd-master/10.67.22.162:9092) could not be established. Broker may not be available.\n",
      "22/09/14 21:47:46 WARN NetworkClient: [Consumer clientId=consumer-spark-kafka-source-e7b94c18-83a7-48b6-b4ca-aaf4123e5181-373237678-driver-0-1, groupId=spark-kafka-source-e7b94c18-83a7-48b6-b4ca-aaf4123e5181-373237678-driver-0] Connection to node 0 (pd-master/10.67.22.162:9092) could not be established. Broker may not be available.\n",
      "22/09/14 21:47:47 WARN NetworkClient: [Consumer clientId=consumer-spark-kafka-source-e7b94c18-83a7-48b6-b4ca-aaf4123e5181-373237678-driver-0-1, groupId=spark-kafka-source-e7b94c18-83a7-48b6-b4ca-aaf4123e5181-373237678-driver-0] Connection to node 0 (pd-master/10.67.22.162:9092) could not be established. Broker may not be available.\n",
      "22/09/14 21:47:49 WARN NetworkClient: [Consumer clientId=consumer-spark-kafka-source-e7b94c18-83a7-48b6-b4ca-aaf4123e5181-373237678-driver-0-1, groupId=spark-kafka-source-e7b94c18-83a7-48b6-b4ca-aaf4123e5181-373237678-driver-0] Connection to node 0 (pd-master/10.67.22.162:9092) could not be established. Broker may not be available.\n",
      "22/09/14 21:47:50 WARN NetworkClient: [Consumer clientId=consumer-spark-kafka-source-e7b94c18-83a7-48b6-b4ca-aaf4123e5181-373237678-driver-0-1, groupId=spark-kafka-source-e7b94c18-83a7-48b6-b4ca-aaf4123e5181-373237678-driver-0] Connection to node 0 (pd-master/10.67.22.162:9092) could not be established. Broker may not be available.\n",
      "22/09/14 21:47:51 WARN NetworkClient: [Consumer clientId=consumer-spark-kafka-source-e7b94c18-83a7-48b6-b4ca-aaf4123e5181-373237678-driver-0-1, groupId=spark-kafka-source-e7b94c18-83a7-48b6-b4ca-aaf4123e5181-373237678-driver-0] Connection to node 0 (pd-master/10.67.22.162:9092) could not be established. Broker may not be available.\n",
      "22/09/14 21:47:52 WARN NetworkClient: [Consumer clientId=consumer-spark-kafka-source-e7b94c18-83a7-48b6-b4ca-aaf4123e5181-373237678-driver-0-1, groupId=spark-kafka-source-e7b94c18-83a7-48b6-b4ca-aaf4123e5181-373237678-driver-0] Connection to node 0 (pd-master/10.67.22.162:9092) could not be established. Broker may not be available.\n",
      "22/09/14 21:47:53 WARN NetworkClient: [Consumer clientId=consumer-spark-kafka-source-e7b94c18-83a7-48b6-b4ca-aaf4123e5181-373237678-driver-0-1, groupId=spark-kafka-source-e7b94c18-83a7-48b6-b4ca-aaf4123e5181-373237678-driver-0] Connection to node 0 (pd-master/10.67.22.162:9092) could not be established. Broker may not be available.\n",
      "22/09/14 21:47:54 WARN NetworkClient: [Consumer clientId=consumer-spark-kafka-source-e7b94c18-83a7-48b6-b4ca-aaf4123e5181-373237678-driver-0-1, groupId=spark-kafka-source-e7b94c18-83a7-48b6-b4ca-aaf4123e5181-373237678-driver-0] Connection to node 0 (pd-master/10.67.22.162:9092) could not be established. Broker may not be available.\n",
      "22/09/14 21:47:55 WARN NetworkClient: [Consumer clientId=consumer-spark-kafka-source-e7b94c18-83a7-48b6-b4ca-aaf4123e5181-373237678-driver-0-1, groupId=spark-kafka-source-e7b94c18-83a7-48b6-b4ca-aaf4123e5181-373237678-driver-0] Connection to node 0 (pd-master/10.67.22.162:9092) could not be established. Broker may not be available.\n"
     ]
    },
    {
     "name": "stdout",
     "output_type": "stream",
     "text": [
      "22/09/14 21:47:56 WARN NetworkClient: [Consumer clientId=consumer-spark-kafka-source-e7b94c18-83a7-48b6-b4ca-aaf4123e5181-373237678-driver-0-1, groupId=spark-kafka-source-e7b94c18-83a7-48b6-b4ca-aaf4123e5181-373237678-driver-0] Connection to node 0 (pd-master/10.67.22.162:9092) could not be established. Broker may not be available.\n",
      "22/09/14 21:47:56 WARN NetworkClient: [Consumer clientId=consumer-spark-kafka-source-e7b94c18-83a7-48b6-b4ca-aaf4123e5181-373237678-driver-0-1, groupId=spark-kafka-source-e7b94c18-83a7-48b6-b4ca-aaf4123e5181-373237678-driver-0] Connection to node 0 (pd-master/10.67.22.162:9092) could not be established. Broker may not be available.\n",
      "22/09/14 21:47:57 WARN NetworkClient: [Consumer clientId=consumer-spark-kafka-source-e7b94c18-83a7-48b6-b4ca-aaf4123e5181-373237678-driver-0-1, groupId=spark-kafka-source-e7b94c18-83a7-48b6-b4ca-aaf4123e5181-373237678-driver-0] Connection to node 0 (pd-master/10.67.22.162:9092) could not be established. Broker may not be available.\n",
      "22/09/14 21:47:58 WARN NetworkClient: [Consumer clientId=consumer-spark-kafka-source-e7b94c18-83a7-48b6-b4ca-aaf4123e5181-373237678-driver-0-1, groupId=spark-kafka-source-e7b94c18-83a7-48b6-b4ca-aaf4123e5181-373237678-driver-0] Connection to node 0 (pd-master/10.67.22.162:9092) could not be established. Broker may not be available.\n",
      "22/09/14 21:48:00 WARN NetworkClient: [Consumer clientId=consumer-spark-kafka-source-e7b94c18-83a7-48b6-b4ca-aaf4123e5181-373237678-driver-0-1, groupId=spark-kafka-source-e7b94c18-83a7-48b6-b4ca-aaf4123e5181-373237678-driver-0] Connection to node 0 (pd-master/10.67.22.162:9092) could not be established. Broker may not be available.\n",
      "22/09/14 21:48:01 WARN NetworkClient: [Consumer clientId=consumer-spark-kafka-source-e7b94c18-83a7-48b6-b4ca-aaf4123e5181-373237678-driver-0-1, groupId=spark-kafka-source-e7b94c18-83a7-48b6-b4ca-aaf4123e5181-373237678-driver-0] Connection to node 0 (pd-master/10.67.22.162:9092) could not be established. Broker may not be available.\n",
      "22/09/14 21:48:02 WARN NetworkClient: [Consumer clientId=consumer-spark-kafka-source-e7b94c18-83a7-48b6-b4ca-aaf4123e5181-373237678-driver-0-1, groupId=spark-kafka-source-e7b94c18-83a7-48b6-b4ca-aaf4123e5181-373237678-driver-0] Connection to node 0 (pd-master/10.67.22.162:9092) could not be established. Broker may not be available.\n",
      "22/09/14 21:48:03 WARN NetworkClient: [Consumer clientId=consumer-spark-kafka-source-e7b94c18-83a7-48b6-b4ca-aaf4123e5181-373237678-driver-0-1, groupId=spark-kafka-source-e7b94c18-83a7-48b6-b4ca-aaf4123e5181-373237678-driver-0] Connection to node 0 (pd-master/10.67.22.162:9092) could not be established. Broker may not be available.\n",
      "22/09/14 21:48:04 WARN NetworkClient: [Consumer clientId=consumer-spark-kafka-source-e7b94c18-83a7-48b6-b4ca-aaf4123e5181-373237678-driver-0-1, groupId=spark-kafka-source-e7b94c18-83a7-48b6-b4ca-aaf4123e5181-373237678-driver-0] Connection to node 0 (pd-master/10.67.22.162:9092) could not be established. Broker may not be available.\n",
      "22/09/14 21:48:05 WARN NetworkClient: [Consumer clientId=consumer-spark-kafka-source-e7b94c18-83a7-48b6-b4ca-aaf4123e5181-373237678-driver-0-1, groupId=spark-kafka-source-e7b94c18-83a7-48b6-b4ca-aaf4123e5181-373237678-driver-0] Connection to node 0 (pd-master/10.67.22.162:9092) could not be established. Broker may not be available.\n",
      "22/09/14 21:48:06 WARN NetworkClient: [Consumer clientId=consumer-spark-kafka-source-e7b94c18-83a7-48b6-b4ca-aaf4123e5181-373237678-driver-0-1, groupId=spark-kafka-source-e7b94c18-83a7-48b6-b4ca-aaf4123e5181-373237678-driver-0] Connection to node 0 (pd-master/10.67.22.162:9092) could not be established. Broker may not be available.\n",
      "22/09/14 21:48:07 WARN NetworkClient: [Consumer clientId=consumer-spark-kafka-source-e7b94c18-83a7-48b6-b4ca-aaf4123e5181-373237678-driver-0-1, groupId=spark-kafka-source-e7b94c18-83a7-48b6-b4ca-aaf4123e5181-373237678-driver-0] Connection to node 0 (pd-master/10.67.22.162:9092) could not be established. Broker may not be available.\n",
      "22/09/14 21:48:08 WARN NetworkClient: [Consumer clientId=consumer-spark-kafka-source-e7b94c18-83a7-48b6-b4ca-aaf4123e5181-373237678-driver-0-1, groupId=spark-kafka-source-e7b94c18-83a7-48b6-b4ca-aaf4123e5181-373237678-driver-0] Connection to node 0 (pd-master/10.67.22.162:9092) could not be established. Broker may not be available.\n",
      "22/09/14 21:48:10 WARN NetworkClient: [Consumer clientId=consumer-spark-kafka-source-e7b94c18-83a7-48b6-b4ca-aaf4123e5181-373237678-driver-0-1, groupId=spark-kafka-source-e7b94c18-83a7-48b6-b4ca-aaf4123e5181-373237678-driver-0] Connection to node 0 (pd-master/10.67.22.162:9092) could not be established. Broker may not be available.\n",
      "22/09/14 21:48:10 WARN NetworkClient: [Consumer clientId=consumer-spark-kafka-source-e7b94c18-83a7-48b6-b4ca-aaf4123e5181-373237678-driver-0-1, groupId=spark-kafka-source-e7b94c18-83a7-48b6-b4ca-aaf4123e5181-373237678-driver-0] Connection to node 0 (pd-master/10.67.22.162:9092) could not be established. Broker may not be available.\n",
      "22/09/14 21:48:11 WARN NetworkClient: [Consumer clientId=consumer-spark-kafka-source-e7b94c18-83a7-48b6-b4ca-aaf4123e5181-373237678-driver-0-1, groupId=spark-kafka-source-e7b94c18-83a7-48b6-b4ca-aaf4123e5181-373237678-driver-0] Connection to node 0 (pd-master/10.67.22.162:9092) could not be established. Broker may not be available.\n",
      "22/09/14 21:48:12 WARN NetworkClient: [Consumer clientId=consumer-spark-kafka-source-e7b94c18-83a7-48b6-b4ca-aaf4123e5181-373237678-driver-0-1, groupId=spark-kafka-source-e7b94c18-83a7-48b6-b4ca-aaf4123e5181-373237678-driver-0] Connection to node 0 (pd-master/10.67.22.162:9092) could not be established. Broker may not be available.\n",
      "22/09/14 21:48:14 WARN NetworkClient: [Consumer clientId=consumer-spark-kafka-source-e7b94c18-83a7-48b6-b4ca-aaf4123e5181-373237678-driver-0-1, groupId=spark-kafka-source-e7b94c18-83a7-48b6-b4ca-aaf4123e5181-373237678-driver-0] Connection to node 0 (pd-master/10.67.22.162:9092) could not be established. Broker may not be available.\n",
      "22/09/14 21:48:15 WARN NetworkClient: [Consumer clientId=consumer-spark-kafka-source-e7b94c18-83a7-48b6-b4ca-aaf4123e5181-373237678-driver-0-1, groupId=spark-kafka-source-e7b94c18-83a7-48b6-b4ca-aaf4123e5181-373237678-driver-0] Connection to node 0 (pd-master/10.67.22.162:9092) could not be established. Broker may not be available.\n",
      "22/09/14 21:48:16 WARN NetworkClient: [Consumer clientId=consumer-spark-kafka-source-e7b94c18-83a7-48b6-b4ca-aaf4123e5181-373237678-driver-0-1, groupId=spark-kafka-source-e7b94c18-83a7-48b6-b4ca-aaf4123e5181-373237678-driver-0] Connection to node 0 (pd-master/10.67.22.162:9092) could not be established. Broker may not be available.\n",
      "22/09/14 21:48:17 WARN NetworkClient: [Consumer clientId=consumer-spark-kafka-source-e7b94c18-83a7-48b6-b4ca-aaf4123e5181-373237678-driver-0-1, groupId=spark-kafka-source-e7b94c18-83a7-48b6-b4ca-aaf4123e5181-373237678-driver-0] Connection to node 0 (pd-master/10.67.22.162:9092) could not be established. Broker may not be available.\n",
      "22/09/14 21:48:18 WARN NetworkClient: [Consumer clientId=consumer-spark-kafka-source-e7b94c18-83a7-48b6-b4ca-aaf4123e5181-373237678-driver-0-1, groupId=spark-kafka-source-e7b94c18-83a7-48b6-b4ca-aaf4123e5181-373237678-driver-0] Connection to node 0 (pd-master/10.67.22.162:9092) could not be established. Broker may not be available.\n",
      "22/09/14 21:48:19 WARN NetworkClient: [Consumer clientId=consumer-spark-kafka-source-e7b94c18-83a7-48b6-b4ca-aaf4123e5181-373237678-driver-0-1, groupId=spark-kafka-source-e7b94c18-83a7-48b6-b4ca-aaf4123e5181-373237678-driver-0] Connection to node 0 (pd-master/10.67.22.162:9092) could not be established. Broker may not be available.\n",
      "22/09/14 21:48:19 WARN NetworkClient: [Consumer clientId=consumer-spark-kafka-source-e7b94c18-83a7-48b6-b4ca-aaf4123e5181-373237678-driver-0-1, groupId=spark-kafka-source-e7b94c18-83a7-48b6-b4ca-aaf4123e5181-373237678-driver-0] Connection to node 0 (pd-master/10.67.22.162:9092) could not be established. Broker may not be available.\n",
      "22/09/14 21:48:20 WARN NetworkClient: [Consumer clientId=consumer-spark-kafka-source-e7b94c18-83a7-48b6-b4ca-aaf4123e5181-373237678-driver-0-1, groupId=spark-kafka-source-e7b94c18-83a7-48b6-b4ca-aaf4123e5181-373237678-driver-0] Connection to node 0 (pd-master/10.67.22.162:9092) could not be established. Broker may not be available.\n"
     ]
    },
    {
     "name": "stdout",
     "output_type": "stream",
     "text": [
      "22/09/14 21:48:22 WARN NetworkClient: [Consumer clientId=consumer-spark-kafka-source-e7b94c18-83a7-48b6-b4ca-aaf4123e5181-373237678-driver-0-1, groupId=spark-kafka-source-e7b94c18-83a7-48b6-b4ca-aaf4123e5181-373237678-driver-0] Connection to node 0 (pd-master/10.67.22.162:9092) could not be established. Broker may not be available.\n",
      "22/09/14 21:48:22 WARN NetworkClient: [Consumer clientId=consumer-spark-kafka-source-e7b94c18-83a7-48b6-b4ca-aaf4123e5181-373237678-driver-0-1, groupId=spark-kafka-source-e7b94c18-83a7-48b6-b4ca-aaf4123e5181-373237678-driver-0] Connection to node 0 (pd-master/10.67.22.162:9092) could not be established. Broker may not be available.\n",
      "22/09/14 21:48:23 WARN NetworkClient: [Consumer clientId=consumer-spark-kafka-source-e7b94c18-83a7-48b6-b4ca-aaf4123e5181-373237678-driver-0-1, groupId=spark-kafka-source-e7b94c18-83a7-48b6-b4ca-aaf4123e5181-373237678-driver-0] Connection to node 0 (pd-master/10.67.22.162:9092) could not be established. Broker may not be available.\n",
      "22/09/14 21:48:24 WARN NetworkClient: [Consumer clientId=consumer-spark-kafka-source-e7b94c18-83a7-48b6-b4ca-aaf4123e5181-373237678-driver-0-1, groupId=spark-kafka-source-e7b94c18-83a7-48b6-b4ca-aaf4123e5181-373237678-driver-0] Connection to node 0 (pd-master/10.67.22.162:9092) could not be established. Broker may not be available.\n",
      "22/09/14 21:48:25 WARN NetworkClient: [Consumer clientId=consumer-spark-kafka-source-e7b94c18-83a7-48b6-b4ca-aaf4123e5181-373237678-driver-0-1, groupId=spark-kafka-source-e7b94c18-83a7-48b6-b4ca-aaf4123e5181-373237678-driver-0] Connection to node 0 (pd-master/10.67.22.162:9092) could not be established. Broker may not be available.\n",
      "22/09/14 21:48:26 WARN NetworkClient: [Consumer clientId=consumer-spark-kafka-source-e7b94c18-83a7-48b6-b4ca-aaf4123e5181-373237678-driver-0-1, groupId=spark-kafka-source-e7b94c18-83a7-48b6-b4ca-aaf4123e5181-373237678-driver-0] Connection to node 0 (pd-master/10.67.22.162:9092) could not be established. Broker may not be available.\n",
      "22/09/14 21:48:27 WARN NetworkClient: [Consumer clientId=consumer-spark-kafka-source-e7b94c18-83a7-48b6-b4ca-aaf4123e5181-373237678-driver-0-1, groupId=spark-kafka-source-e7b94c18-83a7-48b6-b4ca-aaf4123e5181-373237678-driver-0] Connection to node 0 (pd-master/10.67.22.162:9092) could not be established. Broker may not be available.\n",
      "22/09/14 21:48:28 WARN NetworkClient: [Consumer clientId=consumer-spark-kafka-source-e7b94c18-83a7-48b6-b4ca-aaf4123e5181-373237678-driver-0-1, groupId=spark-kafka-source-e7b94c18-83a7-48b6-b4ca-aaf4123e5181-373237678-driver-0] Connection to node 0 (pd-master/10.67.22.162:9092) could not be established. Broker may not be available.\n",
      "22/09/14 21:48:29 WARN NetworkClient: [Consumer clientId=consumer-spark-kafka-source-e7b94c18-83a7-48b6-b4ca-aaf4123e5181-373237678-driver-0-1, groupId=spark-kafka-source-e7b94c18-83a7-48b6-b4ca-aaf4123e5181-373237678-driver-0] Connection to node 0 (pd-master/10.67.22.162:9092) could not be established. Broker may not be available.\n",
      "22/09/14 21:48:30 WARN NetworkClient: [Consumer clientId=consumer-spark-kafka-source-e7b94c18-83a7-48b6-b4ca-aaf4123e5181-373237678-driver-0-1, groupId=spark-kafka-source-e7b94c18-83a7-48b6-b4ca-aaf4123e5181-373237678-driver-0] Connection to node 0 (pd-master/10.67.22.162:9092) could not be established. Broker may not be available.\n",
      "22/09/14 21:48:31 WARN NetworkClient: [Consumer clientId=consumer-spark-kafka-source-e7b94c18-83a7-48b6-b4ca-aaf4123e5181-373237678-driver-0-1, groupId=spark-kafka-source-e7b94c18-83a7-48b6-b4ca-aaf4123e5181-373237678-driver-0] Connection to node 0 (pd-master/10.67.22.162:9092) could not be established. Broker may not be available.\n",
      "22/09/14 21:48:32 WARN NetworkClient: [Consumer clientId=consumer-spark-kafka-source-e7b94c18-83a7-48b6-b4ca-aaf4123e5181-373237678-driver-0-1, groupId=spark-kafka-source-e7b94c18-83a7-48b6-b4ca-aaf4123e5181-373237678-driver-0] Connection to node 0 (pd-master/10.67.22.162:9092) could not be established. Broker may not be available.\n",
      "22/09/14 21:48:33 WARN NetworkClient: [Consumer clientId=consumer-spark-kafka-source-e7b94c18-83a7-48b6-b4ca-aaf4123e5181-373237678-driver-0-1, groupId=spark-kafka-source-e7b94c18-83a7-48b6-b4ca-aaf4123e5181-373237678-driver-0] Connection to node 0 (pd-master/10.67.22.162:9092) could not be established. Broker may not be available.\n",
      "22/09/14 21:48:34 WARN NetworkClient: [Consumer clientId=consumer-spark-kafka-source-e7b94c18-83a7-48b6-b4ca-aaf4123e5181-373237678-driver-0-1, groupId=spark-kafka-source-e7b94c18-83a7-48b6-b4ca-aaf4123e5181-373237678-driver-0] Connection to node 0 (pd-master/10.67.22.162:9092) could not be established. Broker may not be available.\n",
      "22/09/14 21:48:35 WARN NetworkClient: [Consumer clientId=consumer-spark-kafka-source-e7b94c18-83a7-48b6-b4ca-aaf4123e5181-373237678-driver-0-1, groupId=spark-kafka-source-e7b94c18-83a7-48b6-b4ca-aaf4123e5181-373237678-driver-0] Connection to node 0 (pd-master/10.67.22.162:9092) could not be established. Broker may not be available.\n",
      "22/09/14 21:48:36 WARN NetworkClient: [Consumer clientId=consumer-spark-kafka-source-e7b94c18-83a7-48b6-b4ca-aaf4123e5181-373237678-driver-0-1, groupId=spark-kafka-source-e7b94c18-83a7-48b6-b4ca-aaf4123e5181-373237678-driver-0] Connection to node 0 (pd-master/10.67.22.162:9092) could not be established. Broker may not be available.\n",
      "22/09/14 21:48:37 WARN NetworkClient: [Consumer clientId=consumer-spark-kafka-source-e7b94c18-83a7-48b6-b4ca-aaf4123e5181-373237678-driver-0-1, groupId=spark-kafka-source-e7b94c18-83a7-48b6-b4ca-aaf4123e5181-373237678-driver-0] Connection to node 0 (pd-master/10.67.22.162:9092) could not be established. Broker may not be available.\n",
      "22/09/14 21:48:38 WARN NetworkClient: [Consumer clientId=consumer-spark-kafka-source-e7b94c18-83a7-48b6-b4ca-aaf4123e5181-373237678-driver-0-1, groupId=spark-kafka-source-e7b94c18-83a7-48b6-b4ca-aaf4123e5181-373237678-driver-0] Connection to node 0 (pd-master/10.67.22.162:9092) could not be established. Broker may not be available.\n",
      "22/09/14 21:48:39 WARN NetworkClient: [Consumer clientId=consumer-spark-kafka-source-e7b94c18-83a7-48b6-b4ca-aaf4123e5181-373237678-driver-0-1, groupId=spark-kafka-source-e7b94c18-83a7-48b6-b4ca-aaf4123e5181-373237678-driver-0] Connection to node 0 (pd-master/10.67.22.162:9092) could not be established. Broker may not be available.\n",
      "22/09/14 21:48:40 WARN NetworkClient: [Consumer clientId=consumer-spark-kafka-source-e7b94c18-83a7-48b6-b4ca-aaf4123e5181-373237678-driver-0-1, groupId=spark-kafka-source-e7b94c18-83a7-48b6-b4ca-aaf4123e5181-373237678-driver-0] Connection to node 0 (pd-master/10.67.22.162:9092) could not be established. Broker may not be available.\n",
      "22/09/14 21:48:41 WARN NetworkClient: [Consumer clientId=consumer-spark-kafka-source-e7b94c18-83a7-48b6-b4ca-aaf4123e5181-373237678-driver-0-1, groupId=spark-kafka-source-e7b94c18-83a7-48b6-b4ca-aaf4123e5181-373237678-driver-0] Connection to node 0 (pd-master/10.67.22.162:9092) could not be established. Broker may not be available.\n",
      "22/09/14 21:48:42 WARN NetworkClient: [Consumer clientId=consumer-spark-kafka-source-e7b94c18-83a7-48b6-b4ca-aaf4123e5181-373237678-driver-0-1, groupId=spark-kafka-source-e7b94c18-83a7-48b6-b4ca-aaf4123e5181-373237678-driver-0] Connection to node 0 (pd-master/10.67.22.162:9092) could not be established. Broker may not be available.\n",
      "22/09/14 21:48:43 WARN NetworkClient: [Consumer clientId=consumer-spark-kafka-source-e7b94c18-83a7-48b6-b4ca-aaf4123e5181-373237678-driver-0-1, groupId=spark-kafka-source-e7b94c18-83a7-48b6-b4ca-aaf4123e5181-373237678-driver-0] Connection to node 0 (pd-master/10.67.22.162:9092) could not be established. Broker may not be available.\n",
      "22/09/14 21:48:44 WARN NetworkClient: [Consumer clientId=consumer-spark-kafka-source-e7b94c18-83a7-48b6-b4ca-aaf4123e5181-373237678-driver-0-1, groupId=spark-kafka-source-e7b94c18-83a7-48b6-b4ca-aaf4123e5181-373237678-driver-0] Connection to node 0 (pd-master/10.67.22.162:9092) could not be established. Broker may not be available.\n",
      "22/09/14 21:48:45 WARN NetworkClient: [Consumer clientId=consumer-spark-kafka-source-e7b94c18-83a7-48b6-b4ca-aaf4123e5181-373237678-driver-0-1, groupId=spark-kafka-source-e7b94c18-83a7-48b6-b4ca-aaf4123e5181-373237678-driver-0] Connection to node 0 (pd-master/10.67.22.162:9092) could not be established. Broker may not be available.\n"
     ]
    },
    {
     "name": "stdout",
     "output_type": "stream",
     "text": [
      "22/09/14 21:48:47 WARN NetworkClient: [Consumer clientId=consumer-spark-kafka-source-e7b94c18-83a7-48b6-b4ca-aaf4123e5181-373237678-driver-0-1, groupId=spark-kafka-source-e7b94c18-83a7-48b6-b4ca-aaf4123e5181-373237678-driver-0] Connection to node 0 (pd-master/10.67.22.162:9092) could not be established. Broker may not be available.\n",
      "22/09/14 21:48:48 WARN NetworkClient: [Consumer clientId=consumer-spark-kafka-source-e7b94c18-83a7-48b6-b4ca-aaf4123e5181-373237678-driver-0-1, groupId=spark-kafka-source-e7b94c18-83a7-48b6-b4ca-aaf4123e5181-373237678-driver-0] Connection to node 0 (pd-master/10.67.22.162:9092) could not be established. Broker may not be available.\n",
      "22/09/14 21:48:49 WARN NetworkClient: [Consumer clientId=consumer-spark-kafka-source-e7b94c18-83a7-48b6-b4ca-aaf4123e5181-373237678-driver-0-1, groupId=spark-kafka-source-e7b94c18-83a7-48b6-b4ca-aaf4123e5181-373237678-driver-0] Connection to node 0 (pd-master/10.67.22.162:9092) could not be established. Broker may not be available.\n",
      "22/09/14 21:48:49 WARN NetworkClient: [Consumer clientId=consumer-spark-kafka-source-e7b94c18-83a7-48b6-b4ca-aaf4123e5181-373237678-driver-0-1, groupId=spark-kafka-source-e7b94c18-83a7-48b6-b4ca-aaf4123e5181-373237678-driver-0] Connection to node 0 (pd-master/10.67.22.162:9092) could not be established. Broker may not be available.\n",
      "22/09/14 21:48:50 WARN NetworkClient: [Consumer clientId=consumer-spark-kafka-source-e7b94c18-83a7-48b6-b4ca-aaf4123e5181-373237678-driver-0-1, groupId=spark-kafka-source-e7b94c18-83a7-48b6-b4ca-aaf4123e5181-373237678-driver-0] Connection to node 0 (pd-master/10.67.22.162:9092) could not be established. Broker may not be available.\n",
      "22/09/14 21:48:52 WARN NetworkClient: [Consumer clientId=consumer-spark-kafka-source-e7b94c18-83a7-48b6-b4ca-aaf4123e5181-373237678-driver-0-1, groupId=spark-kafka-source-e7b94c18-83a7-48b6-b4ca-aaf4123e5181-373237678-driver-0] Connection to node 0 (pd-master/10.67.22.162:9092) could not be established. Broker may not be available.\n",
      "22/09/14 21:48:53 WARN NetworkClient: [Consumer clientId=consumer-spark-kafka-source-e7b94c18-83a7-48b6-b4ca-aaf4123e5181-373237678-driver-0-1, groupId=spark-kafka-source-e7b94c18-83a7-48b6-b4ca-aaf4123e5181-373237678-driver-0] Connection to node 0 (pd-master/10.67.22.162:9092) could not be established. Broker may not be available.\n",
      "22/09/14 21:48:53 WARN NetworkClient: [Consumer clientId=consumer-spark-kafka-source-e7b94c18-83a7-48b6-b4ca-aaf4123e5181-373237678-driver-0-1, groupId=spark-kafka-source-e7b94c18-83a7-48b6-b4ca-aaf4123e5181-373237678-driver-0] Connection to node 0 (pd-master/10.67.22.162:9092) could not be established. Broker may not be available.\n",
      "22/09/14 21:48:54 WARN NetworkClient: [Consumer clientId=consumer-spark-kafka-source-e7b94c18-83a7-48b6-b4ca-aaf4123e5181-373237678-driver-0-1, groupId=spark-kafka-source-e7b94c18-83a7-48b6-b4ca-aaf4123e5181-373237678-driver-0] Connection to node 0 (pd-master/10.67.22.162:9092) could not be established. Broker may not be available.\n",
      "22/09/14 21:48:55 WARN NetworkClient: [Consumer clientId=consumer-spark-kafka-source-e7b94c18-83a7-48b6-b4ca-aaf4123e5181-373237678-driver-0-1, groupId=spark-kafka-source-e7b94c18-83a7-48b6-b4ca-aaf4123e5181-373237678-driver-0] Connection to node 0 (pd-master/10.67.22.162:9092) could not be established. Broker may not be available.\n",
      "22/09/14 21:48:56 WARN NetworkClient: [Consumer clientId=consumer-spark-kafka-source-e7b94c18-83a7-48b6-b4ca-aaf4123e5181-373237678-driver-0-1, groupId=spark-kafka-source-e7b94c18-83a7-48b6-b4ca-aaf4123e5181-373237678-driver-0] Connection to node 0 (pd-master/10.67.22.162:9092) could not be established. Broker may not be available.\n",
      "22/09/14 21:48:57 WARN NetworkClient: [Consumer clientId=consumer-spark-kafka-source-e7b94c18-83a7-48b6-b4ca-aaf4123e5181-373237678-driver-0-1, groupId=spark-kafka-source-e7b94c18-83a7-48b6-b4ca-aaf4123e5181-373237678-driver-0] Connection to node 0 (pd-master/10.67.22.162:9092) could not be established. Broker may not be available.\n",
      "22/09/14 21:48:58 WARN NetworkClient: [Consumer clientId=consumer-spark-kafka-source-e7b94c18-83a7-48b6-b4ca-aaf4123e5181-373237678-driver-0-1, groupId=spark-kafka-source-e7b94c18-83a7-48b6-b4ca-aaf4123e5181-373237678-driver-0] Connection to node 0 (pd-master/10.67.22.162:9092) could not be established. Broker may not be available.\n",
      "22/09/14 21:48:59 WARN NetworkClient: [Consumer clientId=consumer-spark-kafka-source-e7b94c18-83a7-48b6-b4ca-aaf4123e5181-373237678-driver-0-1, groupId=spark-kafka-source-e7b94c18-83a7-48b6-b4ca-aaf4123e5181-373237678-driver-0] Connection to node 0 (pd-master/10.67.22.162:9092) could not be established. Broker may not be available.\n",
      "22/09/14 21:49:00 WARN NetworkClient: [Consumer clientId=consumer-spark-kafka-source-e7b94c18-83a7-48b6-b4ca-aaf4123e5181-373237678-driver-0-1, groupId=spark-kafka-source-e7b94c18-83a7-48b6-b4ca-aaf4123e5181-373237678-driver-0] Connection to node 0 (pd-master/10.67.22.162:9092) could not be established. Broker may not be available.\n",
      "22/09/14 21:49:02 WARN NetworkClient: [Consumer clientId=consumer-spark-kafka-source-e7b94c18-83a7-48b6-b4ca-aaf4123e5181-373237678-driver-0-1, groupId=spark-kafka-source-e7b94c18-83a7-48b6-b4ca-aaf4123e5181-373237678-driver-0] Connection to node 0 (pd-master/10.67.22.162:9092) could not be established. Broker may not be available.\n",
      "22/09/14 21:49:03 WARN NetworkClient: [Consumer clientId=consumer-spark-kafka-source-e7b94c18-83a7-48b6-b4ca-aaf4123e5181-373237678-driver-0-1, groupId=spark-kafka-source-e7b94c18-83a7-48b6-b4ca-aaf4123e5181-373237678-driver-0] Connection to node 0 (pd-master/10.67.22.162:9092) could not be established. Broker may not be available.\n",
      "22/09/14 21:49:04 WARN NetworkClient: [Consumer clientId=consumer-spark-kafka-source-e7b94c18-83a7-48b6-b4ca-aaf4123e5181-373237678-driver-0-1, groupId=spark-kafka-source-e7b94c18-83a7-48b6-b4ca-aaf4123e5181-373237678-driver-0] Connection to node 0 (pd-master/10.67.22.162:9092) could not be established. Broker may not be available.\n",
      "22/09/14 21:49:05 WARN NetworkClient: [Consumer clientId=consumer-spark-kafka-source-e7b94c18-83a7-48b6-b4ca-aaf4123e5181-373237678-driver-0-1, groupId=spark-kafka-source-e7b94c18-83a7-48b6-b4ca-aaf4123e5181-373237678-driver-0] Connection to node 0 (pd-master/10.67.22.162:9092) could not be established. Broker may not be available.\n",
      "22/09/14 21:49:06 WARN NetworkClient: [Consumer clientId=consumer-spark-kafka-source-e7b94c18-83a7-48b6-b4ca-aaf4123e5181-373237678-driver-0-1, groupId=spark-kafka-source-e7b94c18-83a7-48b6-b4ca-aaf4123e5181-373237678-driver-0] Connection to node 0 (pd-master/10.67.22.162:9092) could not be established. Broker may not be available.\n",
      "22/09/14 21:49:07 WARN NetworkClient: [Consumer clientId=consumer-spark-kafka-source-e7b94c18-83a7-48b6-b4ca-aaf4123e5181-373237678-driver-0-1, groupId=spark-kafka-source-e7b94c18-83a7-48b6-b4ca-aaf4123e5181-373237678-driver-0] Connection to node 0 (pd-master/10.67.22.162:9092) could not be established. Broker may not be available.\n",
      "22/09/14 21:49:08 WARN NetworkClient: [Consumer clientId=consumer-spark-kafka-source-e7b94c18-83a7-48b6-b4ca-aaf4123e5181-373237678-driver-0-1, groupId=spark-kafka-source-e7b94c18-83a7-48b6-b4ca-aaf4123e5181-373237678-driver-0] Connection to node 0 (pd-master/10.67.22.162:9092) could not be established. Broker may not be available.\n",
      "22/09/14 21:49:09 WARN NetworkClient: [Consumer clientId=consumer-spark-kafka-source-e7b94c18-83a7-48b6-b4ca-aaf4123e5181-373237678-driver-0-1, groupId=spark-kafka-source-e7b94c18-83a7-48b6-b4ca-aaf4123e5181-373237678-driver-0] Connection to node 0 (pd-master/10.67.22.162:9092) could not be established. Broker may not be available.\n",
      "22/09/14 21:49:10 WARN NetworkClient: [Consumer clientId=consumer-spark-kafka-source-e7b94c18-83a7-48b6-b4ca-aaf4123e5181-373237678-driver-0-1, groupId=spark-kafka-source-e7b94c18-83a7-48b6-b4ca-aaf4123e5181-373237678-driver-0] Connection to node 0 (pd-master/10.67.22.162:9092) could not be established. Broker may not be available.\n",
      "22/09/14 21:49:11 WARN NetworkClient: [Consumer clientId=consumer-spark-kafka-source-e7b94c18-83a7-48b6-b4ca-aaf4123e5181-373237678-driver-0-1, groupId=spark-kafka-source-e7b94c18-83a7-48b6-b4ca-aaf4123e5181-373237678-driver-0] Connection to node 0 (pd-master/10.67.22.162:9092) could not be established. Broker may not be available.\n"
     ]
    },
    {
     "name": "stdout",
     "output_type": "stream",
     "text": [
      "22/09/14 21:49:12 WARN NetworkClient: [Consumer clientId=consumer-spark-kafka-source-e7b94c18-83a7-48b6-b4ca-aaf4123e5181-373237678-driver-0-1, groupId=spark-kafka-source-e7b94c18-83a7-48b6-b4ca-aaf4123e5181-373237678-driver-0] Connection to node 0 (pd-master/10.67.22.162:9092) could not be established. Broker may not be available.\n",
      "22/09/14 21:49:13 WARN NetworkClient: [Consumer clientId=consumer-spark-kafka-source-e7b94c18-83a7-48b6-b4ca-aaf4123e5181-373237678-driver-0-1, groupId=spark-kafka-source-e7b94c18-83a7-48b6-b4ca-aaf4123e5181-373237678-driver-0] Connection to node 0 (pd-master/10.67.22.162:9092) could not be established. Broker may not be available.\n",
      "22/09/14 21:49:15 WARN NetworkClient: [Consumer clientId=consumer-spark-kafka-source-e7b94c18-83a7-48b6-b4ca-aaf4123e5181-373237678-driver-0-1, groupId=spark-kafka-source-e7b94c18-83a7-48b6-b4ca-aaf4123e5181-373237678-driver-0] Connection to node 0 (pd-master/10.67.22.162:9092) could not be established. Broker may not be available.\n",
      "22/09/14 21:49:16 WARN NetworkClient: [Consumer clientId=consumer-spark-kafka-source-e7b94c18-83a7-48b6-b4ca-aaf4123e5181-373237678-driver-0-1, groupId=spark-kafka-source-e7b94c18-83a7-48b6-b4ca-aaf4123e5181-373237678-driver-0] Connection to node 0 (pd-master/10.67.22.162:9092) could not be established. Broker may not be available.\n",
      "22/09/14 21:49:17 WARN NetworkClient: [Consumer clientId=consumer-spark-kafka-source-e7b94c18-83a7-48b6-b4ca-aaf4123e5181-373237678-driver-0-1, groupId=spark-kafka-source-e7b94c18-83a7-48b6-b4ca-aaf4123e5181-373237678-driver-0] Connection to node 0 (pd-master/10.67.22.162:9092) could not be established. Broker may not be available.\n",
      "22/09/14 21:49:18 WARN NetworkClient: [Consumer clientId=consumer-spark-kafka-source-e7b94c18-83a7-48b6-b4ca-aaf4123e5181-373237678-driver-0-1, groupId=spark-kafka-source-e7b94c18-83a7-48b6-b4ca-aaf4123e5181-373237678-driver-0] Connection to node 0 (pd-master/10.67.22.162:9092) could not be established. Broker may not be available.\n",
      "22/09/14 21:49:19 WARN NetworkClient: [Consumer clientId=consumer-spark-kafka-source-e7b94c18-83a7-48b6-b4ca-aaf4123e5181-373237678-driver-0-1, groupId=spark-kafka-source-e7b94c18-83a7-48b6-b4ca-aaf4123e5181-373237678-driver-0] Connection to node 0 (pd-master/10.67.22.162:9092) could not be established. Broker may not be available.\n",
      "22/09/14 21:49:20 WARN NetworkClient: [Consumer clientId=consumer-spark-kafka-source-e7b94c18-83a7-48b6-b4ca-aaf4123e5181-373237678-driver-0-1, groupId=spark-kafka-source-e7b94c18-83a7-48b6-b4ca-aaf4123e5181-373237678-driver-0] Connection to node 0 (pd-master/10.67.22.162:9092) could not be established. Broker may not be available.\n",
      "22/09/14 21:49:21 WARN NetworkClient: [Consumer clientId=consumer-spark-kafka-source-e7b94c18-83a7-48b6-b4ca-aaf4123e5181-373237678-driver-0-1, groupId=spark-kafka-source-e7b94c18-83a7-48b6-b4ca-aaf4123e5181-373237678-driver-0] Connection to node 0 (pd-master/10.67.22.162:9092) could not be established. Broker may not be available.\n",
      "22/09/14 21:49:22 WARN NetworkClient: [Consumer clientId=consumer-spark-kafka-source-e7b94c18-83a7-48b6-b4ca-aaf4123e5181-373237678-driver-0-1, groupId=spark-kafka-source-e7b94c18-83a7-48b6-b4ca-aaf4123e5181-373237678-driver-0] Connection to node 0 (pd-master/10.67.22.162:9092) could not be established. Broker may not be available.\n",
      "22/09/14 21:49:23 WARN NetworkClient: [Consumer clientId=consumer-spark-kafka-source-e7b94c18-83a7-48b6-b4ca-aaf4123e5181-373237678-driver-0-1, groupId=spark-kafka-source-e7b94c18-83a7-48b6-b4ca-aaf4123e5181-373237678-driver-0] Connection to node 0 (pd-master/10.67.22.162:9092) could not be established. Broker may not be available.\n",
      "22/09/14 21:49:24 WARN NetworkClient: [Consumer clientId=consumer-spark-kafka-source-e7b94c18-83a7-48b6-b4ca-aaf4123e5181-373237678-driver-0-1, groupId=spark-kafka-source-e7b94c18-83a7-48b6-b4ca-aaf4123e5181-373237678-driver-0] Connection to node 0 (pd-master/10.67.22.162:9092) could not be established. Broker may not be available.\n",
      "22/09/14 21:49:25 WARN NetworkClient: [Consumer clientId=consumer-spark-kafka-source-e7b94c18-83a7-48b6-b4ca-aaf4123e5181-373237678-driver-0-1, groupId=spark-kafka-source-e7b94c18-83a7-48b6-b4ca-aaf4123e5181-373237678-driver-0] Connection to node 0 (pd-master/10.67.22.162:9092) could not be established. Broker may not be available.\n",
      "22/09/14 21:49:26 WARN NetworkClient: [Consumer clientId=consumer-spark-kafka-source-e7b94c18-83a7-48b6-b4ca-aaf4123e5181-373237678-driver-0-1, groupId=spark-kafka-source-e7b94c18-83a7-48b6-b4ca-aaf4123e5181-373237678-driver-0] Connection to node 0 (pd-master/10.67.22.162:9092) could not be established. Broker may not be available.\n",
      "22/09/14 21:49:27 WARN NetworkClient: [Consumer clientId=consumer-spark-kafka-source-e7b94c18-83a7-48b6-b4ca-aaf4123e5181-373237678-driver-0-1, groupId=spark-kafka-source-e7b94c18-83a7-48b6-b4ca-aaf4123e5181-373237678-driver-0] Connection to node 0 (pd-master/10.67.22.162:9092) could not be established. Broker may not be available.\n",
      "22/09/14 21:49:28 WARN NetworkClient: [Consumer clientId=consumer-spark-kafka-source-e7b94c18-83a7-48b6-b4ca-aaf4123e5181-373237678-driver-0-1, groupId=spark-kafka-source-e7b94c18-83a7-48b6-b4ca-aaf4123e5181-373237678-driver-0] Connection to node 0 (pd-master/10.67.22.162:9092) could not be established. Broker may not be available.\n",
      "22/09/14 21:49:29 WARN NetworkClient: [Consumer clientId=consumer-spark-kafka-source-e7b94c18-83a7-48b6-b4ca-aaf4123e5181-373237678-driver-0-1, groupId=spark-kafka-source-e7b94c18-83a7-48b6-b4ca-aaf4123e5181-373237678-driver-0] Connection to node 0 (pd-master/10.67.22.162:9092) could not be established. Broker may not be available.\n",
      "22/09/14 21:49:30 WARN NetworkClient: [Consumer clientId=consumer-spark-kafka-source-e7b94c18-83a7-48b6-b4ca-aaf4123e5181-373237678-driver-0-1, groupId=spark-kafka-source-e7b94c18-83a7-48b6-b4ca-aaf4123e5181-373237678-driver-0] Connection to node 0 (pd-master/10.67.22.162:9092) could not be established. Broker may not be available.\n",
      "22/09/14 21:49:31 WARN NetworkClient: [Consumer clientId=consumer-spark-kafka-source-e7b94c18-83a7-48b6-b4ca-aaf4123e5181-373237678-driver-0-1, groupId=spark-kafka-source-e7b94c18-83a7-48b6-b4ca-aaf4123e5181-373237678-driver-0] Connection to node 0 (pd-master/10.67.22.162:9092) could not be established. Broker may not be available.\n",
      "22/09/14 21:49:32 WARN NetworkClient: [Consumer clientId=consumer-spark-kafka-source-e7b94c18-83a7-48b6-b4ca-aaf4123e5181-373237678-driver-0-1, groupId=spark-kafka-source-e7b94c18-83a7-48b6-b4ca-aaf4123e5181-373237678-driver-0] Connection to node 0 (pd-master/10.67.22.162:9092) could not be established. Broker may not be available.\n",
      "22/09/14 21:49:33 WARN NetworkClient: [Consumer clientId=consumer-spark-kafka-source-e7b94c18-83a7-48b6-b4ca-aaf4123e5181-373237678-driver-0-1, groupId=spark-kafka-source-e7b94c18-83a7-48b6-b4ca-aaf4123e5181-373237678-driver-0] Connection to node 0 (pd-master/10.67.22.162:9092) could not be established. Broker may not be available.\n",
      "22/09/14 21:49:34 WARN NetworkClient: [Consumer clientId=consumer-spark-kafka-source-e7b94c18-83a7-48b6-b4ca-aaf4123e5181-373237678-driver-0-1, groupId=spark-kafka-source-e7b94c18-83a7-48b6-b4ca-aaf4123e5181-373237678-driver-0] Connection to node 0 (pd-master/10.67.22.162:9092) could not be established. Broker may not be available.\n",
      "22/09/14 21:49:35 WARN NetworkClient: [Consumer clientId=consumer-spark-kafka-source-e7b94c18-83a7-48b6-b4ca-aaf4123e5181-373237678-driver-0-1, groupId=spark-kafka-source-e7b94c18-83a7-48b6-b4ca-aaf4123e5181-373237678-driver-0] Connection to node 0 (pd-master/10.67.22.162:9092) could not be established. Broker may not be available.\n",
      "22/09/14 21:49:36 WARN NetworkClient: [Consumer clientId=consumer-spark-kafka-source-e7b94c18-83a7-48b6-b4ca-aaf4123e5181-373237678-driver-0-1, groupId=spark-kafka-source-e7b94c18-83a7-48b6-b4ca-aaf4123e5181-373237678-driver-0] Connection to node 0 (pd-master/10.67.22.162:9092) could not be established. Broker may not be available.\n",
      "22/09/14 21:49:37 WARN NetworkClient: [Consumer clientId=consumer-spark-kafka-source-e7b94c18-83a7-48b6-b4ca-aaf4123e5181-373237678-driver-0-1, groupId=spark-kafka-source-e7b94c18-83a7-48b6-b4ca-aaf4123e5181-373237678-driver-0] Connection to node 0 (pd-master/10.67.22.162:9092) could not be established. Broker may not be available.\n"
     ]
    },
    {
     "name": "stdout",
     "output_type": "stream",
     "text": [
      "22/09/14 21:49:38 WARN NetworkClient: [Consumer clientId=consumer-spark-kafka-source-e7b94c18-83a7-48b6-b4ca-aaf4123e5181-373237678-driver-0-1, groupId=spark-kafka-source-e7b94c18-83a7-48b6-b4ca-aaf4123e5181-373237678-driver-0] Connection to node 0 (pd-master/10.67.22.162:9092) could not be established. Broker may not be available.\n",
      "22/09/14 21:49:39 WARN NetworkClient: [Consumer clientId=consumer-spark-kafka-source-e7b94c18-83a7-48b6-b4ca-aaf4123e5181-373237678-driver-0-1, groupId=spark-kafka-source-e7b94c18-83a7-48b6-b4ca-aaf4123e5181-373237678-driver-0] Connection to node 0 (pd-master/10.67.22.162:9092) could not be established. Broker may not be available.\n",
      "22/09/14 21:49:40 WARN NetworkClient: [Consumer clientId=consumer-spark-kafka-source-e7b94c18-83a7-48b6-b4ca-aaf4123e5181-373237678-driver-0-1, groupId=spark-kafka-source-e7b94c18-83a7-48b6-b4ca-aaf4123e5181-373237678-driver-0] Connection to node 0 (pd-master/10.67.22.162:9092) could not be established. Broker may not be available.\n",
      "22/09/14 21:49:41 WARN NetworkClient: [Consumer clientId=consumer-spark-kafka-source-e7b94c18-83a7-48b6-b4ca-aaf4123e5181-373237678-driver-0-1, groupId=spark-kafka-source-e7b94c18-83a7-48b6-b4ca-aaf4123e5181-373237678-driver-0] Connection to node 0 (pd-master/10.67.22.162:9092) could not be established. Broker may not be available.\n",
      "22/09/14 21:49:42 WARN NetworkClient: [Consumer clientId=consumer-spark-kafka-source-e7b94c18-83a7-48b6-b4ca-aaf4123e5181-373237678-driver-0-1, groupId=spark-kafka-source-e7b94c18-83a7-48b6-b4ca-aaf4123e5181-373237678-driver-0] Connection to node 0 (pd-master/10.67.22.162:9092) could not be established. Broker may not be available.\n",
      "22/09/14 21:49:43 WARN NetworkClient: [Consumer clientId=consumer-spark-kafka-source-e7b94c18-83a7-48b6-b4ca-aaf4123e5181-373237678-driver-0-1, groupId=spark-kafka-source-e7b94c18-83a7-48b6-b4ca-aaf4123e5181-373237678-driver-0] Connection to node 0 (pd-master/10.67.22.162:9092) could not be established. Broker may not be available.\n",
      "22/09/14 21:49:44 WARN NetworkClient: [Consumer clientId=consumer-spark-kafka-source-e7b94c18-83a7-48b6-b4ca-aaf4123e5181-373237678-driver-0-1, groupId=spark-kafka-source-e7b94c18-83a7-48b6-b4ca-aaf4123e5181-373237678-driver-0] Connection to node 0 (pd-master/10.67.22.162:9092) could not be established. Broker may not be available.\n",
      "22/09/14 21:49:45 WARN NetworkClient: [Consumer clientId=consumer-spark-kafka-source-e7b94c18-83a7-48b6-b4ca-aaf4123e5181-373237678-driver-0-1, groupId=spark-kafka-source-e7b94c18-83a7-48b6-b4ca-aaf4123e5181-373237678-driver-0] Connection to node 0 (pd-master/10.67.22.162:9092) could not be established. Broker may not be available.\n",
      "22/09/14 21:49:46 WARN NetworkClient: [Consumer clientId=consumer-spark-kafka-source-e7b94c18-83a7-48b6-b4ca-aaf4123e5181-373237678-driver-0-1, groupId=spark-kafka-source-e7b94c18-83a7-48b6-b4ca-aaf4123e5181-373237678-driver-0] Connection to node 0 (pd-master/10.67.22.162:9092) could not be established. Broker may not be available.\n",
      "22/09/14 21:49:47 WARN NetworkClient: [Consumer clientId=consumer-spark-kafka-source-e7b94c18-83a7-48b6-b4ca-aaf4123e5181-373237678-driver-0-1, groupId=spark-kafka-source-e7b94c18-83a7-48b6-b4ca-aaf4123e5181-373237678-driver-0] Connection to node 0 (pd-master/10.67.22.162:9092) could not be established. Broker may not be available.\n",
      "22/09/14 21:49:48 WARN NetworkClient: [Consumer clientId=consumer-spark-kafka-source-e7b94c18-83a7-48b6-b4ca-aaf4123e5181-373237678-driver-0-1, groupId=spark-kafka-source-e7b94c18-83a7-48b6-b4ca-aaf4123e5181-373237678-driver-0] Connection to node 0 (pd-master/10.67.22.162:9092) could not be established. Broker may not be available.\n",
      "22/09/14 21:49:49 WARN NetworkClient: [Consumer clientId=consumer-spark-kafka-source-e7b94c18-83a7-48b6-b4ca-aaf4123e5181-373237678-driver-0-1, groupId=spark-kafka-source-e7b94c18-83a7-48b6-b4ca-aaf4123e5181-373237678-driver-0] Connection to node 0 (pd-master/10.67.22.162:9092) could not be established. Broker may not be available.\n",
      "22/09/14 21:49:50 WARN NetworkClient: [Consumer clientId=consumer-spark-kafka-source-e7b94c18-83a7-48b6-b4ca-aaf4123e5181-373237678-driver-0-1, groupId=spark-kafka-source-e7b94c18-83a7-48b6-b4ca-aaf4123e5181-373237678-driver-0] Connection to node 0 (pd-master/10.67.22.162:9092) could not be established. Broker may not be available.\n",
      "22/09/14 21:49:51 WARN NetworkClient: [Consumer clientId=consumer-spark-kafka-source-e7b94c18-83a7-48b6-b4ca-aaf4123e5181-373237678-driver-0-1, groupId=spark-kafka-source-e7b94c18-83a7-48b6-b4ca-aaf4123e5181-373237678-driver-0] Connection to node 0 (pd-master/10.67.22.162:9092) could not be established. Broker may not be available.\n",
      "22/09/14 21:49:52 WARN NetworkClient: [Consumer clientId=consumer-spark-kafka-source-e7b94c18-83a7-48b6-b4ca-aaf4123e5181-373237678-driver-0-1, groupId=spark-kafka-source-e7b94c18-83a7-48b6-b4ca-aaf4123e5181-373237678-driver-0] Connection to node 0 (pd-master/10.67.22.162:9092) could not be established. Broker may not be available.\n",
      "22/09/14 21:49:53 WARN NetworkClient: [Consumer clientId=consumer-spark-kafka-source-e7b94c18-83a7-48b6-b4ca-aaf4123e5181-373237678-driver-0-1, groupId=spark-kafka-source-e7b94c18-83a7-48b6-b4ca-aaf4123e5181-373237678-driver-0] Connection to node 0 (pd-master/10.67.22.162:9092) could not be established. Broker may not be available.\n",
      "22/09/14 21:49:54 WARN NetworkClient: [Consumer clientId=consumer-spark-kafka-source-e7b94c18-83a7-48b6-b4ca-aaf4123e5181-373237678-driver-0-1, groupId=spark-kafka-source-e7b94c18-83a7-48b6-b4ca-aaf4123e5181-373237678-driver-0] Connection to node 0 (pd-master/10.67.22.162:9092) could not be established. Broker may not be available.\n",
      "22/09/14 21:49:55 WARN NetworkClient: [Consumer clientId=consumer-spark-kafka-source-e7b94c18-83a7-48b6-b4ca-aaf4123e5181-373237678-driver-0-1, groupId=spark-kafka-source-e7b94c18-83a7-48b6-b4ca-aaf4123e5181-373237678-driver-0] Connection to node 0 (pd-master/10.67.22.162:9092) could not be established. Broker may not be available.\n",
      "22/09/14 21:49:56 WARN NetworkClient: [Consumer clientId=consumer-spark-kafka-source-e7b94c18-83a7-48b6-b4ca-aaf4123e5181-373237678-driver-0-1, groupId=spark-kafka-source-e7b94c18-83a7-48b6-b4ca-aaf4123e5181-373237678-driver-0] Connection to node 0 (pd-master/10.67.22.162:9092) could not be established. Broker may not be available.\n",
      "22/09/14 21:49:57 WARN NetworkClient: [Consumer clientId=consumer-spark-kafka-source-e7b94c18-83a7-48b6-b4ca-aaf4123e5181-373237678-driver-0-1, groupId=spark-kafka-source-e7b94c18-83a7-48b6-b4ca-aaf4123e5181-373237678-driver-0] Connection to node 0 (pd-master/10.67.22.162:9092) could not be established. Broker may not be available.\n",
      "22/09/14 21:49:58 WARN NetworkClient: [Consumer clientId=consumer-spark-kafka-source-e7b94c18-83a7-48b6-b4ca-aaf4123e5181-373237678-driver-0-1, groupId=spark-kafka-source-e7b94c18-83a7-48b6-b4ca-aaf4123e5181-373237678-driver-0] Connection to node 0 (pd-master/10.67.22.162:9092) could not be established. Broker may not be available.\n",
      "22/09/14 21:49:59 WARN NetworkClient: [Consumer clientId=consumer-spark-kafka-source-e7b94c18-83a7-48b6-b4ca-aaf4123e5181-373237678-driver-0-1, groupId=spark-kafka-source-e7b94c18-83a7-48b6-b4ca-aaf4123e5181-373237678-driver-0] Connection to node 0 (pd-master/10.67.22.162:9092) could not be established. Broker may not be available.\n",
      "22/09/14 21:50:00 WARN NetworkClient: [Consumer clientId=consumer-spark-kafka-source-e7b94c18-83a7-48b6-b4ca-aaf4123e5181-373237678-driver-0-1, groupId=spark-kafka-source-e7b94c18-83a7-48b6-b4ca-aaf4123e5181-373237678-driver-0] Connection to node 0 (pd-master/10.67.22.162:9092) could not be established. Broker may not be available.\n",
      "22/09/14 21:50:01 WARN NetworkClient: [Consumer clientId=consumer-spark-kafka-source-e7b94c18-83a7-48b6-b4ca-aaf4123e5181-373237678-driver-0-1, groupId=spark-kafka-source-e7b94c18-83a7-48b6-b4ca-aaf4123e5181-373237678-driver-0] Connection to node 0 (pd-master/10.67.22.162:9092) could not be established. Broker may not be available.\n",
      "22/09/14 21:50:03 WARN NetworkClient: [Consumer clientId=consumer-spark-kafka-source-e7b94c18-83a7-48b6-b4ca-aaf4123e5181-373237678-driver-0-1, groupId=spark-kafka-source-e7b94c18-83a7-48b6-b4ca-aaf4123e5181-373237678-driver-0] Connection to node 0 (pd-master/10.67.22.162:9092) could not be established. Broker may not be available.\n"
     ]
    },
    {
     "name": "stdout",
     "output_type": "stream",
     "text": [
      "22/09/14 21:50:04 WARN NetworkClient: [Consumer clientId=consumer-spark-kafka-source-e7b94c18-83a7-48b6-b4ca-aaf4123e5181-373237678-driver-0-1, groupId=spark-kafka-source-e7b94c18-83a7-48b6-b4ca-aaf4123e5181-373237678-driver-0] Connection to node 0 (pd-master/10.67.22.162:9092) could not be established. Broker may not be available.\n",
      "22/09/14 21:50:04 WARN NetworkClient: [Consumer clientId=consumer-spark-kafka-source-e7b94c18-83a7-48b6-b4ca-aaf4123e5181-373237678-driver-0-1, groupId=spark-kafka-source-e7b94c18-83a7-48b6-b4ca-aaf4123e5181-373237678-driver-0] Connection to node 0 (pd-master/10.67.22.162:9092) could not be established. Broker may not be available.\n",
      "22/09/14 21:50:05 WARN NetworkClient: [Consumer clientId=consumer-spark-kafka-source-e7b94c18-83a7-48b6-b4ca-aaf4123e5181-373237678-driver-0-1, groupId=spark-kafka-source-e7b94c18-83a7-48b6-b4ca-aaf4123e5181-373237678-driver-0] Connection to node 0 (pd-master/10.67.22.162:9092) could not be established. Broker may not be available.\n",
      "22/09/14 21:50:06 WARN NetworkClient: [Consumer clientId=consumer-spark-kafka-source-e7b94c18-83a7-48b6-b4ca-aaf4123e5181-373237678-driver-0-1, groupId=spark-kafka-source-e7b94c18-83a7-48b6-b4ca-aaf4123e5181-373237678-driver-0] Connection to node 0 (pd-master/10.67.22.162:9092) could not be established. Broker may not be available.\n",
      "22/09/14 21:50:07 WARN NetworkClient: [Consumer clientId=consumer-spark-kafka-source-e7b94c18-83a7-48b6-b4ca-aaf4123e5181-373237678-driver-0-1, groupId=spark-kafka-source-e7b94c18-83a7-48b6-b4ca-aaf4123e5181-373237678-driver-0] Connection to node 0 (pd-master/10.67.22.162:9092) could not be established. Broker may not be available.\n",
      "22/09/14 21:50:08 WARN NetworkClient: [Consumer clientId=consumer-spark-kafka-source-e7b94c18-83a7-48b6-b4ca-aaf4123e5181-373237678-driver-0-1, groupId=spark-kafka-source-e7b94c18-83a7-48b6-b4ca-aaf4123e5181-373237678-driver-0] Connection to node 0 (pd-master/10.67.22.162:9092) could not be established. Broker may not be available.\n",
      "22/09/14 21:50:09 WARN NetworkClient: [Consumer clientId=consumer-spark-kafka-source-e7b94c18-83a7-48b6-b4ca-aaf4123e5181-373237678-driver-0-1, groupId=spark-kafka-source-e7b94c18-83a7-48b6-b4ca-aaf4123e5181-373237678-driver-0] Connection to node 0 (pd-master/10.67.22.162:9092) could not be established. Broker may not be available.\n",
      "22/09/14 21:50:11 WARN NetworkClient: [Consumer clientId=consumer-spark-kafka-source-e7b94c18-83a7-48b6-b4ca-aaf4123e5181-373237678-driver-0-1, groupId=spark-kafka-source-e7b94c18-83a7-48b6-b4ca-aaf4123e5181-373237678-driver-0] Connection to node 0 (pd-master/10.67.22.162:9092) could not be established. Broker may not be available.\n",
      "22/09/14 21:50:11 WARN NetworkClient: [Consumer clientId=consumer-spark-kafka-source-e7b94c18-83a7-48b6-b4ca-aaf4123e5181-373237678-driver-0-1, groupId=spark-kafka-source-e7b94c18-83a7-48b6-b4ca-aaf4123e5181-373237678-driver-0] Connection to node 0 (pd-master/10.67.22.162:9092) could not be established. Broker may not be available.\n",
      "22/09/14 21:50:13 WARN NetworkClient: [Consumer clientId=consumer-spark-kafka-source-e7b94c18-83a7-48b6-b4ca-aaf4123e5181-373237678-driver-0-1, groupId=spark-kafka-source-e7b94c18-83a7-48b6-b4ca-aaf4123e5181-373237678-driver-0] Connection to node 0 (pd-master/10.67.22.162:9092) could not be established. Broker may not be available.\n",
      "22/09/14 21:50:14 WARN NetworkClient: [Consumer clientId=consumer-spark-kafka-source-e7b94c18-83a7-48b6-b4ca-aaf4123e5181-373237678-driver-0-1, groupId=spark-kafka-source-e7b94c18-83a7-48b6-b4ca-aaf4123e5181-373237678-driver-0] Connection to node 0 (pd-master/10.67.22.162:9092) could not be established. Broker may not be available.\n",
      "22/09/14 21:50:15 WARN NetworkClient: [Consumer clientId=consumer-spark-kafka-source-e7b94c18-83a7-48b6-b4ca-aaf4123e5181-373237678-driver-0-1, groupId=spark-kafka-source-e7b94c18-83a7-48b6-b4ca-aaf4123e5181-373237678-driver-0] Connection to node 0 (pd-master/10.67.22.162:9092) could not be established. Broker may not be available.\n",
      "22/09/14 21:50:16 WARN NetworkClient: [Consumer clientId=consumer-spark-kafka-source-e7b94c18-83a7-48b6-b4ca-aaf4123e5181-373237678-driver-0-1, groupId=spark-kafka-source-e7b94c18-83a7-48b6-b4ca-aaf4123e5181-373237678-driver-0] Connection to node 0 (pd-master/10.67.22.162:9092) could not be established. Broker may not be available.\n",
      "22/09/14 21:50:17 WARN NetworkClient: [Consumer clientId=consumer-spark-kafka-source-e7b94c18-83a7-48b6-b4ca-aaf4123e5181-373237678-driver-0-1, groupId=spark-kafka-source-e7b94c18-83a7-48b6-b4ca-aaf4123e5181-373237678-driver-0] Connection to node 0 (pd-master/10.67.22.162:9092) could not be established. Broker may not be available.\n",
      "22/09/14 21:50:18 WARN NetworkClient: [Consumer clientId=consumer-spark-kafka-source-e7b94c18-83a7-48b6-b4ca-aaf4123e5181-373237678-driver-0-1, groupId=spark-kafka-source-e7b94c18-83a7-48b6-b4ca-aaf4123e5181-373237678-driver-0] Connection to node 0 (pd-master/10.67.22.162:9092) could not be established. Broker may not be available.\n",
      "22/09/14 21:50:19 WARN NetworkClient: [Consumer clientId=consumer-spark-kafka-source-e7b94c18-83a7-48b6-b4ca-aaf4123e5181-373237678-driver-0-1, groupId=spark-kafka-source-e7b94c18-83a7-48b6-b4ca-aaf4123e5181-373237678-driver-0] Connection to node 0 (pd-master/10.67.22.162:9092) could not be established. Broker may not be available.\n",
      "22/09/14 21:50:20 WARN NetworkClient: [Consumer clientId=consumer-spark-kafka-source-e7b94c18-83a7-48b6-b4ca-aaf4123e5181-373237678-driver-0-1, groupId=spark-kafka-source-e7b94c18-83a7-48b6-b4ca-aaf4123e5181-373237678-driver-0] Connection to node 0 (pd-master/10.67.22.162:9092) could not be established. Broker may not be available.\n",
      "22/09/14 21:50:21 WARN NetworkClient: [Consumer clientId=consumer-spark-kafka-source-e7b94c18-83a7-48b6-b4ca-aaf4123e5181-373237678-driver-0-1, groupId=spark-kafka-source-e7b94c18-83a7-48b6-b4ca-aaf4123e5181-373237678-driver-0] Connection to node 0 (pd-master/10.67.22.162:9092) could not be established. Broker may not be available.\n",
      "22/09/14 21:50:22 WARN NetworkClient: [Consumer clientId=consumer-spark-kafka-source-e7b94c18-83a7-48b6-b4ca-aaf4123e5181-373237678-driver-0-1, groupId=spark-kafka-source-e7b94c18-83a7-48b6-b4ca-aaf4123e5181-373237678-driver-0] Connection to node 0 (pd-master/10.67.22.162:9092) could not be established. Broker may not be available.\n",
      "22/09/14 21:50:23 WARN NetworkClient: [Consumer clientId=consumer-spark-kafka-source-e7b94c18-83a7-48b6-b4ca-aaf4123e5181-373237678-driver-0-1, groupId=spark-kafka-source-e7b94c18-83a7-48b6-b4ca-aaf4123e5181-373237678-driver-0] Connection to node 0 (pd-master/10.67.22.162:9092) could not be established. Broker may not be available.\n",
      "22/09/14 21:50:24 WARN NetworkClient: [Consumer clientId=consumer-spark-kafka-source-e7b94c18-83a7-48b6-b4ca-aaf4123e5181-373237678-driver-0-1, groupId=spark-kafka-source-e7b94c18-83a7-48b6-b4ca-aaf4123e5181-373237678-driver-0] Connection to node 0 (pd-master/10.67.22.162:9092) could not be established. Broker may not be available.\n",
      "22/09/14 21:50:25 WARN NetworkClient: [Consumer clientId=consumer-spark-kafka-source-e7b94c18-83a7-48b6-b4ca-aaf4123e5181-373237678-driver-0-1, groupId=spark-kafka-source-e7b94c18-83a7-48b6-b4ca-aaf4123e5181-373237678-driver-0] Connection to node 0 (pd-master/10.67.22.162:9092) could not be established. Broker may not be available.\n",
      "22/09/14 21:50:26 WARN NetworkClient: [Consumer clientId=consumer-spark-kafka-source-e7b94c18-83a7-48b6-b4ca-aaf4123e5181-373237678-driver-0-1, groupId=spark-kafka-source-e7b94c18-83a7-48b6-b4ca-aaf4123e5181-373237678-driver-0] Connection to node 0 (pd-master/10.67.22.162:9092) could not be established. Broker may not be available.\n",
      "22/09/14 21:50:27 WARN NetworkClient: [Consumer clientId=consumer-spark-kafka-source-e7b94c18-83a7-48b6-b4ca-aaf4123e5181-373237678-driver-0-1, groupId=spark-kafka-source-e7b94c18-83a7-48b6-b4ca-aaf4123e5181-373237678-driver-0] Connection to node 0 (pd-master/10.67.22.162:9092) could not be established. Broker may not be available.\n",
      "22/09/14 21:50:28 WARN NetworkClient: [Consumer clientId=consumer-spark-kafka-source-e7b94c18-83a7-48b6-b4ca-aaf4123e5181-373237678-driver-0-1, groupId=spark-kafka-source-e7b94c18-83a7-48b6-b4ca-aaf4123e5181-373237678-driver-0] Connection to node 0 (pd-master/10.67.22.162:9092) could not be established. Broker may not be available.\n"
     ]
    },
    {
     "name": "stdout",
     "output_type": "stream",
     "text": [
      "22/09/14 21:50:29 WARN NetworkClient: [Consumer clientId=consumer-spark-kafka-source-e7b94c18-83a7-48b6-b4ca-aaf4123e5181-373237678-driver-0-1, groupId=spark-kafka-source-e7b94c18-83a7-48b6-b4ca-aaf4123e5181-373237678-driver-0] Connection to node 0 (pd-master/10.67.22.162:9092) could not be established. Broker may not be available.\n",
      "22/09/14 21:50:30 WARN NetworkClient: [Consumer clientId=consumer-spark-kafka-source-e7b94c18-83a7-48b6-b4ca-aaf4123e5181-373237678-driver-0-1, groupId=spark-kafka-source-e7b94c18-83a7-48b6-b4ca-aaf4123e5181-373237678-driver-0] Connection to node 0 (pd-master/10.67.22.162:9092) could not be established. Broker may not be available.\n",
      "22/09/14 21:50:31 WARN NetworkClient: [Consumer clientId=consumer-spark-kafka-source-e7b94c18-83a7-48b6-b4ca-aaf4123e5181-373237678-driver-0-1, groupId=spark-kafka-source-e7b94c18-83a7-48b6-b4ca-aaf4123e5181-373237678-driver-0] Connection to node 0 (pd-master/10.67.22.162:9092) could not be established. Broker may not be available.\n",
      "22/09/14 21:50:32 WARN NetworkClient: [Consumer clientId=consumer-spark-kafka-source-e7b94c18-83a7-48b6-b4ca-aaf4123e5181-373237678-driver-0-1, groupId=spark-kafka-source-e7b94c18-83a7-48b6-b4ca-aaf4123e5181-373237678-driver-0] Connection to node 0 (pd-master/10.67.22.162:9092) could not be established. Broker may not be available.\n",
      "22/09/14 21:50:33 WARN NetworkClient: [Consumer clientId=consumer-spark-kafka-source-e7b94c18-83a7-48b6-b4ca-aaf4123e5181-373237678-driver-0-1, groupId=spark-kafka-source-e7b94c18-83a7-48b6-b4ca-aaf4123e5181-373237678-driver-0] Connection to node 0 (pd-master/10.67.22.162:9092) could not be established. Broker may not be available.\n",
      "22/09/14 21:50:34 WARN NetworkClient: [Consumer clientId=consumer-spark-kafka-source-e7b94c18-83a7-48b6-b4ca-aaf4123e5181-373237678-driver-0-1, groupId=spark-kafka-source-e7b94c18-83a7-48b6-b4ca-aaf4123e5181-373237678-driver-0] Connection to node 0 (pd-master/10.67.22.162:9092) could not be established. Broker may not be available.\n",
      "22/09/14 21:50:35 WARN NetworkClient: [Consumer clientId=consumer-spark-kafka-source-e7b94c18-83a7-48b6-b4ca-aaf4123e5181-373237678-driver-0-1, groupId=spark-kafka-source-e7b94c18-83a7-48b6-b4ca-aaf4123e5181-373237678-driver-0] Connection to node 0 (pd-master/10.67.22.162:9092) could not be established. Broker may not be available.\n",
      "22/09/14 21:50:37 WARN NetworkClient: [Consumer clientId=consumer-spark-kafka-source-e7b94c18-83a7-48b6-b4ca-aaf4123e5181-373237678-driver-0-1, groupId=spark-kafka-source-e7b94c18-83a7-48b6-b4ca-aaf4123e5181-373237678-driver-0] Connection to node 0 (pd-master/10.67.22.162:9092) could not be established. Broker may not be available.\n",
      "22/09/14 21:50:38 WARN NetworkClient: [Consumer clientId=consumer-spark-kafka-source-e7b94c18-83a7-48b6-b4ca-aaf4123e5181-373237678-driver-0-1, groupId=spark-kafka-source-e7b94c18-83a7-48b6-b4ca-aaf4123e5181-373237678-driver-0] Connection to node 0 (pd-master/10.67.22.162:9092) could not be established. Broker may not be available.\n",
      "22/09/14 21:50:39 WARN NetworkClient: [Consumer clientId=consumer-spark-kafka-source-e7b94c18-83a7-48b6-b4ca-aaf4123e5181-373237678-driver-0-1, groupId=spark-kafka-source-e7b94c18-83a7-48b6-b4ca-aaf4123e5181-373237678-driver-0] Connection to node 0 (pd-master/10.67.22.162:9092) could not be established. Broker may not be available.\n",
      "22/09/14 21:50:40 WARN NetworkClient: [Consumer clientId=consumer-spark-kafka-source-e7b94c18-83a7-48b6-b4ca-aaf4123e5181-373237678-driver-0-1, groupId=spark-kafka-source-e7b94c18-83a7-48b6-b4ca-aaf4123e5181-373237678-driver-0] Connection to node 0 (pd-master/10.67.22.162:9092) could not be established. Broker may not be available.\n",
      "22/09/14 21:50:41 WARN NetworkClient: [Consumer clientId=consumer-spark-kafka-source-e7b94c18-83a7-48b6-b4ca-aaf4123e5181-373237678-driver-0-1, groupId=spark-kafka-source-e7b94c18-83a7-48b6-b4ca-aaf4123e5181-373237678-driver-0] Connection to node 0 (pd-master/10.67.22.162:9092) could not be established. Broker may not be available.\n",
      "22/09/14 21:50:42 WARN NetworkClient: [Consumer clientId=consumer-spark-kafka-source-e7b94c18-83a7-48b6-b4ca-aaf4123e5181-373237678-driver-0-1, groupId=spark-kafka-source-e7b94c18-83a7-48b6-b4ca-aaf4123e5181-373237678-driver-0] Connection to node 0 (pd-master/10.67.22.162:9092) could not be established. Broker may not be available.\n",
      "22/09/14 21:50:43 WARN NetworkClient: [Consumer clientId=consumer-spark-kafka-source-e7b94c18-83a7-48b6-b4ca-aaf4123e5181-373237678-driver-0-1, groupId=spark-kafka-source-e7b94c18-83a7-48b6-b4ca-aaf4123e5181-373237678-driver-0] Connection to node 0 (pd-master/10.67.22.162:9092) could not be established. Broker may not be available.\n",
      "22/09/14 21:50:44 WARN NetworkClient: [Consumer clientId=consumer-spark-kafka-source-e7b94c18-83a7-48b6-b4ca-aaf4123e5181-373237678-driver-0-1, groupId=spark-kafka-source-e7b94c18-83a7-48b6-b4ca-aaf4123e5181-373237678-driver-0] Connection to node 0 (pd-master/10.67.22.162:9092) could not be established. Broker may not be available.\n",
      "22/09/14 21:50:45 WARN NetworkClient: [Consumer clientId=consumer-spark-kafka-source-e7b94c18-83a7-48b6-b4ca-aaf4123e5181-373237678-driver-0-1, groupId=spark-kafka-source-e7b94c18-83a7-48b6-b4ca-aaf4123e5181-373237678-driver-0] Connection to node 0 (pd-master/10.67.22.162:9092) could not be established. Broker may not be available.\n",
      "22/09/14 21:50:46 WARN NetworkClient: [Consumer clientId=consumer-spark-kafka-source-e7b94c18-83a7-48b6-b4ca-aaf4123e5181-373237678-driver-0-1, groupId=spark-kafka-source-e7b94c18-83a7-48b6-b4ca-aaf4123e5181-373237678-driver-0] Connection to node 0 (pd-master/10.67.22.162:9092) could not be established. Broker may not be available.\n",
      "22/09/14 21:50:47 WARN NetworkClient: [Consumer clientId=consumer-spark-kafka-source-e7b94c18-83a7-48b6-b4ca-aaf4123e5181-373237678-driver-0-1, groupId=spark-kafka-source-e7b94c18-83a7-48b6-b4ca-aaf4123e5181-373237678-driver-0] Connection to node 0 (pd-master/10.67.22.162:9092) could not be established. Broker may not be available.\n",
      "22/09/14 21:50:48 WARN NetworkClient: [Consumer clientId=consumer-spark-kafka-source-e7b94c18-83a7-48b6-b4ca-aaf4123e5181-373237678-driver-0-1, groupId=spark-kafka-source-e7b94c18-83a7-48b6-b4ca-aaf4123e5181-373237678-driver-0] Connection to node 0 (pd-master/10.67.22.162:9092) could not be established. Broker may not be available.\n",
      "22/09/14 21:50:49 WARN NetworkClient: [Consumer clientId=consumer-spark-kafka-source-e7b94c18-83a7-48b6-b4ca-aaf4123e5181-373237678-driver-0-1, groupId=spark-kafka-source-e7b94c18-83a7-48b6-b4ca-aaf4123e5181-373237678-driver-0] Connection to node 0 (pd-master/10.67.22.162:9092) could not be established. Broker may not be available.\n",
      "22/09/14 21:50:50 WARN NetworkClient: [Consumer clientId=consumer-spark-kafka-source-e7b94c18-83a7-48b6-b4ca-aaf4123e5181-373237678-driver-0-1, groupId=spark-kafka-source-e7b94c18-83a7-48b6-b4ca-aaf4123e5181-373237678-driver-0] Connection to node 0 (pd-master/10.67.22.162:9092) could not be established. Broker may not be available.\n",
      "22/09/14 21:50:51 WARN NetworkClient: [Consumer clientId=consumer-spark-kafka-source-e7b94c18-83a7-48b6-b4ca-aaf4123e5181-373237678-driver-0-1, groupId=spark-kafka-source-e7b94c18-83a7-48b6-b4ca-aaf4123e5181-373237678-driver-0] Connection to node 0 (pd-master/10.67.22.162:9092) could not be established. Broker may not be available.\n",
      "22/09/14 21:50:52 WARN NetworkClient: [Consumer clientId=consumer-spark-kafka-source-e7b94c18-83a7-48b6-b4ca-aaf4123e5181-373237678-driver-0-1, groupId=spark-kafka-source-e7b94c18-83a7-48b6-b4ca-aaf4123e5181-373237678-driver-0] Connection to node 0 (pd-master/10.67.22.162:9092) could not be established. Broker may not be available.\n",
      "22/09/14 21:50:53 WARN NetworkClient: [Consumer clientId=consumer-spark-kafka-source-e7b94c18-83a7-48b6-b4ca-aaf4123e5181-373237678-driver-0-1, groupId=spark-kafka-source-e7b94c18-83a7-48b6-b4ca-aaf4123e5181-373237678-driver-0] Connection to node 0 (pd-master/10.67.22.162:9092) could not be established. Broker may not be available.\n",
      "22/09/14 21:50:54 WARN NetworkClient: [Consumer clientId=consumer-spark-kafka-source-e7b94c18-83a7-48b6-b4ca-aaf4123e5181-373237678-driver-0-1, groupId=spark-kafka-source-e7b94c18-83a7-48b6-b4ca-aaf4123e5181-373237678-driver-0] Connection to node 0 (pd-master/10.67.22.162:9092) could not be established. Broker may not be available.\n"
     ]
    },
    {
     "name": "stdout",
     "output_type": "stream",
     "text": [
      "22/09/14 21:50:55 WARN NetworkClient: [Consumer clientId=consumer-spark-kafka-source-e7b94c18-83a7-48b6-b4ca-aaf4123e5181-373237678-driver-0-1, groupId=spark-kafka-source-e7b94c18-83a7-48b6-b4ca-aaf4123e5181-373237678-driver-0] Connection to node 0 (pd-master/10.67.22.162:9092) could not be established. Broker may not be available.\n",
      "22/09/14 21:50:56 WARN NetworkClient: [Consumer clientId=consumer-spark-kafka-source-e7b94c18-83a7-48b6-b4ca-aaf4123e5181-373237678-driver-0-1, groupId=spark-kafka-source-e7b94c18-83a7-48b6-b4ca-aaf4123e5181-373237678-driver-0] Connection to node 0 (pd-master/10.67.22.162:9092) could not be established. Broker may not be available.\n",
      "22/09/14 21:50:57 WARN NetworkClient: [Consumer clientId=consumer-spark-kafka-source-e7b94c18-83a7-48b6-b4ca-aaf4123e5181-373237678-driver-0-1, groupId=spark-kafka-source-e7b94c18-83a7-48b6-b4ca-aaf4123e5181-373237678-driver-0] Connection to node 0 (pd-master/10.67.22.162:9092) could not be established. Broker may not be available.\n",
      "22/09/14 21:50:58 WARN NetworkClient: [Consumer clientId=consumer-spark-kafka-source-e7b94c18-83a7-48b6-b4ca-aaf4123e5181-373237678-driver-0-1, groupId=spark-kafka-source-e7b94c18-83a7-48b6-b4ca-aaf4123e5181-373237678-driver-0] Connection to node 0 (pd-master/10.67.22.162:9092) could not be established. Broker may not be available.\n",
      "22/09/14 21:50:59 WARN NetworkClient: [Consumer clientId=consumer-spark-kafka-source-e7b94c18-83a7-48b6-b4ca-aaf4123e5181-373237678-driver-0-1, groupId=spark-kafka-source-e7b94c18-83a7-48b6-b4ca-aaf4123e5181-373237678-driver-0] Connection to node 0 (pd-master/10.67.22.162:9092) could not be established. Broker may not be available.\n",
      "22/09/14 21:51:00 WARN NetworkClient: [Consumer clientId=consumer-spark-kafka-source-e7b94c18-83a7-48b6-b4ca-aaf4123e5181-373237678-driver-0-1, groupId=spark-kafka-source-e7b94c18-83a7-48b6-b4ca-aaf4123e5181-373237678-driver-0] Connection to node 0 (pd-master/10.67.22.162:9092) could not be established. Broker may not be available.\n",
      "22/09/14 21:51:01 WARN NetworkClient: [Consumer clientId=consumer-spark-kafka-source-e7b94c18-83a7-48b6-b4ca-aaf4123e5181-373237678-driver-0-1, groupId=spark-kafka-source-e7b94c18-83a7-48b6-b4ca-aaf4123e5181-373237678-driver-0] Connection to node 0 (pd-master/10.67.22.162:9092) could not be established. Broker may not be available.\n",
      "22/09/14 21:51:02 WARN NetworkClient: [Consumer clientId=consumer-spark-kafka-source-e7b94c18-83a7-48b6-b4ca-aaf4123e5181-373237678-driver-0-1, groupId=spark-kafka-source-e7b94c18-83a7-48b6-b4ca-aaf4123e5181-373237678-driver-0] Connection to node 0 (pd-master/10.67.22.162:9092) could not be established. Broker may not be available.\n",
      "22/09/14 21:51:03 WARN NetworkClient: [Consumer clientId=consumer-spark-kafka-source-e7b94c18-83a7-48b6-b4ca-aaf4123e5181-373237678-driver-0-1, groupId=spark-kafka-source-e7b94c18-83a7-48b6-b4ca-aaf4123e5181-373237678-driver-0] Connection to node 0 (pd-master/10.67.22.162:9092) could not be established. Broker may not be available.\n",
      "22/09/14 21:51:04 WARN NetworkClient: [Consumer clientId=consumer-spark-kafka-source-e7b94c18-83a7-48b6-b4ca-aaf4123e5181-373237678-driver-0-1, groupId=spark-kafka-source-e7b94c18-83a7-48b6-b4ca-aaf4123e5181-373237678-driver-0] Connection to node 0 (pd-master/10.67.22.162:9092) could not be established. Broker may not be available.\n",
      "22/09/14 21:51:05 WARN NetworkClient: [Consumer clientId=consumer-spark-kafka-source-e7b94c18-83a7-48b6-b4ca-aaf4123e5181-373237678-driver-0-1, groupId=spark-kafka-source-e7b94c18-83a7-48b6-b4ca-aaf4123e5181-373237678-driver-0] Connection to node 0 (pd-master/10.67.22.162:9092) could not be established. Broker may not be available.\n",
      "22/09/14 21:51:06 WARN NetworkClient: [Consumer clientId=consumer-spark-kafka-source-e7b94c18-83a7-48b6-b4ca-aaf4123e5181-373237678-driver-0-1, groupId=spark-kafka-source-e7b94c18-83a7-48b6-b4ca-aaf4123e5181-373237678-driver-0] Connection to node 0 (pd-master/10.67.22.162:9092) could not be established. Broker may not be available.\n",
      "22/09/14 21:51:07 WARN NetworkClient: [Consumer clientId=consumer-spark-kafka-source-e7b94c18-83a7-48b6-b4ca-aaf4123e5181-373237678-driver-0-1, groupId=spark-kafka-source-e7b94c18-83a7-48b6-b4ca-aaf4123e5181-373237678-driver-0] Connection to node 0 (pd-master/10.67.22.162:9092) could not be established. Broker may not be available.\n",
      "22/09/14 21:51:08 WARN NetworkClient: [Consumer clientId=consumer-spark-kafka-source-e7b94c18-83a7-48b6-b4ca-aaf4123e5181-373237678-driver-0-1, groupId=spark-kafka-source-e7b94c18-83a7-48b6-b4ca-aaf4123e5181-373237678-driver-0] Connection to node 0 (pd-master/10.67.22.162:9092) could not be established. Broker may not be available.\n",
      "22/09/14 21:51:09 WARN NetworkClient: [Consumer clientId=consumer-spark-kafka-source-e7b94c18-83a7-48b6-b4ca-aaf4123e5181-373237678-driver-0-1, groupId=spark-kafka-source-e7b94c18-83a7-48b6-b4ca-aaf4123e5181-373237678-driver-0] Connection to node 0 (pd-master/10.67.22.162:9092) could not be established. Broker may not be available.\n",
      "22/09/14 21:51:10 WARN NetworkClient: [Consumer clientId=consumer-spark-kafka-source-e7b94c18-83a7-48b6-b4ca-aaf4123e5181-373237678-driver-0-1, groupId=spark-kafka-source-e7b94c18-83a7-48b6-b4ca-aaf4123e5181-373237678-driver-0] Connection to node 0 (pd-master/10.67.22.162:9092) could not be established. Broker may not be available.\n",
      "22/09/14 21:51:11 WARN NetworkClient: [Consumer clientId=consumer-spark-kafka-source-e7b94c18-83a7-48b6-b4ca-aaf4123e5181-373237678-driver-0-1, groupId=spark-kafka-source-e7b94c18-83a7-48b6-b4ca-aaf4123e5181-373237678-driver-0] Connection to node 0 (pd-master/10.67.22.162:9092) could not be established. Broker may not be available.\n",
      "22/09/14 21:51:12 WARN NetworkClient: [Consumer clientId=consumer-spark-kafka-source-e7b94c18-83a7-48b6-b4ca-aaf4123e5181-373237678-driver-0-1, groupId=spark-kafka-source-e7b94c18-83a7-48b6-b4ca-aaf4123e5181-373237678-driver-0] Connection to node 0 (pd-master/10.67.22.162:9092) could not be established. Broker may not be available.\n",
      "22/09/14 21:51:13 WARN NetworkClient: [Consumer clientId=consumer-spark-kafka-source-e7b94c18-83a7-48b6-b4ca-aaf4123e5181-373237678-driver-0-1, groupId=spark-kafka-source-e7b94c18-83a7-48b6-b4ca-aaf4123e5181-373237678-driver-0] Connection to node 0 (pd-master/10.67.22.162:9092) could not be established. Broker may not be available.\n",
      "22/09/14 21:51:14 WARN NetworkClient: [Consumer clientId=consumer-spark-kafka-source-e7b94c18-83a7-48b6-b4ca-aaf4123e5181-373237678-driver-0-1, groupId=spark-kafka-source-e7b94c18-83a7-48b6-b4ca-aaf4123e5181-373237678-driver-0] Connection to node 0 (pd-master/10.67.22.162:9092) could not be established. Broker may not be available.\n",
      "22/09/14 21:51:15 WARN NetworkClient: [Consumer clientId=consumer-spark-kafka-source-e7b94c18-83a7-48b6-b4ca-aaf4123e5181-373237678-driver-0-1, groupId=spark-kafka-source-e7b94c18-83a7-48b6-b4ca-aaf4123e5181-373237678-driver-0] Connection to node 0 (pd-master/10.67.22.162:9092) could not be established. Broker may not be available.\n",
      "22/09/14 21:51:16 WARN NetworkClient: [Consumer clientId=consumer-spark-kafka-source-e7b94c18-83a7-48b6-b4ca-aaf4123e5181-373237678-driver-0-1, groupId=spark-kafka-source-e7b94c18-83a7-48b6-b4ca-aaf4123e5181-373237678-driver-0] Connection to node 0 (pd-master/10.67.22.162:9092) could not be established. Broker may not be available.\n",
      "22/09/14 21:51:17 WARN NetworkClient: [Consumer clientId=consumer-spark-kafka-source-e7b94c18-83a7-48b6-b4ca-aaf4123e5181-373237678-driver-0-1, groupId=spark-kafka-source-e7b94c18-83a7-48b6-b4ca-aaf4123e5181-373237678-driver-0] Connection to node 0 (pd-master/10.67.22.162:9092) could not be established. Broker may not be available.\n",
      "22/09/14 21:51:18 WARN NetworkClient: [Consumer clientId=consumer-spark-kafka-source-e7b94c18-83a7-48b6-b4ca-aaf4123e5181-373237678-driver-0-1, groupId=spark-kafka-source-e7b94c18-83a7-48b6-b4ca-aaf4123e5181-373237678-driver-0] Connection to node 0 (pd-master/10.67.22.162:9092) could not be established. Broker may not be available.\n",
      "22/09/14 21:51:19 WARN NetworkClient: [Consumer clientId=consumer-spark-kafka-source-e7b94c18-83a7-48b6-b4ca-aaf4123e5181-373237678-driver-0-1, groupId=spark-kafka-source-e7b94c18-83a7-48b6-b4ca-aaf4123e5181-373237678-driver-0] Connection to node 0 (pd-master/10.67.22.162:9092) could not be established. Broker may not be available.\n"
     ]
    },
    {
     "name": "stdout",
     "output_type": "stream",
     "text": [
      "22/09/14 21:51:21 WARN NetworkClient: [Consumer clientId=consumer-spark-kafka-source-e7b94c18-83a7-48b6-b4ca-aaf4123e5181-373237678-driver-0-1, groupId=spark-kafka-source-e7b94c18-83a7-48b6-b4ca-aaf4123e5181-373237678-driver-0] Connection to node 0 (pd-master/10.67.22.162:9092) could not be established. Broker may not be available.\n",
      "22/09/14 21:51:22 WARN NetworkClient: [Consumer clientId=consumer-spark-kafka-source-e7b94c18-83a7-48b6-b4ca-aaf4123e5181-373237678-driver-0-1, groupId=spark-kafka-source-e7b94c18-83a7-48b6-b4ca-aaf4123e5181-373237678-driver-0] Connection to node 0 (pd-master/10.67.22.162:9092) could not be established. Broker may not be available.\n",
      "22/09/14 21:51:23 WARN NetworkClient: [Consumer clientId=consumer-spark-kafka-source-e7b94c18-83a7-48b6-b4ca-aaf4123e5181-373237678-driver-0-1, groupId=spark-kafka-source-e7b94c18-83a7-48b6-b4ca-aaf4123e5181-373237678-driver-0] Connection to node 0 (pd-master/10.67.22.162:9092) could not be established. Broker may not be available.\n",
      "22/09/14 21:51:24 WARN NetworkClient: [Consumer clientId=consumer-spark-kafka-source-e7b94c18-83a7-48b6-b4ca-aaf4123e5181-373237678-driver-0-1, groupId=spark-kafka-source-e7b94c18-83a7-48b6-b4ca-aaf4123e5181-373237678-driver-0] Connection to node 0 (pd-master/10.67.22.162:9092) could not be established. Broker may not be available.\n",
      "22/09/14 21:51:25 WARN NetworkClient: [Consumer clientId=consumer-spark-kafka-source-e7b94c18-83a7-48b6-b4ca-aaf4123e5181-373237678-driver-0-1, groupId=spark-kafka-source-e7b94c18-83a7-48b6-b4ca-aaf4123e5181-373237678-driver-0] Connection to node 0 (pd-master/10.67.22.162:9092) could not be established. Broker may not be available.\n",
      "22/09/14 21:51:26 WARN NetworkClient: [Consumer clientId=consumer-spark-kafka-source-e7b94c18-83a7-48b6-b4ca-aaf4123e5181-373237678-driver-0-1, groupId=spark-kafka-source-e7b94c18-83a7-48b6-b4ca-aaf4123e5181-373237678-driver-0] Connection to node 0 (pd-master/10.67.22.162:9092) could not be established. Broker may not be available.\n",
      "22/09/14 21:51:26 WARN NetworkClient: [Consumer clientId=consumer-spark-kafka-source-e7b94c18-83a7-48b6-b4ca-aaf4123e5181-373237678-driver-0-1, groupId=spark-kafka-source-e7b94c18-83a7-48b6-b4ca-aaf4123e5181-373237678-driver-0] Connection to node 0 (pd-master/10.67.22.162:9092) could not be established. Broker may not be available.\n",
      "22/09/14 21:51:27 WARN NetworkClient: [Consumer clientId=consumer-spark-kafka-source-e7b94c18-83a7-48b6-b4ca-aaf4123e5181-373237678-driver-0-1, groupId=spark-kafka-source-e7b94c18-83a7-48b6-b4ca-aaf4123e5181-373237678-driver-0] Connection to node 0 (pd-master/10.67.22.162:9092) could not be established. Broker may not be available.\n",
      "22/09/14 21:51:29 WARN NetworkClient: [Consumer clientId=consumer-spark-kafka-source-e7b94c18-83a7-48b6-b4ca-aaf4123e5181-373237678-driver-0-1, groupId=spark-kafka-source-e7b94c18-83a7-48b6-b4ca-aaf4123e5181-373237678-driver-0] Connection to node 0 (pd-master/10.67.22.162:9092) could not be established. Broker may not be available.\n",
      "22/09/14 21:51:30 WARN NetworkClient: [Consumer clientId=consumer-spark-kafka-source-e7b94c18-83a7-48b6-b4ca-aaf4123e5181-373237678-driver-0-1, groupId=spark-kafka-source-e7b94c18-83a7-48b6-b4ca-aaf4123e5181-373237678-driver-0] Connection to node 0 (pd-master/10.67.22.162:9092) could not be established. Broker may not be available.\n",
      "22/09/14 21:51:31 WARN NetworkClient: [Consumer clientId=consumer-spark-kafka-source-e7b94c18-83a7-48b6-b4ca-aaf4123e5181-373237678-driver-0-1, groupId=spark-kafka-source-e7b94c18-83a7-48b6-b4ca-aaf4123e5181-373237678-driver-0] Connection to node 0 (pd-master/10.67.22.162:9092) could not be established. Broker may not be available.\n",
      "22/09/14 21:51:32 WARN NetworkClient: [Consumer clientId=consumer-spark-kafka-source-e7b94c18-83a7-48b6-b4ca-aaf4123e5181-373237678-driver-0-1, groupId=spark-kafka-source-e7b94c18-83a7-48b6-b4ca-aaf4123e5181-373237678-driver-0] Connection to node 0 (pd-master/10.67.22.162:9092) could not be established. Broker may not be available.\n",
      "22/09/14 21:51:33 WARN NetworkClient: [Consumer clientId=consumer-spark-kafka-source-e7b94c18-83a7-48b6-b4ca-aaf4123e5181-373237678-driver-0-1, groupId=spark-kafka-source-e7b94c18-83a7-48b6-b4ca-aaf4123e5181-373237678-driver-0] Connection to node 0 (pd-master/10.67.22.162:9092) could not be established. Broker may not be available.\n",
      "22/09/14 21:51:34 WARN NetworkClient: [Consumer clientId=consumer-spark-kafka-source-e7b94c18-83a7-48b6-b4ca-aaf4123e5181-373237678-driver-0-1, groupId=spark-kafka-source-e7b94c18-83a7-48b6-b4ca-aaf4123e5181-373237678-driver-0] Connection to node 0 (pd-master/10.67.22.162:9092) could not be established. Broker may not be available.\n",
      "22/09/14 21:51:35 WARN NetworkClient: [Consumer clientId=consumer-spark-kafka-source-e7b94c18-83a7-48b6-b4ca-aaf4123e5181-373237678-driver-0-1, groupId=spark-kafka-source-e7b94c18-83a7-48b6-b4ca-aaf4123e5181-373237678-driver-0] Connection to node 0 (pd-master/10.67.22.162:9092) could not be established. Broker may not be available.\n",
      "22/09/14 21:51:36 WARN NetworkClient: [Consumer clientId=consumer-spark-kafka-source-e7b94c18-83a7-48b6-b4ca-aaf4123e5181-373237678-driver-0-1, groupId=spark-kafka-source-e7b94c18-83a7-48b6-b4ca-aaf4123e5181-373237678-driver-0] Connection to node 0 (pd-master/10.67.22.162:9092) could not be established. Broker may not be available.\n",
      "22/09/14 21:51:37 WARN NetworkClient: [Consumer clientId=consumer-spark-kafka-source-e7b94c18-83a7-48b6-b4ca-aaf4123e5181-373237678-driver-0-1, groupId=spark-kafka-source-e7b94c18-83a7-48b6-b4ca-aaf4123e5181-373237678-driver-0] Connection to node 0 (pd-master/10.67.22.162:9092) could not be established. Broker may not be available.\n",
      "22/09/14 21:51:38 WARN NetworkClient: [Consumer clientId=consumer-spark-kafka-source-e7b94c18-83a7-48b6-b4ca-aaf4123e5181-373237678-driver-0-1, groupId=spark-kafka-source-e7b94c18-83a7-48b6-b4ca-aaf4123e5181-373237678-driver-0] Connection to node 0 (pd-master/10.67.22.162:9092) could not be established. Broker may not be available.\n",
      "22/09/14 21:51:39 WARN NetworkClient: [Consumer clientId=consumer-spark-kafka-source-e7b94c18-83a7-48b6-b4ca-aaf4123e5181-373237678-driver-0-1, groupId=spark-kafka-source-e7b94c18-83a7-48b6-b4ca-aaf4123e5181-373237678-driver-0] Connection to node 0 (pd-master/10.67.22.162:9092) could not be established. Broker may not be available.\n",
      "22/09/14 21:51:40 WARN NetworkClient: [Consumer clientId=consumer-spark-kafka-source-e7b94c18-83a7-48b6-b4ca-aaf4123e5181-373237678-driver-0-1, groupId=spark-kafka-source-e7b94c18-83a7-48b6-b4ca-aaf4123e5181-373237678-driver-0] Connection to node 0 (pd-master/10.67.22.162:9092) could not be established. Broker may not be available.\n",
      "22/09/14 21:51:41 WARN NetworkClient: [Consumer clientId=consumer-spark-kafka-source-e7b94c18-83a7-48b6-b4ca-aaf4123e5181-373237678-driver-0-1, groupId=spark-kafka-source-e7b94c18-83a7-48b6-b4ca-aaf4123e5181-373237678-driver-0] Connection to node 0 (pd-master/10.67.22.162:9092) could not be established. Broker may not be available.\n",
      "22/09/14 21:51:42 WARN NetworkClient: [Consumer clientId=consumer-spark-kafka-source-e7b94c18-83a7-48b6-b4ca-aaf4123e5181-373237678-driver-0-1, groupId=spark-kafka-source-e7b94c18-83a7-48b6-b4ca-aaf4123e5181-373237678-driver-0] Connection to node 0 (pd-master/10.67.22.162:9092) could not be established. Broker may not be available.\n",
      "22/09/14 21:51:44 WARN NetworkClient: [Consumer clientId=consumer-spark-kafka-source-e7b94c18-83a7-48b6-b4ca-aaf4123e5181-373237678-driver-0-1, groupId=spark-kafka-source-e7b94c18-83a7-48b6-b4ca-aaf4123e5181-373237678-driver-0] Connection to node 0 (pd-master/10.67.22.162:9092) could not be established. Broker may not be available.\n",
      "22/09/14 21:51:45 WARN NetworkClient: [Consumer clientId=consumer-spark-kafka-source-e7b94c18-83a7-48b6-b4ca-aaf4123e5181-373237678-driver-0-1, groupId=spark-kafka-source-e7b94c18-83a7-48b6-b4ca-aaf4123e5181-373237678-driver-0] Connection to node 0 (pd-master/10.67.22.162:9092) could not be established. Broker may not be available.\n",
      "22/09/14 21:51:46 WARN NetworkClient: [Consumer clientId=consumer-spark-kafka-source-e7b94c18-83a7-48b6-b4ca-aaf4123e5181-373237678-driver-0-1, groupId=spark-kafka-source-e7b94c18-83a7-48b6-b4ca-aaf4123e5181-373237678-driver-0] Connection to node 0 (pd-master/10.67.22.162:9092) could not be established. Broker may not be available.\n"
     ]
    },
    {
     "name": "stdout",
     "output_type": "stream",
     "text": [
      "22/09/14 21:51:47 WARN NetworkClient: [Consumer clientId=consumer-spark-kafka-source-e7b94c18-83a7-48b6-b4ca-aaf4123e5181-373237678-driver-0-1, groupId=spark-kafka-source-e7b94c18-83a7-48b6-b4ca-aaf4123e5181-373237678-driver-0] Connection to node 0 (pd-master/10.67.22.162:9092) could not be established. Broker may not be available.\n",
      "22/09/14 21:51:48 WARN NetworkClient: [Consumer clientId=consumer-spark-kafka-source-e7b94c18-83a7-48b6-b4ca-aaf4123e5181-373237678-driver-0-1, groupId=spark-kafka-source-e7b94c18-83a7-48b6-b4ca-aaf4123e5181-373237678-driver-0] Connection to node 0 (pd-master/10.67.22.162:9092) could not be established. Broker may not be available.\n",
      "22/09/14 21:51:49 WARN NetworkClient: [Consumer clientId=consumer-spark-kafka-source-e7b94c18-83a7-48b6-b4ca-aaf4123e5181-373237678-driver-0-1, groupId=spark-kafka-source-e7b94c18-83a7-48b6-b4ca-aaf4123e5181-373237678-driver-0] Connection to node 0 (pd-master/10.67.22.162:9092) could not be established. Broker may not be available.\n",
      "22/09/14 21:51:50 WARN NetworkClient: [Consumer clientId=consumer-spark-kafka-source-e7b94c18-83a7-48b6-b4ca-aaf4123e5181-373237678-driver-0-1, groupId=spark-kafka-source-e7b94c18-83a7-48b6-b4ca-aaf4123e5181-373237678-driver-0] Connection to node 0 (pd-master/10.67.22.162:9092) could not be established. Broker may not be available.\n",
      "22/09/14 21:51:51 WARN NetworkClient: [Consumer clientId=consumer-spark-kafka-source-e7b94c18-83a7-48b6-b4ca-aaf4123e5181-373237678-driver-0-1, groupId=spark-kafka-source-e7b94c18-83a7-48b6-b4ca-aaf4123e5181-373237678-driver-0] Connection to node 0 (pd-master/10.67.22.162:9092) could not be established. Broker may not be available.\n",
      "22/09/14 21:51:52 WARN NetworkClient: [Consumer clientId=consumer-spark-kafka-source-e7b94c18-83a7-48b6-b4ca-aaf4123e5181-373237678-driver-0-1, groupId=spark-kafka-source-e7b94c18-83a7-48b6-b4ca-aaf4123e5181-373237678-driver-0] Connection to node 0 (pd-master/10.67.22.162:9092) could not be established. Broker may not be available.\n",
      "22/09/14 21:51:53 WARN NetworkClient: [Consumer clientId=consumer-spark-kafka-source-e7b94c18-83a7-48b6-b4ca-aaf4123e5181-373237678-driver-0-1, groupId=spark-kafka-source-e7b94c18-83a7-48b6-b4ca-aaf4123e5181-373237678-driver-0] Connection to node 0 (pd-master/10.67.22.162:9092) could not be established. Broker may not be available.\n",
      "22/09/14 21:51:54 WARN NetworkClient: [Consumer clientId=consumer-spark-kafka-source-e7b94c18-83a7-48b6-b4ca-aaf4123e5181-373237678-driver-0-1, groupId=spark-kafka-source-e7b94c18-83a7-48b6-b4ca-aaf4123e5181-373237678-driver-0] Connection to node 0 (pd-master/10.67.22.162:9092) could not be established. Broker may not be available.\n",
      "22/09/14 21:51:55 WARN NetworkClient: [Consumer clientId=consumer-spark-kafka-source-e7b94c18-83a7-48b6-b4ca-aaf4123e5181-373237678-driver-0-1, groupId=spark-kafka-source-e7b94c18-83a7-48b6-b4ca-aaf4123e5181-373237678-driver-0] Connection to node 0 (pd-master/10.67.22.162:9092) could not be established. Broker may not be available.\n",
      "22/09/14 21:51:56 WARN NetworkClient: [Consumer clientId=consumer-spark-kafka-source-e7b94c18-83a7-48b6-b4ca-aaf4123e5181-373237678-driver-0-1, groupId=spark-kafka-source-e7b94c18-83a7-48b6-b4ca-aaf4123e5181-373237678-driver-0] Connection to node 0 (pd-master/10.67.22.162:9092) could not be established. Broker may not be available.\n",
      "22/09/14 21:51:57 WARN NetworkClient: [Consumer clientId=consumer-spark-kafka-source-e7b94c18-83a7-48b6-b4ca-aaf4123e5181-373237678-driver-0-1, groupId=spark-kafka-source-e7b94c18-83a7-48b6-b4ca-aaf4123e5181-373237678-driver-0] Connection to node 0 (pd-master/10.67.22.162:9092) could not be established. Broker may not be available.\n",
      "22/09/14 21:51:58 WARN NetworkClient: [Consumer clientId=consumer-spark-kafka-source-e7b94c18-83a7-48b6-b4ca-aaf4123e5181-373237678-driver-0-1, groupId=spark-kafka-source-e7b94c18-83a7-48b6-b4ca-aaf4123e5181-373237678-driver-0] Connection to node 0 (pd-master/10.67.22.162:9092) could not be established. Broker may not be available.\n",
      "22/09/14 21:52:00 WARN NetworkClient: [Consumer clientId=consumer-spark-kafka-source-e7b94c18-83a7-48b6-b4ca-aaf4123e5181-373237678-driver-0-1, groupId=spark-kafka-source-e7b94c18-83a7-48b6-b4ca-aaf4123e5181-373237678-driver-0] Connection to node 0 (pd-master/10.67.22.162:9092) could not be established. Broker may not be available.\n",
      "22/09/14 21:52:00 WARN NetworkClient: [Consumer clientId=consumer-spark-kafka-source-e7b94c18-83a7-48b6-b4ca-aaf4123e5181-373237678-driver-0-1, groupId=spark-kafka-source-e7b94c18-83a7-48b6-b4ca-aaf4123e5181-373237678-driver-0] Connection to node 0 (pd-master/10.67.22.162:9092) could not be established. Broker may not be available.\n",
      "22/09/14 21:52:02 WARN NetworkClient: [Consumer clientId=consumer-spark-kafka-source-e7b94c18-83a7-48b6-b4ca-aaf4123e5181-373237678-driver-0-1, groupId=spark-kafka-source-e7b94c18-83a7-48b6-b4ca-aaf4123e5181-373237678-driver-0] Connection to node 0 (pd-master/10.67.22.162:9092) could not be established. Broker may not be available.\n",
      "22/09/14 21:52:03 WARN NetworkClient: [Consumer clientId=consumer-spark-kafka-source-e7b94c18-83a7-48b6-b4ca-aaf4123e5181-373237678-driver-0-1, groupId=spark-kafka-source-e7b94c18-83a7-48b6-b4ca-aaf4123e5181-373237678-driver-0] Connection to node 0 (pd-master/10.67.22.162:9092) could not be established. Broker may not be available.\n",
      "22/09/14 21:52:04 WARN NetworkClient: [Consumer clientId=consumer-spark-kafka-source-e7b94c18-83a7-48b6-b4ca-aaf4123e5181-373237678-driver-0-1, groupId=spark-kafka-source-e7b94c18-83a7-48b6-b4ca-aaf4123e5181-373237678-driver-0] Connection to node 0 (pd-master/10.67.22.162:9092) could not be established. Broker may not be available.\n",
      "22/09/14 21:52:04 WARN NetworkClient: [Consumer clientId=consumer-spark-kafka-source-e7b94c18-83a7-48b6-b4ca-aaf4123e5181-373237678-driver-0-1, groupId=spark-kafka-source-e7b94c18-83a7-48b6-b4ca-aaf4123e5181-373237678-driver-0] Connection to node 0 (pd-master/10.67.22.162:9092) could not be established. Broker may not be available.\n",
      "22/09/14 21:52:05 WARN NetworkClient: [Consumer clientId=consumer-spark-kafka-source-e7b94c18-83a7-48b6-b4ca-aaf4123e5181-373237678-driver-0-1, groupId=spark-kafka-source-e7b94c18-83a7-48b6-b4ca-aaf4123e5181-373237678-driver-0] Connection to node 0 (pd-master/10.67.22.162:9092) could not be established. Broker may not be available.\n",
      "22/09/14 21:52:06 WARN NetworkClient: [Consumer clientId=consumer-spark-kafka-source-e7b94c18-83a7-48b6-b4ca-aaf4123e5181-373237678-driver-0-1, groupId=spark-kafka-source-e7b94c18-83a7-48b6-b4ca-aaf4123e5181-373237678-driver-0] Connection to node 0 (pd-master/10.67.22.162:9092) could not be established. Broker may not be available.\n",
      "22/09/14 21:52:07 WARN NetworkClient: [Consumer clientId=consumer-spark-kafka-source-e7b94c18-83a7-48b6-b4ca-aaf4123e5181-373237678-driver-0-1, groupId=spark-kafka-source-e7b94c18-83a7-48b6-b4ca-aaf4123e5181-373237678-driver-0] Connection to node 0 (pd-master/10.67.22.162:9092) could not be established. Broker may not be available.\n",
      "22/09/14 21:52:08 WARN NetworkClient: [Consumer clientId=consumer-spark-kafka-source-e7b94c18-83a7-48b6-b4ca-aaf4123e5181-373237678-driver-0-1, groupId=spark-kafka-source-e7b94c18-83a7-48b6-b4ca-aaf4123e5181-373237678-driver-0] Connection to node 0 (pd-master/10.67.22.162:9092) could not be established. Broker may not be available.\n",
      "22/09/14 21:52:10 WARN NetworkClient: [Consumer clientId=consumer-spark-kafka-source-e7b94c18-83a7-48b6-b4ca-aaf4123e5181-373237678-driver-0-1, groupId=spark-kafka-source-e7b94c18-83a7-48b6-b4ca-aaf4123e5181-373237678-driver-0] Connection to node 0 (pd-master/10.67.22.162:9092) could not be established. Broker may not be available.\n",
      "22/09/14 21:52:11 WARN NetworkClient: [Consumer clientId=consumer-spark-kafka-source-e7b94c18-83a7-48b6-b4ca-aaf4123e5181-373237678-driver-0-1, groupId=spark-kafka-source-e7b94c18-83a7-48b6-b4ca-aaf4123e5181-373237678-driver-0] Connection to node 0 (pd-master/10.67.22.162:9092) could not be established. Broker may not be available.\n",
      "22/09/14 21:52:12 WARN NetworkClient: [Consumer clientId=consumer-spark-kafka-source-e7b94c18-83a7-48b6-b4ca-aaf4123e5181-373237678-driver-0-1, groupId=spark-kafka-source-e7b94c18-83a7-48b6-b4ca-aaf4123e5181-373237678-driver-0] Connection to node 0 (pd-master/10.67.22.162:9092) could not be established. Broker may not be available.\n"
     ]
    },
    {
     "name": "stdout",
     "output_type": "stream",
     "text": [
      "22/09/14 21:52:13 WARN NetworkClient: [Consumer clientId=consumer-spark-kafka-source-e7b94c18-83a7-48b6-b4ca-aaf4123e5181-373237678-driver-0-1, groupId=spark-kafka-source-e7b94c18-83a7-48b6-b4ca-aaf4123e5181-373237678-driver-0] Connection to node 0 (pd-master/10.67.22.162:9092) could not be established. Broker may not be available.\n",
      "22/09/14 21:52:14 WARN NetworkClient: [Consumer clientId=consumer-spark-kafka-source-e7b94c18-83a7-48b6-b4ca-aaf4123e5181-373237678-driver-0-1, groupId=spark-kafka-source-e7b94c18-83a7-48b6-b4ca-aaf4123e5181-373237678-driver-0] Connection to node 0 (pd-master/10.67.22.162:9092) could not be established. Broker may not be available.\n",
      "22/09/14 21:52:15 WARN NetworkClient: [Consumer clientId=consumer-spark-kafka-source-e7b94c18-83a7-48b6-b4ca-aaf4123e5181-373237678-driver-0-1, groupId=spark-kafka-source-e7b94c18-83a7-48b6-b4ca-aaf4123e5181-373237678-driver-0] Connection to node 0 (pd-master/10.67.22.162:9092) could not be established. Broker may not be available.\n",
      "22/09/14 21:52:16 WARN NetworkClient: [Consumer clientId=consumer-spark-kafka-source-e7b94c18-83a7-48b6-b4ca-aaf4123e5181-373237678-driver-0-1, groupId=spark-kafka-source-e7b94c18-83a7-48b6-b4ca-aaf4123e5181-373237678-driver-0] Connection to node 0 (pd-master/10.67.22.162:9092) could not be established. Broker may not be available.\n",
      "22/09/14 21:52:17 WARN NetworkClient: [Consumer clientId=consumer-spark-kafka-source-e7b94c18-83a7-48b6-b4ca-aaf4123e5181-373237678-driver-0-1, groupId=spark-kafka-source-e7b94c18-83a7-48b6-b4ca-aaf4123e5181-373237678-driver-0] Connection to node 0 (pd-master/10.67.22.162:9092) could not be established. Broker may not be available.\n",
      "22/09/14 21:52:18 WARN NetworkClient: [Consumer clientId=consumer-spark-kafka-source-e7b94c18-83a7-48b6-b4ca-aaf4123e5181-373237678-driver-0-1, groupId=spark-kafka-source-e7b94c18-83a7-48b6-b4ca-aaf4123e5181-373237678-driver-0] Connection to node 0 (pd-master/10.67.22.162:9092) could not be established. Broker may not be available.\n",
      "22/09/14 21:52:19 WARN NetworkClient: [Consumer clientId=consumer-spark-kafka-source-e7b94c18-83a7-48b6-b4ca-aaf4123e5181-373237678-driver-0-1, groupId=spark-kafka-source-e7b94c18-83a7-48b6-b4ca-aaf4123e5181-373237678-driver-0] Connection to node 0 (pd-master/10.67.22.162:9092) could not be established. Broker may not be available.\n",
      "22/09/14 21:52:20 WARN NetworkClient: [Consumer clientId=consumer-spark-kafka-source-e7b94c18-83a7-48b6-b4ca-aaf4123e5181-373237678-driver-0-1, groupId=spark-kafka-source-e7b94c18-83a7-48b6-b4ca-aaf4123e5181-373237678-driver-0] Connection to node 0 (pd-master/10.67.22.162:9092) could not be established. Broker may not be available.\n",
      "22/09/14 21:52:21 WARN NetworkClient: [Consumer clientId=consumer-spark-kafka-source-e7b94c18-83a7-48b6-b4ca-aaf4123e5181-373237678-driver-0-1, groupId=spark-kafka-source-e7b94c18-83a7-48b6-b4ca-aaf4123e5181-373237678-driver-0] Connection to node 0 (pd-master/10.67.22.162:9092) could not be established. Broker may not be available.\n",
      "22/09/14 21:52:22 WARN NetworkClient: [Consumer clientId=consumer-spark-kafka-source-e7b94c18-83a7-48b6-b4ca-aaf4123e5181-373237678-driver-0-1, groupId=spark-kafka-source-e7b94c18-83a7-48b6-b4ca-aaf4123e5181-373237678-driver-0] Connection to node 0 (pd-master/10.67.22.162:9092) could not be established. Broker may not be available.\n",
      "22/09/14 21:52:23 WARN NetworkClient: [Consumer clientId=consumer-spark-kafka-source-e7b94c18-83a7-48b6-b4ca-aaf4123e5181-373237678-driver-0-1, groupId=spark-kafka-source-e7b94c18-83a7-48b6-b4ca-aaf4123e5181-373237678-driver-0] Connection to node 0 (pd-master/10.67.22.162:9092) could not be established. Broker may not be available.\n",
      "22/09/14 21:52:24 WARN NetworkClient: [Consumer clientId=consumer-spark-kafka-source-e7b94c18-83a7-48b6-b4ca-aaf4123e5181-373237678-driver-0-1, groupId=spark-kafka-source-e7b94c18-83a7-48b6-b4ca-aaf4123e5181-373237678-driver-0] Connection to node 0 (pd-master/10.67.22.162:9092) could not be established. Broker may not be available.\n",
      "22/09/14 21:52:25 WARN NetworkClient: [Consumer clientId=consumer-spark-kafka-source-e7b94c18-83a7-48b6-b4ca-aaf4123e5181-373237678-driver-0-1, groupId=spark-kafka-source-e7b94c18-83a7-48b6-b4ca-aaf4123e5181-373237678-driver-0] Connection to node 0 (pd-master/10.67.22.162:9092) could not be established. Broker may not be available.\n",
      "22/09/14 21:52:26 WARN NetworkClient: [Consumer clientId=consumer-spark-kafka-source-e7b94c18-83a7-48b6-b4ca-aaf4123e5181-373237678-driver-0-1, groupId=spark-kafka-source-e7b94c18-83a7-48b6-b4ca-aaf4123e5181-373237678-driver-0] Connection to node 0 (pd-master/10.67.22.162:9092) could not be established. Broker may not be available.\n",
      "22/09/14 21:52:27 WARN NetworkClient: [Consumer clientId=consumer-spark-kafka-source-e7b94c18-83a7-48b6-b4ca-aaf4123e5181-373237678-driver-0-1, groupId=spark-kafka-source-e7b94c18-83a7-48b6-b4ca-aaf4123e5181-373237678-driver-0] Connection to node 0 (pd-master/10.67.22.162:9092) could not be established. Broker may not be available.\n",
      "22/09/14 21:52:28 WARN NetworkClient: [Consumer clientId=consumer-spark-kafka-source-e7b94c18-83a7-48b6-b4ca-aaf4123e5181-373237678-driver-0-1, groupId=spark-kafka-source-e7b94c18-83a7-48b6-b4ca-aaf4123e5181-373237678-driver-0] Connection to node 0 (pd-master/10.67.22.162:9092) could not be established. Broker may not be available.\n",
      "22/09/14 21:52:30 WARN NetworkClient: [Consumer clientId=consumer-spark-kafka-source-e7b94c18-83a7-48b6-b4ca-aaf4123e5181-373237678-driver-0-1, groupId=spark-kafka-source-e7b94c18-83a7-48b6-b4ca-aaf4123e5181-373237678-driver-0] Connection to node 0 (pd-master/10.67.22.162:9092) could not be established. Broker may not be available.\n",
      "22/09/14 21:52:31 WARN NetworkClient: [Consumer clientId=consumer-spark-kafka-source-e7b94c18-83a7-48b6-b4ca-aaf4123e5181-373237678-driver-0-1, groupId=spark-kafka-source-e7b94c18-83a7-48b6-b4ca-aaf4123e5181-373237678-driver-0] Connection to node 0 (pd-master/10.67.22.162:9092) could not be established. Broker may not be available.\n",
      "22/09/14 21:52:32 WARN NetworkClient: [Consumer clientId=consumer-spark-kafka-source-e7b94c18-83a7-48b6-b4ca-aaf4123e5181-373237678-driver-0-1, groupId=spark-kafka-source-e7b94c18-83a7-48b6-b4ca-aaf4123e5181-373237678-driver-0] Connection to node 0 (pd-master/10.67.22.162:9092) could not be established. Broker may not be available.\n",
      "22/09/14 21:52:33 WARN NetworkClient: [Consumer clientId=consumer-spark-kafka-source-e7b94c18-83a7-48b6-b4ca-aaf4123e5181-373237678-driver-0-1, groupId=spark-kafka-source-e7b94c18-83a7-48b6-b4ca-aaf4123e5181-373237678-driver-0] Connection to node 0 (pd-master/10.67.22.162:9092) could not be established. Broker may not be available.\n",
      "22/09/14 21:52:34 WARN NetworkClient: [Consumer clientId=consumer-spark-kafka-source-e7b94c18-83a7-48b6-b4ca-aaf4123e5181-373237678-driver-0-1, groupId=spark-kafka-source-e7b94c18-83a7-48b6-b4ca-aaf4123e5181-373237678-driver-0] Connection to node 0 (pd-master/10.67.22.162:9092) could not be established. Broker may not be available.\n",
      "22/09/14 21:52:35 WARN NetworkClient: [Consumer clientId=consumer-spark-kafka-source-e7b94c18-83a7-48b6-b4ca-aaf4123e5181-373237678-driver-0-1, groupId=spark-kafka-source-e7b94c18-83a7-48b6-b4ca-aaf4123e5181-373237678-driver-0] Connection to node 0 (pd-master/10.67.22.162:9092) could not be established. Broker may not be available.\n",
      "22/09/14 21:52:36 WARN NetworkClient: [Consumer clientId=consumer-spark-kafka-source-e7b94c18-83a7-48b6-b4ca-aaf4123e5181-373237678-driver-0-1, groupId=spark-kafka-source-e7b94c18-83a7-48b6-b4ca-aaf4123e5181-373237678-driver-0] Connection to node 0 (pd-master/10.67.22.162:9092) could not be established. Broker may not be available.\n",
      "22/09/14 21:52:37 WARN NetworkClient: [Consumer clientId=consumer-spark-kafka-source-e7b94c18-83a7-48b6-b4ca-aaf4123e5181-373237678-driver-0-1, groupId=spark-kafka-source-e7b94c18-83a7-48b6-b4ca-aaf4123e5181-373237678-driver-0] Connection to node 0 (pd-master/10.67.22.162:9092) could not be established. Broker may not be available.\n",
      "22/09/14 21:52:38 WARN NetworkClient: [Consumer clientId=consumer-spark-kafka-source-e7b94c18-83a7-48b6-b4ca-aaf4123e5181-373237678-driver-0-1, groupId=spark-kafka-source-e7b94c18-83a7-48b6-b4ca-aaf4123e5181-373237678-driver-0] Connection to node 0 (pd-master/10.67.22.162:9092) could not be established. Broker may not be available.\n"
     ]
    },
    {
     "name": "stdout",
     "output_type": "stream",
     "text": [
      "22/09/14 21:52:38 WARN NetworkClient: [Consumer clientId=consumer-spark-kafka-source-e7b94c18-83a7-48b6-b4ca-aaf4123e5181-373237678-driver-0-1, groupId=spark-kafka-source-e7b94c18-83a7-48b6-b4ca-aaf4123e5181-373237678-driver-0] Connection to node 0 (pd-master/10.67.22.162:9092) could not be established. Broker may not be available.\n",
      "22/09/14 21:52:39 WARN NetworkClient: [Consumer clientId=consumer-spark-kafka-source-e7b94c18-83a7-48b6-b4ca-aaf4123e5181-373237678-driver-0-1, groupId=spark-kafka-source-e7b94c18-83a7-48b6-b4ca-aaf4123e5181-373237678-driver-0] Connection to node 0 (pd-master/10.67.22.162:9092) could not be established. Broker may not be available.\n",
      "22/09/14 21:52:40 WARN NetworkClient: [Consumer clientId=consumer-spark-kafka-source-e7b94c18-83a7-48b6-b4ca-aaf4123e5181-373237678-driver-0-1, groupId=spark-kafka-source-e7b94c18-83a7-48b6-b4ca-aaf4123e5181-373237678-driver-0] Connection to node 0 (pd-master/10.67.22.162:9092) could not be established. Broker may not be available.\n",
      "22/09/14 21:52:41 WARN NetworkClient: [Consumer clientId=consumer-spark-kafka-source-e7b94c18-83a7-48b6-b4ca-aaf4123e5181-373237678-driver-0-1, groupId=spark-kafka-source-e7b94c18-83a7-48b6-b4ca-aaf4123e5181-373237678-driver-0] Connection to node 0 (pd-master/10.67.22.162:9092) could not be established. Broker may not be available.\n",
      "22/09/14 21:52:42 WARN NetworkClient: [Consumer clientId=consumer-spark-kafka-source-e7b94c18-83a7-48b6-b4ca-aaf4123e5181-373237678-driver-0-1, groupId=spark-kafka-source-e7b94c18-83a7-48b6-b4ca-aaf4123e5181-373237678-driver-0] Connection to node 0 (pd-master/10.67.22.162:9092) could not be established. Broker may not be available.\n",
      "22/09/14 21:52:43 WARN NetworkClient: [Consumer clientId=consumer-spark-kafka-source-e7b94c18-83a7-48b6-b4ca-aaf4123e5181-373237678-driver-0-1, groupId=spark-kafka-source-e7b94c18-83a7-48b6-b4ca-aaf4123e5181-373237678-driver-0] Connection to node 0 (pd-master/10.67.22.162:9092) could not be established. Broker may not be available.\n",
      "22/09/14 21:52:44 WARN NetworkClient: [Consumer clientId=consumer-spark-kafka-source-e7b94c18-83a7-48b6-b4ca-aaf4123e5181-373237678-driver-0-1, groupId=spark-kafka-source-e7b94c18-83a7-48b6-b4ca-aaf4123e5181-373237678-driver-0] Connection to node 0 (pd-master/10.67.22.162:9092) could not be established. Broker may not be available.\n",
      "22/09/14 21:52:45 WARN NetworkClient: [Consumer clientId=consumer-spark-kafka-source-e7b94c18-83a7-48b6-b4ca-aaf4123e5181-373237678-driver-0-1, groupId=spark-kafka-source-e7b94c18-83a7-48b6-b4ca-aaf4123e5181-373237678-driver-0] Connection to node 0 (pd-master/10.67.22.162:9092) could not be established. Broker may not be available.\n",
      "22/09/14 21:52:46 WARN NetworkClient: [Consumer clientId=consumer-spark-kafka-source-e7b94c18-83a7-48b6-b4ca-aaf4123e5181-373237678-driver-0-1, groupId=spark-kafka-source-e7b94c18-83a7-48b6-b4ca-aaf4123e5181-373237678-driver-0] Connection to node 0 (pd-master/10.67.22.162:9092) could not be established. Broker may not be available.\n",
      "22/09/14 21:52:47 WARN NetworkClient: [Consumer clientId=consumer-spark-kafka-source-e7b94c18-83a7-48b6-b4ca-aaf4123e5181-373237678-driver-0-1, groupId=spark-kafka-source-e7b94c18-83a7-48b6-b4ca-aaf4123e5181-373237678-driver-0] Connection to node 0 (pd-master/10.67.22.162:9092) could not be established. Broker may not be available.\n",
      "22/09/14 21:52:48 WARN NetworkClient: [Consumer clientId=consumer-spark-kafka-source-e7b94c18-83a7-48b6-b4ca-aaf4123e5181-373237678-driver-0-1, groupId=spark-kafka-source-e7b94c18-83a7-48b6-b4ca-aaf4123e5181-373237678-driver-0] Connection to node 0 (pd-master/10.67.22.162:9092) could not be established. Broker may not be available.\n",
      "22/09/14 21:52:49 WARN NetworkClient: [Consumer clientId=consumer-spark-kafka-source-e7b94c18-83a7-48b6-b4ca-aaf4123e5181-373237678-driver-0-1, groupId=spark-kafka-source-e7b94c18-83a7-48b6-b4ca-aaf4123e5181-373237678-driver-0] Connection to node 0 (pd-master/10.67.22.162:9092) could not be established. Broker may not be available.\n",
      "22/09/14 21:52:50 WARN NetworkClient: [Consumer clientId=consumer-spark-kafka-source-e7b94c18-83a7-48b6-b4ca-aaf4123e5181-373237678-driver-0-1, groupId=spark-kafka-source-e7b94c18-83a7-48b6-b4ca-aaf4123e5181-373237678-driver-0] Connection to node 0 (pd-master/10.67.22.162:9092) could not be established. Broker may not be available.\n",
      "22/09/14 21:52:51 WARN NetworkClient: [Consumer clientId=consumer-spark-kafka-source-e7b94c18-83a7-48b6-b4ca-aaf4123e5181-373237678-driver-0-1, groupId=spark-kafka-source-e7b94c18-83a7-48b6-b4ca-aaf4123e5181-373237678-driver-0] Connection to node 0 (pd-master/10.67.22.162:9092) could not be established. Broker may not be available.\n",
      "22/09/14 21:52:52 WARN NetworkClient: [Consumer clientId=consumer-spark-kafka-source-e7b94c18-83a7-48b6-b4ca-aaf4123e5181-373237678-driver-0-1, groupId=spark-kafka-source-e7b94c18-83a7-48b6-b4ca-aaf4123e5181-373237678-driver-0] Connection to node 0 (pd-master/10.67.22.162:9092) could not be established. Broker may not be available.\n",
      "22/09/14 21:52:53 WARN NetworkClient: [Consumer clientId=consumer-spark-kafka-source-e7b94c18-83a7-48b6-b4ca-aaf4123e5181-373237678-driver-0-1, groupId=spark-kafka-source-e7b94c18-83a7-48b6-b4ca-aaf4123e5181-373237678-driver-0] Connection to node 0 (pd-master/10.67.22.162:9092) could not be established. Broker may not be available.\n",
      "22/09/14 21:52:54 WARN NetworkClient: [Consumer clientId=consumer-spark-kafka-source-e7b94c18-83a7-48b6-b4ca-aaf4123e5181-373237678-driver-0-1, groupId=spark-kafka-source-e7b94c18-83a7-48b6-b4ca-aaf4123e5181-373237678-driver-0] Connection to node 0 (pd-master/10.67.22.162:9092) could not be established. Broker may not be available.\n",
      "22/09/14 21:52:55 WARN NetworkClient: [Consumer clientId=consumer-spark-kafka-source-e7b94c18-83a7-48b6-b4ca-aaf4123e5181-373237678-driver-0-1, groupId=spark-kafka-source-e7b94c18-83a7-48b6-b4ca-aaf4123e5181-373237678-driver-0] Connection to node 0 (pd-master/10.67.22.162:9092) could not be established. Broker may not be available.\n",
      "22/09/14 21:52:56 WARN NetworkClient: [Consumer clientId=consumer-spark-kafka-source-e7b94c18-83a7-48b6-b4ca-aaf4123e5181-373237678-driver-0-1, groupId=spark-kafka-source-e7b94c18-83a7-48b6-b4ca-aaf4123e5181-373237678-driver-0] Connection to node 0 (pd-master/10.67.22.162:9092) could not be established. Broker may not be available.\n",
      "22/09/14 21:52:58 WARN NetworkClient: [Consumer clientId=consumer-spark-kafka-source-e7b94c18-83a7-48b6-b4ca-aaf4123e5181-373237678-driver-0-1, groupId=spark-kafka-source-e7b94c18-83a7-48b6-b4ca-aaf4123e5181-373237678-driver-0] Connection to node 0 (pd-master/10.67.22.162:9092) could not be established. Broker may not be available.\n",
      "22/09/14 21:52:59 WARN NetworkClient: [Consumer clientId=consumer-spark-kafka-source-e7b94c18-83a7-48b6-b4ca-aaf4123e5181-373237678-driver-0-1, groupId=spark-kafka-source-e7b94c18-83a7-48b6-b4ca-aaf4123e5181-373237678-driver-0] Connection to node 0 (pd-master/10.67.22.162:9092) could not be established. Broker may not be available.\n",
      "22/09/14 21:53:00 WARN NetworkClient: [Consumer clientId=consumer-spark-kafka-source-e7b94c18-83a7-48b6-b4ca-aaf4123e5181-373237678-driver-0-1, groupId=spark-kafka-source-e7b94c18-83a7-48b6-b4ca-aaf4123e5181-373237678-driver-0] Connection to node 0 (pd-master/10.67.22.162:9092) could not be established. Broker may not be available.\n",
      "22/09/14 21:53:01 WARN NetworkClient: [Consumer clientId=consumer-spark-kafka-source-e7b94c18-83a7-48b6-b4ca-aaf4123e5181-373237678-driver-0-1, groupId=spark-kafka-source-e7b94c18-83a7-48b6-b4ca-aaf4123e5181-373237678-driver-0] Connection to node 0 (pd-master/10.67.22.162:9092) could not be established. Broker may not be available.\n",
      "22/09/14 21:53:02 WARN NetworkClient: [Consumer clientId=consumer-spark-kafka-source-e7b94c18-83a7-48b6-b4ca-aaf4123e5181-373237678-driver-0-1, groupId=spark-kafka-source-e7b94c18-83a7-48b6-b4ca-aaf4123e5181-373237678-driver-0] Connection to node 0 (pd-master/10.67.22.162:9092) could not be established. Broker may not be available.\n",
      "22/09/14 21:53:03 WARN NetworkClient: [Consumer clientId=consumer-spark-kafka-source-e7b94c18-83a7-48b6-b4ca-aaf4123e5181-373237678-driver-0-1, groupId=spark-kafka-source-e7b94c18-83a7-48b6-b4ca-aaf4123e5181-373237678-driver-0] Connection to node 0 (pd-master/10.67.22.162:9092) could not be established. Broker may not be available.\n"
     ]
    },
    {
     "name": "stdout",
     "output_type": "stream",
     "text": [
      "22/09/14 21:53:04 WARN NetworkClient: [Consumer clientId=consumer-spark-kafka-source-e7b94c18-83a7-48b6-b4ca-aaf4123e5181-373237678-driver-0-1, groupId=spark-kafka-source-e7b94c18-83a7-48b6-b4ca-aaf4123e5181-373237678-driver-0] Connection to node 0 (pd-master/10.67.22.162:9092) could not be established. Broker may not be available.\n",
      "22/09/14 21:53:05 WARN NetworkClient: [Consumer clientId=consumer-spark-kafka-source-e7b94c18-83a7-48b6-b4ca-aaf4123e5181-373237678-driver-0-1, groupId=spark-kafka-source-e7b94c18-83a7-48b6-b4ca-aaf4123e5181-373237678-driver-0] Connection to node 0 (pd-master/10.67.22.162:9092) could not be established. Broker may not be available.\n",
      "22/09/14 21:53:06 WARN NetworkClient: [Consumer clientId=consumer-spark-kafka-source-e7b94c18-83a7-48b6-b4ca-aaf4123e5181-373237678-driver-0-1, groupId=spark-kafka-source-e7b94c18-83a7-48b6-b4ca-aaf4123e5181-373237678-driver-0] Connection to node 0 (pd-master/10.67.22.162:9092) could not be established. Broker may not be available.\n",
      "22/09/14 21:53:07 WARN NetworkClient: [Consumer clientId=consumer-spark-kafka-source-e7b94c18-83a7-48b6-b4ca-aaf4123e5181-373237678-driver-0-1, groupId=spark-kafka-source-e7b94c18-83a7-48b6-b4ca-aaf4123e5181-373237678-driver-0] Connection to node 0 (pd-master/10.67.22.162:9092) could not be established. Broker may not be available.\n",
      "22/09/14 21:53:08 WARN NetworkClient: [Consumer clientId=consumer-spark-kafka-source-e7b94c18-83a7-48b6-b4ca-aaf4123e5181-373237678-driver-0-1, groupId=spark-kafka-source-e7b94c18-83a7-48b6-b4ca-aaf4123e5181-373237678-driver-0] Connection to node 0 (pd-master/10.67.22.162:9092) could not be established. Broker may not be available.\n",
      "22/09/14 21:53:09 WARN NetworkClient: [Consumer clientId=consumer-spark-kafka-source-e7b94c18-83a7-48b6-b4ca-aaf4123e5181-373237678-driver-0-1, groupId=spark-kafka-source-e7b94c18-83a7-48b6-b4ca-aaf4123e5181-373237678-driver-0] Connection to node 0 (pd-master/10.67.22.162:9092) could not be established. Broker may not be available.\n",
      "22/09/14 21:53:10 WARN NetworkClient: [Consumer clientId=consumer-spark-kafka-source-e7b94c18-83a7-48b6-b4ca-aaf4123e5181-373237678-driver-0-1, groupId=spark-kafka-source-e7b94c18-83a7-48b6-b4ca-aaf4123e5181-373237678-driver-0] Connection to node 0 (pd-master/10.67.22.162:9092) could not be established. Broker may not be available.\n",
      "22/09/14 21:53:11 WARN NetworkClient: [Consumer clientId=consumer-spark-kafka-source-e7b94c18-83a7-48b6-b4ca-aaf4123e5181-373237678-driver-0-1, groupId=spark-kafka-source-e7b94c18-83a7-48b6-b4ca-aaf4123e5181-373237678-driver-0] Connection to node 0 (pd-master/10.67.22.162:9092) could not be established. Broker may not be available.\n",
      "22/09/14 21:53:12 WARN NetworkClient: [Consumer clientId=consumer-spark-kafka-source-e7b94c18-83a7-48b6-b4ca-aaf4123e5181-373237678-driver-0-1, groupId=spark-kafka-source-e7b94c18-83a7-48b6-b4ca-aaf4123e5181-373237678-driver-0] Connection to node 0 (pd-master/10.67.22.162:9092) could not be established. Broker may not be available.\n",
      "22/09/14 21:53:13 WARN NetworkClient: [Consumer clientId=consumer-spark-kafka-source-e7b94c18-83a7-48b6-b4ca-aaf4123e5181-373237678-driver-0-1, groupId=spark-kafka-source-e7b94c18-83a7-48b6-b4ca-aaf4123e5181-373237678-driver-0] Connection to node 0 (pd-master/10.67.22.162:9092) could not be established. Broker may not be available.\n",
      "22/09/14 21:53:14 WARN NetworkClient: [Consumer clientId=consumer-spark-kafka-source-e7b94c18-83a7-48b6-b4ca-aaf4123e5181-373237678-driver-0-1, groupId=spark-kafka-source-e7b94c18-83a7-48b6-b4ca-aaf4123e5181-373237678-driver-0] Connection to node 0 (pd-master/10.67.22.162:9092) could not be established. Broker may not be available.\n",
      "22/09/14 21:53:15 WARN NetworkClient: [Consumer clientId=consumer-spark-kafka-source-e7b94c18-83a7-48b6-b4ca-aaf4123e5181-373237678-driver-0-1, groupId=spark-kafka-source-e7b94c18-83a7-48b6-b4ca-aaf4123e5181-373237678-driver-0] Connection to node 0 (pd-master/10.67.22.162:9092) could not be established. Broker may not be available.\n",
      "22/09/14 21:53:16 WARN NetworkClient: [Consumer clientId=consumer-spark-kafka-source-e7b94c18-83a7-48b6-b4ca-aaf4123e5181-373237678-driver-0-1, groupId=spark-kafka-source-e7b94c18-83a7-48b6-b4ca-aaf4123e5181-373237678-driver-0] Connection to node 0 (pd-master/10.67.22.162:9092) could not be established. Broker may not be available.\n",
      "22/09/14 21:53:17 WARN NetworkClient: [Consumer clientId=consumer-spark-kafka-source-e7b94c18-83a7-48b6-b4ca-aaf4123e5181-373237678-driver-0-1, groupId=spark-kafka-source-e7b94c18-83a7-48b6-b4ca-aaf4123e5181-373237678-driver-0] Connection to node 0 (pd-master/10.67.22.162:9092) could not be established. Broker may not be available.\n",
      "22/09/14 21:53:18 WARN NetworkClient: [Consumer clientId=consumer-spark-kafka-source-e7b94c18-83a7-48b6-b4ca-aaf4123e5181-373237678-driver-0-1, groupId=spark-kafka-source-e7b94c18-83a7-48b6-b4ca-aaf4123e5181-373237678-driver-0] Connection to node 0 (pd-master/10.67.22.162:9092) could not be established. Broker may not be available.\n",
      "22/09/14 21:53:19 WARN NetworkClient: [Consumer clientId=consumer-spark-kafka-source-e7b94c18-83a7-48b6-b4ca-aaf4123e5181-373237678-driver-0-1, groupId=spark-kafka-source-e7b94c18-83a7-48b6-b4ca-aaf4123e5181-373237678-driver-0] Connection to node 0 (pd-master/10.67.22.162:9092) could not be established. Broker may not be available.\n",
      "22/09/14 21:53:20 WARN NetworkClient: [Consumer clientId=consumer-spark-kafka-source-e7b94c18-83a7-48b6-b4ca-aaf4123e5181-373237678-driver-0-1, groupId=spark-kafka-source-e7b94c18-83a7-48b6-b4ca-aaf4123e5181-373237678-driver-0] Connection to node 0 (pd-master/10.67.22.162:9092) could not be established. Broker may not be available.\n",
      "22/09/14 21:53:21 WARN NetworkClient: [Consumer clientId=consumer-spark-kafka-source-e7b94c18-83a7-48b6-b4ca-aaf4123e5181-373237678-driver-0-1, groupId=spark-kafka-source-e7b94c18-83a7-48b6-b4ca-aaf4123e5181-373237678-driver-0] Connection to node 0 (pd-master/10.67.22.162:9092) could not be established. Broker may not be available.\n",
      "22/09/14 21:53:22 WARN NetworkClient: [Consumer clientId=consumer-spark-kafka-source-e7b94c18-83a7-48b6-b4ca-aaf4123e5181-373237678-driver-0-1, groupId=spark-kafka-source-e7b94c18-83a7-48b6-b4ca-aaf4123e5181-373237678-driver-0] Connection to node 0 (pd-master/10.67.22.162:9092) could not be established. Broker may not be available.\n",
      "22/09/14 21:53:23 WARN NetworkClient: [Consumer clientId=consumer-spark-kafka-source-e7b94c18-83a7-48b6-b4ca-aaf4123e5181-373237678-driver-0-1, groupId=spark-kafka-source-e7b94c18-83a7-48b6-b4ca-aaf4123e5181-373237678-driver-0] Connection to node 0 (pd-master/10.67.22.162:9092) could not be established. Broker may not be available.\n",
      "22/09/14 21:53:24 WARN NetworkClient: [Consumer clientId=consumer-spark-kafka-source-e7b94c18-83a7-48b6-b4ca-aaf4123e5181-373237678-driver-0-1, groupId=spark-kafka-source-e7b94c18-83a7-48b6-b4ca-aaf4123e5181-373237678-driver-0] Connection to node 0 (pd-master/10.67.22.162:9092) could not be established. Broker may not be available.\n",
      "22/09/14 21:53:25 WARN NetworkClient: [Consumer clientId=consumer-spark-kafka-source-e7b94c18-83a7-48b6-b4ca-aaf4123e5181-373237678-driver-0-1, groupId=spark-kafka-source-e7b94c18-83a7-48b6-b4ca-aaf4123e5181-373237678-driver-0] Connection to node 0 (pd-master/10.67.22.162:9092) could not be established. Broker may not be available.\n",
      "22/09/14 21:53:27 WARN NetworkClient: [Consumer clientId=consumer-spark-kafka-source-e7b94c18-83a7-48b6-b4ca-aaf4123e5181-373237678-driver-0-1, groupId=spark-kafka-source-e7b94c18-83a7-48b6-b4ca-aaf4123e5181-373237678-driver-0] Connection to node 0 (pd-master/10.67.22.162:9092) could not be established. Broker may not be available.\n",
      "22/09/14 21:53:28 WARN NetworkClient: [Consumer clientId=consumer-spark-kafka-source-e7b94c18-83a7-48b6-b4ca-aaf4123e5181-373237678-driver-0-1, groupId=spark-kafka-source-e7b94c18-83a7-48b6-b4ca-aaf4123e5181-373237678-driver-0] Connection to node 0 (pd-master/10.67.22.162:9092) could not be established. Broker may not be available.\n",
      "22/09/14 21:53:29 WARN NetworkClient: [Consumer clientId=consumer-spark-kafka-source-e7b94c18-83a7-48b6-b4ca-aaf4123e5181-373237678-driver-0-1, groupId=spark-kafka-source-e7b94c18-83a7-48b6-b4ca-aaf4123e5181-373237678-driver-0] Connection to node 0 (pd-master/10.67.22.162:9092) could not be established. Broker may not be available.\n"
     ]
    },
    {
     "name": "stdout",
     "output_type": "stream",
     "text": [
      "22/09/14 21:53:30 WARN NetworkClient: [Consumer clientId=consumer-spark-kafka-source-e7b94c18-83a7-48b6-b4ca-aaf4123e5181-373237678-driver-0-1, groupId=spark-kafka-source-e7b94c18-83a7-48b6-b4ca-aaf4123e5181-373237678-driver-0] Connection to node 0 (pd-master/10.67.22.162:9092) could not be established. Broker may not be available.\n",
      "22/09/14 21:53:31 WARN NetworkClient: [Consumer clientId=consumer-spark-kafka-source-e7b94c18-83a7-48b6-b4ca-aaf4123e5181-373237678-driver-0-1, groupId=spark-kafka-source-e7b94c18-83a7-48b6-b4ca-aaf4123e5181-373237678-driver-0] Connection to node 0 (pd-master/10.67.22.162:9092) could not be established. Broker may not be available.\n",
      "22/09/14 21:53:32 WARN NetworkClient: [Consumer clientId=consumer-spark-kafka-source-e7b94c18-83a7-48b6-b4ca-aaf4123e5181-373237678-driver-0-1, groupId=spark-kafka-source-e7b94c18-83a7-48b6-b4ca-aaf4123e5181-373237678-driver-0] Connection to node 0 (pd-master/10.67.22.162:9092) could not be established. Broker may not be available.\n",
      "22/09/14 21:53:33 WARN NetworkClient: [Consumer clientId=consumer-spark-kafka-source-e7b94c18-83a7-48b6-b4ca-aaf4123e5181-373237678-driver-0-1, groupId=spark-kafka-source-e7b94c18-83a7-48b6-b4ca-aaf4123e5181-373237678-driver-0] Connection to node 0 (pd-master/10.67.22.162:9092) could not be established. Broker may not be available.\n",
      "22/09/14 21:53:34 WARN NetworkClient: [Consumer clientId=consumer-spark-kafka-source-e7b94c18-83a7-48b6-b4ca-aaf4123e5181-373237678-driver-0-1, groupId=spark-kafka-source-e7b94c18-83a7-48b6-b4ca-aaf4123e5181-373237678-driver-0] Connection to node 0 (pd-master/10.67.22.162:9092) could not be established. Broker may not be available.\n",
      "22/09/14 21:53:35 WARN NetworkClient: [Consumer clientId=consumer-spark-kafka-source-e7b94c18-83a7-48b6-b4ca-aaf4123e5181-373237678-driver-0-1, groupId=spark-kafka-source-e7b94c18-83a7-48b6-b4ca-aaf4123e5181-373237678-driver-0] Connection to node 0 (pd-master/10.67.22.162:9092) could not be established. Broker may not be available.\n",
      "22/09/14 21:53:36 WARN NetworkClient: [Consumer clientId=consumer-spark-kafka-source-e7b94c18-83a7-48b6-b4ca-aaf4123e5181-373237678-driver-0-1, groupId=spark-kafka-source-e7b94c18-83a7-48b6-b4ca-aaf4123e5181-373237678-driver-0] Connection to node 0 (pd-master/10.67.22.162:9092) could not be established. Broker may not be available.\n",
      "22/09/14 21:53:37 WARN NetworkClient: [Consumer clientId=consumer-spark-kafka-source-e7b94c18-83a7-48b6-b4ca-aaf4123e5181-373237678-driver-0-1, groupId=spark-kafka-source-e7b94c18-83a7-48b6-b4ca-aaf4123e5181-373237678-driver-0] Connection to node 0 (pd-master/10.67.22.162:9092) could not be established. Broker may not be available.\n",
      "22/09/14 21:53:38 WARN NetworkClient: [Consumer clientId=consumer-spark-kafka-source-e7b94c18-83a7-48b6-b4ca-aaf4123e5181-373237678-driver-0-1, groupId=spark-kafka-source-e7b94c18-83a7-48b6-b4ca-aaf4123e5181-373237678-driver-0] Connection to node 0 (pd-master/10.67.22.162:9092) could not be established. Broker may not be available.\n",
      "22/09/14 21:53:39 WARN NetworkClient: [Consumer clientId=consumer-spark-kafka-source-e7b94c18-83a7-48b6-b4ca-aaf4123e5181-373237678-driver-0-1, groupId=spark-kafka-source-e7b94c18-83a7-48b6-b4ca-aaf4123e5181-373237678-driver-0] Connection to node 0 (pd-master/10.67.22.162:9092) could not be established. Broker may not be available.\n",
      "22/09/14 21:53:40 WARN NetworkClient: [Consumer clientId=consumer-spark-kafka-source-e7b94c18-83a7-48b6-b4ca-aaf4123e5181-373237678-driver-0-1, groupId=spark-kafka-source-e7b94c18-83a7-48b6-b4ca-aaf4123e5181-373237678-driver-0] Connection to node 0 (pd-master/10.67.22.162:9092) could not be established. Broker may not be available.\n",
      "22/09/14 21:53:41 WARN NetworkClient: [Consumer clientId=consumer-spark-kafka-source-e7b94c18-83a7-48b6-b4ca-aaf4123e5181-373237678-driver-0-1, groupId=spark-kafka-source-e7b94c18-83a7-48b6-b4ca-aaf4123e5181-373237678-driver-0] Connection to node 0 (pd-master/10.67.22.162:9092) could not be established. Broker may not be available.\n",
      "22/09/14 21:53:42 WARN NetworkClient: [Consumer clientId=consumer-spark-kafka-source-e7b94c18-83a7-48b6-b4ca-aaf4123e5181-373237678-driver-0-1, groupId=spark-kafka-source-e7b94c18-83a7-48b6-b4ca-aaf4123e5181-373237678-driver-0] Connection to node 0 (pd-master/10.67.22.162:9092) could not be established. Broker may not be available.\n",
      "22/09/14 21:53:44 WARN NetworkClient: [Consumer clientId=consumer-spark-kafka-source-e7b94c18-83a7-48b6-b4ca-aaf4123e5181-373237678-driver-0-1, groupId=spark-kafka-source-e7b94c18-83a7-48b6-b4ca-aaf4123e5181-373237678-driver-0] Connection to node 0 (pd-master/10.67.22.162:9092) could not be established. Broker may not be available.\n",
      "22/09/14 21:53:44 WARN NetworkClient: [Consumer clientId=consumer-spark-kafka-source-e7b94c18-83a7-48b6-b4ca-aaf4123e5181-373237678-driver-0-1, groupId=spark-kafka-source-e7b94c18-83a7-48b6-b4ca-aaf4123e5181-373237678-driver-0] Connection to node 0 (pd-master/10.67.22.162:9092) could not be established. Broker may not be available.\n",
      "22/09/14 21:53:45 WARN NetworkClient: [Consumer clientId=consumer-spark-kafka-source-e7b94c18-83a7-48b6-b4ca-aaf4123e5181-373237678-driver-0-1, groupId=spark-kafka-source-e7b94c18-83a7-48b6-b4ca-aaf4123e5181-373237678-driver-0] Connection to node 0 (pd-master/10.67.22.162:9092) could not be established. Broker may not be available.\n",
      "22/09/14 21:53:46 WARN NetworkClient: [Consumer clientId=consumer-spark-kafka-source-e7b94c18-83a7-48b6-b4ca-aaf4123e5181-373237678-driver-0-1, groupId=spark-kafka-source-e7b94c18-83a7-48b6-b4ca-aaf4123e5181-373237678-driver-0] Connection to node 0 (pd-master/10.67.22.162:9092) could not be established. Broker may not be available.\n",
      "22/09/14 21:53:47 WARN NetworkClient: [Consumer clientId=consumer-spark-kafka-source-e7b94c18-83a7-48b6-b4ca-aaf4123e5181-373237678-driver-0-1, groupId=spark-kafka-source-e7b94c18-83a7-48b6-b4ca-aaf4123e5181-373237678-driver-0] Connection to node 0 (pd-master/10.67.22.162:9092) could not be established. Broker may not be available.\n",
      "22/09/14 21:53:48 WARN NetworkClient: [Consumer clientId=consumer-spark-kafka-source-e7b94c18-83a7-48b6-b4ca-aaf4123e5181-373237678-driver-0-1, groupId=spark-kafka-source-e7b94c18-83a7-48b6-b4ca-aaf4123e5181-373237678-driver-0] Connection to node 0 (pd-master/10.67.22.162:9092) could not be established. Broker may not be available.\n",
      "22/09/14 21:53:49 WARN NetworkClient: [Consumer clientId=consumer-spark-kafka-source-e7b94c18-83a7-48b6-b4ca-aaf4123e5181-373237678-driver-0-1, groupId=spark-kafka-source-e7b94c18-83a7-48b6-b4ca-aaf4123e5181-373237678-driver-0] Connection to node 0 (pd-master/10.67.22.162:9092) could not be established. Broker may not be available.\n",
      "22/09/14 21:53:50 WARN NetworkClient: [Consumer clientId=consumer-spark-kafka-source-e7b94c18-83a7-48b6-b4ca-aaf4123e5181-373237678-driver-0-1, groupId=spark-kafka-source-e7b94c18-83a7-48b6-b4ca-aaf4123e5181-373237678-driver-0] Connection to node 0 (pd-master/10.67.22.162:9092) could not be established. Broker may not be available.\n",
      "22/09/14 21:53:51 WARN NetworkClient: [Consumer clientId=consumer-spark-kafka-source-e7b94c18-83a7-48b6-b4ca-aaf4123e5181-373237678-driver-0-1, groupId=spark-kafka-source-e7b94c18-83a7-48b6-b4ca-aaf4123e5181-373237678-driver-0] Connection to node 0 (pd-master/10.67.22.162:9092) could not be established. Broker may not be available.\n",
      "22/09/14 21:53:52 WARN NetworkClient: [Consumer clientId=consumer-spark-kafka-source-e7b94c18-83a7-48b6-b4ca-aaf4123e5181-373237678-driver-0-1, groupId=spark-kafka-source-e7b94c18-83a7-48b6-b4ca-aaf4123e5181-373237678-driver-0] Connection to node 0 (pd-master/10.67.22.162:9092) could not be established. Broker may not be available.\n",
      "22/09/14 21:53:53 WARN NetworkClient: [Consumer clientId=consumer-spark-kafka-source-e7b94c18-83a7-48b6-b4ca-aaf4123e5181-373237678-driver-0-1, groupId=spark-kafka-source-e7b94c18-83a7-48b6-b4ca-aaf4123e5181-373237678-driver-0] Connection to node 0 (pd-master/10.67.22.162:9092) could not be established. Broker may not be available.\n",
      "22/09/14 21:53:55 WARN NetworkClient: [Consumer clientId=consumer-spark-kafka-source-e7b94c18-83a7-48b6-b4ca-aaf4123e5181-373237678-driver-0-1, groupId=spark-kafka-source-e7b94c18-83a7-48b6-b4ca-aaf4123e5181-373237678-driver-0] Connection to node 0 (pd-master/10.67.22.162:9092) could not be established. Broker may not be available.\n"
     ]
    },
    {
     "name": "stdout",
     "output_type": "stream",
     "text": [
      "22/09/14 21:53:56 WARN NetworkClient: [Consumer clientId=consumer-spark-kafka-source-e7b94c18-83a7-48b6-b4ca-aaf4123e5181-373237678-driver-0-1, groupId=spark-kafka-source-e7b94c18-83a7-48b6-b4ca-aaf4123e5181-373237678-driver-0] Connection to node 0 (pd-master/10.67.22.162:9092) could not be established. Broker may not be available.\n",
      "22/09/14 21:53:57 WARN NetworkClient: [Consumer clientId=consumer-spark-kafka-source-e7b94c18-83a7-48b6-b4ca-aaf4123e5181-373237678-driver-0-1, groupId=spark-kafka-source-e7b94c18-83a7-48b6-b4ca-aaf4123e5181-373237678-driver-0] Connection to node 0 (pd-master/10.67.22.162:9092) could not be established. Broker may not be available.\n",
      "22/09/14 21:53:58 WARN NetworkClient: [Consumer clientId=consumer-spark-kafka-source-e7b94c18-83a7-48b6-b4ca-aaf4123e5181-373237678-driver-0-1, groupId=spark-kafka-source-e7b94c18-83a7-48b6-b4ca-aaf4123e5181-373237678-driver-0] Connection to node 0 (pd-master/10.67.22.162:9092) could not be established. Broker may not be available.\n",
      "22/09/14 21:53:59 WARN NetworkClient: [Consumer clientId=consumer-spark-kafka-source-e7b94c18-83a7-48b6-b4ca-aaf4123e5181-373237678-driver-0-1, groupId=spark-kafka-source-e7b94c18-83a7-48b6-b4ca-aaf4123e5181-373237678-driver-0] Connection to node 0 (pd-master/10.67.22.162:9092) could not be established. Broker may not be available.\n",
      "22/09/14 21:53:59 WARN NetworkClient: [Consumer clientId=consumer-spark-kafka-source-e7b94c18-83a7-48b6-b4ca-aaf4123e5181-373237678-driver-0-1, groupId=spark-kafka-source-e7b94c18-83a7-48b6-b4ca-aaf4123e5181-373237678-driver-0] Connection to node 0 (pd-master/10.67.22.162:9092) could not be established. Broker may not be available.\n",
      "22/09/14 21:54:01 WARN NetworkClient: [Consumer clientId=consumer-spark-kafka-source-e7b94c18-83a7-48b6-b4ca-aaf4123e5181-373237678-driver-0-1, groupId=spark-kafka-source-e7b94c18-83a7-48b6-b4ca-aaf4123e5181-373237678-driver-0] Connection to node 0 (pd-master/10.67.22.162:9092) could not be established. Broker may not be available.\n",
      "22/09/14 21:54:02 WARN NetworkClient: [Consumer clientId=consumer-spark-kafka-source-e7b94c18-83a7-48b6-b4ca-aaf4123e5181-373237678-driver-0-1, groupId=spark-kafka-source-e7b94c18-83a7-48b6-b4ca-aaf4123e5181-373237678-driver-0] Connection to node 0 (pd-master/10.67.22.162:9092) could not be established. Broker may not be available.\n",
      "22/09/14 21:54:03 WARN NetworkClient: [Consumer clientId=consumer-spark-kafka-source-e7b94c18-83a7-48b6-b4ca-aaf4123e5181-373237678-driver-0-1, groupId=spark-kafka-source-e7b94c18-83a7-48b6-b4ca-aaf4123e5181-373237678-driver-0] Connection to node 0 (pd-master/10.67.22.162:9092) could not be established. Broker may not be available.\n",
      "22/09/14 21:54:04 WARN NetworkClient: [Consumer clientId=consumer-spark-kafka-source-e7b94c18-83a7-48b6-b4ca-aaf4123e5181-373237678-driver-0-1, groupId=spark-kafka-source-e7b94c18-83a7-48b6-b4ca-aaf4123e5181-373237678-driver-0] Connection to node 0 (pd-master/10.67.22.162:9092) could not be established. Broker may not be available.\n",
      "22/09/14 21:54:05 WARN NetworkClient: [Consumer clientId=consumer-spark-kafka-source-e7b94c18-83a7-48b6-b4ca-aaf4123e5181-373237678-driver-0-1, groupId=spark-kafka-source-e7b94c18-83a7-48b6-b4ca-aaf4123e5181-373237678-driver-0] Connection to node 0 (pd-master/10.67.22.162:9092) could not be established. Broker may not be available.\n",
      "22/09/14 21:54:06 WARN NetworkClient: [Consumer clientId=consumer-spark-kafka-source-e7b94c18-83a7-48b6-b4ca-aaf4123e5181-373237678-driver-0-1, groupId=spark-kafka-source-e7b94c18-83a7-48b6-b4ca-aaf4123e5181-373237678-driver-0] Connection to node 0 (pd-master/10.67.22.162:9092) could not be established. Broker may not be available.\n",
      "22/09/14 21:54:07 WARN NetworkClient: [Consumer clientId=consumer-spark-kafka-source-e7b94c18-83a7-48b6-b4ca-aaf4123e5181-373237678-driver-0-1, groupId=spark-kafka-source-e7b94c18-83a7-48b6-b4ca-aaf4123e5181-373237678-driver-0] Connection to node 0 (pd-master/10.67.22.162:9092) could not be established. Broker may not be available.\n",
      "22/09/14 21:54:08 WARN NetworkClient: [Consumer clientId=consumer-spark-kafka-source-e7b94c18-83a7-48b6-b4ca-aaf4123e5181-373237678-driver-0-1, groupId=spark-kafka-source-e7b94c18-83a7-48b6-b4ca-aaf4123e5181-373237678-driver-0] Connection to node 0 (pd-master/10.67.22.162:9092) could not be established. Broker may not be available.\n",
      "22/09/14 21:54:09 WARN NetworkClient: [Consumer clientId=consumer-spark-kafka-source-e7b94c18-83a7-48b6-b4ca-aaf4123e5181-373237678-driver-0-1, groupId=spark-kafka-source-e7b94c18-83a7-48b6-b4ca-aaf4123e5181-373237678-driver-0] Connection to node 0 (pd-master/10.67.22.162:9092) could not be established. Broker may not be available.\n",
      "22/09/14 21:54:10 WARN NetworkClient: [Consumer clientId=consumer-spark-kafka-source-e7b94c18-83a7-48b6-b4ca-aaf4123e5181-373237678-driver-0-1, groupId=spark-kafka-source-e7b94c18-83a7-48b6-b4ca-aaf4123e5181-373237678-driver-0] Connection to node 0 (pd-master/10.67.22.162:9092) could not be established. Broker may not be available.\n",
      "22/09/14 21:54:11 WARN NetworkClient: [Consumer clientId=consumer-spark-kafka-source-e7b94c18-83a7-48b6-b4ca-aaf4123e5181-373237678-driver-0-1, groupId=spark-kafka-source-e7b94c18-83a7-48b6-b4ca-aaf4123e5181-373237678-driver-0] Connection to node 0 (pd-master/10.67.22.162:9092) could not be established. Broker may not be available.\n",
      "22/09/14 21:54:12 WARN NetworkClient: [Consumer clientId=consumer-spark-kafka-source-e7b94c18-83a7-48b6-b4ca-aaf4123e5181-373237678-driver-0-1, groupId=spark-kafka-source-e7b94c18-83a7-48b6-b4ca-aaf4123e5181-373237678-driver-0] Connection to node 0 (pd-master/10.67.22.162:9092) could not be established. Broker may not be available.\n",
      "22/09/14 21:54:13 WARN NetworkClient: [Consumer clientId=consumer-spark-kafka-source-e7b94c18-83a7-48b6-b4ca-aaf4123e5181-373237678-driver-0-1, groupId=spark-kafka-source-e7b94c18-83a7-48b6-b4ca-aaf4123e5181-373237678-driver-0] Connection to node 0 (pd-master/10.67.22.162:9092) could not be established. Broker may not be available.\n",
      "22/09/14 21:54:14 WARN NetworkClient: [Consumer clientId=consumer-spark-kafka-source-e7b94c18-83a7-48b6-b4ca-aaf4123e5181-373237678-driver-0-1, groupId=spark-kafka-source-e7b94c18-83a7-48b6-b4ca-aaf4123e5181-373237678-driver-0] Connection to node 0 (pd-master/10.67.22.162:9092) could not be established. Broker may not be available.\n",
      "22/09/14 21:54:15 WARN NetworkClient: [Consumer clientId=consumer-spark-kafka-source-e7b94c18-83a7-48b6-b4ca-aaf4123e5181-373237678-driver-0-1, groupId=spark-kafka-source-e7b94c18-83a7-48b6-b4ca-aaf4123e5181-373237678-driver-0] Connection to node 0 (pd-master/10.67.22.162:9092) could not be established. Broker may not be available.\n",
      "22/09/14 21:54:16 WARN NetworkClient: [Consumer clientId=consumer-spark-kafka-source-e7b94c18-83a7-48b6-b4ca-aaf4123e5181-373237678-driver-0-1, groupId=spark-kafka-source-e7b94c18-83a7-48b6-b4ca-aaf4123e5181-373237678-driver-0] Connection to node 0 (pd-master/10.67.22.162:9092) could not be established. Broker may not be available.\n",
      "22/09/14 21:54:17 WARN NetworkClient: [Consumer clientId=consumer-spark-kafka-source-e7b94c18-83a7-48b6-b4ca-aaf4123e5181-373237678-driver-0-1, groupId=spark-kafka-source-e7b94c18-83a7-48b6-b4ca-aaf4123e5181-373237678-driver-0] Connection to node 0 (pd-master/10.67.22.162:9092) could not be established. Broker may not be available.\n",
      "22/09/14 21:54:18 WARN NetworkClient: [Consumer clientId=consumer-spark-kafka-source-e7b94c18-83a7-48b6-b4ca-aaf4123e5181-373237678-driver-0-1, groupId=spark-kafka-source-e7b94c18-83a7-48b6-b4ca-aaf4123e5181-373237678-driver-0] Connection to node 0 (pd-master/10.67.22.162:9092) could not be established. Broker may not be available.\n",
      "22/09/14 21:54:19 WARN NetworkClient: [Consumer clientId=consumer-spark-kafka-source-e7b94c18-83a7-48b6-b4ca-aaf4123e5181-373237678-driver-0-1, groupId=spark-kafka-source-e7b94c18-83a7-48b6-b4ca-aaf4123e5181-373237678-driver-0] Connection to node 0 (pd-master/10.67.22.162:9092) could not be established. Broker may not be available.\n",
      "22/09/14 21:54:20 WARN NetworkClient: [Consumer clientId=consumer-spark-kafka-source-e7b94c18-83a7-48b6-b4ca-aaf4123e5181-373237678-driver-0-1, groupId=spark-kafka-source-e7b94c18-83a7-48b6-b4ca-aaf4123e5181-373237678-driver-0] Connection to node 0 (pd-master/10.67.22.162:9092) could not be established. Broker may not be available.\n"
     ]
    },
    {
     "name": "stdout",
     "output_type": "stream",
     "text": [
      "22/09/14 21:54:21 WARN NetworkClient: [Consumer clientId=consumer-spark-kafka-source-e7b94c18-83a7-48b6-b4ca-aaf4123e5181-373237678-driver-0-1, groupId=spark-kafka-source-e7b94c18-83a7-48b6-b4ca-aaf4123e5181-373237678-driver-0] Connection to node 0 (pd-master/10.67.22.162:9092) could not be established. Broker may not be available.\n",
      "22/09/14 21:54:22 WARN NetworkClient: [Consumer clientId=consumer-spark-kafka-source-e7b94c18-83a7-48b6-b4ca-aaf4123e5181-373237678-driver-0-1, groupId=spark-kafka-source-e7b94c18-83a7-48b6-b4ca-aaf4123e5181-373237678-driver-0] Connection to node 0 (pd-master/10.67.22.162:9092) could not be established. Broker may not be available.\n",
      "22/09/14 21:54:24 WARN NetworkClient: [Consumer clientId=consumer-spark-kafka-source-e7b94c18-83a7-48b6-b4ca-aaf4123e5181-373237678-driver-0-1, groupId=spark-kafka-source-e7b94c18-83a7-48b6-b4ca-aaf4123e5181-373237678-driver-0] Connection to node 0 (pd-master/10.67.22.162:9092) could not be established. Broker may not be available.\n",
      "22/09/14 21:54:24 WARN NetworkClient: [Consumer clientId=consumer-spark-kafka-source-e7b94c18-83a7-48b6-b4ca-aaf4123e5181-373237678-driver-0-1, groupId=spark-kafka-source-e7b94c18-83a7-48b6-b4ca-aaf4123e5181-373237678-driver-0] Connection to node 0 (pd-master/10.67.22.162:9092) could not be established. Broker may not be available.\n",
      "22/09/14 21:54:25 WARN NetworkClient: [Consumer clientId=consumer-spark-kafka-source-e7b94c18-83a7-48b6-b4ca-aaf4123e5181-373237678-driver-0-1, groupId=spark-kafka-source-e7b94c18-83a7-48b6-b4ca-aaf4123e5181-373237678-driver-0] Connection to node 0 (pd-master/10.67.22.162:9092) could not be established. Broker may not be available.\n",
      "22/09/14 21:54:26 WARN NetworkClient: [Consumer clientId=consumer-spark-kafka-source-e7b94c18-83a7-48b6-b4ca-aaf4123e5181-373237678-driver-0-1, groupId=spark-kafka-source-e7b94c18-83a7-48b6-b4ca-aaf4123e5181-373237678-driver-0] Connection to node 0 (pd-master/10.67.22.162:9092) could not be established. Broker may not be available.\n",
      "22/09/14 21:54:27 WARN NetworkClient: [Consumer clientId=consumer-spark-kafka-source-e7b94c18-83a7-48b6-b4ca-aaf4123e5181-373237678-driver-0-1, groupId=spark-kafka-source-e7b94c18-83a7-48b6-b4ca-aaf4123e5181-373237678-driver-0] Connection to node 0 (pd-master/10.67.22.162:9092) could not be established. Broker may not be available.\n",
      "22/09/14 21:54:28 WARN NetworkClient: [Consumer clientId=consumer-spark-kafka-source-e7b94c18-83a7-48b6-b4ca-aaf4123e5181-373237678-driver-0-1, groupId=spark-kafka-source-e7b94c18-83a7-48b6-b4ca-aaf4123e5181-373237678-driver-0] Connection to node 0 (pd-master/10.67.22.162:9092) could not be established. Broker may not be available.\n",
      "22/09/14 21:54:29 WARN NetworkClient: [Consumer clientId=consumer-spark-kafka-source-e7b94c18-83a7-48b6-b4ca-aaf4123e5181-373237678-driver-0-1, groupId=spark-kafka-source-e7b94c18-83a7-48b6-b4ca-aaf4123e5181-373237678-driver-0] Connection to node 0 (pd-master/10.67.22.162:9092) could not be established. Broker may not be available.\n",
      "22/09/14 21:54:30 WARN NetworkClient: [Consumer clientId=consumer-spark-kafka-source-e7b94c18-83a7-48b6-b4ca-aaf4123e5181-373237678-driver-0-1, groupId=spark-kafka-source-e7b94c18-83a7-48b6-b4ca-aaf4123e5181-373237678-driver-0] Connection to node 0 (pd-master/10.67.22.162:9092) could not be established. Broker may not be available.\n",
      "22/09/14 21:54:31 WARN NetworkClient: [Consumer clientId=consumer-spark-kafka-source-e7b94c18-83a7-48b6-b4ca-aaf4123e5181-373237678-driver-0-1, groupId=spark-kafka-source-e7b94c18-83a7-48b6-b4ca-aaf4123e5181-373237678-driver-0] Connection to node 0 (pd-master/10.67.22.162:9092) could not be established. Broker may not be available.\n",
      "22/09/14 21:54:32 WARN NetworkClient: [Consumer clientId=consumer-spark-kafka-source-e7b94c18-83a7-48b6-b4ca-aaf4123e5181-373237678-driver-0-1, groupId=spark-kafka-source-e7b94c18-83a7-48b6-b4ca-aaf4123e5181-373237678-driver-0] Connection to node 0 (pd-master/10.67.22.162:9092) could not be established. Broker may not be available.\n",
      "22/09/14 21:54:33 WARN NetworkClient: [Consumer clientId=consumer-spark-kafka-source-e7b94c18-83a7-48b6-b4ca-aaf4123e5181-373237678-driver-0-1, groupId=spark-kafka-source-e7b94c18-83a7-48b6-b4ca-aaf4123e5181-373237678-driver-0] Connection to node 0 (pd-master/10.67.22.162:9092) could not be established. Broker may not be available.\n",
      "22/09/14 21:54:35 WARN NetworkClient: [Consumer clientId=consumer-spark-kafka-source-e7b94c18-83a7-48b6-b4ca-aaf4123e5181-373237678-driver-0-1, groupId=spark-kafka-source-e7b94c18-83a7-48b6-b4ca-aaf4123e5181-373237678-driver-0] Connection to node 0 (pd-master/10.67.22.162:9092) could not be established. Broker may not be available.\n",
      "22/09/14 21:54:36 WARN NetworkClient: [Consumer clientId=consumer-spark-kafka-source-e7b94c18-83a7-48b6-b4ca-aaf4123e5181-373237678-driver-0-1, groupId=spark-kafka-source-e7b94c18-83a7-48b6-b4ca-aaf4123e5181-373237678-driver-0] Connection to node 0 (pd-master/10.67.22.162:9092) could not be established. Broker may not be available.\n",
      "22/09/14 21:54:37 WARN NetworkClient: [Consumer clientId=consumer-spark-kafka-source-e7b94c18-83a7-48b6-b4ca-aaf4123e5181-373237678-driver-0-1, groupId=spark-kafka-source-e7b94c18-83a7-48b6-b4ca-aaf4123e5181-373237678-driver-0] Connection to node 0 (pd-master/10.67.22.162:9092) could not be established. Broker may not be available.\n",
      "22/09/14 21:54:38 WARN NetworkClient: [Consumer clientId=consumer-spark-kafka-source-e7b94c18-83a7-48b6-b4ca-aaf4123e5181-373237678-driver-0-1, groupId=spark-kafka-source-e7b94c18-83a7-48b6-b4ca-aaf4123e5181-373237678-driver-0] Connection to node 0 (pd-master/10.67.22.162:9092) could not be established. Broker may not be available.\n",
      "22/09/14 21:54:39 WARN NetworkClient: [Consumer clientId=consumer-spark-kafka-source-e7b94c18-83a7-48b6-b4ca-aaf4123e5181-373237678-driver-0-1, groupId=spark-kafka-source-e7b94c18-83a7-48b6-b4ca-aaf4123e5181-373237678-driver-0] Connection to node 0 (pd-master/10.67.22.162:9092) could not be established. Broker may not be available.\n",
      "22/09/14 21:54:40 WARN NetworkClient: [Consumer clientId=consumer-spark-kafka-source-e7b94c18-83a7-48b6-b4ca-aaf4123e5181-373237678-driver-0-1, groupId=spark-kafka-source-e7b94c18-83a7-48b6-b4ca-aaf4123e5181-373237678-driver-0] Connection to node 0 (pd-master/10.67.22.162:9092) could not be established. Broker may not be available.\n",
      "22/09/14 21:54:41 WARN NetworkClient: [Consumer clientId=consumer-spark-kafka-source-e7b94c18-83a7-48b6-b4ca-aaf4123e5181-373237678-driver-0-1, groupId=spark-kafka-source-e7b94c18-83a7-48b6-b4ca-aaf4123e5181-373237678-driver-0] Connection to node 0 (pd-master/10.67.22.162:9092) could not be established. Broker may not be available.\n",
      "22/09/14 21:54:42 WARN NetworkClient: [Consumer clientId=consumer-spark-kafka-source-e7b94c18-83a7-48b6-b4ca-aaf4123e5181-373237678-driver-0-1, groupId=spark-kafka-source-e7b94c18-83a7-48b6-b4ca-aaf4123e5181-373237678-driver-0] Connection to node 0 (pd-master/10.67.22.162:9092) could not be established. Broker may not be available.\n",
      "22/09/14 21:54:43 WARN NetworkClient: [Consumer clientId=consumer-spark-kafka-source-e7b94c18-83a7-48b6-b4ca-aaf4123e5181-373237678-driver-0-1, groupId=spark-kafka-source-e7b94c18-83a7-48b6-b4ca-aaf4123e5181-373237678-driver-0] Connection to node 0 (pd-master/10.67.22.162:9092) could not be established. Broker may not be available.\n",
      "22/09/14 21:54:44 WARN NetworkClient: [Consumer clientId=consumer-spark-kafka-source-e7b94c18-83a7-48b6-b4ca-aaf4123e5181-373237678-driver-0-1, groupId=spark-kafka-source-e7b94c18-83a7-48b6-b4ca-aaf4123e5181-373237678-driver-0] Connection to node 0 (pd-master/10.67.22.162:9092) could not be established. Broker may not be available.\n",
      "22/09/14 21:54:45 WARN NetworkClient: [Consumer clientId=consumer-spark-kafka-source-e7b94c18-83a7-48b6-b4ca-aaf4123e5181-373237678-driver-0-1, groupId=spark-kafka-source-e7b94c18-83a7-48b6-b4ca-aaf4123e5181-373237678-driver-0] Connection to node 0 (pd-master/10.67.22.162:9092) could not be established. Broker may not be available.\n",
      "22/09/14 21:54:46 WARN NetworkClient: [Consumer clientId=consumer-spark-kafka-source-e7b94c18-83a7-48b6-b4ca-aaf4123e5181-373237678-driver-0-1, groupId=spark-kafka-source-e7b94c18-83a7-48b6-b4ca-aaf4123e5181-373237678-driver-0] Connection to node 0 (pd-master/10.67.22.162:9092) could not be established. Broker may not be available.\n"
     ]
    },
    {
     "name": "stdout",
     "output_type": "stream",
     "text": [
      "22/09/14 21:54:48 WARN NetworkClient: [Consumer clientId=consumer-spark-kafka-source-e7b94c18-83a7-48b6-b4ca-aaf4123e5181-373237678-driver-0-1, groupId=spark-kafka-source-e7b94c18-83a7-48b6-b4ca-aaf4123e5181-373237678-driver-0] Connection to node 0 (pd-master/10.67.22.162:9092) could not be established. Broker may not be available.\n",
      "22/09/14 21:54:49 WARN NetworkClient: [Consumer clientId=consumer-spark-kafka-source-e7b94c18-83a7-48b6-b4ca-aaf4123e5181-373237678-driver-0-1, groupId=spark-kafka-source-e7b94c18-83a7-48b6-b4ca-aaf4123e5181-373237678-driver-0] Connection to node 0 (pd-master/10.67.22.162:9092) could not be established. Broker may not be available.\n",
      "22/09/14 21:54:49 WARN NetworkClient: [Consumer clientId=consumer-spark-kafka-source-e7b94c18-83a7-48b6-b4ca-aaf4123e5181-373237678-driver-0-1, groupId=spark-kafka-source-e7b94c18-83a7-48b6-b4ca-aaf4123e5181-373237678-driver-0] Connection to node 0 (pd-master/10.67.22.162:9092) could not be established. Broker may not be available.\n",
      "22/09/14 21:54:51 WARN NetworkClient: [Consumer clientId=consumer-spark-kafka-source-e7b94c18-83a7-48b6-b4ca-aaf4123e5181-373237678-driver-0-1, groupId=spark-kafka-source-e7b94c18-83a7-48b6-b4ca-aaf4123e5181-373237678-driver-0] Connection to node 0 (pd-master/10.67.22.162:9092) could not be established. Broker may not be available.\n",
      "22/09/14 21:54:52 WARN NetworkClient: [Consumer clientId=consumer-spark-kafka-source-e7b94c18-83a7-48b6-b4ca-aaf4123e5181-373237678-driver-0-1, groupId=spark-kafka-source-e7b94c18-83a7-48b6-b4ca-aaf4123e5181-373237678-driver-0] Connection to node 0 (pd-master/10.67.22.162:9092) could not be established. Broker may not be available.\n",
      "22/09/14 21:54:53 WARN NetworkClient: [Consumer clientId=consumer-spark-kafka-source-e7b94c18-83a7-48b6-b4ca-aaf4123e5181-373237678-driver-0-1, groupId=spark-kafka-source-e7b94c18-83a7-48b6-b4ca-aaf4123e5181-373237678-driver-0] Connection to node 0 (pd-master/10.67.22.162:9092) could not be established. Broker may not be available.\n",
      "22/09/14 21:54:54 WARN NetworkClient: [Consumer clientId=consumer-spark-kafka-source-e7b94c18-83a7-48b6-b4ca-aaf4123e5181-373237678-driver-0-1, groupId=spark-kafka-source-e7b94c18-83a7-48b6-b4ca-aaf4123e5181-373237678-driver-0] Connection to node 0 (pd-master/10.67.22.162:9092) could not be established. Broker may not be available.\n",
      "22/09/14 21:54:55 WARN NetworkClient: [Consumer clientId=consumer-spark-kafka-source-e7b94c18-83a7-48b6-b4ca-aaf4123e5181-373237678-driver-0-1, groupId=spark-kafka-source-e7b94c18-83a7-48b6-b4ca-aaf4123e5181-373237678-driver-0] Connection to node 0 (pd-master/10.67.22.162:9092) could not be established. Broker may not be available.\n",
      "22/09/14 21:54:56 WARN NetworkClient: [Consumer clientId=consumer-spark-kafka-source-e7b94c18-83a7-48b6-b4ca-aaf4123e5181-373237678-driver-0-1, groupId=spark-kafka-source-e7b94c18-83a7-48b6-b4ca-aaf4123e5181-373237678-driver-0] Connection to node 0 (pd-master/10.67.22.162:9092) could not be established. Broker may not be available.\n",
      "22/09/14 21:54:57 WARN NetworkClient: [Consumer clientId=consumer-spark-kafka-source-e7b94c18-83a7-48b6-b4ca-aaf4123e5181-373237678-driver-0-1, groupId=spark-kafka-source-e7b94c18-83a7-48b6-b4ca-aaf4123e5181-373237678-driver-0] Connection to node 0 (pd-master/10.67.22.162:9092) could not be established. Broker may not be available.\n",
      "22/09/14 21:54:58 WARN NetworkClient: [Consumer clientId=consumer-spark-kafka-source-e7b94c18-83a7-48b6-b4ca-aaf4123e5181-373237678-driver-0-1, groupId=spark-kafka-source-e7b94c18-83a7-48b6-b4ca-aaf4123e5181-373237678-driver-0] Connection to node 0 (pd-master/10.67.22.162:9092) could not be established. Broker may not be available.\n",
      "22/09/14 21:55:00 WARN NetworkClient: [Consumer clientId=consumer-spark-kafka-source-e7b94c18-83a7-48b6-b4ca-aaf4123e5181-373237678-driver-0-1, groupId=spark-kafka-source-e7b94c18-83a7-48b6-b4ca-aaf4123e5181-373237678-driver-0] Connection to node 0 (pd-master/10.67.22.162:9092) could not be established. Broker may not be available.\n",
      "22/09/14 21:55:01 WARN NetworkClient: [Consumer clientId=consumer-spark-kafka-source-e7b94c18-83a7-48b6-b4ca-aaf4123e5181-373237678-driver-0-1, groupId=spark-kafka-source-e7b94c18-83a7-48b6-b4ca-aaf4123e5181-373237678-driver-0] Connection to node 0 (pd-master/10.67.22.162:9092) could not be established. Broker may not be available.\n",
      "22/09/14 21:55:02 WARN NetworkClient: [Consumer clientId=consumer-spark-kafka-source-e7b94c18-83a7-48b6-b4ca-aaf4123e5181-373237678-driver-0-1, groupId=spark-kafka-source-e7b94c18-83a7-48b6-b4ca-aaf4123e5181-373237678-driver-0] Connection to node 0 (pd-master/10.67.22.162:9092) could not be established. Broker may not be available.\n",
      "22/09/14 21:55:03 WARN NetworkClient: [Consumer clientId=consumer-spark-kafka-source-e7b94c18-83a7-48b6-b4ca-aaf4123e5181-373237678-driver-0-1, groupId=spark-kafka-source-e7b94c18-83a7-48b6-b4ca-aaf4123e5181-373237678-driver-0] Connection to node 0 (pd-master/10.67.22.162:9092) could not be established. Broker may not be available.\n",
      "22/09/14 21:55:04 WARN NetworkClient: [Consumer clientId=consumer-spark-kafka-source-e7b94c18-83a7-48b6-b4ca-aaf4123e5181-373237678-driver-0-1, groupId=spark-kafka-source-e7b94c18-83a7-48b6-b4ca-aaf4123e5181-373237678-driver-0] Connection to node 0 (pd-master/10.67.22.162:9092) could not be established. Broker may not be available.\n",
      "22/09/14 21:55:05 WARN NetworkClient: [Consumer clientId=consumer-spark-kafka-source-e7b94c18-83a7-48b6-b4ca-aaf4123e5181-373237678-driver-0-1, groupId=spark-kafka-source-e7b94c18-83a7-48b6-b4ca-aaf4123e5181-373237678-driver-0] Connection to node 0 (pd-master/10.67.22.162:9092) could not be established. Broker may not be available.\n",
      "22/09/14 21:55:06 WARN NetworkClient: [Consumer clientId=consumer-spark-kafka-source-e7b94c18-83a7-48b6-b4ca-aaf4123e5181-373237678-driver-0-1, groupId=spark-kafka-source-e7b94c18-83a7-48b6-b4ca-aaf4123e5181-373237678-driver-0] Connection to node 0 (pd-master/10.67.22.162:9092) could not be established. Broker may not be available.\n",
      "22/09/14 21:55:07 WARN NetworkClient: [Consumer clientId=consumer-spark-kafka-source-e7b94c18-83a7-48b6-b4ca-aaf4123e5181-373237678-driver-0-1, groupId=spark-kafka-source-e7b94c18-83a7-48b6-b4ca-aaf4123e5181-373237678-driver-0] Connection to node 0 (pd-master/10.67.22.162:9092) could not be established. Broker may not be available.\n",
      "22/09/14 21:55:08 WARN NetworkClient: [Consumer clientId=consumer-spark-kafka-source-e7b94c18-83a7-48b6-b4ca-aaf4123e5181-373237678-driver-0-1, groupId=spark-kafka-source-e7b94c18-83a7-48b6-b4ca-aaf4123e5181-373237678-driver-0] Connection to node 0 (pd-master/10.67.22.162:9092) could not be established. Broker may not be available.\n",
      "22/09/14 21:55:09 WARN NetworkClient: [Consumer clientId=consumer-spark-kafka-source-e7b94c18-83a7-48b6-b4ca-aaf4123e5181-373237678-driver-0-1, groupId=spark-kafka-source-e7b94c18-83a7-48b6-b4ca-aaf4123e5181-373237678-driver-0] Connection to node 0 (pd-master/10.67.22.162:9092) could not be established. Broker may not be available.\n",
      "22/09/14 21:55:10 WARN NetworkClient: [Consumer clientId=consumer-spark-kafka-source-e7b94c18-83a7-48b6-b4ca-aaf4123e5181-373237678-driver-0-1, groupId=spark-kafka-source-e7b94c18-83a7-48b6-b4ca-aaf4123e5181-373237678-driver-0] Connection to node 0 (pd-master/10.67.22.162:9092) could not be established. Broker may not be available.\n",
      "22/09/14 21:55:11 WARN NetworkClient: [Consumer clientId=consumer-spark-kafka-source-e7b94c18-83a7-48b6-b4ca-aaf4123e5181-373237678-driver-0-1, groupId=spark-kafka-source-e7b94c18-83a7-48b6-b4ca-aaf4123e5181-373237678-driver-0] Connection to node 0 (pd-master/10.67.22.162:9092) could not be established. Broker may not be available.\n",
      "22/09/14 21:55:12 WARN NetworkClient: [Consumer clientId=consumer-spark-kafka-source-e7b94c18-83a7-48b6-b4ca-aaf4123e5181-373237678-driver-0-1, groupId=spark-kafka-source-e7b94c18-83a7-48b6-b4ca-aaf4123e5181-373237678-driver-0] Connection to node 0 (pd-master/10.67.22.162:9092) could not be established. Broker may not be available.\n",
      "22/09/14 21:55:13 WARN NetworkClient: [Consumer clientId=consumer-spark-kafka-source-e7b94c18-83a7-48b6-b4ca-aaf4123e5181-373237678-driver-0-1, groupId=spark-kafka-source-e7b94c18-83a7-48b6-b4ca-aaf4123e5181-373237678-driver-0] Connection to node 0 (pd-master/10.67.22.162:9092) could not be established. Broker may not be available.\n"
     ]
    },
    {
     "name": "stdout",
     "output_type": "stream",
     "text": [
      "22/09/14 21:55:14 WARN NetworkClient: [Consumer clientId=consumer-spark-kafka-source-e7b94c18-83a7-48b6-b4ca-aaf4123e5181-373237678-driver-0-1, groupId=spark-kafka-source-e7b94c18-83a7-48b6-b4ca-aaf4123e5181-373237678-driver-0] Connection to node 0 (pd-master/10.67.22.162:9092) could not be established. Broker may not be available.\n",
      "22/09/14 21:55:15 WARN NetworkClient: [Consumer clientId=consumer-spark-kafka-source-e7b94c18-83a7-48b6-b4ca-aaf4123e5181-373237678-driver-0-1, groupId=spark-kafka-source-e7b94c18-83a7-48b6-b4ca-aaf4123e5181-373237678-driver-0] Connection to node 0 (pd-master/10.67.22.162:9092) could not be established. Broker may not be available.\n",
      "22/09/14 21:55:16 WARN NetworkClient: [Consumer clientId=consumer-spark-kafka-source-e7b94c18-83a7-48b6-b4ca-aaf4123e5181-373237678-driver-0-1, groupId=spark-kafka-source-e7b94c18-83a7-48b6-b4ca-aaf4123e5181-373237678-driver-0] Connection to node 0 (pd-master/10.67.22.162:9092) could not be established. Broker may not be available.\n",
      "22/09/14 21:55:17 WARN NetworkClient: [Consumer clientId=consumer-spark-kafka-source-e7b94c18-83a7-48b6-b4ca-aaf4123e5181-373237678-driver-0-1, groupId=spark-kafka-source-e7b94c18-83a7-48b6-b4ca-aaf4123e5181-373237678-driver-0] Connection to node 0 (pd-master/10.67.22.162:9092) could not be established. Broker may not be available.\n",
      "22/09/14 21:55:18 WARN NetworkClient: [Consumer clientId=consumer-spark-kafka-source-e7b94c18-83a7-48b6-b4ca-aaf4123e5181-373237678-driver-0-1, groupId=spark-kafka-source-e7b94c18-83a7-48b6-b4ca-aaf4123e5181-373237678-driver-0] Connection to node 0 (pd-master/10.67.22.162:9092) could not be established. Broker may not be available.\n",
      "22/09/14 21:55:19 WARN NetworkClient: [Consumer clientId=consumer-spark-kafka-source-e7b94c18-83a7-48b6-b4ca-aaf4123e5181-373237678-driver-0-1, groupId=spark-kafka-source-e7b94c18-83a7-48b6-b4ca-aaf4123e5181-373237678-driver-0] Connection to node 0 (pd-master/10.67.22.162:9092) could not be established. Broker may not be available.\n",
      "22/09/14 21:55:20 WARN NetworkClient: [Consumer clientId=consumer-spark-kafka-source-e7b94c18-83a7-48b6-b4ca-aaf4123e5181-373237678-driver-0-1, groupId=spark-kafka-source-e7b94c18-83a7-48b6-b4ca-aaf4123e5181-373237678-driver-0] Connection to node 0 (pd-master/10.67.22.162:9092) could not be established. Broker may not be available.\n",
      "22/09/14 21:55:21 WARN NetworkClient: [Consumer clientId=consumer-spark-kafka-source-e7b94c18-83a7-48b6-b4ca-aaf4123e5181-373237678-driver-0-1, groupId=spark-kafka-source-e7b94c18-83a7-48b6-b4ca-aaf4123e5181-373237678-driver-0] Connection to node 0 (pd-master/10.67.22.162:9092) could not be established. Broker may not be available.\n",
      "22/09/14 21:55:22 WARN NetworkClient: [Consumer clientId=consumer-spark-kafka-source-e7b94c18-83a7-48b6-b4ca-aaf4123e5181-373237678-driver-0-1, groupId=spark-kafka-source-e7b94c18-83a7-48b6-b4ca-aaf4123e5181-373237678-driver-0] Connection to node 0 (pd-master/10.67.22.162:9092) could not be established. Broker may not be available.\n",
      "22/09/14 21:55:23 WARN NetworkClient: [Consumer clientId=consumer-spark-kafka-source-e7b94c18-83a7-48b6-b4ca-aaf4123e5181-373237678-driver-0-1, groupId=spark-kafka-source-e7b94c18-83a7-48b6-b4ca-aaf4123e5181-373237678-driver-0] Connection to node 0 (pd-master/10.67.22.162:9092) could not be established. Broker may not be available.\n",
      "22/09/14 21:55:24 WARN NetworkClient: [Consumer clientId=consumer-spark-kafka-source-e7b94c18-83a7-48b6-b4ca-aaf4123e5181-373237678-driver-0-1, groupId=spark-kafka-source-e7b94c18-83a7-48b6-b4ca-aaf4123e5181-373237678-driver-0] Connection to node 0 (pd-master/10.67.22.162:9092) could not be established. Broker may not be available.\n",
      "22/09/14 21:55:25 WARN NetworkClient: [Consumer clientId=consumer-spark-kafka-source-e7b94c18-83a7-48b6-b4ca-aaf4123e5181-373237678-driver-0-1, groupId=spark-kafka-source-e7b94c18-83a7-48b6-b4ca-aaf4123e5181-373237678-driver-0] Connection to node 0 (pd-master/10.67.22.162:9092) could not be established. Broker may not be available.\n",
      "22/09/14 21:55:26 WARN NetworkClient: [Consumer clientId=consumer-spark-kafka-source-e7b94c18-83a7-48b6-b4ca-aaf4123e5181-373237678-driver-0-1, groupId=spark-kafka-source-e7b94c18-83a7-48b6-b4ca-aaf4123e5181-373237678-driver-0] Connection to node 0 (pd-master/10.67.22.162:9092) could not be established. Broker may not be available.\n",
      "22/09/14 21:55:27 WARN NetworkClient: [Consumer clientId=consumer-spark-kafka-source-e7b94c18-83a7-48b6-b4ca-aaf4123e5181-373237678-driver-0-1, groupId=spark-kafka-source-e7b94c18-83a7-48b6-b4ca-aaf4123e5181-373237678-driver-0] Connection to node 0 (pd-master/10.67.22.162:9092) could not be established. Broker may not be available.\n",
      "22/09/14 21:55:28 WARN NetworkClient: [Consumer clientId=consumer-spark-kafka-source-e7b94c18-83a7-48b6-b4ca-aaf4123e5181-373237678-driver-0-1, groupId=spark-kafka-source-e7b94c18-83a7-48b6-b4ca-aaf4123e5181-373237678-driver-0] Connection to node 0 (pd-master/10.67.22.162:9092) could not be established. Broker may not be available.\n",
      "22/09/14 21:55:29 WARN NetworkClient: [Consumer clientId=consumer-spark-kafka-source-e7b94c18-83a7-48b6-b4ca-aaf4123e5181-373237678-driver-0-1, groupId=spark-kafka-source-e7b94c18-83a7-48b6-b4ca-aaf4123e5181-373237678-driver-0] Connection to node 0 (pd-master/10.67.22.162:9092) could not be established. Broker may not be available.\n",
      "22/09/14 21:55:30 WARN NetworkClient: [Consumer clientId=consumer-spark-kafka-source-e7b94c18-83a7-48b6-b4ca-aaf4123e5181-373237678-driver-0-1, groupId=spark-kafka-source-e7b94c18-83a7-48b6-b4ca-aaf4123e5181-373237678-driver-0] Connection to node 0 (pd-master/10.67.22.162:9092) could not be established. Broker may not be available.\n",
      "22/09/14 21:55:31 WARN NetworkClient: [Consumer clientId=consumer-spark-kafka-source-e7b94c18-83a7-48b6-b4ca-aaf4123e5181-373237678-driver-0-1, groupId=spark-kafka-source-e7b94c18-83a7-48b6-b4ca-aaf4123e5181-373237678-driver-0] Connection to node 0 (pd-master/10.67.22.162:9092) could not be established. Broker may not be available.\n",
      "22/09/14 21:55:32 WARN NetworkClient: [Consumer clientId=consumer-spark-kafka-source-e7b94c18-83a7-48b6-b4ca-aaf4123e5181-373237678-driver-0-1, groupId=spark-kafka-source-e7b94c18-83a7-48b6-b4ca-aaf4123e5181-373237678-driver-0] Connection to node 0 (pd-master/10.67.22.162:9092) could not be established. Broker may not be available.\n",
      "22/09/14 21:55:34 WARN NetworkClient: [Consumer clientId=consumer-spark-kafka-source-e7b94c18-83a7-48b6-b4ca-aaf4123e5181-373237678-driver-0-1, groupId=spark-kafka-source-e7b94c18-83a7-48b6-b4ca-aaf4123e5181-373237678-driver-0] Connection to node 0 (pd-master/10.67.22.162:9092) could not be established. Broker may not be available.\n",
      "22/09/14 21:55:35 WARN NetworkClient: [Consumer clientId=consumer-spark-kafka-source-e7b94c18-83a7-48b6-b4ca-aaf4123e5181-373237678-driver-0-1, groupId=spark-kafka-source-e7b94c18-83a7-48b6-b4ca-aaf4123e5181-373237678-driver-0] Connection to node 0 (pd-master/10.67.22.162:9092) could not be established. Broker may not be available.\n",
      "22/09/14 21:55:36 WARN NetworkClient: [Consumer clientId=consumer-spark-kafka-source-e7b94c18-83a7-48b6-b4ca-aaf4123e5181-373237678-driver-0-1, groupId=spark-kafka-source-e7b94c18-83a7-48b6-b4ca-aaf4123e5181-373237678-driver-0] Connection to node 0 (pd-master/10.67.22.162:9092) could not be established. Broker may not be available.\n",
      "22/09/14 21:55:37 WARN NetworkClient: [Consumer clientId=consumer-spark-kafka-source-e7b94c18-83a7-48b6-b4ca-aaf4123e5181-373237678-driver-0-1, groupId=spark-kafka-source-e7b94c18-83a7-48b6-b4ca-aaf4123e5181-373237678-driver-0] Connection to node 0 (pd-master/10.67.22.162:9092) could not be established. Broker may not be available.\n",
      "22/09/14 21:55:38 WARN NetworkClient: [Consumer clientId=consumer-spark-kafka-source-e7b94c18-83a7-48b6-b4ca-aaf4123e5181-373237678-driver-0-1, groupId=spark-kafka-source-e7b94c18-83a7-48b6-b4ca-aaf4123e5181-373237678-driver-0] Connection to node 0 (pd-master/10.67.22.162:9092) could not be established. Broker may not be available.\n",
      "22/09/14 21:55:39 WARN NetworkClient: [Consumer clientId=consumer-spark-kafka-source-e7b94c18-83a7-48b6-b4ca-aaf4123e5181-373237678-driver-0-1, groupId=spark-kafka-source-e7b94c18-83a7-48b6-b4ca-aaf4123e5181-373237678-driver-0] Connection to node 0 (pd-master/10.67.22.162:9092) could not be established. Broker may not be available.\n"
     ]
    },
    {
     "name": "stdout",
     "output_type": "stream",
     "text": [
      "22/09/14 21:55:40 WARN NetworkClient: [Consumer clientId=consumer-spark-kafka-source-e7b94c18-83a7-48b6-b4ca-aaf4123e5181-373237678-driver-0-1, groupId=spark-kafka-source-e7b94c18-83a7-48b6-b4ca-aaf4123e5181-373237678-driver-0] Connection to node 0 (pd-master/10.67.22.162:9092) could not be established. Broker may not be available.\n",
      "22/09/14 21:55:41 WARN NetworkClient: [Consumer clientId=consumer-spark-kafka-source-e7b94c18-83a7-48b6-b4ca-aaf4123e5181-373237678-driver-0-1, groupId=spark-kafka-source-e7b94c18-83a7-48b6-b4ca-aaf4123e5181-373237678-driver-0] Connection to node 0 (pd-master/10.67.22.162:9092) could not be established. Broker may not be available.\n",
      "22/09/14 21:55:42 WARN NetworkClient: [Consumer clientId=consumer-spark-kafka-source-e7b94c18-83a7-48b6-b4ca-aaf4123e5181-373237678-driver-0-1, groupId=spark-kafka-source-e7b94c18-83a7-48b6-b4ca-aaf4123e5181-373237678-driver-0] Connection to node 0 (pd-master/10.67.22.162:9092) could not be established. Broker may not be available.\n",
      "22/09/14 21:55:43 WARN NetworkClient: [Consumer clientId=consumer-spark-kafka-source-e7b94c18-83a7-48b6-b4ca-aaf4123e5181-373237678-driver-0-1, groupId=spark-kafka-source-e7b94c18-83a7-48b6-b4ca-aaf4123e5181-373237678-driver-0] Connection to node 0 (pd-master/10.67.22.162:9092) could not be established. Broker may not be available.\n",
      "22/09/14 21:55:44 WARN NetworkClient: [Consumer clientId=consumer-spark-kafka-source-e7b94c18-83a7-48b6-b4ca-aaf4123e5181-373237678-driver-0-1, groupId=spark-kafka-source-e7b94c18-83a7-48b6-b4ca-aaf4123e5181-373237678-driver-0] Connection to node 0 (pd-master/10.67.22.162:9092) could not be established. Broker may not be available.\n",
      "22/09/14 21:55:45 WARN NetworkClient: [Consumer clientId=consumer-spark-kafka-source-e7b94c18-83a7-48b6-b4ca-aaf4123e5181-373237678-driver-0-1, groupId=spark-kafka-source-e7b94c18-83a7-48b6-b4ca-aaf4123e5181-373237678-driver-0] Connection to node 0 (pd-master/10.67.22.162:9092) could not be established. Broker may not be available.\n",
      "22/09/14 21:55:46 WARN NetworkClient: [Consumer clientId=consumer-spark-kafka-source-e7b94c18-83a7-48b6-b4ca-aaf4123e5181-373237678-driver-0-1, groupId=spark-kafka-source-e7b94c18-83a7-48b6-b4ca-aaf4123e5181-373237678-driver-0] Connection to node 0 (pd-master/10.67.22.162:9092) could not be established. Broker may not be available.\n",
      "22/09/14 21:55:47 WARN NetworkClient: [Consumer clientId=consumer-spark-kafka-source-e7b94c18-83a7-48b6-b4ca-aaf4123e5181-373237678-driver-0-1, groupId=spark-kafka-source-e7b94c18-83a7-48b6-b4ca-aaf4123e5181-373237678-driver-0] Connection to node 0 (pd-master/10.67.22.162:9092) could not be established. Broker may not be available.\n",
      "22/09/14 21:55:48 WARN NetworkClient: [Consumer clientId=consumer-spark-kafka-source-e7b94c18-83a7-48b6-b4ca-aaf4123e5181-373237678-driver-0-1, groupId=spark-kafka-source-e7b94c18-83a7-48b6-b4ca-aaf4123e5181-373237678-driver-0] Connection to node 0 (pd-master/10.67.22.162:9092) could not be established. Broker may not be available.\n",
      "22/09/14 21:55:49 WARN NetworkClient: [Consumer clientId=consumer-spark-kafka-source-e7b94c18-83a7-48b6-b4ca-aaf4123e5181-373237678-driver-0-1, groupId=spark-kafka-source-e7b94c18-83a7-48b6-b4ca-aaf4123e5181-373237678-driver-0] Connection to node 0 (pd-master/10.67.22.162:9092) could not be established. Broker may not be available.\n",
      "22/09/14 21:55:50 WARN NetworkClient: [Consumer clientId=consumer-spark-kafka-source-e7b94c18-83a7-48b6-b4ca-aaf4123e5181-373237678-driver-0-1, groupId=spark-kafka-source-e7b94c18-83a7-48b6-b4ca-aaf4123e5181-373237678-driver-0] Connection to node 0 (pd-master/10.67.22.162:9092) could not be established. Broker may not be available.\n",
      "22/09/14 21:55:51 WARN NetworkClient: [Consumer clientId=consumer-spark-kafka-source-e7b94c18-83a7-48b6-b4ca-aaf4123e5181-373237678-driver-0-1, groupId=spark-kafka-source-e7b94c18-83a7-48b6-b4ca-aaf4123e5181-373237678-driver-0] Connection to node 0 (pd-master/10.67.22.162:9092) could not be established. Broker may not be available.\n",
      "22/09/14 21:55:52 WARN NetworkClient: [Consumer clientId=consumer-spark-kafka-source-e7b94c18-83a7-48b6-b4ca-aaf4123e5181-373237678-driver-0-1, groupId=spark-kafka-source-e7b94c18-83a7-48b6-b4ca-aaf4123e5181-373237678-driver-0] Connection to node 0 (pd-master/10.67.22.162:9092) could not be established. Broker may not be available.\n",
      "22/09/14 21:55:53 WARN NetworkClient: [Consumer clientId=consumer-spark-kafka-source-e7b94c18-83a7-48b6-b4ca-aaf4123e5181-373237678-driver-0-1, groupId=spark-kafka-source-e7b94c18-83a7-48b6-b4ca-aaf4123e5181-373237678-driver-0] Connection to node 0 (pd-master/10.67.22.162:9092) could not be established. Broker may not be available.\n",
      "22/09/14 21:55:54 WARN NetworkClient: [Consumer clientId=consumer-spark-kafka-source-e7b94c18-83a7-48b6-b4ca-aaf4123e5181-373237678-driver-0-1, groupId=spark-kafka-source-e7b94c18-83a7-48b6-b4ca-aaf4123e5181-373237678-driver-0] Connection to node 0 (pd-master/10.67.22.162:9092) could not be established. Broker may not be available.\n",
      "22/09/14 21:55:55 WARN NetworkClient: [Consumer clientId=consumer-spark-kafka-source-e7b94c18-83a7-48b6-b4ca-aaf4123e5181-373237678-driver-0-1, groupId=spark-kafka-source-e7b94c18-83a7-48b6-b4ca-aaf4123e5181-373237678-driver-0] Connection to node 0 (pd-master/10.67.22.162:9092) could not be established. Broker may not be available.\n",
      "22/09/14 21:55:56 WARN NetworkClient: [Consumer clientId=consumer-spark-kafka-source-e7b94c18-83a7-48b6-b4ca-aaf4123e5181-373237678-driver-0-1, groupId=spark-kafka-source-e7b94c18-83a7-48b6-b4ca-aaf4123e5181-373237678-driver-0] Connection to node 0 (pd-master/10.67.22.162:9092) could not be established. Broker may not be available.\n",
      "22/09/14 21:55:57 WARN NetworkClient: [Consumer clientId=consumer-spark-kafka-source-e7b94c18-83a7-48b6-b4ca-aaf4123e5181-373237678-driver-0-1, groupId=spark-kafka-source-e7b94c18-83a7-48b6-b4ca-aaf4123e5181-373237678-driver-0] Connection to node 0 (pd-master/10.67.22.162:9092) could not be established. Broker may not be available.\n",
      "22/09/14 21:55:58 WARN NetworkClient: [Consumer clientId=consumer-spark-kafka-source-e7b94c18-83a7-48b6-b4ca-aaf4123e5181-373237678-driver-0-1, groupId=spark-kafka-source-e7b94c18-83a7-48b6-b4ca-aaf4123e5181-373237678-driver-0] Connection to node 0 (pd-master/10.67.22.162:9092) could not be established. Broker may not be available.\n",
      "22/09/14 21:55:59 WARN NetworkClient: [Consumer clientId=consumer-spark-kafka-source-e7b94c18-83a7-48b6-b4ca-aaf4123e5181-373237678-driver-0-1, groupId=spark-kafka-source-e7b94c18-83a7-48b6-b4ca-aaf4123e5181-373237678-driver-0] Connection to node 0 (pd-master/10.67.22.162:9092) could not be established. Broker may not be available.\n",
      "22/09/14 21:56:00 WARN NetworkClient: [Consumer clientId=consumer-spark-kafka-source-e7b94c18-83a7-48b6-b4ca-aaf4123e5181-373237678-driver-0-1, groupId=spark-kafka-source-e7b94c18-83a7-48b6-b4ca-aaf4123e5181-373237678-driver-0] Connection to node 0 (pd-master/10.67.22.162:9092) could not be established. Broker may not be available.\n",
      "22/09/14 21:56:01 WARN NetworkClient: [Consumer clientId=consumer-spark-kafka-source-e7b94c18-83a7-48b6-b4ca-aaf4123e5181-373237678-driver-0-1, groupId=spark-kafka-source-e7b94c18-83a7-48b6-b4ca-aaf4123e5181-373237678-driver-0] Connection to node 0 (pd-master/10.67.22.162:9092) could not be established. Broker may not be available.\n",
      "22/09/14 21:56:02 WARN NetworkClient: [Consumer clientId=consumer-spark-kafka-source-e7b94c18-83a7-48b6-b4ca-aaf4123e5181-373237678-driver-0-1, groupId=spark-kafka-source-e7b94c18-83a7-48b6-b4ca-aaf4123e5181-373237678-driver-0] Connection to node 0 (pd-master/10.67.22.162:9092) could not be established. Broker may not be available.\n",
      "22/09/14 21:56:03 WARN NetworkClient: [Consumer clientId=consumer-spark-kafka-source-e7b94c18-83a7-48b6-b4ca-aaf4123e5181-373237678-driver-0-1, groupId=spark-kafka-source-e7b94c18-83a7-48b6-b4ca-aaf4123e5181-373237678-driver-0] Connection to node 0 (pd-master/10.67.22.162:9092) could not be established. Broker may not be available.\n",
      "22/09/14 21:56:04 WARN NetworkClient: [Consumer clientId=consumer-spark-kafka-source-e7b94c18-83a7-48b6-b4ca-aaf4123e5181-373237678-driver-0-1, groupId=spark-kafka-source-e7b94c18-83a7-48b6-b4ca-aaf4123e5181-373237678-driver-0] Connection to node 0 (pd-master/10.67.22.162:9092) could not be established. Broker may not be available.\n"
     ]
    },
    {
     "name": "stdout",
     "output_type": "stream",
     "text": [
      "22/09/14 21:56:05 WARN NetworkClient: [Consumer clientId=consumer-spark-kafka-source-e7b94c18-83a7-48b6-b4ca-aaf4123e5181-373237678-driver-0-1, groupId=spark-kafka-source-e7b94c18-83a7-48b6-b4ca-aaf4123e5181-373237678-driver-0] Connection to node 0 (pd-master/10.67.22.162:9092) could not be established. Broker may not be available.\n",
      "22/09/14 21:56:06 WARN NetworkClient: [Consumer clientId=consumer-spark-kafka-source-e7b94c18-83a7-48b6-b4ca-aaf4123e5181-373237678-driver-0-1, groupId=spark-kafka-source-e7b94c18-83a7-48b6-b4ca-aaf4123e5181-373237678-driver-0] Connection to node 0 (pd-master/10.67.22.162:9092) could not be established. Broker may not be available.\n",
      "22/09/14 21:56:07 WARN NetworkClient: [Consumer clientId=consumer-spark-kafka-source-e7b94c18-83a7-48b6-b4ca-aaf4123e5181-373237678-driver-0-1, groupId=spark-kafka-source-e7b94c18-83a7-48b6-b4ca-aaf4123e5181-373237678-driver-0] Connection to node 0 (pd-master/10.67.22.162:9092) could not be established. Broker may not be available.\n",
      "22/09/14 21:56:08 WARN NetworkClient: [Consumer clientId=consumer-spark-kafka-source-e7b94c18-83a7-48b6-b4ca-aaf4123e5181-373237678-driver-0-1, groupId=spark-kafka-source-e7b94c18-83a7-48b6-b4ca-aaf4123e5181-373237678-driver-0] Connection to node 0 (pd-master/10.67.22.162:9092) could not be established. Broker may not be available.\n",
      "22/09/14 21:56:09 WARN NetworkClient: [Consumer clientId=consumer-spark-kafka-source-e7b94c18-83a7-48b6-b4ca-aaf4123e5181-373237678-driver-0-1, groupId=spark-kafka-source-e7b94c18-83a7-48b6-b4ca-aaf4123e5181-373237678-driver-0] Connection to node 0 (pd-master/10.67.22.162:9092) could not be established. Broker may not be available.\n",
      "22/09/14 21:56:10 WARN NetworkClient: [Consumer clientId=consumer-spark-kafka-source-e7b94c18-83a7-48b6-b4ca-aaf4123e5181-373237678-driver-0-1, groupId=spark-kafka-source-e7b94c18-83a7-48b6-b4ca-aaf4123e5181-373237678-driver-0] Connection to node 0 (pd-master/10.67.22.162:9092) could not be established. Broker may not be available.\n",
      "22/09/14 21:56:11 WARN NetworkClient: [Consumer clientId=consumer-spark-kafka-source-e7b94c18-83a7-48b6-b4ca-aaf4123e5181-373237678-driver-0-1, groupId=spark-kafka-source-e7b94c18-83a7-48b6-b4ca-aaf4123e5181-373237678-driver-0] Connection to node 0 (pd-master/10.67.22.162:9092) could not be established. Broker may not be available.\n",
      "22/09/14 21:56:12 WARN NetworkClient: [Consumer clientId=consumer-spark-kafka-source-e7b94c18-83a7-48b6-b4ca-aaf4123e5181-373237678-driver-0-1, groupId=spark-kafka-source-e7b94c18-83a7-48b6-b4ca-aaf4123e5181-373237678-driver-0] Connection to node 0 (pd-master/10.67.22.162:9092) could not be established. Broker may not be available.\n",
      "22/09/14 21:56:13 WARN NetworkClient: [Consumer clientId=consumer-spark-kafka-source-e7b94c18-83a7-48b6-b4ca-aaf4123e5181-373237678-driver-0-1, groupId=spark-kafka-source-e7b94c18-83a7-48b6-b4ca-aaf4123e5181-373237678-driver-0] Connection to node 0 (pd-master/10.67.22.162:9092) could not be established. Broker may not be available.\n",
      "22/09/14 21:56:14 WARN NetworkClient: [Consumer clientId=consumer-spark-kafka-source-e7b94c18-83a7-48b6-b4ca-aaf4123e5181-373237678-driver-0-1, groupId=spark-kafka-source-e7b94c18-83a7-48b6-b4ca-aaf4123e5181-373237678-driver-0] Connection to node 0 (pd-master/10.67.22.162:9092) could not be established. Broker may not be available.\n",
      "22/09/14 21:56:16 WARN NetworkClient: [Consumer clientId=consumer-spark-kafka-source-e7b94c18-83a7-48b6-b4ca-aaf4123e5181-373237678-driver-0-1, groupId=spark-kafka-source-e7b94c18-83a7-48b6-b4ca-aaf4123e5181-373237678-driver-0] Connection to node 0 (pd-master/10.67.22.162:9092) could not be established. Broker may not be available.\n",
      "22/09/14 21:56:17 WARN NetworkClient: [Consumer clientId=consumer-spark-kafka-source-e7b94c18-83a7-48b6-b4ca-aaf4123e5181-373237678-driver-0-1, groupId=spark-kafka-source-e7b94c18-83a7-48b6-b4ca-aaf4123e5181-373237678-driver-0] Connection to node 0 (pd-master/10.67.22.162:9092) could not be established. Broker may not be available.\n",
      "22/09/14 21:56:18 WARN NetworkClient: [Consumer clientId=consumer-spark-kafka-source-e7b94c18-83a7-48b6-b4ca-aaf4123e5181-373237678-driver-0-1, groupId=spark-kafka-source-e7b94c18-83a7-48b6-b4ca-aaf4123e5181-373237678-driver-0] Connection to node 0 (pd-master/10.67.22.162:9092) could not be established. Broker may not be available.\n",
      "22/09/14 21:56:19 WARN NetworkClient: [Consumer clientId=consumer-spark-kafka-source-e7b94c18-83a7-48b6-b4ca-aaf4123e5181-373237678-driver-0-1, groupId=spark-kafka-source-e7b94c18-83a7-48b6-b4ca-aaf4123e5181-373237678-driver-0] Connection to node 0 (pd-master/10.67.22.162:9092) could not be established. Broker may not be available.\n",
      "22/09/14 21:56:20 WARN NetworkClient: [Consumer clientId=consumer-spark-kafka-source-e7b94c18-83a7-48b6-b4ca-aaf4123e5181-373237678-driver-0-1, groupId=spark-kafka-source-e7b94c18-83a7-48b6-b4ca-aaf4123e5181-373237678-driver-0] Connection to node 0 (pd-master/10.67.22.162:9092) could not be established. Broker may not be available.\n",
      "22/09/14 21:56:20 WARN NetworkClient: [Consumer clientId=consumer-spark-kafka-source-e7b94c18-83a7-48b6-b4ca-aaf4123e5181-373237678-driver-0-1, groupId=spark-kafka-source-e7b94c18-83a7-48b6-b4ca-aaf4123e5181-373237678-driver-0] Connection to node 0 (pd-master/10.67.22.162:9092) could not be established. Broker may not be available.\n",
      "22/09/14 21:56:21 WARN NetworkClient: [Consumer clientId=consumer-spark-kafka-source-e7b94c18-83a7-48b6-b4ca-aaf4123e5181-373237678-driver-0-1, groupId=spark-kafka-source-e7b94c18-83a7-48b6-b4ca-aaf4123e5181-373237678-driver-0] Connection to node 0 (pd-master/10.67.22.162:9092) could not be established. Broker may not be available.\n",
      "22/09/14 21:56:22 WARN NetworkClient: [Consumer clientId=consumer-spark-kafka-source-e7b94c18-83a7-48b6-b4ca-aaf4123e5181-373237678-driver-0-1, groupId=spark-kafka-source-e7b94c18-83a7-48b6-b4ca-aaf4123e5181-373237678-driver-0] Connection to node 0 (pd-master/10.67.22.162:9092) could not be established. Broker may not be available.\n",
      "22/09/14 21:56:23 WARN NetworkClient: [Consumer clientId=consumer-spark-kafka-source-e7b94c18-83a7-48b6-b4ca-aaf4123e5181-373237678-driver-0-1, groupId=spark-kafka-source-e7b94c18-83a7-48b6-b4ca-aaf4123e5181-373237678-driver-0] Connection to node 0 (pd-master/10.67.22.162:9092) could not be established. Broker may not be available.\n",
      "22/09/14 21:56:24 WARN NetworkClient: [Consumer clientId=consumer-spark-kafka-source-e7b94c18-83a7-48b6-b4ca-aaf4123e5181-373237678-driver-0-1, groupId=spark-kafka-source-e7b94c18-83a7-48b6-b4ca-aaf4123e5181-373237678-driver-0] Connection to node 0 (pd-master/10.67.22.162:9092) could not be established. Broker may not be available.\n",
      "22/09/14 21:56:26 WARN NetworkClient: [Consumer clientId=consumer-spark-kafka-source-e7b94c18-83a7-48b6-b4ca-aaf4123e5181-373237678-driver-0-1, groupId=spark-kafka-source-e7b94c18-83a7-48b6-b4ca-aaf4123e5181-373237678-driver-0] Connection to node 0 (pd-master/10.67.22.162:9092) could not be established. Broker may not be available.\n",
      "22/09/14 21:56:26 WARN NetworkClient: [Consumer clientId=consumer-spark-kafka-source-e7b94c18-83a7-48b6-b4ca-aaf4123e5181-373237678-driver-0-1, groupId=spark-kafka-source-e7b94c18-83a7-48b6-b4ca-aaf4123e5181-373237678-driver-0] Connection to node 0 (pd-master/10.67.22.162:9092) could not be established. Broker may not be available.\n",
      "22/09/14 21:56:27 WARN NetworkClient: [Consumer clientId=consumer-spark-kafka-source-e7b94c18-83a7-48b6-b4ca-aaf4123e5181-373237678-driver-0-1, groupId=spark-kafka-source-e7b94c18-83a7-48b6-b4ca-aaf4123e5181-373237678-driver-0] Connection to node 0 (pd-master/10.67.22.162:9092) could not be established. Broker may not be available.\n",
      "22/09/14 21:56:29 WARN NetworkClient: [Consumer clientId=consumer-spark-kafka-source-e7b94c18-83a7-48b6-b4ca-aaf4123e5181-373237678-driver-0-1, groupId=spark-kafka-source-e7b94c18-83a7-48b6-b4ca-aaf4123e5181-373237678-driver-0] Connection to node 0 (pd-master/10.67.22.162:9092) could not be established. Broker may not be available.\n",
      "22/09/14 21:56:30 WARN NetworkClient: [Consumer clientId=consumer-spark-kafka-source-e7b94c18-83a7-48b6-b4ca-aaf4123e5181-373237678-driver-0-1, groupId=spark-kafka-source-e7b94c18-83a7-48b6-b4ca-aaf4123e5181-373237678-driver-0] Connection to node 0 (pd-master/10.67.22.162:9092) could not be established. Broker may not be available.\n"
     ]
    },
    {
     "name": "stdout",
     "output_type": "stream",
     "text": [
      "22/09/14 21:56:31 WARN NetworkClient: [Consumer clientId=consumer-spark-kafka-source-e7b94c18-83a7-48b6-b4ca-aaf4123e5181-373237678-driver-0-1, groupId=spark-kafka-source-e7b94c18-83a7-48b6-b4ca-aaf4123e5181-373237678-driver-0] Connection to node 0 (pd-master/10.67.22.162:9092) could not be established. Broker may not be available.\n",
      "22/09/14 21:56:32 WARN NetworkClient: [Consumer clientId=consumer-spark-kafka-source-e7b94c18-83a7-48b6-b4ca-aaf4123e5181-373237678-driver-0-1, groupId=spark-kafka-source-e7b94c18-83a7-48b6-b4ca-aaf4123e5181-373237678-driver-0] Connection to node 0 (pd-master/10.67.22.162:9092) could not be established. Broker may not be available.\n",
      "22/09/14 21:56:33 WARN NetworkClient: [Consumer clientId=consumer-spark-kafka-source-e7b94c18-83a7-48b6-b4ca-aaf4123e5181-373237678-driver-0-1, groupId=spark-kafka-source-e7b94c18-83a7-48b6-b4ca-aaf4123e5181-373237678-driver-0] Connection to node 0 (pd-master/10.67.22.162:9092) could not be established. Broker may not be available.\n",
      "22/09/14 21:56:34 WARN NetworkClient: [Consumer clientId=consumer-spark-kafka-source-e7b94c18-83a7-48b6-b4ca-aaf4123e5181-373237678-driver-0-1, groupId=spark-kafka-source-e7b94c18-83a7-48b6-b4ca-aaf4123e5181-373237678-driver-0] Connection to node 0 (pd-master/10.67.22.162:9092) could not be established. Broker may not be available.\n",
      "22/09/14 21:56:35 WARN NetworkClient: [Consumer clientId=consumer-spark-kafka-source-e7b94c18-83a7-48b6-b4ca-aaf4123e5181-373237678-driver-0-1, groupId=spark-kafka-source-e7b94c18-83a7-48b6-b4ca-aaf4123e5181-373237678-driver-0] Connection to node 0 (pd-master/10.67.22.162:9092) could not be established. Broker may not be available.\n",
      "22/09/14 21:56:36 WARN NetworkClient: [Consumer clientId=consumer-spark-kafka-source-e7b94c18-83a7-48b6-b4ca-aaf4123e5181-373237678-driver-0-1, groupId=spark-kafka-source-e7b94c18-83a7-48b6-b4ca-aaf4123e5181-373237678-driver-0] Connection to node 0 (pd-master/10.67.22.162:9092) could not be established. Broker may not be available.\n",
      "22/09/14 21:56:37 WARN NetworkClient: [Consumer clientId=consumer-spark-kafka-source-e7b94c18-83a7-48b6-b4ca-aaf4123e5181-373237678-driver-0-1, groupId=spark-kafka-source-e7b94c18-83a7-48b6-b4ca-aaf4123e5181-373237678-driver-0] Connection to node 0 (pd-master/10.67.22.162:9092) could not be established. Broker may not be available.\n",
      "22/09/14 21:56:38 WARN NetworkClient: [Consumer clientId=consumer-spark-kafka-source-e7b94c18-83a7-48b6-b4ca-aaf4123e5181-373237678-driver-0-1, groupId=spark-kafka-source-e7b94c18-83a7-48b6-b4ca-aaf4123e5181-373237678-driver-0] Connection to node 0 (pd-master/10.67.22.162:9092) could not be established. Broker may not be available.\n",
      "22/09/14 21:56:39 WARN NetworkClient: [Consumer clientId=consumer-spark-kafka-source-e7b94c18-83a7-48b6-b4ca-aaf4123e5181-373237678-driver-0-1, groupId=spark-kafka-source-e7b94c18-83a7-48b6-b4ca-aaf4123e5181-373237678-driver-0] Connection to node 0 (pd-master/10.67.22.162:9092) could not be established. Broker may not be available.\n",
      "22/09/14 21:56:40 WARN NetworkClient: [Consumer clientId=consumer-spark-kafka-source-e7b94c18-83a7-48b6-b4ca-aaf4123e5181-373237678-driver-0-1, groupId=spark-kafka-source-e7b94c18-83a7-48b6-b4ca-aaf4123e5181-373237678-driver-0] Connection to node 0 (pd-master/10.67.22.162:9092) could not be established. Broker may not be available.\n",
      "22/09/14 21:56:41 WARN NetworkClient: [Consumer clientId=consumer-spark-kafka-source-e7b94c18-83a7-48b6-b4ca-aaf4123e5181-373237678-driver-0-1, groupId=spark-kafka-source-e7b94c18-83a7-48b6-b4ca-aaf4123e5181-373237678-driver-0] Connection to node 0 (pd-master/10.67.22.162:9092) could not be established. Broker may not be available.\n",
      "22/09/14 21:56:42 WARN NetworkClient: [Consumer clientId=consumer-spark-kafka-source-e7b94c18-83a7-48b6-b4ca-aaf4123e5181-373237678-driver-0-1, groupId=spark-kafka-source-e7b94c18-83a7-48b6-b4ca-aaf4123e5181-373237678-driver-0] Connection to node 0 (pd-master/10.67.22.162:9092) could not be established. Broker may not be available.\n",
      "22/09/14 21:56:43 WARN NetworkClient: [Consumer clientId=consumer-spark-kafka-source-e7b94c18-83a7-48b6-b4ca-aaf4123e5181-373237678-driver-0-1, groupId=spark-kafka-source-e7b94c18-83a7-48b6-b4ca-aaf4123e5181-373237678-driver-0] Connection to node 0 (pd-master/10.67.22.162:9092) could not be established. Broker may not be available.\n",
      "22/09/14 21:56:44 WARN NetworkClient: [Consumer clientId=consumer-spark-kafka-source-e7b94c18-83a7-48b6-b4ca-aaf4123e5181-373237678-driver-0-1, groupId=spark-kafka-source-e7b94c18-83a7-48b6-b4ca-aaf4123e5181-373237678-driver-0] Connection to node 0 (pd-master/10.67.22.162:9092) could not be established. Broker may not be available.\n",
      "22/09/14 21:56:45 WARN NetworkClient: [Consumer clientId=consumer-spark-kafka-source-e7b94c18-83a7-48b6-b4ca-aaf4123e5181-373237678-driver-0-1, groupId=spark-kafka-source-e7b94c18-83a7-48b6-b4ca-aaf4123e5181-373237678-driver-0] Connection to node 0 (pd-master/10.67.22.162:9092) could not be established. Broker may not be available.\n",
      "22/09/14 21:56:46 WARN NetworkClient: [Consumer clientId=consumer-spark-kafka-source-e7b94c18-83a7-48b6-b4ca-aaf4123e5181-373237678-driver-0-1, groupId=spark-kafka-source-e7b94c18-83a7-48b6-b4ca-aaf4123e5181-373237678-driver-0] Connection to node 0 (pd-master/10.67.22.162:9092) could not be established. Broker may not be available.\n",
      "22/09/14 21:56:47 WARN NetworkClient: [Consumer clientId=consumer-spark-kafka-source-e7b94c18-83a7-48b6-b4ca-aaf4123e5181-373237678-driver-0-1, groupId=spark-kafka-source-e7b94c18-83a7-48b6-b4ca-aaf4123e5181-373237678-driver-0] Connection to node 0 (pd-master/10.67.22.162:9092) could not be established. Broker may not be available.\n",
      "22/09/14 21:56:48 WARN NetworkClient: [Consumer clientId=consumer-spark-kafka-source-e7b94c18-83a7-48b6-b4ca-aaf4123e5181-373237678-driver-0-1, groupId=spark-kafka-source-e7b94c18-83a7-48b6-b4ca-aaf4123e5181-373237678-driver-0] Connection to node 0 (pd-master/10.67.22.162:9092) could not be established. Broker may not be available.\n",
      "22/09/14 21:56:49 WARN NetworkClient: [Consumer clientId=consumer-spark-kafka-source-e7b94c18-83a7-48b6-b4ca-aaf4123e5181-373237678-driver-0-1, groupId=spark-kafka-source-e7b94c18-83a7-48b6-b4ca-aaf4123e5181-373237678-driver-0] Connection to node 0 (pd-master/10.67.22.162:9092) could not be established. Broker may not be available.\n",
      "22/09/14 21:56:51 WARN NetworkClient: [Consumer clientId=consumer-spark-kafka-source-e7b94c18-83a7-48b6-b4ca-aaf4123e5181-373237678-driver-0-1, groupId=spark-kafka-source-e7b94c18-83a7-48b6-b4ca-aaf4123e5181-373237678-driver-0] Connection to node 0 (pd-master/10.67.22.162:9092) could not be established. Broker may not be available.\n",
      "22/09/14 21:56:52 WARN NetworkClient: [Consumer clientId=consumer-spark-kafka-source-e7b94c18-83a7-48b6-b4ca-aaf4123e5181-373237678-driver-0-1, groupId=spark-kafka-source-e7b94c18-83a7-48b6-b4ca-aaf4123e5181-373237678-driver-0] Connection to node 0 (pd-master/10.67.22.162:9092) could not be established. Broker may not be available.\n",
      "22/09/14 21:56:53 WARN NetworkClient: [Consumer clientId=consumer-spark-kafka-source-e7b94c18-83a7-48b6-b4ca-aaf4123e5181-373237678-driver-0-1, groupId=spark-kafka-source-e7b94c18-83a7-48b6-b4ca-aaf4123e5181-373237678-driver-0] Connection to node 0 (pd-master/10.67.22.162:9092) could not be established. Broker may not be available.\n",
      "22/09/14 21:56:54 WARN NetworkClient: [Consumer clientId=consumer-spark-kafka-source-e7b94c18-83a7-48b6-b4ca-aaf4123e5181-373237678-driver-0-1, groupId=spark-kafka-source-e7b94c18-83a7-48b6-b4ca-aaf4123e5181-373237678-driver-0] Connection to node 0 (pd-master/10.67.22.162:9092) could not be established. Broker may not be available.\n",
      "22/09/14 21:56:55 WARN NetworkClient: [Consumer clientId=consumer-spark-kafka-source-e7b94c18-83a7-48b6-b4ca-aaf4123e5181-373237678-driver-0-1, groupId=spark-kafka-source-e7b94c18-83a7-48b6-b4ca-aaf4123e5181-373237678-driver-0] Connection to node 0 (pd-master/10.67.22.162:9092) could not be established. Broker may not be available.\n",
      "22/09/14 21:56:56 WARN NetworkClient: [Consumer clientId=consumer-spark-kafka-source-e7b94c18-83a7-48b6-b4ca-aaf4123e5181-373237678-driver-0-1, groupId=spark-kafka-source-e7b94c18-83a7-48b6-b4ca-aaf4123e5181-373237678-driver-0] Connection to node 0 (pd-master/10.67.22.162:9092) could not be established. Broker may not be available.\n"
     ]
    },
    {
     "name": "stdout",
     "output_type": "stream",
     "text": [
      "22/09/14 21:56:57 WARN NetworkClient: [Consumer clientId=consumer-spark-kafka-source-e7b94c18-83a7-48b6-b4ca-aaf4123e5181-373237678-driver-0-1, groupId=spark-kafka-source-e7b94c18-83a7-48b6-b4ca-aaf4123e5181-373237678-driver-0] Connection to node 0 (pd-master/10.67.22.162:9092) could not be established. Broker may not be available.\n",
      "22/09/14 21:56:58 WARN NetworkClient: [Consumer clientId=consumer-spark-kafka-source-e7b94c18-83a7-48b6-b4ca-aaf4123e5181-373237678-driver-0-1, groupId=spark-kafka-source-e7b94c18-83a7-48b6-b4ca-aaf4123e5181-373237678-driver-0] Connection to node 0 (pd-master/10.67.22.162:9092) could not be established. Broker may not be available.\n",
      "22/09/14 21:56:59 WARN NetworkClient: [Consumer clientId=consumer-spark-kafka-source-e7b94c18-83a7-48b6-b4ca-aaf4123e5181-373237678-driver-0-1, groupId=spark-kafka-source-e7b94c18-83a7-48b6-b4ca-aaf4123e5181-373237678-driver-0] Connection to node 0 (pd-master/10.67.22.162:9092) could not be established. Broker may not be available.\n",
      "22/09/14 21:57:00 WARN NetworkClient: [Consumer clientId=consumer-spark-kafka-source-e7b94c18-83a7-48b6-b4ca-aaf4123e5181-373237678-driver-0-1, groupId=spark-kafka-source-e7b94c18-83a7-48b6-b4ca-aaf4123e5181-373237678-driver-0] Connection to node 0 (pd-master/10.67.22.162:9092) could not be established. Broker may not be available.\n",
      "22/09/14 21:57:01 WARN NetworkClient: [Consumer clientId=consumer-spark-kafka-source-e7b94c18-83a7-48b6-b4ca-aaf4123e5181-373237678-driver-0-1, groupId=spark-kafka-source-e7b94c18-83a7-48b6-b4ca-aaf4123e5181-373237678-driver-0] Connection to node 0 (pd-master/10.67.22.162:9092) could not be established. Broker may not be available.\n",
      "22/09/14 21:57:02 WARN NetworkClient: [Consumer clientId=consumer-spark-kafka-source-e7b94c18-83a7-48b6-b4ca-aaf4123e5181-373237678-driver-0-1, groupId=spark-kafka-source-e7b94c18-83a7-48b6-b4ca-aaf4123e5181-373237678-driver-0] Connection to node 0 (pd-master/10.67.22.162:9092) could not be established. Broker may not be available.\n",
      "22/09/14 21:57:03 WARN NetworkClient: [Consumer clientId=consumer-spark-kafka-source-e7b94c18-83a7-48b6-b4ca-aaf4123e5181-373237678-driver-0-1, groupId=spark-kafka-source-e7b94c18-83a7-48b6-b4ca-aaf4123e5181-373237678-driver-0] Connection to node 0 (pd-master/10.67.22.162:9092) could not be established. Broker may not be available.\n",
      "22/09/14 21:57:04 WARN NetworkClient: [Consumer clientId=consumer-spark-kafka-source-e7b94c18-83a7-48b6-b4ca-aaf4123e5181-373237678-driver-0-1, groupId=spark-kafka-source-e7b94c18-83a7-48b6-b4ca-aaf4123e5181-373237678-driver-0] Connection to node 0 (pd-master/10.67.22.162:9092) could not be established. Broker may not be available.\n",
      "22/09/14 21:57:05 WARN NetworkClient: [Consumer clientId=consumer-spark-kafka-source-e7b94c18-83a7-48b6-b4ca-aaf4123e5181-373237678-driver-0-1, groupId=spark-kafka-source-e7b94c18-83a7-48b6-b4ca-aaf4123e5181-373237678-driver-0] Connection to node 0 (pd-master/10.67.22.162:9092) could not be established. Broker may not be available.\n",
      "22/09/14 21:57:06 WARN NetworkClient: [Consumer clientId=consumer-spark-kafka-source-e7b94c18-83a7-48b6-b4ca-aaf4123e5181-373237678-driver-0-1, groupId=spark-kafka-source-e7b94c18-83a7-48b6-b4ca-aaf4123e5181-373237678-driver-0] Connection to node 0 (pd-master/10.67.22.162:9092) could not be established. Broker may not be available.\n",
      "22/09/14 21:57:07 WARN NetworkClient: [Consumer clientId=consumer-spark-kafka-source-e7b94c18-83a7-48b6-b4ca-aaf4123e5181-373237678-driver-0-1, groupId=spark-kafka-source-e7b94c18-83a7-48b6-b4ca-aaf4123e5181-373237678-driver-0] Connection to node 0 (pd-master/10.67.22.162:9092) could not be established. Broker may not be available.\n",
      "22/09/14 21:57:08 WARN NetworkClient: [Consumer clientId=consumer-spark-kafka-source-e7b94c18-83a7-48b6-b4ca-aaf4123e5181-373237678-driver-0-1, groupId=spark-kafka-source-e7b94c18-83a7-48b6-b4ca-aaf4123e5181-373237678-driver-0] Connection to node 0 (pd-master/10.67.22.162:9092) could not be established. Broker may not be available.\n",
      "22/09/14 21:57:09 WARN NetworkClient: [Consumer clientId=consumer-spark-kafka-source-e7b94c18-83a7-48b6-b4ca-aaf4123e5181-373237678-driver-0-1, groupId=spark-kafka-source-e7b94c18-83a7-48b6-b4ca-aaf4123e5181-373237678-driver-0] Connection to node 0 (pd-master/10.67.22.162:9092) could not be established. Broker may not be available.\n",
      "22/09/14 21:57:10 WARN NetworkClient: [Consumer clientId=consumer-spark-kafka-source-e7b94c18-83a7-48b6-b4ca-aaf4123e5181-373237678-driver-0-1, groupId=spark-kafka-source-e7b94c18-83a7-48b6-b4ca-aaf4123e5181-373237678-driver-0] Connection to node 0 (pd-master/10.67.22.162:9092) could not be established. Broker may not be available.\n",
      "22/09/14 21:57:11 WARN NetworkClient: [Consumer clientId=consumer-spark-kafka-source-e7b94c18-83a7-48b6-b4ca-aaf4123e5181-373237678-driver-0-1, groupId=spark-kafka-source-e7b94c18-83a7-48b6-b4ca-aaf4123e5181-373237678-driver-0] Connection to node 0 (pd-master/10.67.22.162:9092) could not be established. Broker may not be available.\n",
      "22/09/14 21:57:12 WARN NetworkClient: [Consumer clientId=consumer-spark-kafka-source-e7b94c18-83a7-48b6-b4ca-aaf4123e5181-373237678-driver-0-1, groupId=spark-kafka-source-e7b94c18-83a7-48b6-b4ca-aaf4123e5181-373237678-driver-0] Connection to node 0 (pd-master/10.67.22.162:9092) could not be established. Broker may not be available.\n",
      "22/09/14 21:57:13 WARN NetworkClient: [Consumer clientId=consumer-spark-kafka-source-e7b94c18-83a7-48b6-b4ca-aaf4123e5181-373237678-driver-0-1, groupId=spark-kafka-source-e7b94c18-83a7-48b6-b4ca-aaf4123e5181-373237678-driver-0] Connection to node 0 (pd-master/10.67.22.162:9092) could not be established. Broker may not be available.\n",
      "22/09/14 21:57:14 WARN NetworkClient: [Consumer clientId=consumer-spark-kafka-source-e7b94c18-83a7-48b6-b4ca-aaf4123e5181-373237678-driver-0-1, groupId=spark-kafka-source-e7b94c18-83a7-48b6-b4ca-aaf4123e5181-373237678-driver-0] Connection to node 0 (pd-master/10.67.22.162:9092) could not be established. Broker may not be available.\n",
      "22/09/14 21:57:15 WARN NetworkClient: [Consumer clientId=consumer-spark-kafka-source-e7b94c18-83a7-48b6-b4ca-aaf4123e5181-373237678-driver-0-1, groupId=spark-kafka-source-e7b94c18-83a7-48b6-b4ca-aaf4123e5181-373237678-driver-0] Connection to node 0 (pd-master/10.67.22.162:9092) could not be established. Broker may not be available.\n",
      "22/09/14 21:57:16 WARN NetworkClient: [Consumer clientId=consumer-spark-kafka-source-e7b94c18-83a7-48b6-b4ca-aaf4123e5181-373237678-driver-0-1, groupId=spark-kafka-source-e7b94c18-83a7-48b6-b4ca-aaf4123e5181-373237678-driver-0] Connection to node 0 (pd-master/10.67.22.162:9092) could not be established. Broker may not be available.\n",
      "22/09/14 21:57:17 WARN NetworkClient: [Consumer clientId=consumer-spark-kafka-source-e7b94c18-83a7-48b6-b4ca-aaf4123e5181-373237678-driver-0-1, groupId=spark-kafka-source-e7b94c18-83a7-48b6-b4ca-aaf4123e5181-373237678-driver-0] Connection to node 0 (pd-master/10.67.22.162:9092) could not be established. Broker may not be available.\n",
      "22/09/14 21:57:18 WARN NetworkClient: [Consumer clientId=consumer-spark-kafka-source-e7b94c18-83a7-48b6-b4ca-aaf4123e5181-373237678-driver-0-1, groupId=spark-kafka-source-e7b94c18-83a7-48b6-b4ca-aaf4123e5181-373237678-driver-0] Connection to node 0 (pd-master/10.67.22.162:9092) could not be established. Broker may not be available.\n",
      "22/09/14 21:57:19 WARN NetworkClient: [Consumer clientId=consumer-spark-kafka-source-e7b94c18-83a7-48b6-b4ca-aaf4123e5181-373237678-driver-0-1, groupId=spark-kafka-source-e7b94c18-83a7-48b6-b4ca-aaf4123e5181-373237678-driver-0] Connection to node 0 (pd-master/10.67.22.162:9092) could not be established. Broker may not be available.\n",
      "22/09/14 21:57:20 WARN NetworkClient: [Consumer clientId=consumer-spark-kafka-source-e7b94c18-83a7-48b6-b4ca-aaf4123e5181-373237678-driver-0-1, groupId=spark-kafka-source-e7b94c18-83a7-48b6-b4ca-aaf4123e5181-373237678-driver-0] Connection to node 0 (pd-master/10.67.22.162:9092) could not be established. Broker may not be available.\n",
      "22/09/14 21:57:21 WARN NetworkClient: [Consumer clientId=consumer-spark-kafka-source-e7b94c18-83a7-48b6-b4ca-aaf4123e5181-373237678-driver-0-1, groupId=spark-kafka-source-e7b94c18-83a7-48b6-b4ca-aaf4123e5181-373237678-driver-0] Connection to node 0 (pd-master/10.67.22.162:9092) could not be established. Broker may not be available.\n"
     ]
    },
    {
     "name": "stdout",
     "output_type": "stream",
     "text": [
      "22/09/14 21:57:22 WARN NetworkClient: [Consumer clientId=consumer-spark-kafka-source-e7b94c18-83a7-48b6-b4ca-aaf4123e5181-373237678-driver-0-1, groupId=spark-kafka-source-e7b94c18-83a7-48b6-b4ca-aaf4123e5181-373237678-driver-0] Connection to node 0 (pd-master/10.67.22.162:9092) could not be established. Broker may not be available.\n",
      "22/09/14 21:57:23 WARN NetworkClient: [Consumer clientId=consumer-spark-kafka-source-e7b94c18-83a7-48b6-b4ca-aaf4123e5181-373237678-driver-0-1, groupId=spark-kafka-source-e7b94c18-83a7-48b6-b4ca-aaf4123e5181-373237678-driver-0] Connection to node 0 (pd-master/10.67.22.162:9092) could not be established. Broker may not be available.\n",
      "22/09/14 21:57:24 WARN NetworkClient: [Consumer clientId=consumer-spark-kafka-source-e7b94c18-83a7-48b6-b4ca-aaf4123e5181-373237678-driver-0-1, groupId=spark-kafka-source-e7b94c18-83a7-48b6-b4ca-aaf4123e5181-373237678-driver-0] Connection to node 0 (pd-master/10.67.22.162:9092) could not be established. Broker may not be available.\n",
      "22/09/14 21:57:25 WARN NetworkClient: [Consumer clientId=consumer-spark-kafka-source-e7b94c18-83a7-48b6-b4ca-aaf4123e5181-373237678-driver-0-1, groupId=spark-kafka-source-e7b94c18-83a7-48b6-b4ca-aaf4123e5181-373237678-driver-0] Connection to node 0 (pd-master/10.67.22.162:9092) could not be established. Broker may not be available.\n",
      "22/09/14 21:57:26 WARN NetworkClient: [Consumer clientId=consumer-spark-kafka-source-e7b94c18-83a7-48b6-b4ca-aaf4123e5181-373237678-driver-0-1, groupId=spark-kafka-source-e7b94c18-83a7-48b6-b4ca-aaf4123e5181-373237678-driver-0] Connection to node 0 (pd-master/10.67.22.162:9092) could not be established. Broker may not be available.\n",
      "22/09/14 21:57:27 WARN NetworkClient: [Consumer clientId=consumer-spark-kafka-source-e7b94c18-83a7-48b6-b4ca-aaf4123e5181-373237678-driver-0-1, groupId=spark-kafka-source-e7b94c18-83a7-48b6-b4ca-aaf4123e5181-373237678-driver-0] Connection to node 0 (pd-master/10.67.22.162:9092) could not be established. Broker may not be available.\n",
      "22/09/14 21:57:28 WARN NetworkClient: [Consumer clientId=consumer-spark-kafka-source-e7b94c18-83a7-48b6-b4ca-aaf4123e5181-373237678-driver-0-1, groupId=spark-kafka-source-e7b94c18-83a7-48b6-b4ca-aaf4123e5181-373237678-driver-0] Connection to node 0 (pd-master/10.67.22.162:9092) could not be established. Broker may not be available.\n",
      "22/09/14 21:57:29 WARN NetworkClient: [Consumer clientId=consumer-spark-kafka-source-e7b94c18-83a7-48b6-b4ca-aaf4123e5181-373237678-driver-0-1, groupId=spark-kafka-source-e7b94c18-83a7-48b6-b4ca-aaf4123e5181-373237678-driver-0] Connection to node 0 (pd-master/10.67.22.162:9092) could not be established. Broker may not be available.\n",
      "22/09/14 21:57:30 WARN NetworkClient: [Consumer clientId=consumer-spark-kafka-source-e7b94c18-83a7-48b6-b4ca-aaf4123e5181-373237678-driver-0-1, groupId=spark-kafka-source-e7b94c18-83a7-48b6-b4ca-aaf4123e5181-373237678-driver-0] Connection to node 0 (pd-master/10.67.22.162:9092) could not be established. Broker may not be available.\n",
      "22/09/14 21:57:32 WARN NetworkClient: [Consumer clientId=consumer-spark-kafka-source-e7b94c18-83a7-48b6-b4ca-aaf4123e5181-373237678-driver-0-1, groupId=spark-kafka-source-e7b94c18-83a7-48b6-b4ca-aaf4123e5181-373237678-driver-0] Connection to node 0 (pd-master/10.67.22.162:9092) could not be established. Broker may not be available.\n",
      "22/09/14 21:57:33 WARN NetworkClient: [Consumer clientId=consumer-spark-kafka-source-e7b94c18-83a7-48b6-b4ca-aaf4123e5181-373237678-driver-0-1, groupId=spark-kafka-source-e7b94c18-83a7-48b6-b4ca-aaf4123e5181-373237678-driver-0] Connection to node 0 (pd-master/10.67.22.162:9092) could not be established. Broker may not be available.\n",
      "22/09/14 21:57:34 WARN NetworkClient: [Consumer clientId=consumer-spark-kafka-source-e7b94c18-83a7-48b6-b4ca-aaf4123e5181-373237678-driver-0-1, groupId=spark-kafka-source-e7b94c18-83a7-48b6-b4ca-aaf4123e5181-373237678-driver-0] Connection to node 0 (pd-master/10.67.22.162:9092) could not be established. Broker may not be available.\n",
      "22/09/14 21:57:35 WARN NetworkClient: [Consumer clientId=consumer-spark-kafka-source-e7b94c18-83a7-48b6-b4ca-aaf4123e5181-373237678-driver-0-1, groupId=spark-kafka-source-e7b94c18-83a7-48b6-b4ca-aaf4123e5181-373237678-driver-0] Connection to node 0 (pd-master/10.67.22.162:9092) could not be established. Broker may not be available.\n",
      "22/09/14 21:57:36 WARN NetworkClient: [Consumer clientId=consumer-spark-kafka-source-e7b94c18-83a7-48b6-b4ca-aaf4123e5181-373237678-driver-0-1, groupId=spark-kafka-source-e7b94c18-83a7-48b6-b4ca-aaf4123e5181-373237678-driver-0] Connection to node 0 (pd-master/10.67.22.162:9092) could not be established. Broker may not be available.\n",
      "22/09/14 21:57:37 WARN NetworkClient: [Consumer clientId=consumer-spark-kafka-source-e7b94c18-83a7-48b6-b4ca-aaf4123e5181-373237678-driver-0-1, groupId=spark-kafka-source-e7b94c18-83a7-48b6-b4ca-aaf4123e5181-373237678-driver-0] Connection to node 0 (pd-master/10.67.22.162:9092) could not be established. Broker may not be available.\n",
      "22/09/14 21:57:38 WARN NetworkClient: [Consumer clientId=consumer-spark-kafka-source-e7b94c18-83a7-48b6-b4ca-aaf4123e5181-373237678-driver-0-1, groupId=spark-kafka-source-e7b94c18-83a7-48b6-b4ca-aaf4123e5181-373237678-driver-0] Connection to node 0 (pd-master/10.67.22.162:9092) could not be established. Broker may not be available.\n",
      "22/09/14 21:57:39 WARN NetworkClient: [Consumer clientId=consumer-spark-kafka-source-e7b94c18-83a7-48b6-b4ca-aaf4123e5181-373237678-driver-0-1, groupId=spark-kafka-source-e7b94c18-83a7-48b6-b4ca-aaf4123e5181-373237678-driver-0] Connection to node 0 (pd-master/10.67.22.162:9092) could not be established. Broker may not be available.\n",
      "22/09/14 21:57:40 WARN NetworkClient: [Consumer clientId=consumer-spark-kafka-source-e7b94c18-83a7-48b6-b4ca-aaf4123e5181-373237678-driver-0-1, groupId=spark-kafka-source-e7b94c18-83a7-48b6-b4ca-aaf4123e5181-373237678-driver-0] Connection to node 0 (pd-master/10.67.22.162:9092) could not be established. Broker may not be available.\n",
      "22/09/14 21:57:41 WARN NetworkClient: [Consumer clientId=consumer-spark-kafka-source-e7b94c18-83a7-48b6-b4ca-aaf4123e5181-373237678-driver-0-1, groupId=spark-kafka-source-e7b94c18-83a7-48b6-b4ca-aaf4123e5181-373237678-driver-0] Connection to node 0 (pd-master/10.67.22.162:9092) could not be established. Broker may not be available.\n",
      "22/09/14 21:57:42 WARN NetworkClient: [Consumer clientId=consumer-spark-kafka-source-e7b94c18-83a7-48b6-b4ca-aaf4123e5181-373237678-driver-0-1, groupId=spark-kafka-source-e7b94c18-83a7-48b6-b4ca-aaf4123e5181-373237678-driver-0] Connection to node 0 (pd-master/10.67.22.162:9092) could not be established. Broker may not be available.\n",
      "22/09/14 21:57:43 WARN NetworkClient: [Consumer clientId=consumer-spark-kafka-source-e7b94c18-83a7-48b6-b4ca-aaf4123e5181-373237678-driver-0-1, groupId=spark-kafka-source-e7b94c18-83a7-48b6-b4ca-aaf4123e5181-373237678-driver-0] Connection to node 0 (pd-master/10.67.22.162:9092) could not be established. Broker may not be available.\n",
      "22/09/14 21:57:45 WARN NetworkClient: [Consumer clientId=consumer-spark-kafka-source-e7b94c18-83a7-48b6-b4ca-aaf4123e5181-373237678-driver-0-1, groupId=spark-kafka-source-e7b94c18-83a7-48b6-b4ca-aaf4123e5181-373237678-driver-0] Connection to node 0 (pd-master/10.67.22.162:9092) could not be established. Broker may not be available.\n",
      "22/09/14 21:57:46 WARN NetworkClient: [Consumer clientId=consumer-spark-kafka-source-e7b94c18-83a7-48b6-b4ca-aaf4123e5181-373237678-driver-0-1, groupId=spark-kafka-source-e7b94c18-83a7-48b6-b4ca-aaf4123e5181-373237678-driver-0] Connection to node 0 (pd-master/10.67.22.162:9092) could not be established. Broker may not be available.\n",
      "22/09/14 21:57:47 WARN NetworkClient: [Consumer clientId=consumer-spark-kafka-source-e7b94c18-83a7-48b6-b4ca-aaf4123e5181-373237678-driver-0-1, groupId=spark-kafka-source-e7b94c18-83a7-48b6-b4ca-aaf4123e5181-373237678-driver-0] Connection to node 0 (pd-master/10.67.22.162:9092) could not be established. Broker may not be available.\n",
      "22/09/14 21:57:48 WARN NetworkClient: [Consumer clientId=consumer-spark-kafka-source-e7b94c18-83a7-48b6-b4ca-aaf4123e5181-373237678-driver-0-1, groupId=spark-kafka-source-e7b94c18-83a7-48b6-b4ca-aaf4123e5181-373237678-driver-0] Connection to node 0 (pd-master/10.67.22.162:9092) could not be established. Broker may not be available.\n"
     ]
    },
    {
     "name": "stdout",
     "output_type": "stream",
     "text": [
      "22/09/14 21:57:49 WARN NetworkClient: [Consumer clientId=consumer-spark-kafka-source-e7b94c18-83a7-48b6-b4ca-aaf4123e5181-373237678-driver-0-1, groupId=spark-kafka-source-e7b94c18-83a7-48b6-b4ca-aaf4123e5181-373237678-driver-0] Connection to node 0 (pd-master/10.67.22.162:9092) could not be established. Broker may not be available.\n",
      "22/09/14 21:57:50 WARN NetworkClient: [Consumer clientId=consumer-spark-kafka-source-e7b94c18-83a7-48b6-b4ca-aaf4123e5181-373237678-driver-0-1, groupId=spark-kafka-source-e7b94c18-83a7-48b6-b4ca-aaf4123e5181-373237678-driver-0] Connection to node 0 (pd-master/10.67.22.162:9092) could not be established. Broker may not be available.\n",
      "22/09/14 21:57:51 WARN NetworkClient: [Consumer clientId=consumer-spark-kafka-source-e7b94c18-83a7-48b6-b4ca-aaf4123e5181-373237678-driver-0-1, groupId=spark-kafka-source-e7b94c18-83a7-48b6-b4ca-aaf4123e5181-373237678-driver-0] Connection to node 0 (pd-master/10.67.22.162:9092) could not be established. Broker may not be available.\n",
      "22/09/14 21:57:52 WARN NetworkClient: [Consumer clientId=consumer-spark-kafka-source-e7b94c18-83a7-48b6-b4ca-aaf4123e5181-373237678-driver-0-1, groupId=spark-kafka-source-e7b94c18-83a7-48b6-b4ca-aaf4123e5181-373237678-driver-0] Connection to node 0 (pd-master/10.67.22.162:9092) could not be established. Broker may not be available.\n",
      "22/09/14 21:57:53 WARN NetworkClient: [Consumer clientId=consumer-spark-kafka-source-e7b94c18-83a7-48b6-b4ca-aaf4123e5181-373237678-driver-0-1, groupId=spark-kafka-source-e7b94c18-83a7-48b6-b4ca-aaf4123e5181-373237678-driver-0] Connection to node 0 (pd-master/10.67.22.162:9092) could not be established. Broker may not be available.\n",
      "22/09/14 21:57:54 WARN NetworkClient: [Consumer clientId=consumer-spark-kafka-source-e7b94c18-83a7-48b6-b4ca-aaf4123e5181-373237678-driver-0-1, groupId=spark-kafka-source-e7b94c18-83a7-48b6-b4ca-aaf4123e5181-373237678-driver-0] Connection to node 0 (pd-master/10.67.22.162:9092) could not be established. Broker may not be available.\n",
      "22/09/14 21:57:55 WARN NetworkClient: [Consumer clientId=consumer-spark-kafka-source-e7b94c18-83a7-48b6-b4ca-aaf4123e5181-373237678-driver-0-1, groupId=spark-kafka-source-e7b94c18-83a7-48b6-b4ca-aaf4123e5181-373237678-driver-0] Connection to node 0 (pd-master/10.67.22.162:9092) could not be established. Broker may not be available.\n",
      "22/09/14 21:57:56 WARN NetworkClient: [Consumer clientId=consumer-spark-kafka-source-e7b94c18-83a7-48b6-b4ca-aaf4123e5181-373237678-driver-0-1, groupId=spark-kafka-source-e7b94c18-83a7-48b6-b4ca-aaf4123e5181-373237678-driver-0] Connection to node 0 (pd-master/10.67.22.162:9092) could not be established. Broker may not be available.\n",
      "22/09/14 21:57:57 WARN NetworkClient: [Consumer clientId=consumer-spark-kafka-source-e7b94c18-83a7-48b6-b4ca-aaf4123e5181-373237678-driver-0-1, groupId=spark-kafka-source-e7b94c18-83a7-48b6-b4ca-aaf4123e5181-373237678-driver-0] Connection to node 0 (pd-master/10.67.22.162:9092) could not be established. Broker may not be available.\n",
      "22/09/14 21:57:58 WARN NetworkClient: [Consumer clientId=consumer-spark-kafka-source-e7b94c18-83a7-48b6-b4ca-aaf4123e5181-373237678-driver-0-1, groupId=spark-kafka-source-e7b94c18-83a7-48b6-b4ca-aaf4123e5181-373237678-driver-0] Connection to node 0 (pd-master/10.67.22.162:9092) could not be established. Broker may not be available.\n",
      "22/09/14 21:57:59 WARN NetworkClient: [Consumer clientId=consumer-spark-kafka-source-e7b94c18-83a7-48b6-b4ca-aaf4123e5181-373237678-driver-0-1, groupId=spark-kafka-source-e7b94c18-83a7-48b6-b4ca-aaf4123e5181-373237678-driver-0] Connection to node 0 (pd-master/10.67.22.162:9092) could not be established. Broker may not be available.\n",
      "22/09/14 21:58:00 WARN NetworkClient: [Consumer clientId=consumer-spark-kafka-source-e7b94c18-83a7-48b6-b4ca-aaf4123e5181-373237678-driver-0-1, groupId=spark-kafka-source-e7b94c18-83a7-48b6-b4ca-aaf4123e5181-373237678-driver-0] Connection to node 0 (pd-master/10.67.22.162:9092) could not be established. Broker may not be available.\n",
      "22/09/14 21:58:01 WARN NetworkClient: [Consumer clientId=consumer-spark-kafka-source-e7b94c18-83a7-48b6-b4ca-aaf4123e5181-373237678-driver-0-1, groupId=spark-kafka-source-e7b94c18-83a7-48b6-b4ca-aaf4123e5181-373237678-driver-0] Connection to node 0 (pd-master/10.67.22.162:9092) could not be established. Broker may not be available.\n",
      "22/09/14 21:58:02 WARN NetworkClient: [Consumer clientId=consumer-spark-kafka-source-e7b94c18-83a7-48b6-b4ca-aaf4123e5181-373237678-driver-0-1, groupId=spark-kafka-source-e7b94c18-83a7-48b6-b4ca-aaf4123e5181-373237678-driver-0] Connection to node 0 (pd-master/10.67.22.162:9092) could not be established. Broker may not be available.\n",
      "22/09/14 21:58:03 WARN NetworkClient: [Consumer clientId=consumer-spark-kafka-source-e7b94c18-83a7-48b6-b4ca-aaf4123e5181-373237678-driver-0-1, groupId=spark-kafka-source-e7b94c18-83a7-48b6-b4ca-aaf4123e5181-373237678-driver-0] Connection to node 0 (pd-master/10.67.22.162:9092) could not be established. Broker may not be available.\n",
      "22/09/14 21:58:04 WARN NetworkClient: [Consumer clientId=consumer-spark-kafka-source-e7b94c18-83a7-48b6-b4ca-aaf4123e5181-373237678-driver-0-1, groupId=spark-kafka-source-e7b94c18-83a7-48b6-b4ca-aaf4123e5181-373237678-driver-0] Connection to node 0 (pd-master/10.67.22.162:9092) could not be established. Broker may not be available.\n",
      "22/09/14 21:58:05 WARN NetworkClient: [Consumer clientId=consumer-spark-kafka-source-e7b94c18-83a7-48b6-b4ca-aaf4123e5181-373237678-driver-0-1, groupId=spark-kafka-source-e7b94c18-83a7-48b6-b4ca-aaf4123e5181-373237678-driver-0] Connection to node 0 (pd-master/10.67.22.162:9092) could not be established. Broker may not be available.\n",
      "22/09/14 21:58:06 WARN NetworkClient: [Consumer clientId=consumer-spark-kafka-source-e7b94c18-83a7-48b6-b4ca-aaf4123e5181-373237678-driver-0-1, groupId=spark-kafka-source-e7b94c18-83a7-48b6-b4ca-aaf4123e5181-373237678-driver-0] Connection to node 0 (pd-master/10.67.22.162:9092) could not be established. Broker may not be available.\n",
      "22/09/14 21:58:07 WARN NetworkClient: [Consumer clientId=consumer-spark-kafka-source-e7b94c18-83a7-48b6-b4ca-aaf4123e5181-373237678-driver-0-1, groupId=spark-kafka-source-e7b94c18-83a7-48b6-b4ca-aaf4123e5181-373237678-driver-0] Connection to node 0 (pd-master/10.67.22.162:9092) could not be established. Broker may not be available.\n"
     ]
    }
   ],
   "source": [
    "df.writeStream\\\n",
    "    .foreachBatch(batch_proc)\\\n",
    "    .start()\\\n",
    "    .awaitTermination()"
   ]
  },
  {
   "cell_type": "code",
   "execution_count": 62,
   "id": "545eda73",
   "metadata": {},
   "outputs": [
    {
     "name": "stderr",
     "output_type": "stream",
     "text": [
      "ERROR:kafka.conn:Connect attempt to <BrokerConnection node_id=0 host=pd-master:9092 <connecting> [IPv4 ('10.67.22.162', 9092)]> returned error 111. Disconnecting.\n",
      "WARNING:kafka.client:Node 0 connection failed -- refreshing metadata\n",
      "ERROR:kafka.conn:Connect attempt to <BrokerConnection node_id=0 host=pd-master:9092 <connecting> [IPv4 ('10.67.22.162', 9092)]> returned error 111. Disconnecting.\n",
      "WARNING:kafka.client:Node 0 connection failed -- refreshing metadata\n",
      "ERROR:kafka.conn:Connect attempt to <BrokerConnection node_id=0 host=pd-master:9092 <connecting> [IPv4 ('10.67.22.162', 9092)]> returned error 111. Disconnecting.\n",
      "WARNING:kafka.client:Node 0 connection failed -- refreshing metadata\n",
      "ERROR:kafka.conn:Connect attempt to <BrokerConnection node_id=0 host=pd-master:9092 <connecting> [IPv4 ('10.67.22.162', 9092)]> returned error 111. Disconnecting.\n",
      "WARNING:kafka.client:Node 0 connection failed -- refreshing metadata\n"
     ]
    }
   ],
   "source": [
    "spark.stop()"
   ]
  },
  {
   "cell_type": "code",
   "execution_count": null,
   "id": "bd57ac6c",
   "metadata": {},
   "outputs": [],
   "source": []
  },
  {
   "cell_type": "code",
   "execution_count": null,
   "id": "5edd66e4",
   "metadata": {},
   "outputs": [],
   "source": []
  },
  {
   "cell_type": "code",
   "execution_count": null,
   "id": "cfb67e1f",
   "metadata": {},
   "outputs": [],
   "source": []
  }
 ],
 "metadata": {
  "kernelspec": {
   "display_name": "Python 3 (ipykernel)",
   "language": "python",
   "name": "python3"
  },
  "language_info": {
   "codemirror_mode": {
    "name": "ipython",
    "version": 3
   },
   "file_extension": ".py",
   "mimetype": "text/x-python",
   "name": "python",
   "nbconvert_exporter": "python",
   "pygments_lexer": "ipython3",
   "version": "3.9.12"
  }
 },
 "nbformat": 4,
 "nbformat_minor": 5
}
