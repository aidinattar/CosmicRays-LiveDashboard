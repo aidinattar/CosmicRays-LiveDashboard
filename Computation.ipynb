{
 "cells": [
  {
   "cell_type": "markdown",
   "id": "6165bdf4",
   "metadata": {},
   "source": [
    "# MAPD mod. B - Final Project\n",
    "##  Streaming processing of cosmic rays using Drift Tubes detectors\n",
    "\n",
    "The goal of this project is to reproduce a real-time processing of real data collected in a particle physics detector and publish the results in a\n",
    "dashboard for live monitoring.\n",
    "\n",
    "### Students:\n",
    "    - Aidin Attar - 2048654\n",
    "    - Ema Baci - 2050726\n",
    "    - Mariam Hergnyan - 2040478"
   ]
  },
  {
   "cell_type": "markdown",
   "id": "8b8673ad",
   "metadata": {},
   "source": [
    "## Part 2 - Computation\n",
    "In this part we take the data from Kafka producer and use Spark to process it."
   ]
  },
  {
   "cell_type": "code",
   "execution_count": 1,
   "id": "b5716d54",
   "metadata": {},
   "outputs": [],
   "source": [
    "import time\n",
    "import findspark\n",
    "import pyspark\n",
    "import json\n",
    "\n",
    "import numpy  as np\n",
    "import pandas as pd\n",
    "\n",
    "from kafka                import KafkaProducer\n",
    "from kafka.admin          import KafkaAdminClient, NewTopic\n",
    " \n",
    "from pyspark.sql           import functions as F\n",
    "from pyspark.sql           import SparkSession\n",
    "from pyspark.streaming     import StreamingContext\n",
    "from pyspark.sql.types     import StructField, StructType, DoubleType, IntegerType\n",
    "from pyspark.sql.functions import from_json, col, when, count, struct, collect_list\n",
    "from pyspark               import SparkConf, SparkContext\n",
    "from pyspark.sql.types     import StringType "
   ]
  },
  {
   "cell_type": "markdown",
   "id": "aaf6badc",
   "metadata": {},
   "source": [
    "### Spark setup"
   ]
  },
  {
   "cell_type": "code",
   "execution_count": 2,
   "id": "6d0d2208",
   "metadata": {},
   "outputs": [],
   "source": [
    "#initialize all the required variables\n",
    "findspark.init('/usr/local/spark')"
   ]
  },
  {
   "cell_type": "code",
   "execution_count": 6,
   "id": "a7557507",
   "metadata": {
    "scrolled": false
   },
   "outputs": [
    {
     "data": {
      "text/html": [
       "\n",
       "            <div>\n",
       "                <p><b>SparkSession - in-memory</b></p>\n",
       "                \n",
       "        <div>\n",
       "            <p><b>SparkContext</b></p>\n",
       "\n",
       "            <p><a href=\"http://pd-master:4041\">Spark UI</a></p>\n",
       "\n",
       "            <dl>\n",
       "              <dt>Version</dt>\n",
       "                <dd><code>v3.3.0</code></dd>\n",
       "              <dt>Master</dt>\n",
       "                <dd><code>spark://pd-master:7077</code></dd>\n",
       "              <dt>AppName</dt>\n",
       "                <dd><code>Project_CosmicRays_Dashboard_application</code></dd>\n",
       "            </dl>\n",
       "        </div>\n",
       "        \n",
       "            </div>\n",
       "        "
      ],
      "text/plain": [
       "<pyspark.sql.session.SparkSession at 0x7f933ce2f3a0>"
      ]
     },
     "execution_count": 6,
     "metadata": {},
     "output_type": "execute_result"
    }
   ],
   "source": [
    "#start session - specify port, application name, and configuration settings.\n",
    "\n",
    "spark = SparkSession.builder\\\n",
    "        .master(\"spark://pd-master:7077\")\\\n",
    "        .appName(\"Project_CosmicRays_Dashboard_application\")\\\n",
    "        .config(\"spark.sql.execution.arrow.pyspark.enabled\", \"true\")\\\n",
    "        .config(\"spark.sql.execution.arrow.pyspark.fallback.enabled\", \"false\")\\\n",
    "        .config(\"spark.sql.streaming.forceDeleteTempCheckpointLocation\", \"true\")\\\n",
    "        .config(\"spark.jars.packages\",\"org.apache.spark:spark-sql-kafka-0-10_2.12:3.1.2\")\\\n",
    "        .config(\"spark.ui.port\", \"4041\")\\\n",
    "        .getOrCreate()\n",
    "\n",
    "spark.sparkContext.setLogLevel(\"ERROR\")\n",
    "\n",
    "# default parallelism\n",
    "#spark.conf.set(\"spark.sql.shuffle.partitions\", spark.sparkContext.defaultParallelism)\n",
    "\n",
    "spark"
   ]
  },
  {
   "cell_type": "markdown",
   "id": "a5f2e52c",
   "metadata": {},
   "source": [
    "### Kafka Setup"
   ]
  },
  {
   "cell_type": "code",
   "execution_count": 7,
   "id": "8523564e",
   "metadata": {},
   "outputs": [],
   "source": [
    "KAFKA_BOOTSTRAP_SERVERS = 'pd-slave3:9092'\n",
    "\n",
    "producer    = KafkaProducer(bootstrap_servers=KAFKA_BOOTSTRAP_SERVERS)\n",
    "kafka_admin = KafkaAdminClient(bootstrap_servers=KAFKA_BOOTSTRAP_SERVERS)"
   ]
  },
  {
   "cell_type": "code",
   "execution_count": 8,
   "id": "3d81a24e",
   "metadata": {},
   "outputs": [
    {
     "data": {
      "text/plain": [
       "['topic_results', 'topic_stream', '__consumer_offsets']"
      ]
     },
     "execution_count": 8,
     "metadata": {},
     "output_type": "execute_result"
    }
   ],
   "source": [
    "kafka_admin.list_topics()"
   ]
  },
  {
   "cell_type": "code",
   "execution_count": 9,
   "id": "447ad826",
   "metadata": {},
   "outputs": [
    {
     "name": "stdout",
     "output_type": "stream",
     "text": [
      "root\n",
      " |-- key: binary (nullable = true)\n",
      " |-- value: binary (nullable = true)\n",
      " |-- topic: string (nullable = true)\n",
      " |-- partition: integer (nullable = true)\n",
      " |-- offset: long (nullable = true)\n",
      " |-- timestamp: timestamp (nullable = true)\n",
      " |-- timestampType: integer (nullable = true)\n",
      "\n"
     ]
    }
   ],
   "source": [
    "# input dataframe representing the stream of input lines from kafka\n",
    "# by connecting to the appropriate servers and topic\n",
    "\n",
    "inputDF = spark.readStream\\\n",
    "        .format(\"kafka\")\\\n",
    "        .option(\"kafka.bootstrap.servers\", KAFKA_BOOTSTRAP_SERVERS)\\\n",
    "        .option('subscribe', 'topic_stream')\\\n",
    "        .load()\n",
    "\n",
    "inputDF.printSchema()"
   ]
  },
  {
   "cell_type": "code",
   "execution_count": 10,
   "id": "d0fa0580",
   "metadata": {},
   "outputs": [],
   "source": [
    "# the schema of the json data format used to create the messages\n",
    "\n",
    "schema = StructType(\n",
    "        [\n",
    "                StructField(\"HEAD\",        StringType()),\n",
    "                StructField(\"FPGA\",        StringType()),\n",
    "                StructField(\"TDC_CHANNEL\", StringType()),\n",
    "                StructField(\"ORBIT_CNT\",   StringType()),\n",
    "                StructField(\"BX_COUNTER\",  StringType()),\n",
    "                StructField(\"TDC_MEAS\",    StringType())\n",
    "        ]\n",
    "    )"
   ]
  },
  {
   "cell_type": "code",
   "execution_count": 11,
   "id": "408c15cf",
   "metadata": {},
   "outputs": [
    {
     "name": "stdout",
     "output_type": "stream",
     "text": [
      "root\n",
      " |-- value: struct (nullable = true)\n",
      " |    |-- HEAD: string (nullable = true)\n",
      " |    |-- FPGA: string (nullable = true)\n",
      " |    |-- TDC_CHANNEL: string (nullable = true)\n",
      " |    |-- ORBIT_CNT: string (nullable = true)\n",
      " |    |-- BX_COUNTER: string (nullable = true)\n",
      " |    |-- TDC_MEAS: string (nullable = true)\n",
      "\n"
     ]
    }
   ],
   "source": [
    "# a new DF is created from the previous by using the pyspark.sql functions\n",
    "\n",
    "jsonDF = inputDF.select(from_json(col(\"value\").alias('value').cast(\"string\"), schema).alias('value'))\n",
    "\n",
    "jsonDF.printSchema()"
   ]
  },
  {
   "cell_type": "code",
   "execution_count": 12,
   "id": "348f6b5f",
   "metadata": {},
   "outputs": [
    {
     "name": "stdout",
     "output_type": "stream",
     "text": [
      "root\n",
      " |-- HEAD: string (nullable = true)\n",
      " |-- FPGA: string (nullable = true)\n",
      " |-- TDC_CHANNEL: string (nullable = true)\n",
      " |-- ORBIT_CNT: string (nullable = true)\n",
      " |-- BX_COUNTER: string (nullable = true)\n",
      " |-- TDC_MEAS: string (nullable = true)\n",
      "\n"
     ]
    }
   ],
   "source": [
    "# flatten the jsonDF into a proper DataFrame\n",
    "\n",
    "flatDF = jsonDF.select(\"value.HEAD\", \n",
    "                       \"value.FPGA\", \n",
    "                       \"value.TDC_CHANNEL\",\n",
    "                       \"value.ORBIT_CNT\",\n",
    "                       \"value.BX_COUNTER\",\n",
    "                       \"value.TDC_MEAS\")\n",
    "\n",
    "flatDF.printSchema()"
   ]
  },
  {
   "cell_type": "code",
   "execution_count": 13,
   "id": "8ee8ea69",
   "metadata": {},
   "outputs": [
    {
     "name": "stdout",
     "output_type": "stream",
     "text": [
      "root\n",
      " |-- HEAD: string (nullable = true)\n",
      " |-- FPGA: string (nullable = true)\n",
      " |-- TDC_CHANNEL: string (nullable = true)\n",
      " |-- ORBIT_CNT: string (nullable = true)\n",
      " |-- BX_COUNTER: string (nullable = true)\n",
      " |-- TDC_MEAS: string (nullable = true)\n",
      " |-- CHAMBER: integer (nullable = true)\n",
      "\n"
     ]
    }
   ],
   "source": [
    "# data-cleansing\n",
    "df = flatDF.where(col(\"HEAD\")==2)\n",
    "\n",
    "# division of dataframe between chambers\n",
    "df = df.withColumn('CHAMBER',\n",
    "        when(( col( 'FPGA' ) == 0 ) & ( col( 'TDC_CHANNEL' ) >=  0 ) & ( col( 'TDC_CHANNEL' ) <  64  ), 0) \\\n",
    "       .when(( col( 'FPGA' ) == 0 ) & ( col( 'TDC_CHANNEL' ) >= 64 ) & ( col( 'TDC_CHANNEL' ) <= 127 ), 1) \\\n",
    "       .when(( col( 'FPGA' ) == 1 ) & ( col( 'TDC_CHANNEL' ) >=  0 ) & ( col( 'TDC_CHANNEL' ) <  64  ), 2) \\\n",
    "       .when(( col( 'FPGA' ) == 1 ) & ( col( 'TDC_CHANNEL' ) >= 64 ) & ( col( 'TDC_CHANNEL' ) <= 127 ), 3) \\\n",
    "       .when(( col( 'FPGA' ) == 1 ) &                                  ( col( 'TDC_CHANNEL' ) == 128 ), 4) \\\n",
    "       .otherwise(None))                                                                                   \\\n",
    "       .filter( col( 'CHAMBER' ).isNotNull() )\n",
    "\n",
    "df.printSchema()"
   ]
  },
  {
   "cell_type": "code",
   "execution_count": 14,
   "id": "c4d971d9",
   "metadata": {},
   "outputs": [],
   "source": [
    "# scintillator time offset by Chamber\n",
    "# TODO compute ABSOLUTETIME and DRIFTIME\n",
    "time_offset_by_chamber = {\n",
    "0: 95.0 - 1.1, # Ch 0\n",
    "1: 95.0 + 6.4, # Ch 1\n",
    "2: 95.0 + 0.5, # Ch 2\n",
    "3: 95.0 - 2.6, # Ch 3\n",
    "}"
   ]
  },
  {
   "cell_type": "code",
   "execution_count": 16,
   "id": "144ff0bc",
   "metadata": {},
   "outputs": [],
   "source": [
    "# json structure for the message to be sent as result\n",
    "\n",
    "msg_json = {\n",
    "    'time'     : .0,\n",
    "    'epoch_id' :  0,\n",
    "    'hits'     :  0,\n",
    "    'CH0' : {'total_hits'  : 0,\n",
    "             'histo_CH'    : {'bin_edges'  : [],\n",
    "                              'bin_counts' : []\n",
    "                             },\n",
    "             'histo_ORB'   : {'bin_edges'  : [],\n",
    "                              'bin_counts' : []\n",
    "                             },\n",
    "             'histo_SC'    : {'bin_edges'  : [],\n",
    "                              'bin_counts' : []\n",
    "                             }\n",
    "            },\n",
    "    'CH1' : {'total_hits'  : 0,\n",
    "             'histo_CH'    : {'bin_edges'  : [],\n",
    "                              'bin_counts' : []\n",
    "                             },\n",
    "             'histo_ORB'   : {'bin_edges'  : [],\n",
    "                              'bin_counts' : []\n",
    "                             },\n",
    "             'histo_SC'    : {'bin_edges'  : [],\n",
    "                              'bin_counts' : []\n",
    "                             }\n",
    "            },\n",
    "    'CH2' : {'total_hits'  : 0,\n",
    "             'histo_CH'    : {'bin_edges'  : [],\n",
    "                              'bin_counts' : []\n",
    "                             },\n",
    "             'histo_ORB'   : {'bin_edges'  : [],\n",
    "                              'bin_counts' : []\n",
    "                             },\n",
    "             'histo_SC'    : {'bin_edges'  : [],\n",
    "                              'bin_counts' : []\n",
    "                             }\n",
    "            },\n",
    "    'CH3' : {'total_hits'  : 0,\n",
    "             'histo_CH'    : {'bin_edges'  : [],\n",
    "                              'bin_counts' : []\n",
    "                             },\n",
    "             'histo_ORB'   : {'bin_edges'  : [],\n",
    "                              'bin_counts' : []\n",
    "                             },\n",
    "             'histo_SC'    : {'bin_edges'  : [],\n",
    "                              'bin_counts' : []\n",
    "                             }\n",
    "            },\n",
    "}"
   ]
  },
  {
   "cell_type": "code",
   "execution_count": 17,
   "id": "47ddd38a",
   "metadata": {},
   "outputs": [],
   "source": [
    "def batch_proc(df, epoch_id):   \n",
    "\n",
    "    '''\n",
    "    Function for the batch processing of the data.\n",
    "    The processing consists in retrieving\n",
    "    the following informations:\n",
    "        1. total number of processed hits, \n",
    "           post-clensing (1 value per batch)\n",
    "        2. total number of processed hits,\n",
    "           post-clensing, per chamber (4 values per batch)\n",
    "        3. histogram of the counts of active TDC_CHANNEL,\n",
    "           per chamber (4 arrays per batch)\n",
    "        4. histogram of the total number of active\n",
    "           TDC_CHANNEL in each ORBIT_CNT, per chamber \n",
    "           (4 arrays per batch)\n",
    "        5. histogram of the counts of active TDC_CHANNEL,\n",
    "           per chamber, ONLY for those orbits with at least\n",
    "           one scintillator signal in it (4 arrays per batch)\n",
    "        6. histogram of the DRIFTIME, per chamber \n",
    "           (4 arrays per batch) TODO\n",
    "    \n",
    "    Inputs:\n",
    "        - df: spark dataframe with the data\n",
    "        - epoch_id: batch index    \n",
    "    '''\n",
    "\n",
    "    start = time.time()\n",
    "    \n",
    "    msg_json['epoch_id']    = epoch_id\n",
    "\n",
    "    #repartition the df DataFrame to 15 parts - and persist in cache to speedup calculations\n",
    "    df.coalesce(15)\n",
    "    df.persist()\n",
    "\n",
    "    # total number of processed hits\n",
    "    # post-cleansing\n",
    "    start_1 = time.time()\n",
    "    total_hits = df.filter(col('CHAMBER') != 4)\\\n",
    "                   .count()\n",
    "    stop_1 = time.time() - start_1\n",
    "\n",
    "    # total number of processed hits,\n",
    "    # post-clensing, per chamber\n",
    "    start_2 = time.time()\n",
    "    df_counts = df.filter(col('CHAMBER') != 4) \\\n",
    "                  .groupBy(   'CHAMBER')       \\\n",
    "                  .count()                     \\\n",
    "                  .withColumnRenamed('count', \n",
    "                                     'ch_hits')\n",
    "    stop_2 = time.time() - start_2\n",
    "\n",
    "\n",
    "    # histogram of the counts of active\n",
    "    # TDC_CHANNEL, per chamber.\n",
    "    start_3 = time.time()\n",
    "    df_counts_ch = df.filter(col('CHAMBER') != 4)            \\\n",
    "                     .groupBy('TDC_CHANNEL', 'CHAMBER')      \\\n",
    "                     .count()                                \\\n",
    "                     .groupBy('CHAMBER')                     \\\n",
    "                     .agg(struct(collect_list('TDC_CHANNEL') \\\n",
    "                                       .alias(  'bin_edges'),\n",
    "                                 collect_list(      'count') \\\n",
    "                                       .alias(     'counts'),\n",
    "                                )                            \\\n",
    "                          .alias('histo_CH')\n",
    "                         )\n",
    "    stop_3 = time.time() - start_3\n",
    "\n",
    "    # histogram of the total number of active\n",
    "    # TDC_CHANNEL in each ORBIT_CNT per chamber\n",
    "    start_4 = time.time()\n",
    "    df_counts_orb = df.filter(col('CHAMBER') != 4)                    \\\n",
    "                      .groupBy('ORBIT_CNT', 'CHAMBER')                \\\n",
    "                      .agg(F.countDistinct(\"TDC_CHANNEL\"))            \\\n",
    "                      .groupBy('count(TDC_CHANNEL)', 'CHAMBER')       \\\n",
    "                      .count()                                        \\\n",
    "                      .groupBy('CHAMBER')                             \\\n",
    "                      .agg(struct(collect_list('count(TDC_CHANNEL)')  \\\n",
    "                                        .alias(         'bin_edges'),\n",
    "                                  collect_list(             'count') \\\n",
    "                                        .alias(            'counts'),\n",
    "                                 )                                    \\\n",
    "                           .alias('histo_ORB')\n",
    "                          )\n",
    "    stop_4 = time.time() - start_4\n",
    "\n",
    "\n",
    "    # Histogram of the count of active TDC_CHANNEL,\n",
    "    # per chamber, only for those orbits with\n",
    "    # at least one scintillator in it\n",
    "    \n",
    "    # revision needed: not sure about this\n",
    "    start_5 = time.time()\n",
    "    list_scint = df.filter(col('CHAMBER') == 4)   \\\n",
    "                   .select('ORBIT_CNT')           \\\n",
    "\n",
    "    df_counts_sc = df.filter(col('CHAMBER') != 4 )                  \\\n",
    "                     .join(list_scint, on=\"ORBIT_CNT\", how=\"inner\") \\\n",
    "                     .groupBy(  'TDC_CHANNEL', 'CHAMBER'       )    \\\n",
    "                     .count()                                       \\\n",
    "                     .groupBy('CHAMBER')                            \\\n",
    "                     .agg(struct(collect_list('TDC_CHANNEL')        \\\n",
    "                                         .alias('bin_edges'),\n",
    "                                 collect_list(      'count')        \\\n",
    "                                         .alias(   'counts'))       \\\n",
    "                          .alias('histo_SC')\n",
    "                         )\n",
    "    stop_5 = time.time() - start_5\n",
    "\n",
    "    # dataframe with results joined\n",
    "    start_6 = time.time()\n",
    "    df_res = df_counts.join(df_counts_ch,  on='CHAMBER') \\\n",
    "                      .join(df_counts_orb, on='CHAMBER') \\\n",
    "                      .join(df_counts_sc,  on='CHAMBER') \\\n",
    "                      .sort('CHAMBER')                   \\\n",
    "                      .collect()\n",
    "    stop_6 = time.time() - start_6\n",
    "\n",
    "\n",
    "    start_6 = time.time()\n",
    "    msg_json['hits'] = total_hits\n",
    "    for i in range(len(df_res)):\n",
    "        msg_json[f'CH{i}']['total_hits']               = df_res[i][  'ch_hits']\n",
    "        msg_json[f'CH{i}'][  'histo_CH'][ 'bin_edges'] = df_res[i][ 'histo_CH']['bin_edges']\n",
    "        msg_json[f'CH{i}'][  'histo_CH']['bin_counts'] = df_res[i][ 'histo_CH'][   'counts']\n",
    "        msg_json[f'CH{i}'][ 'histo_ORB'][ 'bin_edges'] = df_res[i]['histo_ORB']['bin_edges']\n",
    "        msg_json[f'CH{i}'][ 'histo_ORB']['bin_counts'] = df_res[i]['histo_ORB'][   'counts']\n",
    "        msg_json[f'CH{i}'][  'histo_SC'][ 'bin_edges'] = df_res[i][ 'histo_SC']['bin_edges']\n",
    "        msg_json[f'CH{i}'][  'histo_SC']['bin_counts'] = df_res[i][ 'histo_SC'][   'counts']\n",
    "    stop_6 = time.time() - start_6\n",
    "\n",
    "    end = time.time()\n",
    "    \n",
    "    # get the execution time\n",
    "    msg_json['time'] = end - start\n",
    "    \n",
    "    print(f'Time 1: {stop_1}\\nTime 2: {stop_2}\\nTime 3: {stop_3}\\nTime 4: {stop_4}\\nTime 5: {stop_5}\\nTime 6: {stop_6}\\n', )\n",
    "    \n",
    "    producer.send('topic_results', json.dumps(msg_json).encode('utf-8'))\n",
    "    producer.flush()\n",
    "\n",
    "    df.unpersist()\n",
    "    pass"
   ]
  },
  {
   "cell_type": "code",
   "execution_count": 18,
   "id": "e4de2c0f",
   "metadata": {},
   "outputs": [
    {
     "data": {
      "text/plain": [
       "True"
      ]
     },
     "execution_count": 18,
     "metadata": {},
     "output_type": "execute_result"
    }
   ],
   "source": [
    "df.isStreaming"
   ]
  },
  {
   "cell_type": "code",
   "execution_count": 19,
   "id": "0d920458",
   "metadata": {
    "scrolled": true
   },
   "outputs": [
    {
     "name": "stderr",
     "output_type": "stream",
     "text": [
      "                                                                                \r"
     ]
    },
    {
     "name": "stdout",
     "output_type": "stream",
     "text": [
      "Time 1: 11.879077434539795\n",
      "Time 2: 0.06274032592773438\n",
      "Time 3: 0.12754607200622559\n",
      "Time 4: 0.1378319263458252\n",
      "Time 5: 0.12026739120483398\n",
      "Time 6: 4.291534423828125e-06\n",
      "\n"
     ]
    },
    {
     "name": "stderr",
     "output_type": "stream",
     "text": [
      "                                                                                \r"
     ]
    },
    {
     "name": "stdout",
     "output_type": "stream",
     "text": [
      "Time 1: 2.7541396617889404\n",
      "Time 2: 0.02556443214416504\n",
      "Time 3: 0.045014142990112305\n",
      "Time 4: 0.07655119895935059\n",
      "Time 5: 0.07497143745422363\n",
      "Time 6: 0.0001308917999267578\n",
      "\n"
     ]
    },
    {
     "name": "stderr",
     "output_type": "stream",
     "text": [
      "                                                                                \r"
     ]
    },
    {
     "name": "stdout",
     "output_type": "stream",
     "text": [
      "Time 1: 1.3464953899383545\n",
      "Time 2: 0.06503963470458984\n",
      "Time 3: 0.19674181938171387\n",
      "Time 4: 0.05465507507324219\n",
      "Time 5: 0.06048226356506348\n",
      "Time 6: 0.00014519691467285156\n",
      "\n"
     ]
    },
    {
     "name": "stderr",
     "output_type": "stream",
     "text": [
      "                                                                                \r"
     ]
    },
    {
     "name": "stdout",
     "output_type": "stream",
     "text": [
      "Time 1: 0.7933800220489502\n",
      "Time 2: 0.03138303756713867\n",
      "Time 3: 0.05147528648376465\n",
      "Time 4: 0.055440664291381836\n",
      "Time 5: 0.07463240623474121\n",
      "Time 6: 0.00014853477478027344\n",
      "\n"
     ]
    },
    {
     "name": "stderr",
     "output_type": "stream",
     "text": [
      "                                                                                \r"
     ]
    },
    {
     "name": "stdout",
     "output_type": "stream",
     "text": [
      "Time 1: 0.48408961296081543\n",
      "Time 2: 0.01795196533203125\n",
      "Time 3: 0.036212921142578125\n",
      "Time 4: 0.05143880844116211\n",
      "Time 5: 0.06176257133483887\n",
      "Time 6: 0.00013113021850585938\n",
      "\n"
     ]
    },
    {
     "name": "stderr",
     "output_type": "stream",
     "text": [
      "                                                                                \r"
     ]
    },
    {
     "name": "stdout",
     "output_type": "stream",
     "text": [
      "Time 1: 0.4280698299407959\n",
      "Time 2: 0.021559476852416992\n",
      "Time 3: 0.03947257995605469\n",
      "Time 4: 0.05121040344238281\n",
      "Time 5: 0.0516505241394043\n",
      "Time 6: 0.0001125335693359375\n",
      "\n"
     ]
    },
    {
     "name": "stderr",
     "output_type": "stream",
     "text": [
      "                                                                                \r"
     ]
    },
    {
     "name": "stdout",
     "output_type": "stream",
     "text": [
      "Time 1: 0.34027838706970215\n",
      "Time 2: 0.022612333297729492\n",
      "Time 3: 0.03624153137207031\n",
      "Time 4: 0.04689455032348633\n",
      "Time 5: 0.06493258476257324\n",
      "Time 6: 0.00011801719665527344\n",
      "\n"
     ]
    },
    {
     "name": "stderr",
     "output_type": "stream",
     "text": [
      "                                                                                \r"
     ]
    },
    {
     "name": "stdout",
     "output_type": "stream",
     "text": [
      "Time 1: 0.3160555362701416\n",
      "Time 2: 0.03076028823852539\n",
      "Time 3: 0.0491795539855957\n",
      "Time 4: 0.07626748085021973\n",
      "Time 5: 0.06617236137390137\n",
      "Time 6: 0.00011420249938964844\n",
      "\n"
     ]
    },
    {
     "name": "stderr",
     "output_type": "stream",
     "text": [
      "                                                                                \r"
     ]
    },
    {
     "name": "stdout",
     "output_type": "stream",
     "text": [
      "Time 1: 0.4010913372039795\n",
      "Time 2: 0.017963171005249023\n",
      "Time 3: 0.03471708297729492\n",
      "Time 4: 0.05528998374938965\n",
      "Time 5: 0.059076547622680664\n",
      "Time 6: 0.0001239776611328125\n",
      "\n"
     ]
    },
    {
     "name": "stderr",
     "output_type": "stream",
     "text": [
      "                                                                                \r"
     ]
    },
    {
     "name": "stdout",
     "output_type": "stream",
     "text": [
      "Time 1: 0.338608980178833\n",
      "Time 2: 0.016772985458374023\n",
      "Time 3: 0.04120469093322754\n",
      "Time 4: 0.07669305801391602\n",
      "Time 5: 0.07337164878845215\n",
      "Time 6: 6.246566772460938e-05\n",
      "\n"
     ]
    },
    {
     "name": "stderr",
     "output_type": "stream",
     "text": [
      "                                                                                \r"
     ]
    },
    {
     "name": "stdout",
     "output_type": "stream",
     "text": [
      "Time 1: 0.3228332996368408\n",
      "Time 2: 0.015687227249145508\n",
      "Time 3: 0.03068709373474121\n",
      "Time 4: 0.049278974533081055\n",
      "Time 5: 0.05782318115234375\n",
      "Time 6: 0.00011563301086425781\n",
      "\n"
     ]
    },
    {
     "name": "stderr",
     "output_type": "stream",
     "text": [
      "                                                                                \r"
     ]
    },
    {
     "name": "stdout",
     "output_type": "stream",
     "text": [
      "Time 1: 0.30187344551086426\n",
      "Time 2: 0.02380657196044922\n",
      "Time 3: 0.059302330017089844\n",
      "Time 4: 0.06909751892089844\n",
      "Time 5: 0.05217885971069336\n",
      "Time 6: 0.00012135505676269531\n",
      "\n"
     ]
    },
    {
     "name": "stderr",
     "output_type": "stream",
     "text": [
      "                                                                                \r"
     ]
    },
    {
     "name": "stdout",
     "output_type": "stream",
     "text": [
      "Time 1: 0.25873517990112305\n",
      "Time 2: 0.023079395294189453\n",
      "Time 3: 0.05475044250488281\n",
      "Time 4: 0.0677187442779541\n",
      "Time 5: 0.05062270164489746\n",
      "Time 6: 0.0001232624053955078\n",
      "\n"
     ]
    },
    {
     "name": "stderr",
     "output_type": "stream",
     "text": [
      "                                                                                \r"
     ]
    },
    {
     "name": "stdout",
     "output_type": "stream",
     "text": [
      "Time 1: 0.30518412590026855\n",
      "Time 2: 0.026285409927368164\n",
      "Time 3: 0.03568267822265625\n",
      "Time 4: 0.051247596740722656\n",
      "Time 5: 0.0835573673248291\n",
      "Time 6: 0.00011801719665527344\n",
      "\n"
     ]
    },
    {
     "name": "stderr",
     "output_type": "stream",
     "text": [
      "                                                                                \r"
     ]
    },
    {
     "name": "stdout",
     "output_type": "stream",
     "text": [
      "Time 1: 0.2781679630279541\n",
      "Time 2: 0.020412683486938477\n",
      "Time 3: 0.04200410842895508\n",
      "Time 4: 0.06895256042480469\n",
      "Time 5: 0.07372641563415527\n",
      "Time 6: 9.322166442871094e-05\n",
      "\n"
     ]
    },
    {
     "name": "stderr",
     "output_type": "stream",
     "text": [
      "                                                                                \r"
     ]
    },
    {
     "name": "stdout",
     "output_type": "stream",
     "text": [
      "Time 1: 0.2611877918243408\n",
      "Time 2: 0.015966176986694336\n",
      "Time 3: 0.03229951858520508\n",
      "Time 4: 0.05589461326599121\n",
      "Time 5: 0.04670143127441406\n",
      "Time 6: 9.655952453613281e-05\n",
      "\n"
     ]
    },
    {
     "name": "stderr",
     "output_type": "stream",
     "text": [
      "                                                                                \r"
     ]
    },
    {
     "name": "stdout",
     "output_type": "stream",
     "text": [
      "Time 1: 0.2561299800872803\n",
      "Time 2: 0.018896102905273438\n",
      "Time 3: 0.057534217834472656\n",
      "Time 4: 0.08003544807434082\n",
      "Time 5: 0.08459663391113281\n",
      "Time 6: 0.00010991096496582031\n",
      "\n"
     ]
    },
    {
     "name": "stderr",
     "output_type": "stream",
     "text": [
      "                                                                                \r"
     ]
    },
    {
     "name": "stdout",
     "output_type": "stream",
     "text": [
      "Time 1: 0.22265625\n",
      "Time 2: 0.024880647659301758\n",
      "Time 3: 0.04390859603881836\n",
      "Time 4: 0.06551527976989746\n",
      "Time 5: 0.051796674728393555\n",
      "Time 6: 0.0001239776611328125\n",
      "\n"
     ]
    },
    {
     "name": "stderr",
     "output_type": "stream",
     "text": [
      "                                                                                \r"
     ]
    },
    {
     "name": "stdout",
     "output_type": "stream",
     "text": [
      "Time 1: 0.2700471878051758\n",
      "Time 2: 0.02837085723876953\n",
      "Time 3: 0.06130409240722656\n",
      "Time 4: 0.0738837718963623\n",
      "Time 5: 0.06884431838989258\n",
      "Time 6: 4.0531158447265625e-06\n",
      "\n"
     ]
    },
    {
     "name": "stderr",
     "output_type": "stream",
     "text": [
      "                                                                                \r"
     ]
    },
    {
     "name": "stdout",
     "output_type": "stream",
     "text": [
      "Time 1: 0.2901022434234619\n",
      "Time 2: 0.016474246978759766\n",
      "Time 3: 0.03599190711975098\n",
      "Time 4: 0.04241013526916504\n",
      "Time 5: 0.0447545051574707\n",
      "Time 6: 0.00012230873107910156\n",
      "\n"
     ]
    },
    {
     "name": "stderr",
     "output_type": "stream",
     "text": [
      "                                                                                \r"
     ]
    },
    {
     "name": "stdout",
     "output_type": "stream",
     "text": [
      "Time 1: 0.23072481155395508\n",
      "Time 2: 0.028003931045532227\n",
      "Time 3: 0.036047935485839844\n",
      "Time 4: 0.05065798759460449\n",
      "Time 5: 0.05852627754211426\n",
      "Time 6: 0.00012350082397460938\n",
      "\n"
     ]
    },
    {
     "name": "stderr",
     "output_type": "stream",
     "text": [
      "                                                                                \r"
     ]
    },
    {
     "name": "stdout",
     "output_type": "stream",
     "text": [
      "Time 1: 0.21666502952575684\n",
      "Time 2: 0.023430347442626953\n",
      "Time 3: 0.048310279846191406\n",
      "Time 4: 0.06487655639648438\n",
      "Time 5: 0.05926823616027832\n",
      "Time 6: 0.00010132789611816406\n",
      "\n"
     ]
    },
    {
     "name": "stderr",
     "output_type": "stream",
     "text": [
      "                                                                                \r"
     ]
    },
    {
     "name": "stdout",
     "output_type": "stream",
     "text": [
      "Time 1: 0.23929381370544434\n",
      "Time 2: 0.02383708953857422\n",
      "Time 3: 0.0500798225402832\n",
      "Time 4: 0.08166670799255371\n",
      "Time 5: 0.0624537467956543\n",
      "Time 6: 0.0001220703125\n",
      "\n"
     ]
    },
    {
     "name": "stderr",
     "output_type": "stream",
     "text": [
      "                                                                                \r"
     ]
    },
    {
     "name": "stdout",
     "output_type": "stream",
     "text": [
      "Time 1: 0.21840620040893555\n",
      "Time 2: 0.01404261589050293\n",
      "Time 3: 0.03502821922302246\n",
      "Time 4: 0.0489346981048584\n",
      "Time 5: 0.049330711364746094\n",
      "Time 6: 9.751319885253906e-05\n",
      "\n"
     ]
    },
    {
     "name": "stderr",
     "output_type": "stream",
     "text": [
      "                                                                                \r"
     ]
    },
    {
     "name": "stdout",
     "output_type": "stream",
     "text": [
      "Time 1: 0.20737099647521973\n",
      "Time 2: 0.015205860137939453\n",
      "Time 3: 0.03226518630981445\n",
      "Time 4: 0.044463396072387695\n",
      "Time 5: 0.051193952560424805\n",
      "Time 6: 1.3828277587890625e-05\n",
      "\n",
      "Time 1: 0.23300957679748535\n",
      "Time 2: 0.01407313346862793\n",
      "Time 3: 0.03190350532531738\n",
      "Time 4: 0.04285264015197754\n",
      "Time 5: 0.044466257095336914\n",
      "Time 6: 8.916854858398438e-05\n",
      "\n",
      "Time 1: 0.21127653121948242\n",
      "Time 2: 0.01399374008178711\n",
      "Time 3: 0.053960561752319336\n",
      "Time 4: 0.044558048248291016\n",
      "Time 5: 0.05143857002258301\n",
      "Time 6: 8.535385131835938e-05\n",
      "\n"
     ]
    },
    {
     "name": "stderr",
     "output_type": "stream",
     "text": [
      "                                                                                \r"
     ]
    },
    {
     "name": "stdout",
     "output_type": "stream",
     "text": [
      "Time 1: 0.20990419387817383\n",
      "Time 2: 0.012818098068237305\n",
      "Time 3: 0.02892017364501953\n",
      "Time 4: 0.04673290252685547\n",
      "Time 5: 0.04325580596923828\n",
      "Time 6: 9.274482727050781e-05\n",
      "\n"
     ]
    },
    {
     "name": "stderr",
     "output_type": "stream",
     "text": [
      "                                                                                \r"
     ]
    },
    {
     "name": "stdout",
     "output_type": "stream",
     "text": [
      "Time 1: 0.2008512020111084\n",
      "Time 2: 0.02379584312438965\n",
      "Time 3: 0.04351949691772461\n",
      "Time 4: 0.04888296127319336\n",
      "Time 5: 0.048914194107055664\n",
      "Time 6: 0.00015401840209960938\n",
      "\n"
     ]
    },
    {
     "name": "stderr",
     "output_type": "stream",
     "text": [
      "                                                                                \r"
     ]
    },
    {
     "name": "stdout",
     "output_type": "stream",
     "text": [
      "Time 1: 0.20319867134094238\n",
      "Time 2: 0.012914419174194336\n",
      "Time 3: 0.028734683990478516\n",
      "Time 4: 0.04126906394958496\n",
      "Time 5: 0.04448890686035156\n",
      "Time 6: 9.226799011230469e-05\n",
      "\n",
      "Time 1: 0.16931843757629395\n",
      "Time 2: 0.01257181167602539\n",
      "Time 3: 0.028334379196166992\n",
      "Time 4: 0.04095935821533203\n",
      "Time 5: 0.053801774978637695\n",
      "Time 6: 6.866455078125e-05\n",
      "\n"
     ]
    },
    {
     "name": "stderr",
     "output_type": "stream",
     "text": [
      "                                                                                \r"
     ]
    },
    {
     "name": "stdout",
     "output_type": "stream",
     "text": [
      "Time 1: 0.19045114517211914\n",
      "Time 2: 0.013150215148925781\n",
      "Time 3: 0.044103145599365234\n",
      "Time 4: 0.05690431594848633\n",
      "Time 5: 0.06038928031921387\n",
      "Time 6: 0.00012373924255371094\n",
      "\n"
     ]
    },
    {
     "name": "stderr",
     "output_type": "stream",
     "text": [
      "                                                                                \r"
     ]
    },
    {
     "name": "stdout",
     "output_type": "stream",
     "text": [
      "Time 1: 0.2257070541381836\n",
      "Time 2: 0.017358064651489258\n",
      "Time 3: 0.02813410758972168\n",
      "Time 4: 0.04756331443786621\n",
      "Time 5: 0.04261469841003418\n",
      "Time 6: 8.869171142578125e-05\n",
      "\n"
     ]
    },
    {
     "name": "stderr",
     "output_type": "stream",
     "text": [
      "                                                                                \r"
     ]
    },
    {
     "name": "stdout",
     "output_type": "stream",
     "text": [
      "Time 1: 0.18796229362487793\n",
      "Time 2: 0.013825654983520508\n",
      "Time 3: 0.034424543380737305\n",
      "Time 4: 0.052527427673339844\n",
      "Time 5: 0.05780625343322754\n",
      "Time 6: 9.298324584960938e-05\n",
      "\n"
     ]
    },
    {
     "name": "stderr",
     "output_type": "stream",
     "text": [
      "                                                                                \r"
     ]
    },
    {
     "name": "stdout",
     "output_type": "stream",
     "text": [
      "Time 1: 0.16225361824035645\n",
      "Time 2: 0.01726698875427246\n",
      "Time 3: 0.042119741439819336\n",
      "Time 4: 0.06163787841796875\n",
      "Time 5: 0.04938530921936035\n",
      "Time 6: 0.00012564659118652344\n",
      "\n"
     ]
    },
    {
     "name": "stderr",
     "output_type": "stream",
     "text": [
      "                                                                                \r"
     ]
    },
    {
     "name": "stdout",
     "output_type": "stream",
     "text": [
      "Time 1: 0.1923210620880127\n",
      "Time 2: 0.012535333633422852\n",
      "Time 3: 0.027730703353881836\n",
      "Time 4: 0.03931260108947754\n",
      "Time 5: 0.04041409492492676\n",
      "Time 6: 0.00011301040649414062\n",
      "\n"
     ]
    },
    {
     "name": "stderr",
     "output_type": "stream",
     "text": [
      "                                                                                \r"
     ]
    },
    {
     "name": "stdout",
     "output_type": "stream",
     "text": [
      "Time 1: 0.19505667686462402\n",
      "Time 2: 0.012906551361083984\n",
      "Time 3: 0.043175458908081055\n",
      "Time 4: 0.05319070816040039\n",
      "Time 5: 0.04089069366455078\n",
      "Time 6: 8.940696716308594e-05\n",
      "\n"
     ]
    },
    {
     "name": "stderr",
     "output_type": "stream",
     "text": [
      "                                                                                \r"
     ]
    },
    {
     "name": "stdout",
     "output_type": "stream",
     "text": [
      "Time 1: 0.19983983039855957\n",
      "Time 2: 0.01238393783569336\n",
      "Time 3: 0.027027606964111328\n",
      "Time 4: 0.04001331329345703\n",
      "Time 5: 0.039490461349487305\n",
      "Time 6: 9.250640869140625e-05\n",
      "\n"
     ]
    },
    {
     "name": "stderr",
     "output_type": "stream",
     "text": [
      "                                                                                \r"
     ]
    },
    {
     "name": "stdout",
     "output_type": "stream",
     "text": [
      "Time 1: 0.20189285278320312\n",
      "Time 2: 0.012802839279174805\n",
      "Time 3: 0.04774022102355957\n",
      "Time 4: 0.04270648956298828\n",
      "Time 5: 0.04707622528076172\n",
      "Time 6: 0.00011539459228515625\n",
      "\n"
     ]
    },
    {
     "name": "stderr",
     "output_type": "stream",
     "text": [
      "                                                                                \r"
     ]
    },
    {
     "name": "stdout",
     "output_type": "stream",
     "text": [
      "Time 1: 0.180250883102417\n",
      "Time 2: 0.013348579406738281\n",
      "Time 3: 0.029704570770263672\n",
      "Time 4: 0.07068228721618652\n",
      "Time 5: 0.0774846076965332\n",
      "Time 6: 8.344650268554688e-05\n",
      "\n"
     ]
    },
    {
     "name": "stderr",
     "output_type": "stream",
     "text": [
      "                                                                                \r"
     ]
    },
    {
     "name": "stdout",
     "output_type": "stream",
     "text": [
      "Time 1: 0.17694354057312012\n",
      "Time 2: 0.013711929321289062\n",
      "Time 3: 0.03241276741027832\n",
      "Time 4: 0.05011177062988281\n",
      "Time 5: 0.04710984230041504\n",
      "Time 6: 8.344650268554688e-05\n",
      "\n"
     ]
    },
    {
     "name": "stderr",
     "output_type": "stream",
     "text": [
      "                                                                                \r"
     ]
    },
    {
     "name": "stdout",
     "output_type": "stream",
     "text": [
      "Time 1: 0.22690653800964355\n",
      "Time 2: 0.01594257354736328\n",
      "Time 3: 0.03023695945739746\n",
      "Time 4: 0.04427480697631836\n",
      "Time 5: 0.047156333923339844\n",
      "Time 6: 8.273124694824219e-05\n",
      "\n"
     ]
    },
    {
     "name": "stderr",
     "output_type": "stream",
     "text": [
      "                                                                                \r"
     ]
    },
    {
     "name": "stdout",
     "output_type": "stream",
     "text": [
      "Time 1: 0.16960644721984863\n",
      "Time 2: 0.01561737060546875\n",
      "Time 3: 0.030066728591918945\n",
      "Time 4: 0.04980635643005371\n",
      "Time 5: 0.04510760307312012\n",
      "Time 6: 0.00042176246643066406\n",
      "\n"
     ]
    },
    {
     "name": "stderr",
     "output_type": "stream",
     "text": [
      "                                                                                \r"
     ]
    },
    {
     "name": "stdout",
     "output_type": "stream",
     "text": [
      "Time 1: 0.18747544288635254\n",
      "Time 2: 0.016274213790893555\n",
      "Time 3: 0.03194379806518555\n",
      "Time 4: 0.05420541763305664\n",
      "Time 5: 0.04661417007446289\n",
      "Time 6: 0.00010752677917480469\n",
      "\n"
     ]
    },
    {
     "name": "stderr",
     "output_type": "stream",
     "text": [
      "                                                                                \r"
     ]
    },
    {
     "name": "stdout",
     "output_type": "stream",
     "text": [
      "Time 1: 0.23111963272094727\n",
      "Time 2: 0.012154579162597656\n",
      "Time 3: 0.026950597763061523\n",
      "Time 4: 0.0444188117980957\n",
      "Time 5: 0.0399169921875\n",
      "Time 6: 4.291534423828125e-06\n",
      "\n"
     ]
    },
    {
     "name": "stderr",
     "output_type": "stream",
     "text": [
      "                                                                                \r"
     ]
    },
    {
     "name": "stdout",
     "output_type": "stream",
     "text": [
      "Time 1: 0.1699063777923584\n",
      "Time 2: 0.014129400253295898\n",
      "Time 3: 0.035858869552612305\n",
      "Time 4: 0.05481123924255371\n",
      "Time 5: 0.04219532012939453\n",
      "Time 6: 4.5299530029296875e-06\n",
      "\n",
      "Time 1: 0.16321682929992676\n",
      "Time 2: 0.012741565704345703\n",
      "Time 3: 0.05566906929016113\n",
      "Time 4: 0.04502606391906738\n",
      "Time 5: 0.041260480880737305\n",
      "Time 6: 0.00011348724365234375\n",
      "\n"
     ]
    },
    {
     "name": "stderr",
     "output_type": "stream",
     "text": [
      "                                                                                \r"
     ]
    },
    {
     "name": "stdout",
     "output_type": "stream",
     "text": [
      "Time 1: 0.2248852252960205\n",
      "Time 2: 0.014121770858764648\n",
      "Time 3: 0.028764724731445312\n",
      "Time 4: 0.04234504699707031\n",
      "Time 5: 0.040055036544799805\n",
      "Time 6: 8.106231689453125e-06\n",
      "\n"
     ]
    },
    {
     "name": "stderr",
     "output_type": "stream",
     "text": [
      "                                                                                \r"
     ]
    },
    {
     "name": "stdout",
     "output_type": "stream",
     "text": [
      "Time 1: 0.17126798629760742\n",
      "Time 2: 0.016006946563720703\n",
      "Time 3: 0.04124641418457031\n",
      "Time 4: 0.05934906005859375\n",
      "Time 5: 0.05974626541137695\n",
      "Time 6: 1.0013580322265625e-05\n",
      "\n"
     ]
    },
    {
     "name": "stderr",
     "output_type": "stream",
     "text": [
      "                                                                                \r"
     ]
    },
    {
     "name": "stdout",
     "output_type": "stream",
     "text": [
      "Time 1: 0.19545745849609375\n",
      "Time 2: 0.01268625259399414\n",
      "Time 3: 0.02901005744934082\n",
      "Time 4: 0.056592464447021484\n",
      "Time 5: 0.0481414794921875\n",
      "Time 6: 9.679794311523438e-05\n",
      "\n"
     ]
    },
    {
     "name": "stderr",
     "output_type": "stream",
     "text": [
      "                                                                                \r"
     ]
    },
    {
     "name": "stdout",
     "output_type": "stream",
     "text": [
      "Time 1: 0.15764427185058594\n",
      "Time 2: 0.012142181396484375\n",
      "Time 3: 0.02805185317993164\n",
      "Time 4: 0.039162635803222656\n",
      "Time 5: 0.04221034049987793\n",
      "Time 6: 0.00010156631469726562\n",
      "\n"
     ]
    },
    {
     "name": "stderr",
     "output_type": "stream",
     "text": [
      "                                                                                \r"
     ]
    },
    {
     "name": "stdout",
     "output_type": "stream",
     "text": [
      "Time 1: 0.17688822746276855\n",
      "Time 2: 0.01233530044555664\n",
      "Time 3: 0.02884531021118164\n",
      "Time 4: 0.0437469482421875\n",
      "Time 5: 0.04383444786071777\n",
      "Time 6: 9.918212890625e-05\n",
      "\n"
     ]
    },
    {
     "name": "stderr",
     "output_type": "stream",
     "text": [
      "                                                                                \r"
     ]
    },
    {
     "name": "stdout",
     "output_type": "stream",
     "text": [
      "Time 1: 0.21880674362182617\n",
      "Time 2: 0.014450788497924805\n",
      "Time 3: 0.026813507080078125\n",
      "Time 4: 0.047232627868652344\n",
      "Time 5: 0.04533791542053223\n",
      "Time 6: 0.00016498565673828125\n",
      "\n"
     ]
    },
    {
     "name": "stderr",
     "output_type": "stream",
     "text": [
      "                                                                                \r"
     ]
    },
    {
     "name": "stdout",
     "output_type": "stream",
     "text": [
      "Time 1: 0.1618821620941162\n",
      "Time 2: 0.013569116592407227\n",
      "Time 3: 0.02786993980407715\n",
      "Time 4: 0.04569125175476074\n",
      "Time 5: 0.04163312911987305\n",
      "Time 6: 0.00013589859008789062\n",
      "\n"
     ]
    },
    {
     "name": "stderr",
     "output_type": "stream",
     "text": [
      "                                                                                \r"
     ]
    },
    {
     "name": "stdout",
     "output_type": "stream",
     "text": [
      "Time 1: 0.18677353858947754\n",
      "Time 2: 0.012403249740600586\n",
      "Time 3: 0.027779340744018555\n",
      "Time 4: 0.03980708122253418\n",
      "Time 5: 0.04382133483886719\n",
      "Time 6: 0.00011444091796875\n",
      "\n"
     ]
    },
    {
     "name": "stderr",
     "output_type": "stream",
     "text": [
      "                                                                                \r"
     ]
    },
    {
     "name": "stdout",
     "output_type": "stream",
     "text": [
      "Time 1: 0.20019221305847168\n",
      "Time 2: 0.011670112609863281\n",
      "Time 3: 0.0263822078704834\n",
      "Time 4: 0.045702457427978516\n",
      "Time 5: 0.038367271423339844\n",
      "Time 6: 7.081031799316406e-05\n",
      "\n"
     ]
    },
    {
     "name": "stderr",
     "output_type": "stream",
     "text": [
      "                                                                                \r"
     ]
    },
    {
     "name": "stdout",
     "output_type": "stream",
     "text": [
      "Time 1: 0.20848512649536133\n",
      "Time 2: 0.012636899948120117\n",
      "Time 3: 0.02512669563293457\n",
      "Time 4: 0.03612375259399414\n",
      "Time 5: 0.04099702835083008\n",
      "Time 6: 7.724761962890625e-05\n",
      "\n"
     ]
    },
    {
     "name": "stderr",
     "output_type": "stream",
     "text": [
      "                                                                                \r"
     ]
    },
    {
     "name": "stdout",
     "output_type": "stream",
     "text": [
      "Time 1: 0.18938398361206055\n",
      "Time 2: 0.011758089065551758\n",
      "Time 3: 0.02591681480407715\n",
      "Time 4: 0.03881120681762695\n",
      "Time 5: 0.04694795608520508\n",
      "Time 6: 0.00010776519775390625\n",
      "\n"
     ]
    },
    {
     "name": "stderr",
     "output_type": "stream",
     "text": [
      "                                                                                \r"
     ]
    },
    {
     "name": "stdout",
     "output_type": "stream",
     "text": [
      "Time 1: 0.1692063808441162\n",
      "Time 2: 0.0176851749420166\n",
      "Time 3: 0.03604269027709961\n",
      "Time 4: 0.05401873588562012\n",
      "Time 5: 0.05862116813659668\n",
      "Time 6: 0.0001232624053955078\n",
      "\n"
     ]
    },
    {
     "name": "stderr",
     "output_type": "stream",
     "text": [
      "                                                                                \r"
     ]
    },
    {
     "name": "stdout",
     "output_type": "stream",
     "text": [
      "Time 1: 0.16170239448547363\n",
      "Time 2: 0.013040781021118164\n",
      "Time 3: 0.02686476707458496\n",
      "Time 4: 0.03978466987609863\n",
      "Time 5: 0.0471951961517334\n",
      "Time 6: 9.894371032714844e-05\n",
      "\n"
     ]
    },
    {
     "name": "stderr",
     "output_type": "stream",
     "text": [
      "                                                                                \r"
     ]
    },
    {
     "name": "stdout",
     "output_type": "stream",
     "text": [
      "Time 1: 0.23295974731445312\n",
      "Time 2: 0.014988183975219727\n",
      "Time 3: 0.0288388729095459\n",
      "Time 4: 0.04014229774475098\n",
      "Time 5: 0.04133439064025879\n",
      "Time 6: 0.00012803077697753906\n",
      "\n"
     ]
    },
    {
     "name": "stderr",
     "output_type": "stream",
     "text": [
      "                                                                                \r"
     ]
    },
    {
     "name": "stdout",
     "output_type": "stream",
     "text": [
      "Time 1: 0.20374131202697754\n",
      "Time 2: 0.01280355453491211\n",
      "Time 3: 0.029435396194458008\n",
      "Time 4: 0.057880401611328125\n",
      "Time 5: 0.04469180107116699\n",
      "Time 6: 0.00013780593872070312\n",
      "\n"
     ]
    },
    {
     "name": "stderr",
     "output_type": "stream",
     "text": [
      "                                                                                \r"
     ]
    },
    {
     "name": "stdout",
     "output_type": "stream",
     "text": [
      "Time 1: 0.1873617172241211\n",
      "Time 2: 0.01300048828125\n",
      "Time 3: 0.030709505081176758\n",
      "Time 4: 0.041545867919921875\n",
      "Time 5: 0.041533708572387695\n",
      "Time 6: 0.00012445449829101562\n",
      "\n"
     ]
    },
    {
     "name": "stderr",
     "output_type": "stream",
     "text": [
      "                                                                                \r"
     ]
    },
    {
     "name": "stdout",
     "output_type": "stream",
     "text": [
      "Time 1: 0.18197321891784668\n",
      "Time 2: 0.01184225082397461\n",
      "Time 3: 0.026949405670166016\n",
      "Time 4: 0.044435977935791016\n",
      "Time 5: 0.06766128540039062\n",
      "Time 6: 0.0001506805419921875\n",
      "\n"
     ]
    },
    {
     "name": "stderr",
     "output_type": "stream",
     "text": [
      "                                                                                \r"
     ]
    },
    {
     "name": "stdout",
     "output_type": "stream",
     "text": [
      "Time 1: 0.1658940315246582\n",
      "Time 2: 0.012139081954956055\n",
      "Time 3: 0.02825784683227539\n",
      "Time 4: 0.045125722885131836\n",
      "Time 5: 0.05964493751525879\n",
      "Time 6: 9.179115295410156e-05\n",
      "\n"
     ]
    },
    {
     "name": "stderr",
     "output_type": "stream",
     "text": [
      "                                                                                \r"
     ]
    },
    {
     "name": "stdout",
     "output_type": "stream",
     "text": [
      "Time 1: 0.16710972785949707\n",
      "Time 2: 0.012666702270507812\n",
      "Time 3: 0.027417421340942383\n",
      "Time 4: 0.041181087493896484\n",
      "Time 5: 0.05708122253417969\n",
      "Time 6: 9.822845458984375e-05\n",
      "\n"
     ]
    },
    {
     "name": "stderr",
     "output_type": "stream",
     "text": [
      "                                                                                \r"
     ]
    },
    {
     "name": "stdout",
     "output_type": "stream",
     "text": [
      "Time 1: 0.15390753746032715\n",
      "Time 2: 0.012285947799682617\n",
      "Time 3: 0.033666372299194336\n",
      "Time 4: 0.040293216705322266\n",
      "Time 5: 0.039495229721069336\n",
      "Time 6: 0.00012254714965820312\n",
      "\n"
     ]
    },
    {
     "name": "stderr",
     "output_type": "stream",
     "text": [
      "                                                                                \r"
     ]
    },
    {
     "name": "stdout",
     "output_type": "stream",
     "text": [
      "Time 1: 0.18753886222839355\n",
      "Time 2: 0.012315511703491211\n",
      "Time 3: 0.0277554988861084\n",
      "Time 4: 0.04096388816833496\n",
      "Time 5: 0.047537803649902344\n",
      "Time 6: 3.814697265625e-06\n",
      "\n"
     ]
    },
    {
     "name": "stderr",
     "output_type": "stream",
     "text": [
      "                                                                                \r"
     ]
    },
    {
     "name": "stdout",
     "output_type": "stream",
     "text": [
      "Time 1: 0.17319083213806152\n",
      "Time 2: 0.011909246444702148\n",
      "Time 3: 0.027016639709472656\n",
      "Time 4: 0.04449725151062012\n",
      "Time 5: 0.04084372520446777\n",
      "Time 6: 5.0067901611328125e-06\n",
      "\n",
      "Time 1: 0.2249774932861328\n",
      "Time 2: 0.012572288513183594\n",
      "Time 3: 0.02695178985595703\n",
      "Time 4: 0.046600341796875\n",
      "Time 5: 0.04114127159118652\n",
      "Time 6: 0.00011873245239257812\n",
      "\n"
     ]
    },
    {
     "name": "stderr",
     "output_type": "stream",
     "text": [
      "                                                                                \r"
     ]
    },
    {
     "name": "stdout",
     "output_type": "stream",
     "text": [
      "Time 1: 0.16847515106201172\n",
      "Time 2: 0.01185154914855957\n",
      "Time 3: 0.03815150260925293\n",
      "Time 4: 0.04407501220703125\n",
      "Time 5: 0.04660677909851074\n",
      "Time 6: 0.000125885009765625\n",
      "\n"
     ]
    },
    {
     "name": "stderr",
     "output_type": "stream",
     "text": [
      "                                                                                \r"
     ]
    },
    {
     "name": "stdout",
     "output_type": "stream",
     "text": [
      "Time 1: 0.15395116806030273\n",
      "Time 2: 0.015233993530273438\n",
      "Time 3: 0.028052330017089844\n",
      "Time 4: 0.04073596000671387\n",
      "Time 5: 0.0543980598449707\n",
      "Time 6: 0.00012683868408203125\n",
      "\n"
     ]
    },
    {
     "name": "stderr",
     "output_type": "stream",
     "text": [
      "                                                                                \r"
     ]
    },
    {
     "name": "stdout",
     "output_type": "stream",
     "text": [
      "Time 1: 0.15392184257507324\n",
      "Time 2: 0.01186680793762207\n",
      "Time 3: 0.029889583587646484\n",
      "Time 4: 0.04867196083068848\n",
      "Time 5: 0.04132223129272461\n",
      "Time 6: 0.0001270771026611328\n",
      "\n",
      "Time 1: 0.1982557773590088\n",
      "Time 2: 0.014096260070800781\n",
      "Time 3: 0.02865886688232422\n",
      "Time 4: 0.0499110221862793\n",
      "Time 5: 0.039656639099121094\n",
      "Time 6: 8.821487426757812e-06\n",
      "\n",
      "Time 1: 0.20506501197814941\n",
      "Time 2: 0.012347936630249023\n",
      "Time 3: 0.027060747146606445\n",
      "Time 4: 0.039389848709106445\n",
      "Time 5: 0.03980875015258789\n",
      "Time 6: 0.0001747608184814453\n",
      "\n"
     ]
    },
    {
     "name": "stderr",
     "output_type": "stream",
     "text": [
      "                                                                                \r"
     ]
    },
    {
     "name": "stdout",
     "output_type": "stream",
     "text": [
      "Time 1: 0.15154361724853516\n",
      "Time 2: 0.016378402709960938\n",
      "Time 3: 0.029193401336669922\n",
      "Time 4: 0.03952383995056152\n",
      "Time 5: 0.07008790969848633\n",
      "Time 6: 4.291534423828125e-06\n",
      "\n"
     ]
    },
    {
     "name": "stderr",
     "output_type": "stream",
     "text": [
      "                                                                                \r"
     ]
    },
    {
     "name": "stdout",
     "output_type": "stream",
     "text": [
      "Time 1: 0.20807695388793945\n",
      "Time 2: 0.01347041130065918\n",
      "Time 3: 0.0262908935546875\n",
      "Time 4: 0.040830373764038086\n",
      "Time 5: 0.04350757598876953\n",
      "Time 6: 9.608268737792969e-05\n",
      "\n"
     ]
    },
    {
     "name": "stderr",
     "output_type": "stream",
     "text": [
      "                                                                                \r"
     ]
    },
    {
     "name": "stdout",
     "output_type": "stream",
     "text": [
      "Time 1: 0.18053770065307617\n",
      "Time 2: 0.013979673385620117\n",
      "Time 3: 0.027661800384521484\n",
      "Time 4: 0.05936622619628906\n",
      "Time 5: 0.04168105125427246\n",
      "Time 6: 8.273124694824219e-05\n",
      "\n",
      "Time 1: 0.19338297843933105\n",
      "Time 2: 0.012763738632202148\n",
      "Time 3: 0.03298616409301758\n",
      "Time 4: 0.04286336898803711\n",
      "Time 5: 0.05336427688598633\n",
      "Time 6: 8.988380432128906e-05\n",
      "\n"
     ]
    },
    {
     "name": "stderr",
     "output_type": "stream",
     "text": [
      "                                                                                \r"
     ]
    },
    {
     "name": "stdout",
     "output_type": "stream",
     "text": [
      "Time 1: 0.18300223350524902\n",
      "Time 2: 0.02333545684814453\n",
      "Time 3: 0.04873251914978027\n",
      "Time 4: 0.060364723205566406\n",
      "Time 5: 0.061395883560180664\n",
      "Time 6: 9.393692016601562e-05\n",
      "\n"
     ]
    },
    {
     "name": "stderr",
     "output_type": "stream",
     "text": [
      "                                                                                \r"
     ]
    },
    {
     "name": "stdout",
     "output_type": "stream",
     "text": [
      "Time 1: 0.232086181640625\n",
      "Time 2: 0.014798402786254883\n",
      "Time 3: 0.028856515884399414\n",
      "Time 4: 0.04776120185852051\n",
      "Time 5: 0.041260719299316406\n",
      "Time 6: 7.033348083496094e-05\n",
      "\n"
     ]
    },
    {
     "name": "stderr",
     "output_type": "stream",
     "text": [
      "                                                                                \r"
     ]
    },
    {
     "name": "stdout",
     "output_type": "stream",
     "text": [
      "Time 1: 0.2275524139404297\n",
      "Time 2: 0.01187896728515625\n",
      "Time 3: 0.0297701358795166\n",
      "Time 4: 0.03906130790710449\n",
      "Time 5: 0.043801307678222656\n",
      "Time 6: 8.058547973632812e-05\n",
      "\n"
     ]
    },
    {
     "name": "stderr",
     "output_type": "stream",
     "text": [
      "                                                                                \r"
     ]
    },
    {
     "name": "stdout",
     "output_type": "stream",
     "text": [
      "Time 1: 0.1685185432434082\n",
      "Time 2: 0.013417959213256836\n",
      "Time 3: 0.02715277671813965\n",
      "Time 4: 0.037761688232421875\n",
      "Time 5: 0.04006552696228027\n",
      "Time 6: 0.00010347366333007812\n",
      "\n"
     ]
    },
    {
     "name": "stderr",
     "output_type": "stream",
     "text": [
      "                                                                                \r"
     ]
    },
    {
     "name": "stdout",
     "output_type": "stream",
     "text": [
      "Time 1: 0.1730356216430664\n",
      "Time 2: 0.01186513900756836\n",
      "Time 3: 0.026977062225341797\n",
      "Time 4: 0.04622149467468262\n",
      "Time 5: 0.04490017890930176\n",
      "Time 6: 9.441375732421875e-05\n",
      "\n"
     ]
    },
    {
     "name": "stderr",
     "output_type": "stream",
     "text": [
      "                                                                                \r"
     ]
    },
    {
     "name": "stdout",
     "output_type": "stream",
     "text": [
      "Time 1: 0.17670559883117676\n",
      "Time 2: 0.011564970016479492\n",
      "Time 3: 0.032010555267333984\n",
      "Time 4: 0.039157867431640625\n",
      "Time 5: 0.05108523368835449\n",
      "Time 6: 0.00014066696166992188\n",
      "\n"
     ]
    },
    {
     "name": "stderr",
     "output_type": "stream",
     "text": [
      "                                                                                \r"
     ]
    },
    {
     "name": "stdout",
     "output_type": "stream",
     "text": [
      "Time 1: 0.17238473892211914\n",
      "Time 2: 0.012226581573486328\n",
      "Time 3: 0.03002476692199707\n",
      "Time 4: 0.041228294372558594\n",
      "Time 5: 0.040323734283447266\n",
      "Time 6: 0.00011181831359863281\n",
      "\n"
     ]
    },
    {
     "name": "stderr",
     "output_type": "stream",
     "text": [
      "                                                                                \r"
     ]
    },
    {
     "name": "stdout",
     "output_type": "stream",
     "text": [
      "Time 1: 0.14484643936157227\n",
      "Time 2: 0.011851787567138672\n",
      "Time 3: 0.02759838104248047\n",
      "Time 4: 0.040052175521850586\n",
      "Time 5: 0.03970026969909668\n",
      "Time 6: 8.96453857421875e-05\n",
      "\n"
     ]
    },
    {
     "name": "stderr",
     "output_type": "stream",
     "text": [
      "                                                                                \r"
     ]
    },
    {
     "name": "stdout",
     "output_type": "stream",
     "text": [
      "Time 1: 0.18752026557922363\n",
      "Time 2: 0.012253999710083008\n",
      "Time 3: 0.02888631820678711\n",
      "Time 4: 0.06324267387390137\n",
      "Time 5: 0.04175233840942383\n",
      "Time 6: 0.0001201629638671875\n",
      "\n"
     ]
    },
    {
     "name": "stderr",
     "output_type": "stream",
     "text": [
      "                                                                                \r"
     ]
    },
    {
     "name": "stdout",
     "output_type": "stream",
     "text": [
      "Time 1: 0.17241263389587402\n",
      "Time 2: 0.011730432510375977\n",
      "Time 3: 0.025360584259033203\n",
      "Time 4: 0.03751087188720703\n",
      "Time 5: 0.03907585144042969\n",
      "Time 6: 9.465217590332031e-05\n",
      "\n",
      "Time 1: 0.18392133712768555\n",
      "Time 2: 0.012869834899902344\n",
      "Time 3: 0.026797056198120117\n",
      "Time 4: 0.04291367530822754\n",
      "Time 5: 0.04311013221740723\n",
      "Time 6: 0.00011277198791503906\n",
      "\n"
     ]
    },
    {
     "name": "stderr",
     "output_type": "stream",
     "text": [
      "                                                                                \r"
     ]
    },
    {
     "name": "stdout",
     "output_type": "stream",
     "text": [
      "Time 1: 0.18179607391357422\n",
      "Time 2: 0.011942863464355469\n",
      "Time 3: 0.03100299835205078\n",
      "Time 4: 0.04121088981628418\n",
      "Time 5: 0.04583144187927246\n",
      "Time 6: 7.82012939453125e-05\n",
      "\n"
     ]
    },
    {
     "name": "stderr",
     "output_type": "stream",
     "text": [
      "                                                                                \r"
     ]
    },
    {
     "name": "stdout",
     "output_type": "stream",
     "text": [
      "Time 1: 0.16041970252990723\n",
      "Time 2: 0.01671004295349121\n",
      "Time 3: 0.06297540664672852\n",
      "Time 4: 0.0439000129699707\n",
      "Time 5: 0.05718111991882324\n",
      "Time 6: 0.00012969970703125\n",
      "\n"
     ]
    },
    {
     "name": "stderr",
     "output_type": "stream",
     "text": [
      "                                                                                \r"
     ]
    },
    {
     "name": "stdout",
     "output_type": "stream",
     "text": [
      "Time 1: 0.24541068077087402\n",
      "Time 2: 0.012003660202026367\n",
      "Time 3: 0.028754711151123047\n",
      "Time 4: 0.04542374610900879\n",
      "Time 5: 0.0400853157043457\n",
      "Time 6: 0.00010156631469726562\n",
      "\n"
     ]
    },
    {
     "name": "stderr",
     "output_type": "stream",
     "text": [
      "                                                                                \r"
     ]
    },
    {
     "name": "stdout",
     "output_type": "stream",
     "text": [
      "Time 1: 0.19286799430847168\n",
      "Time 2: 0.013458013534545898\n",
      "Time 3: 0.04157710075378418\n",
      "Time 4: 0.0576777458190918\n",
      "Time 5: 0.059784889221191406\n",
      "Time 6: 4.5299530029296875e-06\n",
      "\n",
      "Time 1: 0.19717097282409668\n",
      "Time 2: 0.02664804458618164\n",
      "Time 3: 0.07422518730163574\n",
      "Time 4: 0.043959617614746094\n",
      "Time 5: 0.040223121643066406\n",
      "Time 6: 0.000133514404296875\n",
      "\n"
     ]
    },
    {
     "name": "stderr",
     "output_type": "stream",
     "text": [
      "                                                                                \r"
     ]
    },
    {
     "name": "stdout",
     "output_type": "stream",
     "text": [
      "Time 1: 0.1899275779724121\n",
      "Time 2: 0.012692689895629883\n",
      "Time 3: 0.03467130661010742\n",
      "Time 4: 0.04172658920288086\n",
      "Time 5: 0.04355788230895996\n",
      "Time 6: 0.00012755393981933594\n",
      "\n",
      "Time 1: 0.16185784339904785\n",
      "Time 2: 0.01362752914428711\n",
      "Time 3: 0.029427051544189453\n",
      "Time 4: 0.04172468185424805\n",
      "Time 5: 0.043199777603149414\n",
      "Time 6: 0.0001125335693359375\n",
      "\n"
     ]
    },
    {
     "name": "stderr",
     "output_type": "stream",
     "text": [
      "                                                                                \r"
     ]
    },
    {
     "name": "stdout",
     "output_type": "stream",
     "text": [
      "Time 1: 0.16314196586608887\n",
      "Time 2: 0.013538122177124023\n",
      "Time 3: 0.028026819229125977\n",
      "Time 4: 0.040889739990234375\n",
      "Time 5: 0.03891634941101074\n",
      "Time 6: 0.00015401840209960938\n",
      "\n",
      "Time 1: 0.17145729064941406\n",
      "Time 2: 0.011443614959716797\n",
      "Time 3: 0.02629709243774414\n",
      "Time 4: 0.03769111633300781\n",
      "Time 5: 0.03866100311279297\n",
      "Time 6: 1.1444091796875e-05\n",
      "\n",
      "Time 1: 0.170424222946167\n",
      "Time 2: 0.012311935424804688\n",
      "Time 3: 0.029834747314453125\n",
      "Time 4: 0.041849374771118164\n",
      "Time 5: 0.04041624069213867\n",
      "Time 6: 8.177757263183594e-05\n",
      "\n"
     ]
    },
    {
     "name": "stderr",
     "output_type": "stream",
     "text": [
      "                                                                                \r"
     ]
    },
    {
     "name": "stdout",
     "output_type": "stream",
     "text": [
      "Time 1: 0.15410685539245605\n",
      "Time 2: 0.012100934982299805\n",
      "Time 3: 0.027778148651123047\n",
      "Time 4: 0.07238602638244629\n",
      "Time 5: 0.057305335998535156\n",
      "Time 6: 0.00011897087097167969\n",
      "\n",
      "Time 1: 0.17159390449523926\n",
      "Time 2: 0.011533498764038086\n",
      "Time 3: 0.025967121124267578\n",
      "Time 4: 0.04011726379394531\n",
      "Time 5: 0.04663705825805664\n",
      "Time 6: 1.5020370483398438e-05\n",
      "\n",
      "Time 1: 0.19785475730895996\n",
      "Time 2: 0.012292623519897461\n",
      "Time 3: 0.02735424041748047\n",
      "Time 4: 0.03933429718017578\n",
      "Time 5: 0.03882265090942383\n",
      "Time 6: 0.0001125335693359375\n",
      "\n"
     ]
    },
    {
     "name": "stderr",
     "output_type": "stream",
     "text": [
      "                                                                                \r"
     ]
    },
    {
     "name": "stdout",
     "output_type": "stream",
     "text": [
      "Time 1: 0.2703413963317871\n",
      "Time 2: 0.012814044952392578\n",
      "Time 3: 0.02833247184753418\n",
      "Time 4: 0.04198741912841797\n",
      "Time 5: 0.04499030113220215\n",
      "Time 6: 0.00010514259338378906\n",
      "\n"
     ]
    },
    {
     "name": "stderr",
     "output_type": "stream",
     "text": [
      "                                                                                \r"
     ]
    },
    {
     "name": "stdout",
     "output_type": "stream",
     "text": [
      "Time 1: 0.23421549797058105\n",
      "Time 2: 0.01670551300048828\n",
      "Time 3: 0.028388261795043945\n",
      "Time 4: 0.040572166442871094\n",
      "Time 5: 0.041100263595581055\n",
      "Time 6: 0.00014448165893554688\n",
      "\n"
     ]
    },
    {
     "name": "stderr",
     "output_type": "stream",
     "text": [
      "                                                                                \r"
     ]
    },
    {
     "name": "stdout",
     "output_type": "stream",
     "text": [
      "Time 1: 0.2625386714935303\n",
      "Time 2: 0.011607170104980469\n",
      "Time 3: 0.026500225067138672\n",
      "Time 4: 0.04478716850280762\n",
      "Time 5: 0.05869174003601074\n",
      "Time 6: 9.5367431640625e-05\n",
      "\n",
      "Time 1: 0.15296220779418945\n",
      "Time 2: 0.011740922927856445\n",
      "Time 3: 0.027019023895263672\n",
      "Time 4: 0.04065394401550293\n",
      "Time 5: 0.04852437973022461\n",
      "Time 6: 7.104873657226562e-05\n",
      "\n"
     ]
    },
    {
     "name": "stderr",
     "output_type": "stream",
     "text": [
      "                                                                                \r"
     ]
    },
    {
     "name": "stdout",
     "output_type": "stream",
     "text": [
      "Time 1: 0.17368173599243164\n",
      "Time 2: 0.011852025985717773\n",
      "Time 3: 0.027443408966064453\n",
      "Time 4: 0.04289650917053223\n",
      "Time 5: 0.042009830474853516\n",
      "Time 6: 0.00012636184692382812\n",
      "\n"
     ]
    },
    {
     "name": "stderr",
     "output_type": "stream",
     "text": [
      "                                                                                \r"
     ]
    },
    {
     "name": "stdout",
     "output_type": "stream",
     "text": [
      "Time 1: 0.19163084030151367\n",
      "Time 2: 0.012744426727294922\n",
      "Time 3: 0.027398109436035156\n",
      "Time 4: 0.03951716423034668\n",
      "Time 5: 0.03971076011657715\n",
      "Time 6: 7.152557373046875e-06\n",
      "\n"
     ]
    },
    {
     "name": "stderr",
     "output_type": "stream",
     "text": [
      "                                                                                \r"
     ]
    },
    {
     "name": "stdout",
     "output_type": "stream",
     "text": [
      "Time 1: 0.1670691967010498\n",
      "Time 2: 0.012415170669555664\n",
      "Time 3: 0.03473210334777832\n",
      "Time 4: 0.048630475997924805\n",
      "Time 5: 0.037691593170166016\n",
      "Time 6: 8.058547973632812e-05\n",
      "\n",
      "Time 1: 0.1773819923400879\n",
      "Time 2: 0.01242828369140625\n",
      "Time 3: 0.02894902229309082\n",
      "Time 4: 0.0393223762512207\n",
      "Time 5: 0.04580283164978027\n",
      "Time 6: 0.00013375282287597656\n",
      "\n"
     ]
    },
    {
     "name": "stderr",
     "output_type": "stream",
     "text": [
      "                                                                                \r"
     ]
    },
    {
     "name": "stdout",
     "output_type": "stream",
     "text": [
      "Time 1: 0.2223677635192871\n",
      "Time 2: 0.012840509414672852\n",
      "Time 3: 0.02652144432067871\n",
      "Time 4: 0.04030489921569824\n",
      "Time 5: 0.03842520713806152\n",
      "Time 6: 0.0001742839813232422\n",
      "\n"
     ]
    },
    {
     "name": "stderr",
     "output_type": "stream",
     "text": [
      "                                                                                \r"
     ]
    },
    {
     "name": "stdout",
     "output_type": "stream",
     "text": [
      "Time 1: 0.17589020729064941\n",
      "Time 2: 0.011466503143310547\n",
      "Time 3: 0.027074098587036133\n",
      "Time 4: 0.03824496269226074\n",
      "Time 5: 0.0656118392944336\n",
      "Time 6: 0.00012230873107910156\n",
      "\n",
      "Time 1: 0.17743802070617676\n",
      "Time 2: 0.011142492294311523\n",
      "Time 3: 0.026971101760864258\n",
      "Time 4: 0.04277205467224121\n",
      "Time 5: 0.07814359664916992\n",
      "Time 6: 0.00011563301086425781\n",
      "\n",
      "Time 1: 0.2521524429321289\n",
      "Time 2: 0.014139890670776367\n",
      "Time 3: 0.026126861572265625\n",
      "Time 4: 0.06026601791381836\n",
      "Time 5: 0.050690412521362305\n",
      "Time 6: 0.00011157989501953125\n",
      "\n"
     ]
    },
    {
     "name": "stderr",
     "output_type": "stream",
     "text": [
      "                                                                                \r"
     ]
    },
    {
     "name": "stdout",
     "output_type": "stream",
     "text": [
      "Time 1: 0.18471550941467285\n",
      "Time 2: 0.012149572372436523\n",
      "Time 3: 0.027335166931152344\n",
      "Time 4: 0.041373491287231445\n",
      "Time 5: 0.03754711151123047\n",
      "Time 6: 7.748603820800781e-05\n",
      "\n",
      "Time 1: 0.17886972427368164\n",
      "Time 2: 0.012456655502319336\n",
      "Time 3: 0.027002573013305664\n",
      "Time 4: 0.03887748718261719\n",
      "Time 5: 0.048795461654663086\n",
      "Time 6: 9.250640869140625e-05\n",
      "\n"
     ]
    },
    {
     "name": "stderr",
     "output_type": "stream",
     "text": [
      "                                                                                \r"
     ]
    },
    {
     "name": "stdout",
     "output_type": "stream",
     "text": [
      "Time 1: 0.19377636909484863\n",
      "Time 2: 0.013927221298217773\n",
      "Time 3: 0.033614397048950195\n",
      "Time 4: 0.04786562919616699\n",
      "Time 5: 0.04211163520812988\n",
      "Time 6: 9.72747802734375e-05\n",
      "\n"
     ]
    },
    {
     "name": "stderr",
     "output_type": "stream",
     "text": [
      "                                                                                \r"
     ]
    },
    {
     "name": "stdout",
     "output_type": "stream",
     "text": [
      "Time 1: 0.1597137451171875\n",
      "Time 2: 0.011885404586791992\n",
      "Time 3: 0.026541709899902344\n",
      "Time 4: 0.04139971733093262\n",
      "Time 5: 0.06496310234069824\n",
      "Time 6: 9.822845458984375e-05\n",
      "\n"
     ]
    },
    {
     "name": "stderr",
     "output_type": "stream",
     "text": [
      "                                                                                \r"
     ]
    },
    {
     "name": "stdout",
     "output_type": "stream",
     "text": [
      "Time 1: 0.163557767868042\n",
      "Time 2: 0.012082099914550781\n",
      "Time 3: 0.031252145767211914\n",
      "Time 4: 0.04247927665710449\n",
      "Time 5: 0.04021716117858887\n",
      "Time 6: 0.00010728836059570312\n",
      "\n"
     ]
    },
    {
     "name": "stderr",
     "output_type": "stream",
     "text": [
      "                                                                                \r"
     ]
    },
    {
     "name": "stdout",
     "output_type": "stream",
     "text": [
      "Time 1: 0.1603844165802002\n",
      "Time 2: 0.012382030487060547\n",
      "Time 3: 0.03812265396118164\n",
      "Time 4: 0.06024503707885742\n",
      "Time 5: 0.05967998504638672\n",
      "Time 6: 0.0003502368927001953\n",
      "\n"
     ]
    },
    {
     "name": "stderr",
     "output_type": "stream",
     "text": [
      "                                                                                \r"
     ]
    },
    {
     "name": "stdout",
     "output_type": "stream",
     "text": [
      "Time 1: 0.18970251083374023\n",
      "Time 2: 0.012294769287109375\n",
      "Time 3: 0.0277559757232666\n",
      "Time 4: 0.044640302658081055\n",
      "Time 5: 0.04365420341491699\n",
      "Time 6: 0.0001125335693359375\n",
      "\n"
     ]
    },
    {
     "name": "stderr",
     "output_type": "stream",
     "text": [
      "                                                                                \r"
     ]
    },
    {
     "name": "stdout",
     "output_type": "stream",
     "text": [
      "Time 1: 0.19484353065490723\n",
      "Time 2: 0.012786388397216797\n",
      "Time 3: 0.02798628807067871\n",
      "Time 4: 0.04525470733642578\n",
      "Time 5: 0.03979992866516113\n",
      "Time 6: 6.270408630371094e-05\n",
      "\n"
     ]
    },
    {
     "name": "stderr",
     "output_type": "stream",
     "text": [
      "                                                                                \r"
     ]
    },
    {
     "name": "stdout",
     "output_type": "stream",
     "text": [
      "Time 1: 0.20798516273498535\n",
      "Time 2: 0.014106988906860352\n",
      "Time 3: 0.06643366813659668\n",
      "Time 4: 0.05680489540100098\n",
      "Time 5: 0.04396557807922363\n",
      "Time 6: 9.417533874511719e-05\n",
      "\n"
     ]
    },
    {
     "name": "stderr",
     "output_type": "stream",
     "text": [
      "                                                                                \r"
     ]
    },
    {
     "name": "stdout",
     "output_type": "stream",
     "text": [
      "Time 1: 0.18915009498596191\n",
      "Time 2: 0.012172937393188477\n",
      "Time 3: 0.027843952178955078\n",
      "Time 4: 0.04553103446960449\n",
      "Time 5: 0.04146718978881836\n",
      "Time 6: 0.00011467933654785156\n",
      "\n",
      "Time 1: 0.19708251953125\n",
      "Time 2: 0.013874292373657227\n",
      "Time 3: 0.029130220413208008\n",
      "Time 4: 0.040163516998291016\n",
      "Time 5: 0.038042306900024414\n",
      "Time 6: 9.512901306152344e-05\n",
      "\n",
      "Time 1: 0.19099044799804688\n",
      "Time 2: 0.032012224197387695\n",
      "Time 3: 0.04029273986816406\n",
      "Time 4: 0.047113656997680664\n",
      "Time 5: 0.03945326805114746\n",
      "Time 6: 0.00012445449829101562\n",
      "\n",
      "Time 1: 0.1927952766418457\n",
      "Time 2: 0.01195216178894043\n",
      "Time 3: 0.027760028839111328\n",
      "Time 4: 0.04397702217102051\n",
      "Time 5: 0.041680335998535156\n",
      "Time 6: 0.0001304149627685547\n",
      "\n",
      "Time 1: 0.2160952091217041\n",
      "Time 2: 0.011521577835083008\n",
      "Time 3: 0.027068138122558594\n",
      "Time 4: 0.04475545883178711\n",
      "Time 5: 0.04344964027404785\n",
      "Time 6: 0.00010418891906738281\n",
      "\n"
     ]
    },
    {
     "name": "stderr",
     "output_type": "stream",
     "text": [
      "                                                                                \r"
     ]
    },
    {
     "name": "stdout",
     "output_type": "stream",
     "text": [
      "Time 1: 0.2481851577758789\n",
      "Time 2: 0.01271963119506836\n",
      "Time 3: 0.027043581008911133\n",
      "Time 4: 0.04079699516296387\n",
      "Time 5: 0.039516448974609375\n",
      "Time 6: 4.291534423828125e-06\n",
      "\n",
      "Time 1: 0.21652865409851074\n",
      "Time 2: 0.012732982635498047\n",
      "Time 3: 0.03272438049316406\n",
      "Time 4: 0.040944576263427734\n",
      "Time 5: 0.04175686836242676\n",
      "Time 6: 0.0001049041748046875\n",
      "\n"
     ]
    },
    {
     "name": "stderr",
     "output_type": "stream",
     "text": [
      "                                                                                \r"
     ]
    },
    {
     "name": "stdout",
     "output_type": "stream",
     "text": [
      "Time 1: 0.16038918495178223\n",
      "Time 2: 0.011717081069946289\n",
      "Time 3: 0.02617502212524414\n",
      "Time 4: 0.041220903396606445\n",
      "Time 5: 0.04388713836669922\n",
      "Time 6: 0.00010228157043457031\n",
      "\n"
     ]
    },
    {
     "name": "stderr",
     "output_type": "stream",
     "text": [
      "                                                                                \r"
     ]
    },
    {
     "name": "stdout",
     "output_type": "stream",
     "text": [
      "Time 1: 0.16321945190429688\n",
      "Time 2: 0.01290130615234375\n",
      "Time 3: 0.027624130249023438\n",
      "Time 4: 0.04050803184509277\n",
      "Time 5: 0.039067983627319336\n",
      "Time 6: 9.441375732421875e-05\n",
      "\n"
     ]
    },
    {
     "name": "stderr",
     "output_type": "stream",
     "text": [
      "                                                                                \r"
     ]
    },
    {
     "name": "stdout",
     "output_type": "stream",
     "text": [
      "Time 1: 0.16880345344543457\n",
      "Time 2: 0.023939132690429688\n",
      "Time 3: 0.033066511154174805\n",
      "Time 4: 0.04363417625427246\n",
      "Time 5: 0.04150390625\n",
      "Time 6: 0.000125885009765625\n",
      "\n"
     ]
    },
    {
     "name": "stderr",
     "output_type": "stream",
     "text": [
      "                                                                                \r"
     ]
    },
    {
     "name": "stdout",
     "output_type": "stream",
     "text": [
      "Time 1: 0.15035486221313477\n",
      "Time 2: 0.012190103530883789\n",
      "Time 3: 0.028638362884521484\n",
      "Time 4: 0.04812216758728027\n",
      "Time 5: 0.042366981506347656\n",
      "Time 6: 9.1552734375e-05\n",
      "\n"
     ]
    },
    {
     "name": "stderr",
     "output_type": "stream",
     "text": [
      "                                                                                \r"
     ]
    },
    {
     "name": "stdout",
     "output_type": "stream",
     "text": [
      "Time 1: 0.186004638671875\n",
      "Time 2: 0.01336526870727539\n",
      "Time 3: 0.02698373794555664\n",
      "Time 4: 0.04787254333496094\n",
      "Time 5: 0.04850292205810547\n",
      "Time 6: 0.00013113021850585938\n",
      "\n"
     ]
    },
    {
     "name": "stderr",
     "output_type": "stream",
     "text": [
      "                                                                                \r"
     ]
    },
    {
     "name": "stdout",
     "output_type": "stream",
     "text": [
      "Time 1: 0.17368674278259277\n",
      "Time 2: 0.012338399887084961\n",
      "Time 3: 0.026910781860351562\n",
      "Time 4: 0.03918123245239258\n",
      "Time 5: 0.038639068603515625\n",
      "Time 6: 8.821487426757812e-06\n",
      "\n",
      "Time 1: 0.15652894973754883\n",
      "Time 2: 0.011874914169311523\n",
      "Time 3: 0.027335643768310547\n",
      "Time 4: 0.047635793685913086\n",
      "Time 5: 0.039438486099243164\n",
      "Time 6: 0.0001575946807861328\n",
      "\n",
      "Time 1: 0.16495513916015625\n",
      "Time 2: 0.011879920959472656\n",
      "Time 3: 0.02760601043701172\n",
      "Time 4: 0.03868865966796875\n",
      "Time 5: 0.03990602493286133\n",
      "Time 6: 7.677078247070312e-05\n",
      "\n",
      "Time 1: 0.14976024627685547\n",
      "Time 2: 0.01169729232788086\n",
      "Time 3: 0.033884525299072266\n",
      "Time 4: 0.04168963432312012\n",
      "Time 5: 0.041054487228393555\n",
      "Time 6: 7.319450378417969e-05\n",
      "\n"
     ]
    },
    {
     "name": "stderr",
     "output_type": "stream",
     "text": [
      "                                                                                \r"
     ]
    },
    {
     "name": "stdout",
     "output_type": "stream",
     "text": [
      "Time 1: 0.16232895851135254\n",
      "Time 2: 0.011644124984741211\n",
      "Time 3: 0.0285947322845459\n",
      "Time 4: 0.03992033004760742\n",
      "Time 5: 0.040442466735839844\n",
      "Time 6: 4.76837158203125e-06\n",
      "\n",
      "Time 1: 0.17209696769714355\n",
      "Time 2: 0.014965057373046875\n",
      "Time 3: 0.028751850128173828\n",
      "Time 4: 0.04186868667602539\n",
      "Time 5: 0.043821096420288086\n",
      "Time 6: 8.058547973632812e-05\n",
      "\n"
     ]
    },
    {
     "name": "stderr",
     "output_type": "stream",
     "text": [
      "                                                                                \r"
     ]
    },
    {
     "name": "stdout",
     "output_type": "stream",
     "text": [
      "Time 1: 0.15241670608520508\n",
      "Time 2: 0.012181997299194336\n",
      "Time 3: 0.025647640228271484\n",
      "Time 4: 0.037433624267578125\n",
      "Time 5: 0.03847956657409668\n",
      "Time 6: 0.00012993812561035156\n",
      "\n"
     ]
    },
    {
     "name": "stderr",
     "output_type": "stream",
     "text": [
      "                                                                                \r"
     ]
    },
    {
     "name": "stdout",
     "output_type": "stream",
     "text": [
      "Time 1: 0.1707172393798828\n",
      "Time 2: 0.011704444885253906\n",
      "Time 3: 0.02623605728149414\n",
      "Time 4: 0.03706693649291992\n",
      "Time 5: 0.03904318809509277\n",
      "Time 6: 0.00013184547424316406\n",
      "\n",
      "Time 1: 0.17039823532104492\n",
      "Time 2: 0.013501405715942383\n",
      "Time 3: 0.02897167205810547\n",
      "Time 4: 0.04221820831298828\n",
      "Time 5: 0.042307376861572266\n",
      "Time 6: 0.00010371208190917969\n",
      "\n"
     ]
    },
    {
     "name": "stderr",
     "output_type": "stream",
     "text": [
      "                                                                                \r"
     ]
    },
    {
     "name": "stdout",
     "output_type": "stream",
     "text": [
      "Time 1: 0.1752152442932129\n",
      "Time 2: 0.012500524520874023\n",
      "Time 3: 0.02882242202758789\n",
      "Time 4: 0.050171852111816406\n",
      "Time 5: 0.04138779640197754\n",
      "Time 6: 0.00011610984802246094\n",
      "\n"
     ]
    },
    {
     "name": "stderr",
     "output_type": "stream",
     "text": [
      "                                                                                \r"
     ]
    },
    {
     "name": "stdout",
     "output_type": "stream",
     "text": [
      "Time 1: 0.17782902717590332\n",
      "Time 2: 0.01284337043762207\n",
      "Time 3: 0.030721426010131836\n",
      "Time 4: 0.04159903526306152\n",
      "Time 5: 0.0655064582824707\n",
      "Time 6: 0.00011968612670898438\n",
      "\n"
     ]
    },
    {
     "name": "stderr",
     "output_type": "stream",
     "text": [
      "                                                                                \r"
     ]
    },
    {
     "name": "stdout",
     "output_type": "stream",
     "text": [
      "Time 1: 0.19339346885681152\n",
      "Time 2: 0.012285947799682617\n",
      "Time 3: 0.04259848594665527\n",
      "Time 4: 0.04971003532409668\n",
      "Time 5: 0.041409969329833984\n",
      "Time 6: 0.0001304149627685547\n",
      "\n",
      "Time 1: 0.12911033630371094\n",
      "Time 2: 0.011728286743164062\n",
      "Time 3: 0.030206918716430664\n",
      "Time 4: 0.05555891990661621\n",
      "Time 5: 0.04645252227783203\n",
      "Time 6: 0.0001480579376220703\n",
      "\n",
      "Time 1: 0.14362573623657227\n",
      "Time 2: 0.011800765991210938\n",
      "Time 3: 0.03188776969909668\n",
      "Time 4: 0.0623476505279541\n",
      "Time 5: 0.06206703186035156\n",
      "Time 6: 9.369850158691406e-05\n",
      "\n",
      "Time 1: 0.15792369842529297\n",
      "Time 2: 0.011793851852416992\n",
      "Time 3: 0.02701091766357422\n",
      "Time 4: 0.04003000259399414\n",
      "Time 5: 0.042090654373168945\n",
      "Time 6: 0.00011515617370605469\n",
      "\n"
     ]
    },
    {
     "name": "stderr",
     "output_type": "stream",
     "text": [
      "                                                                                \r"
     ]
    },
    {
     "name": "stdout",
     "output_type": "stream",
     "text": [
      "Time 1: 0.15957927703857422\n",
      "Time 2: 0.012066125869750977\n",
      "Time 3: 0.02635049819946289\n",
      "Time 4: 0.039324283599853516\n",
      "Time 5: 0.039223670959472656\n",
      "Time 6: 1.8596649169921875e-05\n",
      "\n"
     ]
    },
    {
     "name": "stderr",
     "output_type": "stream",
     "text": [
      "                                                                                \r"
     ]
    },
    {
     "name": "stdout",
     "output_type": "stream",
     "text": [
      "Time 1: 0.15744876861572266\n",
      "Time 2: 0.01193094253540039\n",
      "Time 3: 0.02608513832092285\n",
      "Time 4: 0.03915691375732422\n",
      "Time 5: 0.050150156021118164\n",
      "Time 6: 0.0001347064971923828\n",
      "\n"
     ]
    },
    {
     "name": "stderr",
     "output_type": "stream",
     "text": [
      "                                                                                \r"
     ]
    },
    {
     "name": "stdout",
     "output_type": "stream",
     "text": [
      "Time 1: 0.1767115592956543\n",
      "Time 2: 0.012141227722167969\n",
      "Time 3: 0.025719642639160156\n",
      "Time 4: 0.04465126991271973\n",
      "Time 5: 0.06617522239685059\n",
      "Time 6: 9.632110595703125e-05\n",
      "\n"
     ]
    },
    {
     "name": "stderr",
     "output_type": "stream",
     "text": [
      "                                                                                \r"
     ]
    },
    {
     "name": "stdout",
     "output_type": "stream",
     "text": [
      "Time 1: 0.18297362327575684\n",
      "Time 2: 0.013547420501708984\n",
      "Time 3: 0.04850006103515625\n",
      "Time 4: 0.04006195068359375\n",
      "Time 5: 0.03802037239074707\n",
      "Time 6: 0.00011348724365234375\n",
      "\n"
     ]
    },
    {
     "name": "stderr",
     "output_type": "stream",
     "text": [
      "                                                                                \r"
     ]
    },
    {
     "name": "stdout",
     "output_type": "stream",
     "text": [
      "Time 1: 0.16535425186157227\n",
      "Time 2: 0.011806488037109375\n",
      "Time 3: 0.032996177673339844\n",
      "Time 4: 0.03966569900512695\n",
      "Time 5: 0.04314851760864258\n",
      "Time 6: 4.76837158203125e-06\n",
      "\n"
     ]
    },
    {
     "name": "stderr",
     "output_type": "stream",
     "text": [
      "                                                                                \r"
     ]
    },
    {
     "name": "stdout",
     "output_type": "stream",
     "text": [
      "Time 1: 0.1396498680114746\n",
      "Time 2: 0.011912107467651367\n",
      "Time 3: 0.02675604820251465\n",
      "Time 4: 0.0404973030090332\n",
      "Time 5: 0.0422365665435791\n",
      "Time 6: 9.703636169433594e-05\n",
      "\n",
      "Time 1: 0.1897110939025879\n",
      "Time 2: 0.012515783309936523\n",
      "Time 3: 0.02760791778564453\n",
      "Time 4: 0.041095733642578125\n",
      "Time 5: 0.03973960876464844\n",
      "Time 6: 7.724761962890625e-05\n",
      "\n"
     ]
    },
    {
     "name": "stderr",
     "output_type": "stream",
     "text": [
      "                                                                                \r"
     ]
    },
    {
     "name": "stdout",
     "output_type": "stream",
     "text": [
      "Time 1: 0.23423504829406738\n",
      "Time 2: 0.012331485748291016\n",
      "Time 3: 0.03255176544189453\n",
      "Time 4: 0.040799856185913086\n",
      "Time 5: 0.03766798973083496\n",
      "Time 6: 0.0001323223114013672\n",
      "\n"
     ]
    },
    {
     "name": "stderr",
     "output_type": "stream",
     "text": [
      "                                                                                \r"
     ]
    },
    {
     "name": "stdout",
     "output_type": "stream",
     "text": [
      "Time 1: 0.18081045150756836\n",
      "Time 2: 0.011298179626464844\n",
      "Time 3: 0.026734590530395508\n",
      "Time 4: 0.04075455665588379\n",
      "Time 5: 0.037767648696899414\n",
      "Time 6: 0.00010132789611816406\n",
      "\n"
     ]
    },
    {
     "name": "stderr",
     "output_type": "stream",
     "text": [
      "                                                                                \r"
     ]
    },
    {
     "name": "stdout",
     "output_type": "stream",
     "text": [
      "Time 1: 0.15310931205749512\n",
      "Time 2: 0.011525392532348633\n",
      "Time 3: 0.026938199996948242\n",
      "Time 4: 0.03990340232849121\n",
      "Time 5: 0.04291653633117676\n",
      "Time 6: 9.393692016601562e-05\n",
      "\n",
      "Time 1: 0.20502972602844238\n",
      "Time 2: 0.01165151596069336\n",
      "Time 3: 0.02668476104736328\n",
      "Time 4: 0.059659719467163086\n",
      "Time 5: 0.0387730598449707\n",
      "Time 6: 0.0001347064971923828\n",
      "\n"
     ]
    },
    {
     "name": "stderr",
     "output_type": "stream",
     "text": [
      "                                                                                \r"
     ]
    },
    {
     "name": "stdout",
     "output_type": "stream",
     "text": [
      "Time 1: 0.16403961181640625\n",
      "Time 2: 0.013768672943115234\n",
      "Time 3: 0.03132271766662598\n",
      "Time 4: 0.04086017608642578\n",
      "Time 5: 0.04209589958190918\n",
      "Time 6: 0.0001995563507080078\n",
      "\n",
      "Time 1: 0.48623180389404297\n",
      "Time 2: 0.012308120727539062\n",
      "Time 3: 0.026416301727294922\n",
      "Time 4: 0.03728508949279785\n",
      "Time 5: 0.03985190391540527\n",
      "Time 6: 0.0001010894775390625\n",
      "\n"
     ]
    },
    {
     "name": "stderr",
     "output_type": "stream",
     "text": [
      "                                                                                \r"
     ]
    },
    {
     "name": "stdout",
     "output_type": "stream",
     "text": [
      "Time 1: 0.15876436233520508\n",
      "Time 2: 0.012769937515258789\n",
      "Time 3: 0.028568267822265625\n",
      "Time 4: 0.04048562049865723\n",
      "Time 5: 0.03910088539123535\n",
      "Time 6: 9.870529174804688e-05\n",
      "\n",
      "Time 1: 0.1369774341583252\n",
      "Time 2: 0.011744260787963867\n",
      "Time 3: 0.027555227279663086\n",
      "Time 4: 0.0482335090637207\n",
      "Time 5: 0.05917668342590332\n",
      "Time 6: 0.00010371208190917969\n",
      "\n",
      "Time 1: 0.16991806030273438\n",
      "Time 2: 0.012417793273925781\n",
      "Time 3: 0.02930927276611328\n",
      "Time 4: 0.04249310493469238\n",
      "Time 5: 0.04449343681335449\n",
      "Time 6: 7.200241088867188e-05\n",
      "\n",
      "Time 1: 0.14734482765197754\n",
      "Time 2: 0.012213706970214844\n",
      "Time 3: 0.027087926864624023\n",
      "Time 4: 0.0377957820892334\n",
      "Time 5: 0.03862333297729492\n",
      "Time 6: 0.00010442733764648438\n",
      "\n"
     ]
    },
    {
     "name": "stderr",
     "output_type": "stream",
     "text": [
      "                                                                                \r"
     ]
    },
    {
     "name": "stdout",
     "output_type": "stream",
     "text": [
      "Time 1: 0.16462159156799316\n",
      "Time 2: 0.012693405151367188\n",
      "Time 3: 0.028844356536865234\n",
      "Time 4: 0.044560909271240234\n",
      "Time 5: 0.039160728454589844\n",
      "Time 6: 0.00010013580322265625\n",
      "\n"
     ]
    },
    {
     "name": "stderr",
     "output_type": "stream",
     "text": [
      "                                                                                \r"
     ]
    },
    {
     "name": "stdout",
     "output_type": "stream",
     "text": [
      "Time 1: 0.15813875198364258\n",
      "Time 2: 0.012141942977905273\n",
      "Time 3: 0.027138948440551758\n",
      "Time 4: 0.0417933464050293\n",
      "Time 5: 0.04266953468322754\n",
      "Time 6: 0.0001609325408935547\n",
      "\n"
     ]
    },
    {
     "name": "stderr",
     "output_type": "stream",
     "text": [
      "                                                                                \r"
     ]
    },
    {
     "name": "stdout",
     "output_type": "stream",
     "text": [
      "Time 1: 0.15029263496398926\n",
      "Time 2: 0.011853694915771484\n",
      "Time 3: 0.027350187301635742\n",
      "Time 4: 0.03886842727661133\n",
      "Time 5: 0.04416775703430176\n",
      "Time 6: 2.574920654296875e-05\n",
      "\n",
      "Time 1: 0.15461111068725586\n",
      "Time 2: 0.011985063552856445\n",
      "Time 3: 0.02671217918395996\n",
      "Time 4: 0.038634538650512695\n",
      "Time 5: 0.04992532730102539\n",
      "Time 6: 0.000102996826171875\n",
      "\n"
     ]
    },
    {
     "name": "stderr",
     "output_type": "stream",
     "text": [
      "                                                                                \r"
     ]
    },
    {
     "name": "stdout",
     "output_type": "stream",
     "text": [
      "Time 1: 0.1654658317565918\n",
      "Time 2: 0.01190638542175293\n",
      "Time 3: 0.029828548431396484\n",
      "Time 4: 0.03846096992492676\n",
      "Time 5: 0.038179636001586914\n",
      "Time 6: 9.608268737792969e-05\n",
      "\n",
      "Time 1: 0.15401768684387207\n",
      "Time 2: 0.014061689376831055\n",
      "Time 3: 0.027079105377197266\n",
      "Time 4: 0.03918266296386719\n",
      "Time 5: 0.04132199287414551\n",
      "Time 6: 6.890296936035156e-05\n",
      "\n"
     ]
    },
    {
     "name": "stderr",
     "output_type": "stream",
     "text": [
      "                                                                                \r"
     ]
    },
    {
     "name": "stdout",
     "output_type": "stream",
     "text": [
      "Time 1: 0.18518710136413574\n",
      "Time 2: 0.011934518814086914\n",
      "Time 3: 0.026149511337280273\n",
      "Time 4: 0.04177427291870117\n",
      "Time 5: 0.0380253791809082\n",
      "Time 6: 8.392333984375e-05\n",
      "\n"
     ]
    },
    {
     "name": "stderr",
     "output_type": "stream",
     "text": [
      "                                                                                \r"
     ]
    },
    {
     "name": "stdout",
     "output_type": "stream",
     "text": [
      "Time 1: 0.1606457233428955\n",
      "Time 2: 0.011960506439208984\n",
      "Time 3: 0.026180744171142578\n",
      "Time 4: 0.040485382080078125\n",
      "Time 5: 0.04062485694885254\n",
      "Time 6: 0.00010824203491210938\n",
      "\n"
     ]
    },
    {
     "name": "stderr",
     "output_type": "stream",
     "text": [
      "                                                                                \r"
     ]
    },
    {
     "name": "stdout",
     "output_type": "stream",
     "text": [
      "Time 1: 0.14411115646362305\n",
      "Time 2: 0.011699914932250977\n",
      "Time 3: 0.02787637710571289\n",
      "Time 4: 0.0638432502746582\n",
      "Time 5: 0.04423403739929199\n",
      "Time 6: 0.00015687942504882812\n",
      "\n",
      "Time 1: 0.15317201614379883\n",
      "Time 2: 0.01172947883605957\n",
      "Time 3: 0.02855658531188965\n",
      "Time 4: 0.0380094051361084\n",
      "Time 5: 0.038527488708496094\n",
      "Time 6: 4.5299530029296875e-06\n",
      "\n",
      "Time 1: 0.18688297271728516\n",
      "Time 2: 0.019308805465698242\n",
      "Time 3: 0.025727033615112305\n",
      "Time 4: 0.037046194076538086\n",
      "Time 5: 0.039530277252197266\n",
      "Time 6: 0.0001239776611328125\n",
      "\n"
     ]
    },
    {
     "name": "stderr",
     "output_type": "stream",
     "text": [
      "\r",
      "[Stage 3763:===========>(199 + 1) / 200][Stage 3767:============> (12 + 1) / 14]\r",
      "\r",
      "                                                                                \r"
     ]
    },
    {
     "name": "stdout",
     "output_type": "stream",
     "text": [
      "Time 1: 0.17510223388671875\n",
      "Time 2: 0.011465311050415039\n",
      "Time 3: 0.025550127029418945\n",
      "Time 4: 0.037500858306884766\n",
      "Time 5: 0.03759264945983887\n",
      "Time 6: 0.00012803077697753906\n",
      "\n"
     ]
    },
    {
     "name": "stderr",
     "output_type": "stream",
     "text": [
      "                                                                                \r"
     ]
    },
    {
     "name": "stdout",
     "output_type": "stream",
     "text": [
      "Time 1: 0.17479705810546875\n",
      "Time 2: 0.012192964553833008\n",
      "Time 3: 0.05032682418823242\n",
      "Time 4: 0.0464327335357666\n",
      "Time 5: 0.04083442687988281\n",
      "Time 6: 0.00011587142944335938\n",
      "\n"
     ]
    },
    {
     "name": "stderr",
     "output_type": "stream",
     "text": [
      "                                                                                \r"
     ]
    },
    {
     "name": "stdout",
     "output_type": "stream",
     "text": [
      "Time 1: 0.16308283805847168\n",
      "Time 2: 0.012284278869628906\n",
      "Time 3: 0.029680490493774414\n",
      "Time 4: 0.0426487922668457\n",
      "Time 5: 0.042321205139160156\n",
      "Time 6: 0.00012755393981933594\n",
      "\n"
     ]
    },
    {
     "name": "stderr",
     "output_type": "stream",
     "text": [
      "                                                                                \r"
     ]
    },
    {
     "name": "stdout",
     "output_type": "stream",
     "text": [
      "Time 1: 0.17259693145751953\n",
      "Time 2: 0.01159524917602539\n",
      "Time 3: 0.02809596061706543\n",
      "Time 4: 0.043556928634643555\n",
      "Time 5: 0.06503558158874512\n",
      "Time 6: 0.00014019012451171875\n",
      "\n"
     ]
    },
    {
     "name": "stderr",
     "output_type": "stream",
     "text": [
      "                                                                                \r"
     ]
    },
    {
     "name": "stdout",
     "output_type": "stream",
     "text": [
      "Time 1: 0.17338275909423828\n",
      "Time 2: 0.014946699142456055\n",
      "Time 3: 0.04908180236816406\n",
      "Time 4: 0.03999519348144531\n",
      "Time 5: 0.04104328155517578\n",
      "Time 6: 1.2159347534179688e-05\n",
      "\n",
      "Time 1: 0.15070152282714844\n",
      "Time 2: 0.011440277099609375\n",
      "Time 3: 0.02643895149230957\n",
      "Time 4: 0.03922724723815918\n",
      "Time 5: 0.03980398178100586\n",
      "Time 6: 0.00012230873107910156\n",
      "\n"
     ]
    },
    {
     "name": "stderr",
     "output_type": "stream",
     "text": [
      "                                                                                \r"
     ]
    },
    {
     "name": "stdout",
     "output_type": "stream",
     "text": [
      "Time 1: 0.14018797874450684\n",
      "Time 2: 0.01169133186340332\n",
      "Time 3: 0.027374267578125\n",
      "Time 4: 0.05468392372131348\n",
      "Time 5: 0.060865163803100586\n",
      "Time 6: 0.00014901161193847656\n",
      "\n"
     ]
    },
    {
     "name": "stderr",
     "output_type": "stream",
     "text": [
      "                                                                                \r"
     ]
    },
    {
     "name": "stdout",
     "output_type": "stream",
     "text": [
      "Time 1: 0.15720248222351074\n",
      "Time 2: 0.011149168014526367\n",
      "Time 3: 0.0249178409576416\n",
      "Time 4: 0.037438392639160156\n",
      "Time 5: 0.03718972206115723\n",
      "Time 6: 0.0001010894775390625\n",
      "\n",
      "Time 1: 0.17344450950622559\n",
      "Time 2: 0.012403011322021484\n",
      "Time 3: 0.027523279190063477\n",
      "Time 4: 0.0518336296081543\n",
      "Time 5: 0.04555535316467285\n",
      "Time 6: 0.00012183189392089844\n",
      "\n"
     ]
    },
    {
     "name": "stderr",
     "output_type": "stream",
     "text": [
      "                                                                                \r"
     ]
    },
    {
     "name": "stdout",
     "output_type": "stream",
     "text": [
      "Time 1: 0.16826581954956055\n",
      "Time 2: 0.012084245681762695\n",
      "Time 3: 0.027020931243896484\n",
      "Time 4: 0.04050922393798828\n",
      "Time 5: 0.040390968322753906\n",
      "Time 6: 9.918212890625e-05\n",
      "\n"
     ]
    },
    {
     "name": "stderr",
     "output_type": "stream",
     "text": [
      "                                                                                \r"
     ]
    },
    {
     "name": "stdout",
     "output_type": "stream",
     "text": [
      "Time 1: 0.1652541160583496\n",
      "Time 2: 0.011403799057006836\n",
      "Time 3: 0.026655912399291992\n",
      "Time 4: 0.03876829147338867\n",
      "Time 5: 0.03792381286621094\n",
      "Time 6: 0.00012922286987304688\n",
      "\n"
     ]
    },
    {
     "name": "stderr",
     "output_type": "stream",
     "text": [
      "                                                                                \r"
     ]
    },
    {
     "name": "stdout",
     "output_type": "stream",
     "text": [
      "Time 1: 0.18265342712402344\n",
      "Time 2: 0.011717081069946289\n",
      "Time 3: 0.027211904525756836\n",
      "Time 4: 0.037812232971191406\n",
      "Time 5: 0.03771662712097168\n",
      "Time 6: 0.00011396408081054688\n",
      "\n",
      "Time 1: 0.2667102813720703\n",
      "Time 2: 0.012584924697875977\n",
      "Time 3: 0.09259033203125\n",
      "Time 4: 0.07831549644470215\n",
      "Time 5: 0.0582425594329834\n",
      "Time 6: 4.0531158447265625e-06\n",
      "\n",
      "Time 1: 0.20202350616455078\n",
      "Time 2: 0.012975215911865234\n",
      "Time 3: 0.034668922424316406\n",
      "Time 4: 0.06960916519165039\n",
      "Time 5: 0.04924345016479492\n",
      "Time 6: 0.0001125335693359375\n",
      "\n"
     ]
    },
    {
     "name": "stderr",
     "output_type": "stream",
     "text": [
      "                                                                                \r"
     ]
    },
    {
     "name": "stdout",
     "output_type": "stream",
     "text": [
      "Time 1: 0.1452934741973877\n",
      "Time 2: 0.01173853874206543\n",
      "Time 3: 0.03144645690917969\n",
      "Time 4: 0.038129568099975586\n",
      "Time 5: 0.037885189056396484\n",
      "Time 6: 0.00011086463928222656\n",
      "\n"
     ]
    },
    {
     "name": "stderr",
     "output_type": "stream",
     "text": [
      "                                                                                \r"
     ]
    },
    {
     "name": "stdout",
     "output_type": "stream",
     "text": [
      "Time 1: 0.1530764102935791\n",
      "Time 2: 0.010769128799438477\n",
      "Time 3: 0.024031639099121094\n",
      "Time 4: 0.06217694282531738\n",
      "Time 5: 0.05258440971374512\n",
      "Time 6: 0.0001323223114013672\n",
      "\n"
     ]
    },
    {
     "name": "stderr",
     "output_type": "stream",
     "text": [
      "                                                                                \r"
     ]
    },
    {
     "name": "stdout",
     "output_type": "stream",
     "text": [
      "Time 1: 0.6521773338317871\n",
      "Time 2: 0.012072563171386719\n",
      "Time 3: 0.027414798736572266\n",
      "Time 4: 0.03804326057434082\n",
      "Time 5: 0.03820466995239258\n",
      "Time 6: 9.417533874511719e-05\n",
      "\n",
      "Time 1: 0.22740864753723145\n",
      "Time 2: 0.011789560317993164\n",
      "Time 3: 0.03669595718383789\n",
      "Time 4: 0.08034920692443848\n",
      "Time 5: 0.055811166763305664\n",
      "Time 6: 1.1444091796875e-05\n",
      "\n",
      "Time 1: 0.15462875366210938\n",
      "Time 2: 0.011619091033935547\n",
      "Time 3: 0.0273740291595459\n",
      "Time 4: 0.03850865364074707\n",
      "Time 5: 0.037816762924194336\n",
      "Time 6: 0.00013446807861328125\n",
      "\n"
     ]
    },
    {
     "name": "stderr",
     "output_type": "stream",
     "text": [
      "                                                                                \r"
     ]
    },
    {
     "name": "stdout",
     "output_type": "stream",
     "text": [
      "Time 1: 0.17034292221069336\n",
      "Time 2: 0.012418508529663086\n",
      "Time 3: 0.028189897537231445\n",
      "Time 4: 0.03986191749572754\n",
      "Time 5: 0.03972291946411133\n",
      "Time 6: 9.107589721679688e-05\n",
      "\n",
      "Time 1: 0.17136502265930176\n",
      "Time 2: 0.010625123977661133\n",
      "Time 3: 0.037781715393066406\n",
      "Time 4: 0.053971052169799805\n",
      "Time 5: 0.046373605728149414\n",
      "Time 6: 0.0001289844512939453\n",
      "\n",
      "Time 1: 0.1599428653717041\n",
      "Time 2: 0.011835813522338867\n",
      "Time 3: 0.02870488166809082\n",
      "Time 4: 0.0393977165222168\n",
      "Time 5: 0.04124259948730469\n",
      "Time 6: 0.00010013580322265625\n",
      "\n"
     ]
    },
    {
     "name": "stderr",
     "output_type": "stream",
     "text": [
      "                                                                                \r"
     ]
    },
    {
     "name": "stdout",
     "output_type": "stream",
     "text": [
      "Time 1: 0.1667771339416504\n",
      "Time 2: 0.014702081680297852\n",
      "Time 3: 0.030423879623413086\n",
      "Time 4: 0.03917431831359863\n",
      "Time 5: 0.05000567436218262\n",
      "Time 6: 0.0001437664031982422\n",
      "\n",
      "Time 1: 0.14307594299316406\n",
      "Time 2: 0.012085676193237305\n",
      "Time 3: 0.029373884201049805\n",
      "Time 4: 0.050779104232788086\n",
      "Time 5: 0.040578365325927734\n",
      "Time 6: 6.842613220214844e-05\n",
      "\n"
     ]
    },
    {
     "name": "stderr",
     "output_type": "stream",
     "text": [
      "                                                                                \r"
     ]
    },
    {
     "name": "stdout",
     "output_type": "stream",
     "text": [
      "Time 1: 0.1405777931213379\n",
      "Time 2: 0.012321949005126953\n",
      "Time 3: 0.026309490203857422\n",
      "Time 4: 0.037335872650146484\n",
      "Time 5: 0.03699660301208496\n",
      "Time 6: 0.00012230873107910156\n",
      "\n"
     ]
    },
    {
     "name": "stderr",
     "output_type": "stream",
     "text": [
      "                                                                                \r"
     ]
    },
    {
     "name": "stdout",
     "output_type": "stream",
     "text": [
      "Time 1: 0.20807647705078125\n",
      "Time 2: 0.012006044387817383\n",
      "Time 3: 0.026530742645263672\n",
      "Time 4: 0.041774749755859375\n",
      "Time 5: 0.038666725158691406\n",
      "Time 6: 9.799003601074219e-05\n",
      "\n",
      "Time 1: 0.14507055282592773\n",
      "Time 2: 0.011622905731201172\n",
      "Time 3: 0.027065277099609375\n",
      "Time 4: 0.041216373443603516\n",
      "Time 5: 0.04094123840332031\n",
      "Time 6: 9.393692016601562e-05\n",
      "\n",
      "Time 1: 0.18348312377929688\n",
      "Time 2: 0.012609481811523438\n",
      "Time 3: 0.03384995460510254\n",
      "Time 4: 0.05426979064941406\n",
      "Time 5: 0.039018869400024414\n",
      "Time 6: 0.00011587142944335938\n",
      "\n",
      "Time 1: 0.16302037239074707\n",
      "Time 2: 0.013503074645996094\n",
      "Time 3: 0.029204130172729492\n",
      "Time 4: 0.0389707088470459\n",
      "Time 5: 0.04201078414916992\n",
      "Time 6: 0.00012874603271484375\n",
      "\n",
      "Time 1: 0.1681666374206543\n",
      "Time 2: 0.011898279190063477\n",
      "Time 3: 0.027697324752807617\n",
      "Time 4: 0.04263424873352051\n",
      "Time 5: 0.03954625129699707\n",
      "Time 6: 0.000110626220703125\n",
      "\n"
     ]
    },
    {
     "name": "stderr",
     "output_type": "stream",
     "text": [
      "                                                                                \r"
     ]
    },
    {
     "name": "stdout",
     "output_type": "stream",
     "text": [
      "Time 1: 0.19481515884399414\n",
      "Time 2: 0.012134075164794922\n",
      "Time 3: 0.028456926345825195\n",
      "Time 4: 0.042073965072631836\n",
      "Time 5: 0.04127645492553711\n",
      "Time 6: 9.274482727050781e-05\n",
      "\n"
     ]
    },
    {
     "name": "stderr",
     "output_type": "stream",
     "text": [
      "                                                                                \r"
     ]
    },
    {
     "name": "stdout",
     "output_type": "stream",
     "text": [
      "Time 1: 0.15601062774658203\n",
      "Time 2: 0.012194156646728516\n",
      "Time 3: 0.03141140937805176\n",
      "Time 4: 0.04250502586364746\n",
      "Time 5: 0.045302629470825195\n",
      "Time 6: 0.00016951560974121094\n",
      "\n"
     ]
    },
    {
     "name": "stderr",
     "output_type": "stream",
     "text": [
      "                                                                                \r"
     ]
    },
    {
     "name": "stdout",
     "output_type": "stream",
     "text": [
      "Time 1: 0.13709306716918945\n",
      "Time 2: 0.012160539627075195\n",
      "Time 3: 0.02814769744873047\n",
      "Time 4: 0.040985107421875\n",
      "Time 5: 0.04067635536193848\n",
      "Time 6: 9.1552734375e-05\n",
      "\n"
     ]
    },
    {
     "name": "stderr",
     "output_type": "stream",
     "text": [
      "                                                                                \r"
     ]
    },
    {
     "name": "stdout",
     "output_type": "stream",
     "text": [
      "Time 1: 0.14001989364624023\n",
      "Time 2: 0.011392354965209961\n",
      "Time 3: 0.026538848876953125\n",
      "Time 4: 0.036876678466796875\n",
      "Time 5: 0.03652334213256836\n",
      "Time 6: 5.245208740234375e-06\n",
      "\n",
      "Time 1: 0.20032501220703125\n",
      "Time 2: 0.011484622955322266\n",
      "Time 3: 0.028486013412475586\n",
      "Time 4: 0.049773216247558594\n",
      "Time 5: 0.04014158248901367\n",
      "Time 6: 4.76837158203125e-06\n",
      "\n",
      "Time 1: 0.16245484352111816\n",
      "Time 2: 0.015389680862426758\n",
      "Time 3: 0.03836560249328613\n",
      "Time 4: 0.0506436824798584\n",
      "Time 5: 0.042337656021118164\n",
      "Time 6: 9.72747802734375e-05\n",
      "\n"
     ]
    },
    {
     "name": "stderr",
     "output_type": "stream",
     "text": [
      "                                                                                \r"
     ]
    },
    {
     "name": "stdout",
     "output_type": "stream",
     "text": [
      "Time 1: 0.18775248527526855\n",
      "Time 2: 0.011209964752197266\n",
      "Time 3: 0.02971625328063965\n",
      "Time 4: 0.039159297943115234\n",
      "Time 5: 0.03990817070007324\n",
      "Time 6: 5.245208740234375e-06\n",
      "\n",
      "Time 1: 0.1826176643371582\n",
      "Time 2: 0.01285099983215332\n",
      "Time 3: 0.027768373489379883\n",
      "Time 4: 0.043103694915771484\n",
      "Time 5: 0.0709071159362793\n",
      "Time 6: 5.245208740234375e-06\n",
      "\n"
     ]
    },
    {
     "name": "stderr",
     "output_type": "stream",
     "text": [
      "                                                                                \r"
     ]
    },
    {
     "name": "stdout",
     "output_type": "stream",
     "text": [
      "Time 1: 0.15770459175109863\n",
      "Time 2: 0.012875556945800781\n",
      "Time 3: 0.03725457191467285\n",
      "Time 4: 0.03938865661621094\n",
      "Time 5: 0.042485713958740234\n",
      "Time 6: 9.393692016601562e-05\n",
      "\n"
     ]
    },
    {
     "name": "stderr",
     "output_type": "stream",
     "text": [
      "                                                                                \r"
     ]
    },
    {
     "name": "stdout",
     "output_type": "stream",
     "text": [
      "Time 1: 0.2073678970336914\n",
      "Time 2: 0.012062549591064453\n",
      "Time 3: 0.028638839721679688\n",
      "Time 4: 0.041681528091430664\n",
      "Time 5: 0.039601802825927734\n",
      "Time 6: 0.00010442733764648438\n",
      "\n",
      "Time 1: 0.18984079360961914\n",
      "Time 2: 0.011682510375976562\n",
      "Time 3: 0.025693655014038086\n",
      "Time 4: 0.040064096450805664\n",
      "Time 5: 0.03824901580810547\n",
      "Time 6: 0.00010251998901367188\n",
      "\n",
      "Time 1: 0.19370532035827637\n",
      "Time 2: 0.01165318489074707\n",
      "Time 3: 0.027482986450195312\n",
      "Time 4: 0.04663896560668945\n",
      "Time 5: 0.03828144073486328\n",
      "Time 6: 9.322166442871094e-05\n",
      "\n"
     ]
    },
    {
     "name": "stderr",
     "output_type": "stream",
     "text": [
      "                                                                                \r"
     ]
    },
    {
     "name": "stdout",
     "output_type": "stream",
     "text": [
      "Time 1: 0.21544623374938965\n",
      "Time 2: 0.011220216751098633\n",
      "Time 3: 0.025890350341796875\n",
      "Time 4: 0.03873634338378906\n",
      "Time 5: 0.03921365737915039\n",
      "Time 6: 1.2874603271484375e-05\n",
      "\n",
      "Time 1: 0.20405220985412598\n",
      "Time 2: 0.011794805526733398\n",
      "Time 3: 0.02779698371887207\n",
      "Time 4: 0.04031944274902344\n",
      "Time 5: 0.040045738220214844\n",
      "Time 6: 0.00011777877807617188\n",
      "\n",
      "Time 1: 0.22386765480041504\n",
      "Time 2: 0.013493537902832031\n",
      "Time 3: 0.02947092056274414\n",
      "Time 4: 0.03814554214477539\n",
      "Time 5: 0.04246211051940918\n",
      "Time 6: 0.00010085105895996094\n",
      "\n"
     ]
    },
    {
     "name": "stderr",
     "output_type": "stream",
     "text": [
      "                                                                                \r"
     ]
    },
    {
     "name": "stdout",
     "output_type": "stream",
     "text": [
      "Time 1: 0.19909000396728516\n",
      "Time 2: 0.011507034301757812\n",
      "Time 3: 0.026206493377685547\n",
      "Time 4: 0.04688119888305664\n",
      "Time 5: 0.04166841506958008\n",
      "Time 6: 0.000110626220703125\n",
      "\n",
      "Time 1: 0.23806142807006836\n",
      "Time 2: 0.012578964233398438\n",
      "Time 3: 0.04012775421142578\n",
      "Time 4: 0.0581212043762207\n",
      "Time 5: 0.038331031799316406\n",
      "Time 6: 0.00011897087097167969\n",
      "\n",
      "Time 1: 0.22494006156921387\n",
      "Time 2: 0.014940500259399414\n",
      "Time 3: 0.026336193084716797\n",
      "Time 4: 0.038117408752441406\n",
      "Time 5: 0.03768801689147949\n",
      "Time 6: 5.7697296142578125e-05\n",
      "\n",
      "Time 1: 0.22192668914794922\n",
      "Time 2: 0.01257634162902832\n",
      "Time 3: 0.02944207191467285\n",
      "Time 4: 0.05765724182128906\n",
      "Time 5: 0.03842973709106445\n",
      "Time 6: 5.0067901611328125e-06\n",
      "\n",
      "Time 1: 0.22771501541137695\n",
      "Time 2: 0.013810157775878906\n",
      "Time 3: 0.027385950088500977\n",
      "Time 4: 0.038718461990356445\n",
      "Time 5: 0.050005435943603516\n",
      "Time 6: 9.5367431640625e-05\n",
      "\n"
     ]
    },
    {
     "name": "stderr",
     "output_type": "stream",
     "text": [
      "                                                                                \r"
     ]
    },
    {
     "name": "stdout",
     "output_type": "stream",
     "text": [
      "Time 1: 0.17972540855407715\n",
      "Time 2: 0.015100240707397461\n",
      "Time 3: 0.03666973114013672\n",
      "Time 4: 0.06579208374023438\n",
      "Time 5: 0.0402531623840332\n",
      "Time 6: 8.869171142578125e-05\n",
      "\n",
      "Time 1: 0.19277286529541016\n",
      "Time 2: 0.021651506423950195\n",
      "Time 3: 0.027252912521362305\n",
      "Time 4: 0.037421464920043945\n",
      "Time 5: 0.03835606575012207\n",
      "Time 6: 0.00011372566223144531\n",
      "\n",
      "Time 1: 0.13716626167297363\n",
      "Time 2: 0.01168513298034668\n",
      "Time 3: 0.026557207107543945\n",
      "Time 4: 0.039009809494018555\n",
      "Time 5: 0.08593893051147461\n",
      "Time 6: 0.00012874603271484375\n",
      "\n",
      "Time 1: 0.16753840446472168\n",
      "Time 2: 0.011497974395751953\n",
      "Time 3: 0.026695728302001953\n",
      "Time 4: 0.04410243034362793\n",
      "Time 5: 0.040370941162109375\n",
      "Time 6: 0.00011229515075683594\n",
      "\n"
     ]
    },
    {
     "name": "stderr",
     "output_type": "stream",
     "text": [
      "                                                                                \r"
     ]
    },
    {
     "name": "stdout",
     "output_type": "stream",
     "text": [
      "Time 1: 0.17816758155822754\n",
      "Time 2: 0.011832237243652344\n",
      "Time 3: 0.04497861862182617\n",
      "Time 4: 0.05408620834350586\n",
      "Time 5: 0.06695961952209473\n",
      "Time 6: 0.00012254714965820312\n",
      "\n"
     ]
    },
    {
     "name": "stderr",
     "output_type": "stream",
     "text": [
      "                                                                                \r"
     ]
    },
    {
     "name": "stdout",
     "output_type": "stream",
     "text": [
      "Time 1: 0.18720769882202148\n",
      "Time 2: 0.011078596115112305\n",
      "Time 3: 0.026070833206176758\n",
      "Time 4: 0.0431370735168457\n",
      "Time 5: 0.03866410255432129\n",
      "Time 6: 0.00010538101196289062\n",
      "\n"
     ]
    },
    {
     "name": "stderr",
     "output_type": "stream",
     "text": [
      "                                                                                \r"
     ]
    },
    {
     "name": "stdout",
     "output_type": "stream",
     "text": [
      "Time 1: 0.15286707878112793\n",
      "Time 2: 0.011812925338745117\n",
      "Time 3: 0.02681136131286621\n",
      "Time 4: 0.03964352607727051\n",
      "Time 5: 0.040053367614746094\n",
      "Time 6: 8.249282836914062e-05\n",
      "\n"
     ]
    },
    {
     "name": "stderr",
     "output_type": "stream",
     "text": [
      "                                                                                \r"
     ]
    },
    {
     "name": "stdout",
     "output_type": "stream",
     "text": [
      "Time 1: 0.15338945388793945\n",
      "Time 2: 0.01134490966796875\n",
      "Time 3: 0.048371076583862305\n",
      "Time 4: 0.039499521255493164\n",
      "Time 5: 0.039079904556274414\n",
      "Time 6: 0.00013399124145507812\n",
      "\n",
      "Time 1: 0.16697359085083008\n",
      "Time 2: 0.011937379837036133\n",
      "Time 3: 0.028570890426635742\n",
      "Time 4: 0.040401458740234375\n",
      "Time 5: 0.03869795799255371\n",
      "Time 6: 7.510185241699219e-05\n",
      "\n"
     ]
    },
    {
     "name": "stderr",
     "output_type": "stream",
     "text": [
      "                                                                                \r"
     ]
    },
    {
     "name": "stdout",
     "output_type": "stream",
     "text": [
      "Time 1: 0.16531610488891602\n",
      "Time 2: 0.01621103286743164\n",
      "Time 3: 0.035533905029296875\n",
      "Time 4: 0.04017949104309082\n",
      "Time 5: 0.06982731819152832\n",
      "Time 6: 0.00014925003051757812\n",
      "\n"
     ]
    },
    {
     "name": "stderr",
     "output_type": "stream",
     "text": [
      "                                                                                \r"
     ]
    },
    {
     "name": "stdout",
     "output_type": "stream",
     "text": [
      "Time 1: 0.17246794700622559\n",
      "Time 2: 0.012398719787597656\n",
      "Time 3: 0.02931976318359375\n",
      "Time 4: 0.04890942573547363\n",
      "Time 5: 0.03926396369934082\n",
      "Time 6: 0.00010824203491210938\n",
      "\n"
     ]
    },
    {
     "name": "stderr",
     "output_type": "stream",
     "text": [
      "                                                                                \r"
     ]
    },
    {
     "name": "stdout",
     "output_type": "stream",
     "text": [
      "Time 1: 0.17722320556640625\n",
      "Time 2: 0.012405157089233398\n",
      "Time 3: 0.027696847915649414\n",
      "Time 4: 0.03892803192138672\n",
      "Time 5: 0.05876970291137695\n",
      "Time 6: 0.00012159347534179688\n",
      "\n"
     ]
    },
    {
     "name": "stderr",
     "output_type": "stream",
     "text": [
      "                                                                                \r"
     ]
    },
    {
     "name": "stdout",
     "output_type": "stream",
     "text": [
      "Time 1: 0.15352177619934082\n",
      "Time 2: 0.011757373809814453\n",
      "Time 3: 0.02603459358215332\n",
      "Time 4: 0.04458880424499512\n",
      "Time 5: 0.037769317626953125\n",
      "Time 6: 0.0001220703125\n",
      "\n"
     ]
    },
    {
     "name": "stderr",
     "output_type": "stream",
     "text": [
      "                                                                                \r"
     ]
    },
    {
     "name": "stdout",
     "output_type": "stream",
     "text": [
      "Time 1: 0.20372486114501953\n",
      "Time 2: 0.014356613159179688\n",
      "Time 3: 0.030391454696655273\n",
      "Time 4: 0.06339240074157715\n",
      "Time 5: 0.05387473106384277\n",
      "Time 6: 8.392333984375e-05\n",
      "\n"
     ]
    },
    {
     "name": "stderr",
     "output_type": "stream",
     "text": [
      "                                                                                \r"
     ]
    },
    {
     "name": "stdout",
     "output_type": "stream",
     "text": [
      "Time 1: 0.19800376892089844\n",
      "Time 2: 0.012567996978759766\n",
      "Time 3: 0.02744150161743164\n",
      "Time 4: 0.04080677032470703\n",
      "Time 5: 0.053435325622558594\n",
      "Time 6: 0.00011754035949707031\n",
      "\n",
      "Time 1: 0.16049671173095703\n",
      "Time 2: 0.012468576431274414\n",
      "Time 3: 0.04272890090942383\n",
      "Time 4: 0.06432032585144043\n",
      "Time 5: 0.038841962814331055\n",
      "Time 6: 0.0001385211944580078\n",
      "\n"
     ]
    },
    {
     "name": "stderr",
     "output_type": "stream",
     "text": [
      "                                                                                \r"
     ]
    },
    {
     "name": "stdout",
     "output_type": "stream",
     "text": [
      "Time 1: 0.17329192161560059\n",
      "Time 2: 0.013201236724853516\n",
      "Time 3: 0.03015279769897461\n",
      "Time 4: 0.04140067100524902\n",
      "Time 5: 0.0447542667388916\n",
      "Time 6: 0.00010538101196289062\n",
      "\n"
     ]
    },
    {
     "name": "stderr",
     "output_type": "stream",
     "text": [
      "                                                                                \r"
     ]
    },
    {
     "name": "stdout",
     "output_type": "stream",
     "text": [
      "Time 1: 0.22460222244262695\n",
      "Time 2: 0.011555671691894531\n",
      "Time 3: 0.026298999786376953\n",
      "Time 4: 0.04419708251953125\n",
      "Time 5: 0.03793525695800781\n",
      "Time 6: 0.00010919570922851562\n",
      "\n"
     ]
    },
    {
     "name": "stderr",
     "output_type": "stream",
     "text": [
      "                                                                                \r"
     ]
    },
    {
     "name": "stdout",
     "output_type": "stream",
     "text": [
      "Time 1: 0.15838360786437988\n",
      "Time 2: 0.011650800704956055\n",
      "Time 3: 0.028654098510742188\n",
      "Time 4: 0.03914451599121094\n",
      "Time 5: 0.04032325744628906\n",
      "Time 6: 0.0001327991485595703\n",
      "\n",
      "Time 1: 0.21610689163208008\n",
      "Time 2: 0.011196374893188477\n",
      "Time 3: 0.025261640548706055\n",
      "Time 4: 0.04380059242248535\n",
      "Time 5: 0.04170989990234375\n",
      "Time 6: 4.76837158203125e-06\n",
      "\n"
     ]
    },
    {
     "name": "stderr",
     "output_type": "stream",
     "text": [
      "                                                                                \r"
     ]
    },
    {
     "name": "stdout",
     "output_type": "stream",
     "text": [
      "Time 1: 0.21887612342834473\n",
      "Time 2: 0.011075019836425781\n",
      "Time 3: 0.034995317459106445\n",
      "Time 4: 0.06361937522888184\n",
      "Time 5: 0.03945779800415039\n",
      "Time 6: 0.00011920928955078125\n",
      "\n"
     ]
    },
    {
     "name": "stderr",
     "output_type": "stream",
     "text": [
      "                                                                                \r"
     ]
    },
    {
     "name": "stdout",
     "output_type": "stream",
     "text": [
      "Time 1: 0.23876094818115234\n",
      "Time 2: 0.012322187423706055\n",
      "Time 3: 0.028840303421020508\n",
      "Time 4: 0.038332223892211914\n",
      "Time 5: 0.03846430778503418\n",
      "Time 6: 9.202957153320312e-05\n",
      "\n"
     ]
    },
    {
     "name": "stderr",
     "output_type": "stream",
     "text": [
      "                                                                                \r"
     ]
    },
    {
     "name": "stdout",
     "output_type": "stream",
     "text": [
      "Time 1: 0.22486305236816406\n",
      "Time 2: 0.01252603530883789\n",
      "Time 3: 0.05324888229370117\n",
      "Time 4: 0.04113030433654785\n",
      "Time 5: 0.038069963455200195\n",
      "Time 6: 4.5299530029296875e-06\n",
      "\n",
      "Time 1: 0.2095963954925537\n",
      "Time 2: 0.01225423812866211\n",
      "Time 3: 0.029864072799682617\n",
      "Time 4: 0.0426638126373291\n",
      "Time 5: 0.04105424880981445\n",
      "Time 6: 0.00012135505676269531\n",
      "\n",
      "Time 1: 0.18017029762268066\n",
      "Time 2: 0.011988401412963867\n",
      "Time 3: 0.030518531799316406\n",
      "Time 4: 0.03905200958251953\n",
      "Time 5: 0.03847837448120117\n",
      "Time 6: 4.5299530029296875e-06\n",
      "\n",
      "Time 1: 0.14212822914123535\n",
      "Time 2: 0.011868953704833984\n",
      "Time 3: 0.025923967361450195\n",
      "Time 4: 0.03993058204650879\n",
      "Time 5: 0.045706748962402344\n",
      "Time 6: 0.00011277198791503906\n",
      "\n",
      "Time 1: 0.18914318084716797\n",
      "Time 2: 0.011103153228759766\n",
      "Time 3: 0.04557085037231445\n",
      "Time 4: 0.03914809226989746\n",
      "Time 5: 0.03836798667907715\n",
      "Time 6: 0.00011992454528808594\n",
      "\n",
      "Time 1: 0.14684224128723145\n",
      "Time 2: 0.012578725814819336\n",
      "Time 3: 0.03821969032287598\n",
      "Time 4: 0.06319427490234375\n",
      "Time 5: 0.060198307037353516\n",
      "Time 6: 0.00010347366333007812\n",
      "\n"
     ]
    },
    {
     "name": "stderr",
     "output_type": "stream",
     "text": [
      "                                                                                \r"
     ]
    },
    {
     "name": "stdout",
     "output_type": "stream",
     "text": [
      "Time 1: 0.140380859375\n",
      "Time 2: 0.011521100997924805\n",
      "Time 3: 0.030652761459350586\n",
      "Time 4: 0.04024243354797363\n",
      "Time 5: 0.04002881050109863\n",
      "Time 6: 8.630752563476562e-05\n",
      "\n"
     ]
    },
    {
     "name": "stderr",
     "output_type": "stream",
     "text": [
      "                                                                                \r"
     ]
    },
    {
     "name": "stdout",
     "output_type": "stream",
     "text": [
      "Time 1: 0.16052627563476562\n",
      "Time 2: 0.011379003524780273\n",
      "Time 3: 0.026110172271728516\n",
      "Time 4: 0.03721880912780762\n",
      "Time 5: 0.07220220565795898\n",
      "Time 6: 0.00010156631469726562\n",
      "\n",
      "Time 1: 0.2589757442474365\n",
      "Time 2: 0.012131214141845703\n",
      "Time 3: 0.027794599533081055\n",
      "Time 4: 0.0471041202545166\n",
      "Time 5: 0.04149794578552246\n",
      "Time 6: 0.00011515617370605469\n",
      "\n"
     ]
    },
    {
     "name": "stderr",
     "output_type": "stream",
     "text": [
      "                                                                                \r"
     ]
    },
    {
     "name": "stdout",
     "output_type": "stream",
     "text": [
      "Time 1: 0.14298653602600098\n",
      "Time 2: 0.011765241622924805\n",
      "Time 3: 0.03313302993774414\n",
      "Time 4: 0.043897390365600586\n",
      "Time 5: 0.05646944046020508\n",
      "Time 6: 0.00012969970703125\n",
      "\n",
      "Time 1: 0.18493270874023438\n",
      "Time 2: 0.012053489685058594\n",
      "Time 3: 0.02654862403869629\n",
      "Time 4: 0.0394139289855957\n",
      "Time 5: 0.05929923057556152\n",
      "Time 6: 0.00010704994201660156\n",
      "\n",
      "Time 1: 0.19273924827575684\n",
      "Time 2: 0.01126551628112793\n",
      "Time 3: 0.03925371170043945\n",
      "Time 4: 0.051625967025756836\n",
      "Time 5: 0.0423734188079834\n",
      "Time 6: 0.00013566017150878906\n",
      "\n"
     ]
    },
    {
     "name": "stderr",
     "output_type": "stream",
     "text": [
      "                                                                                \r"
     ]
    },
    {
     "name": "stdout",
     "output_type": "stream",
     "text": [
      "Time 1: 0.14430928230285645\n",
      "Time 2: 0.011414527893066406\n",
      "Time 3: 0.06267547607421875\n",
      "Time 4: 0.04062676429748535\n",
      "Time 5: 0.04222297668457031\n",
      "Time 6: 0.00010013580322265625\n",
      "\n",
      "Time 1: 0.17423295974731445\n",
      "Time 2: 0.011325597763061523\n",
      "Time 3: 0.02794671058654785\n",
      "Time 4: 0.03925752639770508\n",
      "Time 5: 0.03782463073730469\n",
      "Time 6: 0.00011038780212402344\n",
      "\n"
     ]
    },
    {
     "name": "stderr",
     "output_type": "stream",
     "text": [
      "                                                                                \r"
     ]
    },
    {
     "name": "stdout",
     "output_type": "stream",
     "text": [
      "Time 1: 0.14742755889892578\n",
      "Time 2: 0.011179447174072266\n",
      "Time 3: 0.06022977828979492\n",
      "Time 4: 0.04286789894104004\n",
      "Time 5: 0.03914451599121094\n",
      "Time 6: 4.76837158203125e-06\n",
      "\n"
     ]
    },
    {
     "name": "stderr",
     "output_type": "stream",
     "text": [
      "                                                                                \r"
     ]
    },
    {
     "name": "stdout",
     "output_type": "stream",
     "text": [
      "Time 1: 0.14309358596801758\n",
      "Time 2: 0.012033939361572266\n",
      "Time 3: 0.027514219284057617\n",
      "Time 4: 0.04110407829284668\n",
      "Time 5: 0.041404008865356445\n",
      "Time 6: 9.250640869140625e-05\n",
      "\n",
      "Time 1: 0.16490864753723145\n",
      "Time 2: 0.011357307434082031\n",
      "Time 3: 0.028016090393066406\n",
      "Time 4: 0.03872394561767578\n",
      "Time 5: 0.03863859176635742\n",
      "Time 6: 0.00013780593872070312\n",
      "\n"
     ]
    },
    {
     "name": "stderr",
     "output_type": "stream",
     "text": [
      "\r",
      "[Stage 5632:===========>(197 + 3) / 200][Stage 5636:=============>(13 + 0) / 14]\r",
      "\r",
      "                                                                                \r"
     ]
    },
    {
     "name": "stdout",
     "output_type": "stream",
     "text": [
      "Time 1: 0.1712493896484375\n",
      "Time 2: 0.011883020401000977\n",
      "Time 3: 0.03512740135192871\n",
      "Time 4: 0.059499263763427734\n",
      "Time 5: 0.048445940017700195\n",
      "Time 6: 1.0967254638671875e-05\n",
      "\n",
      "Time 1: 0.1440737247467041\n",
      "Time 2: 0.011090993881225586\n",
      "Time 3: 0.05319356918334961\n",
      "Time 4: 0.04037308692932129\n",
      "Time 5: 0.05010700225830078\n",
      "Time 6: 9.5367431640625e-06\n",
      "\n"
     ]
    },
    {
     "name": "stderr",
     "output_type": "stream",
     "text": [
      "                                                                                \r"
     ]
    },
    {
     "name": "stdout",
     "output_type": "stream",
     "text": [
      "Time 1: 0.16008210182189941\n",
      "Time 2: 0.012029170989990234\n",
      "Time 3: 0.028247356414794922\n",
      "Time 4: 0.03948068618774414\n",
      "Time 5: 0.0428619384765625\n",
      "Time 6: 4.76837158203125e-06\n",
      "\n",
      "Time 1: 0.14231657981872559\n",
      "Time 2: 0.0105133056640625\n",
      "Time 3: 0.03322410583496094\n",
      "Time 4: 0.05643510818481445\n",
      "Time 5: 0.060479164123535156\n",
      "Time 6: 4.5299530029296875e-06\n",
      "\n"
     ]
    },
    {
     "name": "stderr",
     "output_type": "stream",
     "text": [
      "                                                                                \r"
     ]
    },
    {
     "name": "stdout",
     "output_type": "stream",
     "text": [
      "Time 1: 0.16104531288146973\n",
      "Time 2: 0.011584043502807617\n",
      "Time 3: 0.02828502655029297\n",
      "Time 4: 0.04042935371398926\n",
      "Time 5: 0.044037818908691406\n",
      "Time 6: 0.00013399124145507812\n",
      "\n"
     ]
    },
    {
     "name": "stderr",
     "output_type": "stream",
     "text": [
      "                                                                                \r"
     ]
    },
    {
     "name": "stdout",
     "output_type": "stream",
     "text": [
      "Time 1: 0.1605536937713623\n",
      "Time 2: 0.01571822166442871\n",
      "Time 3: 0.03767848014831543\n",
      "Time 4: 0.05450248718261719\n",
      "Time 5: 0.04063057899475098\n",
      "Time 6: 4.76837158203125e-06\n",
      "\n",
      "Time 1: 0.1621408462524414\n",
      "Time 2: 0.011580705642700195\n",
      "Time 3: 0.04336977005004883\n",
      "Time 4: 0.0378575325012207\n",
      "Time 5: 0.039299726486206055\n",
      "Time 6: 9.846687316894531e-05\n",
      "\n"
     ]
    },
    {
     "name": "stderr",
     "output_type": "stream",
     "text": [
      "                                                                                \r"
     ]
    },
    {
     "name": "stdout",
     "output_type": "stream",
     "text": [
      "Time 1: 0.19010591506958008\n",
      "Time 2: 0.011716365814208984\n",
      "Time 3: 0.03451275825500488\n",
      "Time 4: 0.0711984634399414\n",
      "Time 5: 0.05482983589172363\n",
      "Time 6: 7.653236389160156e-05\n",
      "\n"
     ]
    },
    {
     "name": "stderr",
     "output_type": "stream",
     "text": [
      "                                                                                \r"
     ]
    },
    {
     "name": "stdout",
     "output_type": "stream",
     "text": [
      "Time 1: 0.14109015464782715\n",
      "Time 2: 0.011206865310668945\n",
      "Time 3: 0.024688243865966797\n",
      "Time 4: 0.03738903999328613\n",
      "Time 5: 0.03729724884033203\n",
      "Time 6: 8.821487426757812e-06\n",
      "\n",
      "Time 1: 0.1537489891052246\n",
      "Time 2: 0.011718988418579102\n",
      "Time 3: 0.027675151824951172\n",
      "Time 4: 0.060303688049316406\n",
      "Time 5: 0.03950786590576172\n",
      "Time 6: 5.0067901611328125e-06\n",
      "\n",
      "Time 1: 0.17327094078063965\n",
      "Time 2: 0.011011838912963867\n",
      "Time 3: 0.03713178634643555\n",
      "Time 4: 0.05509495735168457\n",
      "Time 5: 0.04016852378845215\n",
      "Time 6: 0.00011444091796875\n",
      "\n",
      "Time 1: 0.16124296188354492\n",
      "Time 2: 0.010610818862915039\n",
      "Time 3: 0.027951717376708984\n",
      "Time 4: 0.03988957405090332\n",
      "Time 5: 0.03510260581970215\n",
      "Time 6: 0.00011658668518066406\n",
      "\n"
     ]
    },
    {
     "name": "stderr",
     "output_type": "stream",
     "text": [
      "                                                                                \r"
     ]
    },
    {
     "name": "stdout",
     "output_type": "stream",
     "text": [
      "Time 1: 0.17351889610290527\n",
      "Time 2: 0.011230230331420898\n",
      "Time 3: 0.026293277740478516\n",
      "Time 4: 0.0380709171295166\n",
      "Time 5: 0.03998112678527832\n",
      "Time 6: 0.00010967254638671875\n",
      "\n"
     ]
    },
    {
     "name": "stderr",
     "output_type": "stream",
     "text": [
      "                                                                                \r"
     ]
    },
    {
     "name": "stdout",
     "output_type": "stream",
     "text": [
      "Time 1: 0.17413711547851562\n",
      "Time 2: 0.013000249862670898\n",
      "Time 3: 0.026986122131347656\n",
      "Time 4: 0.045912742614746094\n",
      "Time 5: 0.04019761085510254\n",
      "Time 6: 0.00011658668518066406\n",
      "\n",
      "Time 1: 0.16617584228515625\n",
      "Time 2: 0.014353513717651367\n",
      "Time 3: 0.04030895233154297\n",
      "Time 4: 0.06425118446350098\n",
      "Time 5: 0.04765915870666504\n",
      "Time 6: 0.00013566017150878906\n",
      "\n"
     ]
    },
    {
     "name": "stderr",
     "output_type": "stream",
     "text": [
      "                                                                                \r"
     ]
    },
    {
     "name": "stdout",
     "output_type": "stream",
     "text": [
      "Time 1: 0.16110944747924805\n",
      "Time 2: 0.01155996322631836\n",
      "Time 3: 0.04129981994628906\n",
      "Time 4: 0.05284452438354492\n",
      "Time 5: 0.04384016990661621\n",
      "Time 6: 0.00010752677917480469\n",
      "\n",
      "Time 1: 0.1741025447845459\n",
      "Time 2: 0.010641098022460938\n",
      "Time 3: 0.03277945518493652\n",
      "Time 4: 0.038558244705200195\n",
      "Time 5: 0.0397186279296875\n",
      "Time 6: 0.0001323223114013672\n",
      "\n",
      "Time 1: 0.16068410873413086\n",
      "Time 2: 0.011705160140991211\n",
      "Time 3: 0.026111125946044922\n",
      "Time 4: 0.03725385665893555\n",
      "Time 5: 0.03737640380859375\n",
      "Time 6: 8.988380432128906e-05\n",
      "\n",
      "Time 1: 0.15411734580993652\n",
      "Time 2: 0.011344671249389648\n",
      "Time 3: 0.02663254737854004\n",
      "Time 4: 0.03818655014038086\n",
      "Time 5: 0.04127001762390137\n",
      "Time 6: 9.989738464355469e-05\n",
      "\n"
     ]
    },
    {
     "name": "stderr",
     "output_type": "stream",
     "text": [
      "                                                                                \r"
     ]
    },
    {
     "name": "stdout",
     "output_type": "stream",
     "text": [
      "Time 1: 0.3957076072692871\n",
      "Time 2: 0.01208806037902832\n",
      "Time 3: 0.02710556983947754\n",
      "Time 4: 0.041961669921875\n",
      "Time 5: 0.03703951835632324\n",
      "Time 6: 0.00012254714965820312\n",
      "\n",
      "Time 1: 0.22612285614013672\n",
      "Time 2: 0.014631032943725586\n",
      "Time 3: 0.03806352615356445\n",
      "Time 4: 0.05685305595397949\n",
      "Time 5: 0.06372594833374023\n",
      "Time 6: 9.107589721679688e-05\n",
      "\n"
     ]
    },
    {
     "name": "stderr",
     "output_type": "stream",
     "text": [
      "                                                                                \r"
     ]
    },
    {
     "name": "stdout",
     "output_type": "stream",
     "text": [
      "Time 1: 0.19063138961791992\n",
      "Time 2: 0.016699790954589844\n",
      "Time 3: 0.03957486152648926\n",
      "Time 4: 0.06094479560852051\n",
      "Time 5: 0.04511308670043945\n",
      "Time 6: 4.5299530029296875e-06\n",
      "\n",
      "Time 1: 0.2032616138458252\n",
      "Time 2: 0.016028165817260742\n",
      "Time 3: 0.028881311416625977\n",
      "Time 4: 0.051029205322265625\n",
      "Time 5: 0.04711294174194336\n",
      "Time 6: 0.00013113021850585938\n",
      "\n"
     ]
    },
    {
     "name": "stderr",
     "output_type": "stream",
     "text": [
      "                                                                                \r"
     ]
    },
    {
     "name": "stdout",
     "output_type": "stream",
     "text": [
      "Time 1: 0.20333433151245117\n",
      "Time 2: 0.011101961135864258\n",
      "Time 3: 0.025470733642578125\n",
      "Time 4: 0.0700221061706543\n",
      "Time 5: 0.038530588150024414\n",
      "Time 6: 0.00010323524475097656\n",
      "\n"
     ]
    },
    {
     "name": "stderr",
     "output_type": "stream",
     "text": [
      "                                                                                \r"
     ]
    },
    {
     "name": "stdout",
     "output_type": "stream",
     "text": [
      "Time 1: 0.2280287742614746\n",
      "Time 2: 0.010881423950195312\n",
      "Time 3: 0.026592731475830078\n",
      "Time 4: 0.03767037391662598\n",
      "Time 5: 0.03671073913574219\n",
      "Time 6: 0.00012493133544921875\n",
      "\n"
     ]
    },
    {
     "name": "stderr",
     "output_type": "stream",
     "text": [
      "                                                                                \r"
     ]
    },
    {
     "name": "stdout",
     "output_type": "stream",
     "text": [
      "Time 1: 0.28186678886413574\n",
      "Time 2: 0.012907743453979492\n",
      "Time 3: 0.028496503829956055\n",
      "Time 4: 0.03868746757507324\n",
      "Time 5: 0.03893923759460449\n",
      "Time 6: 0.00014209747314453125\n",
      "\n",
      "Time 1: 0.251859188079834\n",
      "Time 2: 0.011384963989257812\n",
      "Time 3: 0.026723861694335938\n",
      "Time 4: 0.03956007957458496\n",
      "Time 5: 0.037978172302246094\n",
      "Time 6: 0.00015544891357421875\n",
      "\n"
     ]
    },
    {
     "name": "stderr",
     "output_type": "stream",
     "text": [
      "                                                                                \r"
     ]
    },
    {
     "name": "stdout",
     "output_type": "stream",
     "text": [
      "Time 1: 0.25609326362609863\n",
      "Time 2: 0.012806415557861328\n",
      "Time 3: 0.02824115753173828\n",
      "Time 4: 0.0423429012298584\n",
      "Time 5: 0.039037466049194336\n",
      "Time 6: 0.00011777877807617188\n",
      "\n"
     ]
    },
    {
     "name": "stderr",
     "output_type": "stream",
     "text": [
      "                                                                                \r"
     ]
    },
    {
     "name": "stdout",
     "output_type": "stream",
     "text": [
      "Time 1: 0.20651960372924805\n",
      "Time 2: 0.011173725128173828\n",
      "Time 3: 0.026416778564453125\n",
      "Time 4: 0.04007911682128906\n",
      "Time 5: 0.056548357009887695\n",
      "Time 6: 0.0001811981201171875\n",
      "\n"
     ]
    },
    {
     "name": "stderr",
     "output_type": "stream",
     "text": [
      "                                                                                \r"
     ]
    },
    {
     "name": "stdout",
     "output_type": "stream",
     "text": [
      "Time 1: 0.2876091003417969\n",
      "Time 2: 0.011205911636352539\n",
      "Time 3: 0.03641009330749512\n",
      "Time 4: 0.055222511291503906\n",
      "Time 5: 0.05718064308166504\n",
      "Time 6: 0.00013136863708496094\n",
      "\n"
     ]
    },
    {
     "name": "stderr",
     "output_type": "stream",
     "text": [
      "                                                                                \r"
     ]
    },
    {
     "name": "stdout",
     "output_type": "stream",
     "text": [
      "Time 1: 0.23951005935668945\n",
      "Time 2: 0.011662960052490234\n",
      "Time 3: 0.028070688247680664\n",
      "Time 4: 0.04004216194152832\n",
      "Time 5: 0.040051937103271484\n",
      "Time 6: 0.0001125335693359375\n",
      "\n",
      "Time 1: 0.29142236709594727\n",
      "Time 2: 0.011527061462402344\n",
      "Time 3: 0.027779340744018555\n",
      "Time 4: 0.03781270980834961\n",
      "Time 5: 0.03662562370300293\n",
      "Time 6: 0.00012350082397460938\n",
      "\n"
     ]
    },
    {
     "name": "stderr",
     "output_type": "stream",
     "text": [
      "                                                                                \r"
     ]
    },
    {
     "name": "stdout",
     "output_type": "stream",
     "text": [
      "Time 1: 0.25319337844848633\n",
      "Time 2: 0.012599468231201172\n",
      "Time 3: 0.02743077278137207\n",
      "Time 4: 0.0386049747467041\n",
      "Time 5: 0.058234214782714844\n",
      "Time 6: 9.202957153320312e-05\n",
      "\n"
     ]
    },
    {
     "name": "stderr",
     "output_type": "stream",
     "text": [
      "                                                                                \r"
     ]
    },
    {
     "name": "stdout",
     "output_type": "stream",
     "text": [
      "Time 1: 0.1884167194366455\n",
      "Time 2: 0.011971473693847656\n",
      "Time 3: 0.025999784469604492\n",
      "Time 4: 0.045133113861083984\n",
      "Time 5: 0.038240909576416016\n",
      "Time 6: 7.581710815429688e-05\n",
      "\n"
     ]
    },
    {
     "name": "stderr",
     "output_type": "stream",
     "text": [
      "                                                                                \r"
     ]
    },
    {
     "name": "stdout",
     "output_type": "stream",
     "text": [
      "Time 1: 0.17390203475952148\n",
      "Time 2: 0.011161327362060547\n",
      "Time 3: 0.02711343765258789\n",
      "Time 4: 0.03861093521118164\n",
      "Time 5: 0.03841519355773926\n",
      "Time 6: 0.00013828277587890625\n",
      "\n",
      "Time 1: 0.16274690628051758\n",
      "Time 2: 0.011079072952270508\n",
      "Time 3: 0.025995969772338867\n",
      "Time 4: 0.04188966751098633\n",
      "Time 5: 0.03851485252380371\n",
      "Time 6: 8.845329284667969e-05\n",
      "\n",
      "Time 1: 0.1538867950439453\n",
      "Time 2: 0.011050224304199219\n",
      "Time 3: 0.03314661979675293\n",
      "Time 4: 0.040010929107666016\n",
      "Time 5: 0.03879690170288086\n",
      "Time 6: 6.222724914550781e-05\n",
      "\n"
     ]
    },
    {
     "name": "stderr",
     "output_type": "stream",
     "text": [
      "\r",
      "[Stage 6409:=========> (179 + 14) / 200][Stage 6413:>              (0 + 0) / 14]\r",
      "\r",
      "                                                                                \r"
     ]
    },
    {
     "name": "stdout",
     "output_type": "stream",
     "text": [
      "Time 1: 0.16991901397705078\n",
      "Time 2: 0.0120086669921875\n",
      "Time 3: 0.025494098663330078\n",
      "Time 4: 0.046476125717163086\n",
      "Time 5: 0.04410886764526367\n",
      "Time 6: 0.00011515617370605469\n",
      "\n"
     ]
    },
    {
     "name": "stderr",
     "output_type": "stream",
     "text": [
      "                                                                                \r"
     ]
    },
    {
     "name": "stdout",
     "output_type": "stream",
     "text": [
      "Time 1: 0.16523241996765137\n",
      "Time 2: 0.021489381790161133\n",
      "Time 3: 0.03623771667480469\n",
      "Time 4: 0.05310821533203125\n",
      "Time 5: 0.05150294303894043\n",
      "Time 6: 0.00014019012451171875\n",
      "\n"
     ]
    },
    {
     "name": "stderr",
     "output_type": "stream",
     "text": [
      "                                                                                \r"
     ]
    },
    {
     "name": "stdout",
     "output_type": "stream",
     "text": [
      "Time 1: 0.18202471733093262\n",
      "Time 2: 0.010953664779663086\n",
      "Time 3: 0.0274960994720459\n",
      "Time 4: 0.04558300971984863\n",
      "Time 5: 0.03833889961242676\n",
      "Time 6: 0.0001533031463623047\n",
      "\n"
     ]
    },
    {
     "name": "stderr",
     "output_type": "stream",
     "text": [
      "                                                                                \r"
     ]
    },
    {
     "name": "stdout",
     "output_type": "stream",
     "text": [
      "Time 1: 0.18865203857421875\n",
      "Time 2: 0.010695934295654297\n",
      "Time 3: 0.025726318359375\n",
      "Time 4: 0.03782153129577637\n",
      "Time 5: 0.03840208053588867\n",
      "Time 6: 0.00010824203491210938\n",
      "\n"
     ]
    },
    {
     "name": "stderr",
     "output_type": "stream",
     "text": [
      "                                                                                \r"
     ]
    },
    {
     "name": "stdout",
     "output_type": "stream",
     "text": [
      "Time 1: 0.14989519119262695\n",
      "Time 2: 0.011139869689941406\n",
      "Time 3: 0.02707695960998535\n",
      "Time 4: 0.04084205627441406\n",
      "Time 5: 0.03920412063598633\n",
      "Time 6: 0.00012135505676269531\n",
      "\n"
     ]
    },
    {
     "name": "stderr",
     "output_type": "stream",
     "text": [
      "                                                                                \r"
     ]
    },
    {
     "name": "stdout",
     "output_type": "stream",
     "text": [
      "Time 1: 0.1709461212158203\n",
      "Time 2: 0.011390447616577148\n",
      "Time 3: 0.03180050849914551\n",
      "Time 4: 0.04123067855834961\n",
      "Time 5: 0.04259681701660156\n",
      "Time 6: 0.00010085105895996094\n",
      "\n"
     ]
    },
    {
     "name": "stderr",
     "output_type": "stream",
     "text": [
      "ERROR:root:KeyboardInterrupt while sending command.\n",
      "Traceback (most recent call last):\n",
      "  File \"/home/aidin/.local/lib/python3.9/site-packages/py4j/java_gateway.py\", line 1038, in send_command\n",
      "    response = connection.send_command(command)\n",
      "  File \"/home/aidin/.local/lib/python3.9/site-packages/py4j/clientserver.py\", line 511, in send_command\n",
      "    answer = smart_decode(self.stream.readline()[:-1])\n",
      "  File \"/opt/anaconda3/lib/python3.9/socket.py\", line 704, in readinto\n",
      "    return self._sock.recv_into(b)\n",
      "KeyboardInterrupt\n"
     ]
    }
   ],
   "source": [
    "# call the operations for each batch of data\n",
    "while True:\n",
    "    try:\n",
    "        df.writeStream\\\n",
    "            .foreachBatch(batch_proc)\\\n",
    "            .trigger(processingTime='5 second')\\\n",
    "            .start()\\\n",
    "            .awaitTermination()\n",
    "    except KeyboardInterrupt:\n",
    "        break"
   ]
  },
  {
   "cell_type": "code",
   "execution_count": null,
   "id": "7ac8b29a",
   "metadata": {},
   "outputs": [],
   "source": []
  }
 ],
 "metadata": {
  "kernelspec": {
   "display_name": "Python 3 (ipykernel)",
   "language": "python",
   "name": "python3"
  },
  "language_info": {
   "codemirror_mode": {
    "name": "ipython",
    "version": 3
   },
   "file_extension": ".py",
   "mimetype": "text/x-python",
   "name": "python",
   "nbconvert_exporter": "python",
   "pygments_lexer": "ipython3",
   "version": "3.9.12"
  }
 },
 "nbformat": 4,
 "nbformat_minor": 5
}
