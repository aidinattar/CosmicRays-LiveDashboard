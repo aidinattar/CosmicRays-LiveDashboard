{
 "cells": [
  {
   "cell_type": "code",
   "execution_count": 1,
   "id": "4fe607c9",
   "metadata": {},
   "outputs": [],
   "source": [
    "from kafka.admin import KafkaAdminClient\n",
    "from kafka import KafkaProducer\n",
    "from kafka.admin import NewTopic\n",
    "import kafka\n",
    "import os\n",
    "import boto3\n",
    "import pandas as pd\n",
    "from tqdm import tqdm\n",
    "import json\n",
    "import time"
   ]
  },
  {
   "cell_type": "code",
   "execution_count": 2,
   "id": "f97ea105",
   "metadata": {},
   "outputs": [],
   "source": [
    "KAFKA_HOME = '/root/kafka_2.13-3.2.1'\n",
    "KAFKA_BOOTSTRAP_SERVERS = ['localhost:9092',]"
   ]
  },
  {
   "cell_type": "code",
   "execution_count": 3,
   "id": "26249f98",
   "metadata": {},
   "outputs": [
    {
     "data": {
      "text/plain": [
       "\"\\n#topic\\n\\n#kafka_admin.delete_topics(['stream'])\\n\\nstream = NewTopic(name='stream', \\n                       num_partitions=2, \\n                       replication_factor=1)\\n\\nkafka_admin.create_topics(new_topics=[stream])\\n\\nkafka_admin.list_topics()\""
      ]
     },
     "execution_count": 3,
     "metadata": {},
     "output_type": "execute_result"
    }
   ],
   "source": [
    "# producer definition from IP address given before\n",
    "producer = KafkaProducer(bootstrap_servers=KAFKA_BOOTSTRAP_SERVERS)\n",
    "\n",
    "# connect to the cluster to run admin functions\n",
    "kafka_admin = KafkaAdminClient(\n",
    "        bootstrap_servers=KAFKA_BOOTSTRAP_SERVERS,\n",
    "        api_version=(0,10,2))\n",
    "\n",
    "\"\"\"\n",
    "#topic\n",
    "\n",
    "#kafka_admin.delete_topics(['stream'])\n",
    "\n",
    "stream = NewTopic(name='stream', \n",
    "                       num_partitions=2, \n",
    "                       replication_factor=1)\n",
    "\n",
    "kafka_admin.create_topics(new_topics=[stream])\n",
    "\n",
    "kafka_admin.list_topics()\"\"\""
   ]
  },
  {
   "cell_type": "code",
   "execution_count": 4,
   "id": "e7954369",
   "metadata": {},
   "outputs": [],
   "source": [
    "s3_client = boto3.client('s3',\n",
    "                         endpoint_url='https://cloud-areapd.pd.infn.it:5210',\n",
    "                         aws_access_key_id='1a4543841b844a88bb3f2eba45764d61',\n",
    "                         aws_secret_access_key='42e2f16592f54668b8421ecf5ca7ba51',\n",
    "                         verify=False)"
   ]
  },
  {
   "cell_type": "code",
   "execution_count": 5,
   "id": "e79a8351",
   "metadata": {},
   "outputs": [
    {
     "name": "stderr",
     "output_type": "stream",
     "text": [
      "/root/anaconda3/lib/python3.9/site-packages/urllib3/connectionpool.py:1043: InsecureRequestWarning: Unverified HTTPS request is being made to host 'cloud-areapd.pd.infn.it'. Adding certificate verification is strongly advised. See: https://urllib3.readthedocs.io/en/1.26.x/advanced-usage.html#ssl-warnings\n",
      "  warnings.warn(\n"
     ]
    },
    {
     "data": {
      "text/plain": [
       "[{'Key': 'data_000000.txt',\n",
       "  'LastModified': datetime.datetime(2022, 5, 30, 8, 56, 44, 485000, tzinfo=tzlocal()),\n",
       "  'ETag': '\"0a7dccb174b6732af3c9e040109df403-2\"',\n",
       "  'Size': 29604978,\n",
       "  'StorageClass': 'STANDARD',\n",
       "  'Owner': {'DisplayName': 'PhysicsOfData-students',\n",
       "   'ID': 'd2e941ce4b324467b6b3d467a923a9bc$d2e941ce4b324467b6b3d467a923a9bc'}},\n",
       " {'Key': 'data_000001.txt',\n",
       "  'LastModified': datetime.datetime(2022, 5, 30, 8, 56, 44, 580000, tzinfo=tzlocal()),\n",
       "  'ETag': '\"777544f2f3b53cc8043791bde33c375a-2\"',\n",
       "  'Size': 29757766,\n",
       "  'StorageClass': 'STANDARD',\n",
       "  'Owner': {'DisplayName': 'PhysicsOfData-students',\n",
       "   'ID': 'd2e941ce4b324467b6b3d467a923a9bc$d2e941ce4b324467b6b3d467a923a9bc'}},\n",
       " {'Key': 'data_000002.txt',\n",
       "  'LastModified': datetime.datetime(2022, 5, 30, 8, 56, 44, 644000, tzinfo=tzlocal()),\n",
       "  'ETag': '\"d7f465cb61aafab424073b58f4cc1aa1-2\"',\n",
       "  'Size': 30921744,\n",
       "  'StorageClass': 'STANDARD',\n",
       "  'Owner': {'DisplayName': 'PhysicsOfData-students',\n",
       "   'ID': 'd2e941ce4b324467b6b3d467a923a9bc$d2e941ce4b324467b6b3d467a923a9bc'}},\n",
       " {'Key': 'data_000003.txt',\n",
       "  'LastModified': datetime.datetime(2022, 5, 30, 8, 56, 44, 692000, tzinfo=tzlocal()),\n",
       "  'ETag': '\"bc2c167347559de8276671280fef492f-2\"',\n",
       "  'Size': 30920741,\n",
       "  'StorageClass': 'STANDARD',\n",
       "  'Owner': {'DisplayName': 'PhysicsOfData-students',\n",
       "   'ID': 'd2e941ce4b324467b6b3d467a923a9bc$d2e941ce4b324467b6b3d467a923a9bc'}},\n",
       " {'Key': 'data_000004.txt',\n",
       "  'LastModified': datetime.datetime(2022, 5, 30, 8, 56, 44, 811000, tzinfo=tzlocal()),\n",
       "  'ETag': '\"cadf7d2f5d1059907704d7a77a201f64-2\"',\n",
       "  'Size': 30914195,\n",
       "  'StorageClass': 'STANDARD',\n",
       "  'Owner': {'DisplayName': 'PhysicsOfData-students',\n",
       "   'ID': 'd2e941ce4b324467b6b3d467a923a9bc$d2e941ce4b324467b6b3d467a923a9bc'}}]"
      ]
     },
     "execution_count": 5,
     "metadata": {},
     "output_type": "execute_result"
    }
   ],
   "source": [
    "list_obj_contents = s3_client.list_objects(Bucket= 'mapd-minidt-stream')['Contents']\n",
    "list_obj_contents[0:5]"
   ]
  },
  {
   "cell_type": "code",
   "execution_count": 6,
   "id": "cb6ab053",
   "metadata": {},
   "outputs": [
    {
     "name": "stderr",
     "output_type": "stream",
     "text": [
      "/root/anaconda3/lib/python3.9/site-packages/urllib3/connectionpool.py:1043: InsecureRequestWarning: Unverified HTTPS request is being made to host 'cloud-areapd.pd.infn.it'. Adding certificate verification is strongly advised. See: https://urllib3.readthedocs.io/en/1.26.x/advanced-usage.html#ssl-warnings\n",
      "  warnings.warn(\n",
      "100%|██████████████████████████████████████████████| 1310592/1310592 [26:16<00:00, 831.16it/s]\n",
      "/root/anaconda3/lib/python3.9/site-packages/urllib3/connectionpool.py:1043: InsecureRequestWarning: Unverified HTTPS request is being made to host 'cloud-areapd.pd.infn.it'. Adding certificate verification is strongly advised. See: https://urllib3.readthedocs.io/en/1.26.x/advanced-usage.html#ssl-warnings\n",
      "  warnings.warn(\n",
      "100%|██████████████████████████████████████████████| 1310720/1310720 [26:21<00:00, 829.02it/s]\n",
      "/root/anaconda3/lib/python3.9/site-packages/urllib3/connectionpool.py:1043: InsecureRequestWarning: Unverified HTTPS request is being made to host 'cloud-areapd.pd.infn.it'. Adding certificate verification is strongly advised. See: https://urllib3.readthedocs.io/en/1.26.x/advanced-usage.html#ssl-warnings\n",
      "  warnings.warn(\n",
      " 23%|██████████▊                                    | 300371/1310720 [05:57<20:02, 840.03it/s]\n"
     ]
    },
    {
     "ename": "KeyboardInterrupt",
     "evalue": "",
     "output_type": "error",
     "traceback": [
      "\u001b[0;31m---------------------------------------------------------------------------\u001b[0m",
      "\u001b[0;31mKeyboardInterrupt\u001b[0m                         Traceback (most recent call last)",
      "Input \u001b[0;32mIn [6]\u001b[0m, in \u001b[0;36m<cell line: 2>\u001b[0;34m()\u001b[0m\n\u001b[1;32m     14\u001b[0m     \u001b[38;5;66;03m# json row is sent to the Kafka topic 'topic_stream'\u001b[39;00m\n\u001b[1;32m     15\u001b[0m     producer\u001b[38;5;241m.\u001b[39msend(\u001b[38;5;124m'\u001b[39m\u001b[38;5;124mstream\u001b[39m\u001b[38;5;124m'\u001b[39m, json\u001b[38;5;241m.\u001b[39mdumps(jj)\u001b[38;5;241m.\u001b[39mencode(\u001b[38;5;124m'\u001b[39m\u001b[38;5;124mutf-8\u001b[39m\u001b[38;5;124m'\u001b[39m))\n\u001b[0;32m---> 16\u001b[0m     \u001b[43mtime\u001b[49m\u001b[38;5;241;43m.\u001b[39;49m\u001b[43msleep\u001b[49m\u001b[43m(\u001b[49m\u001b[38;5;241;43m0.0003\u001b[39;49m\u001b[43m)\u001b[49m\n\u001b[1;32m     17\u001b[0m producer\u001b[38;5;241m.\u001b[39mflush()\n",
      "\u001b[0;31mKeyboardInterrupt\u001b[0m: "
     ]
    }
   ],
   "source": [
    "n = len(list_obj_contents)\n",
    "for i in range(0,n):\n",
    "    file_name = list_obj_contents[i]['Key']\n",
    "    row_data = pd.read_csv(s3_client.get_object(Bucket='mapd-minidt-stream', \n",
    "                                                Key=file_name).get('Body'), dtype='str')\n",
    "        \n",
    "    # For loop over file size\n",
    "    for j in tqdm(range(0, len(row_data))):\n",
    "        # dictionaries creation from dataframe's rows\n",
    "        jj = row_data.iloc[j].to_dict()\n",
    "        # unnecessary floats are cast into ints\n",
    "        for key in ['HEAD', 'FPGA', \"TDC_CHANNEL\"]:\n",
    "            jj[key] = int(jj[key])\n",
    "        # json row is sent to the Kafka topic 'topic_stream'\n",
    "        producer.send('stream', json.dumps(jj).encode('utf-8'))\n",
    "        time.sleep(0.0003)\n",
    "    producer.flush()\n"
   ]
  },
  {
   "cell_type": "code",
   "execution_count": null,
   "id": "2484af98",
   "metadata": {},
   "outputs": [],
   "source": []
  }
 ],
 "metadata": {
  "kernelspec": {
   "display_name": "Python 3 (ipykernel)",
   "language": "python",
   "name": "python3"
  },
  "language_info": {
   "codemirror_mode": {
    "name": "ipython",
    "version": 3
   },
   "file_extension": ".py",
   "mimetype": "text/x-python",
   "name": "python",
   "nbconvert_exporter": "python",
   "pygments_lexer": "ipython3",
   "version": "3.9.12"
  }
 },
 "nbformat": 4,
 "nbformat_minor": 5
}
